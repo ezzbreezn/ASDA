{
  "cells": [
    {
      "cell_type": "markdown",
      "metadata": {
        "id": "xXnUAmGBAGvs"
      },
      "source": [
        "## Здравствуйте, меня зовут *Борис Михеев*, вот моё Задание №1 по курсу ПСАД-2023!"
      ]
    },
    {
      "cell_type": "code",
      "execution_count": null,
      "metadata": {
        "id": "Aucu1j9DAGvy"
      },
      "outputs": [],
      "source": [
        "import pandas as pd\n",
        "import numpy as np\n",
        "import scipy as sp\n",
        "from collections import defaultdict\n",
        "from matplotlib import pyplot as plt\n",
        "\n",
        "import seaborn as sns\n",
        "sns.set()\n",
        "\n",
        "np.random.seed(228)\n",
        "\n",
        "%matplotlib inline\n",
        "%config InlineBackend.figure_format = 'svg' "
      ]
    },
    {
      "cell_type": "markdown",
      "metadata": {
        "id": "xyctAPMCAGv2"
      },
      "source": [
        "### Задача 1  "
      ]
    },
    {
      "cell_type": "markdown",
      "metadata": {
        "id": "60zjHZfzAGv5"
      },
      "source": [
        "Задана выборка, включающая значения переменной $X$. "
      ]
    },
    {
      "cell_type": "code",
      "execution_count": null,
      "metadata": {
        "colab": {
          "base_uri": "https://localhost:8080/",
          "height": 375
        },
        "id": "HBQmZWg2AGv7",
        "outputId": "f100bd27-dd80-46f4-b204-cc45234be733"
      },
      "outputs": [
        {
          "output_type": "stream",
          "name": "stdout",
          "text": [
            "X sample mean:  5.206\n"
          ]
        },
        {
          "output_type": "display_data",
          "data": {
            "text/plain": [
              "<Figure size 432x288 with 1 Axes>"
            ],
            "image/svg+xml": "<?xml version=\"1.0\" encoding=\"utf-8\" standalone=\"no\"?>\n<!DOCTYPE svg PUBLIC \"-//W3C//DTD SVG 1.1//EN\"\n  \"http://www.w3.org/Graphics/SVG/1.1/DTD/svg11.dtd\">\n<svg xmlns:xlink=\"http://www.w3.org/1999/xlink\" width=\"398.805937pt\" height=\"251.985937pt\" viewBox=\"0 0 398.805937 251.985937\" xmlns=\"http://www.w3.org/2000/svg\" version=\"1.1\">\n <metadata>\n  <rdf:RDF xmlns:dc=\"http://purl.org/dc/elements/1.1/\" xmlns:cc=\"http://creativecommons.org/ns#\" xmlns:rdf=\"http://www.w3.org/1999/02/22-rdf-syntax-ns#\">\n   <cc:Work>\n    <dc:type rdf:resource=\"http://purl.org/dc/dcmitype/StillImage\"/>\n    <dc:date>2023-03-10T17:00:29.123770</dc:date>\n    <dc:format>image/svg+xml</dc:format>\n    <dc:creator>\n     <cc:Agent>\n      <dc:title>Matplotlib v3.5.3, https://matplotlib.org/</dc:title>\n     </cc:Agent>\n    </dc:creator>\n   </cc:Work>\n  </rdf:RDF>\n </metadata>\n <defs>\n  <style type=\"text/css\">*{stroke-linejoin: round; stroke-linecap: butt}</style>\n </defs>\n <g id=\"figure_1\">\n  <g id=\"patch_1\">\n   <path d=\"M 0 251.985937 \nL 398.805937 251.985937 \nL 398.805937 0 \nL 0 0 \nL 0 251.985937 \nz\n\" style=\"fill: none\"/>\n  </g>\n  <g id=\"axes_1\">\n   <g id=\"patch_2\">\n    <path d=\"M 56.805937 224.64 \nL 391.605938 224.64 \nL 391.605938 7.2 \nL 56.805937 7.2 \nz\n\" style=\"fill: #eaeaf2\"/>\n   </g>\n   <g id=\"matplotlib.axis_1\">\n    <g id=\"xtick_1\">\n     <g id=\"line2d_1\">\n      <path d=\"M 69.338091 224.64 \nL 69.338091 7.2 \n\" clip-path=\"url(#p1a741f6a79)\" style=\"fill: none; stroke: #ffffff; stroke-linecap: round\"/>\n     </g>\n     <g id=\"text_1\">\n      <!-- 0 -->\n      <g style=\"fill: #262626\" transform=\"translate(65.838716 242.498281)scale(0.11 -0.11)\">\n       <defs>\n        <path id=\"DejaVuSans-30\" d=\"M 2034 4250 \nQ 1547 4250 1301 3770 \nQ 1056 3291 1056 2328 \nQ 1056 1369 1301 889 \nQ 1547 409 2034 409 \nQ 2525 409 2770 889 \nQ 3016 1369 3016 2328 \nQ 3016 3291 2770 3770 \nQ 2525 4250 2034 4250 \nz\nM 2034 4750 \nQ 2819 4750 3233 4129 \nQ 3647 3509 3647 2328 \nQ 3647 1150 3233 529 \nQ 2819 -91 2034 -91 \nQ 1250 -91 836 529 \nQ 422 1150 422 2328 \nQ 422 3509 836 4129 \nQ 1250 4750 2034 4750 \nz\n\" transform=\"scale(0.015625)\"/>\n       </defs>\n       <use xlink:href=\"#DejaVuSans-30\"/>\n      </g>\n     </g>\n    </g>\n    <g id=\"xtick_2\">\n     <g id=\"line2d_2\">\n      <path d=\"M 125.146324 224.64 \nL 125.146324 7.2 \n\" clip-path=\"url(#p1a741f6a79)\" style=\"fill: none; stroke: #ffffff; stroke-linecap: round\"/>\n     </g>\n     <g id=\"text_2\">\n      <!-- 2 -->\n      <g style=\"fill: #262626\" transform=\"translate(121.646949 242.498281)scale(0.11 -0.11)\">\n       <defs>\n        <path id=\"DejaVuSans-32\" d=\"M 1228 531 \nL 3431 531 \nL 3431 0 \nL 469 0 \nL 469 531 \nQ 828 903 1448 1529 \nQ 2069 2156 2228 2338 \nQ 2531 2678 2651 2914 \nQ 2772 3150 2772 3378 \nQ 2772 3750 2511 3984 \nQ 2250 4219 1831 4219 \nQ 1534 4219 1204 4116 \nQ 875 4013 500 3803 \nL 500 4441 \nQ 881 4594 1212 4672 \nQ 1544 4750 1819 4750 \nQ 2544 4750 2975 4387 \nQ 3406 4025 3406 3419 \nQ 3406 3131 3298 2873 \nQ 3191 2616 2906 2266 \nQ 2828 2175 2409 1742 \nQ 1991 1309 1228 531 \nz\n\" transform=\"scale(0.015625)\"/>\n       </defs>\n       <use xlink:href=\"#DejaVuSans-32\"/>\n      </g>\n     </g>\n    </g>\n    <g id=\"xtick_3\">\n     <g id=\"line2d_3\">\n      <path d=\"M 180.954557 224.64 \nL 180.954557 7.2 \n\" clip-path=\"url(#p1a741f6a79)\" style=\"fill: none; stroke: #ffffff; stroke-linecap: round\"/>\n     </g>\n     <g id=\"text_3\">\n      <!-- 4 -->\n      <g style=\"fill: #262626\" transform=\"translate(177.455182 242.498281)scale(0.11 -0.11)\">\n       <defs>\n        <path id=\"DejaVuSans-34\" d=\"M 2419 4116 \nL 825 1625 \nL 2419 1625 \nL 2419 4116 \nz\nM 2253 4666 \nL 3047 4666 \nL 3047 1625 \nL 3713 1625 \nL 3713 1100 \nL 3047 1100 \nL 3047 0 \nL 2419 0 \nL 2419 1100 \nL 313 1100 \nL 313 1709 \nL 2253 4666 \nz\n\" transform=\"scale(0.015625)\"/>\n       </defs>\n       <use xlink:href=\"#DejaVuSans-34\"/>\n      </g>\n     </g>\n    </g>\n    <g id=\"xtick_4\">\n     <g id=\"line2d_4\">\n      <path d=\"M 236.76279 224.64 \nL 236.76279 7.2 \n\" clip-path=\"url(#p1a741f6a79)\" style=\"fill: none; stroke: #ffffff; stroke-linecap: round\"/>\n     </g>\n     <g id=\"text_4\">\n      <!-- 6 -->\n      <g style=\"fill: #262626\" transform=\"translate(233.263415 242.498281)scale(0.11 -0.11)\">\n       <defs>\n        <path id=\"DejaVuSans-36\" d=\"M 2113 2584 \nQ 1688 2584 1439 2293 \nQ 1191 2003 1191 1497 \nQ 1191 994 1439 701 \nQ 1688 409 2113 409 \nQ 2538 409 2786 701 \nQ 3034 994 3034 1497 \nQ 3034 2003 2786 2293 \nQ 2538 2584 2113 2584 \nz\nM 3366 4563 \nL 3366 3988 \nQ 3128 4100 2886 4159 \nQ 2644 4219 2406 4219 \nQ 1781 4219 1451 3797 \nQ 1122 3375 1075 2522 \nQ 1259 2794 1537 2939 \nQ 1816 3084 2150 3084 \nQ 2853 3084 3261 2657 \nQ 3669 2231 3669 1497 \nQ 3669 778 3244 343 \nQ 2819 -91 2113 -91 \nQ 1303 -91 875 529 \nQ 447 1150 447 2328 \nQ 447 3434 972 4092 \nQ 1497 4750 2381 4750 \nQ 2619 4750 2861 4703 \nQ 3103 4656 3366 4563 \nz\n\" transform=\"scale(0.015625)\"/>\n       </defs>\n       <use xlink:href=\"#DejaVuSans-36\"/>\n      </g>\n     </g>\n    </g>\n    <g id=\"xtick_5\">\n     <g id=\"line2d_5\">\n      <path d=\"M 292.571023 224.64 \nL 292.571023 7.2 \n\" clip-path=\"url(#p1a741f6a79)\" style=\"fill: none; stroke: #ffffff; stroke-linecap: round\"/>\n     </g>\n     <g id=\"text_5\">\n      <!-- 8 -->\n      <g style=\"fill: #262626\" transform=\"translate(289.071648 242.498281)scale(0.11 -0.11)\">\n       <defs>\n        <path id=\"DejaVuSans-38\" d=\"M 2034 2216 \nQ 1584 2216 1326 1975 \nQ 1069 1734 1069 1313 \nQ 1069 891 1326 650 \nQ 1584 409 2034 409 \nQ 2484 409 2743 651 \nQ 3003 894 3003 1313 \nQ 3003 1734 2745 1975 \nQ 2488 2216 2034 2216 \nz\nM 1403 2484 \nQ 997 2584 770 2862 \nQ 544 3141 544 3541 \nQ 544 4100 942 4425 \nQ 1341 4750 2034 4750 \nQ 2731 4750 3128 4425 \nQ 3525 4100 3525 3541 \nQ 3525 3141 3298 2862 \nQ 3072 2584 2669 2484 \nQ 3125 2378 3379 2068 \nQ 3634 1759 3634 1313 \nQ 3634 634 3220 271 \nQ 2806 -91 2034 -91 \nQ 1263 -91 848 271 \nQ 434 634 434 1313 \nQ 434 1759 690 2068 \nQ 947 2378 1403 2484 \nz\nM 1172 3481 \nQ 1172 3119 1398 2916 \nQ 1625 2713 2034 2713 \nQ 2441 2713 2670 2916 \nQ 2900 3119 2900 3481 \nQ 2900 3844 2670 4047 \nQ 2441 4250 2034 4250 \nQ 1625 4250 1398 4047 \nQ 1172 3844 1172 3481 \nz\n\" transform=\"scale(0.015625)\"/>\n       </defs>\n       <use xlink:href=\"#DejaVuSans-38\"/>\n      </g>\n     </g>\n    </g>\n    <g id=\"xtick_6\">\n     <g id=\"line2d_6\">\n      <path d=\"M 348.379256 224.64 \nL 348.379256 7.2 \n\" clip-path=\"url(#p1a741f6a79)\" style=\"fill: none; stroke: #ffffff; stroke-linecap: round\"/>\n     </g>\n     <g id=\"text_6\">\n      <!-- 10 -->\n      <g style=\"fill: #262626\" transform=\"translate(341.380506 242.498281)scale(0.11 -0.11)\">\n       <defs>\n        <path id=\"DejaVuSans-31\" d=\"M 794 531 \nL 1825 531 \nL 1825 4091 \nL 703 3866 \nL 703 4441 \nL 1819 4666 \nL 2450 4666 \nL 2450 531 \nL 3481 531 \nL 3481 0 \nL 794 0 \nL 794 531 \nz\n\" transform=\"scale(0.015625)\"/>\n       </defs>\n       <use xlink:href=\"#DejaVuSans-31\"/>\n       <use xlink:href=\"#DejaVuSans-30\" x=\"63.623047\"/>\n      </g>\n     </g>\n    </g>\n   </g>\n   <g id=\"matplotlib.axis_2\">\n    <g id=\"ytick_1\">\n     <g id=\"line2d_7\">\n      <path d=\"M 56.805937 224.64 \nL 391.605938 224.64 \n\" clip-path=\"url(#p1a741f6a79)\" style=\"fill: none; stroke: #ffffff; stroke-linecap: round\"/>\n     </g>\n     <g id=\"text_7\">\n      <!-- 0.00 -->\n      <g style=\"fill: #262626\" transform=\"translate(22.81375 228.819141)scale(0.11 -0.11)\">\n       <defs>\n        <path id=\"DejaVuSans-2e\" d=\"M 684 794 \nL 1344 794 \nL 1344 0 \nL 684 0 \nL 684 794 \nz\n\" transform=\"scale(0.015625)\"/>\n       </defs>\n       <use xlink:href=\"#DejaVuSans-30\"/>\n       <use xlink:href=\"#DejaVuSans-2e\" x=\"63.623047\"/>\n       <use xlink:href=\"#DejaVuSans-30\" x=\"95.410156\"/>\n       <use xlink:href=\"#DejaVuSans-30\" x=\"159.033203\"/>\n      </g>\n     </g>\n    </g>\n    <g id=\"ytick_2\">\n     <g id=\"line2d_8\">\n      <path d=\"M 56.805937 191.865974 \nL 391.605938 191.865974 \n\" clip-path=\"url(#p1a741f6a79)\" style=\"fill: none; stroke: #ffffff; stroke-linecap: round\"/>\n     </g>\n     <g id=\"text_8\">\n      <!-- 0.05 -->\n      <g style=\"fill: #262626\" transform=\"translate(22.81375 196.045115)scale(0.11 -0.11)\">\n       <defs>\n        <path id=\"DejaVuSans-35\" d=\"M 691 4666 \nL 3169 4666 \nL 3169 4134 \nL 1269 4134 \nL 1269 2991 \nQ 1406 3038 1543 3061 \nQ 1681 3084 1819 3084 \nQ 2600 3084 3056 2656 \nQ 3513 2228 3513 1497 \nQ 3513 744 3044 326 \nQ 2575 -91 1722 -91 \nQ 1428 -91 1123 -41 \nQ 819 9 494 109 \nL 494 744 \nQ 775 591 1075 516 \nQ 1375 441 1709 441 \nQ 2250 441 2565 725 \nQ 2881 1009 2881 1497 \nQ 2881 1984 2565 2268 \nQ 2250 2553 1709 2553 \nQ 1456 2553 1204 2497 \nQ 953 2441 691 2322 \nL 691 4666 \nz\n\" transform=\"scale(0.015625)\"/>\n       </defs>\n       <use xlink:href=\"#DejaVuSans-30\"/>\n       <use xlink:href=\"#DejaVuSans-2e\" x=\"63.623047\"/>\n       <use xlink:href=\"#DejaVuSans-30\" x=\"95.410156\"/>\n       <use xlink:href=\"#DejaVuSans-35\" x=\"159.033203\"/>\n      </g>\n     </g>\n    </g>\n    <g id=\"ytick_3\">\n     <g id=\"line2d_9\">\n      <path d=\"M 56.805937 159.091948 \nL 391.605938 159.091948 \n\" clip-path=\"url(#p1a741f6a79)\" style=\"fill: none; stroke: #ffffff; stroke-linecap: round\"/>\n     </g>\n     <g id=\"text_9\">\n      <!-- 0.10 -->\n      <g style=\"fill: #262626\" transform=\"translate(22.81375 163.271088)scale(0.11 -0.11)\">\n       <use xlink:href=\"#DejaVuSans-30\"/>\n       <use xlink:href=\"#DejaVuSans-2e\" x=\"63.623047\"/>\n       <use xlink:href=\"#DejaVuSans-31\" x=\"95.410156\"/>\n       <use xlink:href=\"#DejaVuSans-30\" x=\"159.033203\"/>\n      </g>\n     </g>\n    </g>\n    <g id=\"ytick_4\">\n     <g id=\"line2d_10\">\n      <path d=\"M 56.805937 126.317922 \nL 391.605938 126.317922 \n\" clip-path=\"url(#p1a741f6a79)\" style=\"fill: none; stroke: #ffffff; stroke-linecap: round\"/>\n     </g>\n     <g id=\"text_10\">\n      <!-- 0.15 -->\n      <g style=\"fill: #262626\" transform=\"translate(22.81375 130.497062)scale(0.11 -0.11)\">\n       <use xlink:href=\"#DejaVuSans-30\"/>\n       <use xlink:href=\"#DejaVuSans-2e\" x=\"63.623047\"/>\n       <use xlink:href=\"#DejaVuSans-31\" x=\"95.410156\"/>\n       <use xlink:href=\"#DejaVuSans-35\" x=\"159.033203\"/>\n      </g>\n     </g>\n    </g>\n    <g id=\"ytick_5\">\n     <g id=\"line2d_11\">\n      <path d=\"M 56.805937 93.543896 \nL 391.605938 93.543896 \n\" clip-path=\"url(#p1a741f6a79)\" style=\"fill: none; stroke: #ffffff; stroke-linecap: round\"/>\n     </g>\n     <g id=\"text_11\">\n      <!-- 0.20 -->\n      <g style=\"fill: #262626\" transform=\"translate(22.81375 97.723036)scale(0.11 -0.11)\">\n       <use xlink:href=\"#DejaVuSans-30\"/>\n       <use xlink:href=\"#DejaVuSans-2e\" x=\"63.623047\"/>\n       <use xlink:href=\"#DejaVuSans-32\" x=\"95.410156\"/>\n       <use xlink:href=\"#DejaVuSans-30\" x=\"159.033203\"/>\n      </g>\n     </g>\n    </g>\n    <g id=\"ytick_6\">\n     <g id=\"line2d_12\">\n      <path d=\"M 56.805937 60.769869 \nL 391.605938 60.769869 \n\" clip-path=\"url(#p1a741f6a79)\" style=\"fill: none; stroke: #ffffff; stroke-linecap: round\"/>\n     </g>\n     <g id=\"text_12\">\n      <!-- 0.25 -->\n      <g style=\"fill: #262626\" transform=\"translate(22.81375 64.94901)scale(0.11 -0.11)\">\n       <use xlink:href=\"#DejaVuSans-30\"/>\n       <use xlink:href=\"#DejaVuSans-2e\" x=\"63.623047\"/>\n       <use xlink:href=\"#DejaVuSans-32\" x=\"95.410156\"/>\n       <use xlink:href=\"#DejaVuSans-35\" x=\"159.033203\"/>\n      </g>\n     </g>\n    </g>\n    <g id=\"ytick_7\">\n     <g id=\"line2d_13\">\n      <path d=\"M 56.805937 27.995843 \nL 391.605938 27.995843 \n\" clip-path=\"url(#p1a741f6a79)\" style=\"fill: none; stroke: #ffffff; stroke-linecap: round\"/>\n     </g>\n     <g id=\"text_13\">\n      <!-- 0.30 -->\n      <g style=\"fill: #262626\" transform=\"translate(22.81375 32.174984)scale(0.11 -0.11)\">\n       <defs>\n        <path id=\"DejaVuSans-33\" d=\"M 2597 2516 \nQ 3050 2419 3304 2112 \nQ 3559 1806 3559 1356 \nQ 3559 666 3084 287 \nQ 2609 -91 1734 -91 \nQ 1441 -91 1130 -33 \nQ 819 25 488 141 \nL 488 750 \nQ 750 597 1062 519 \nQ 1375 441 1716 441 \nQ 2309 441 2620 675 \nQ 2931 909 2931 1356 \nQ 2931 1769 2642 2001 \nQ 2353 2234 1838 2234 \nL 1294 2234 \nL 1294 2753 \nL 1863 2753 \nQ 2328 2753 2575 2939 \nQ 2822 3125 2822 3475 \nQ 2822 3834 2567 4026 \nQ 2313 4219 1838 4219 \nQ 1578 4219 1281 4162 \nQ 984 4106 628 3988 \nL 628 4550 \nQ 988 4650 1302 4700 \nQ 1616 4750 1894 4750 \nQ 2613 4750 3031 4423 \nQ 3450 4097 3450 3541 \nQ 3450 3153 3228 2886 \nQ 3006 2619 2597 2516 \nz\n\" transform=\"scale(0.015625)\"/>\n       </defs>\n       <use xlink:href=\"#DejaVuSans-30\"/>\n       <use xlink:href=\"#DejaVuSans-2e\" x=\"63.623047\"/>\n       <use xlink:href=\"#DejaVuSans-33\" x=\"95.410156\"/>\n       <use xlink:href=\"#DejaVuSans-30\" x=\"159.033203\"/>\n      </g>\n     </g>\n    </g>\n    <g id=\"text_14\">\n     <!-- Density -->\n     <g style=\"fill: #262626\" transform=\"translate(16.318125 138.730312)rotate(-90)scale(0.12 -0.12)\">\n      <defs>\n       <path id=\"DejaVuSans-44\" d=\"M 1259 4147 \nL 1259 519 \nL 2022 519 \nQ 2988 519 3436 956 \nQ 3884 1394 3884 2338 \nQ 3884 3275 3436 3711 \nQ 2988 4147 2022 4147 \nL 1259 4147 \nz\nM 628 4666 \nL 1925 4666 \nQ 3281 4666 3915 4102 \nQ 4550 3538 4550 2338 \nQ 4550 1131 3912 565 \nQ 3275 0 1925 0 \nL 628 0 \nL 628 4666 \nz\n\" transform=\"scale(0.015625)\"/>\n       <path id=\"DejaVuSans-65\" d=\"M 3597 1894 \nL 3597 1613 \nL 953 1613 \nQ 991 1019 1311 708 \nQ 1631 397 2203 397 \nQ 2534 397 2845 478 \nQ 3156 559 3463 722 \nL 3463 178 \nQ 3153 47 2828 -22 \nQ 2503 -91 2169 -91 \nQ 1331 -91 842 396 \nQ 353 884 353 1716 \nQ 353 2575 817 3079 \nQ 1281 3584 2069 3584 \nQ 2775 3584 3186 3129 \nQ 3597 2675 3597 1894 \nz\nM 3022 2063 \nQ 3016 2534 2758 2815 \nQ 2500 3097 2075 3097 \nQ 1594 3097 1305 2825 \nQ 1016 2553 972 2059 \nL 3022 2063 \nz\n\" transform=\"scale(0.015625)\"/>\n       <path id=\"DejaVuSans-6e\" d=\"M 3513 2113 \nL 3513 0 \nL 2938 0 \nL 2938 2094 \nQ 2938 2591 2744 2837 \nQ 2550 3084 2163 3084 \nQ 1697 3084 1428 2787 \nQ 1159 2491 1159 1978 \nL 1159 0 \nL 581 0 \nL 581 3500 \nL 1159 3500 \nL 1159 2956 \nQ 1366 3272 1645 3428 \nQ 1925 3584 2291 3584 \nQ 2894 3584 3203 3211 \nQ 3513 2838 3513 2113 \nz\n\" transform=\"scale(0.015625)\"/>\n       <path id=\"DejaVuSans-73\" d=\"M 2834 3397 \nL 2834 2853 \nQ 2591 2978 2328 3040 \nQ 2066 3103 1784 3103 \nQ 1356 3103 1142 2972 \nQ 928 2841 928 2578 \nQ 928 2378 1081 2264 \nQ 1234 2150 1697 2047 \nL 1894 2003 \nQ 2506 1872 2764 1633 \nQ 3022 1394 3022 966 \nQ 3022 478 2636 193 \nQ 2250 -91 1575 -91 \nQ 1294 -91 989 -36 \nQ 684 19 347 128 \nL 347 722 \nQ 666 556 975 473 \nQ 1284 391 1588 391 \nQ 1994 391 2212 530 \nQ 2431 669 2431 922 \nQ 2431 1156 2273 1281 \nQ 2116 1406 1581 1522 \nL 1381 1569 \nQ 847 1681 609 1914 \nQ 372 2147 372 2553 \nQ 372 3047 722 3315 \nQ 1072 3584 1716 3584 \nQ 2034 3584 2315 3537 \nQ 2597 3491 2834 3397 \nz\n\" transform=\"scale(0.015625)\"/>\n       <path id=\"DejaVuSans-69\" d=\"M 603 3500 \nL 1178 3500 \nL 1178 0 \nL 603 0 \nL 603 3500 \nz\nM 603 4863 \nL 1178 4863 \nL 1178 4134 \nL 603 4134 \nL 603 4863 \nz\n\" transform=\"scale(0.015625)\"/>\n       <path id=\"DejaVuSans-74\" d=\"M 1172 4494 \nL 1172 3500 \nL 2356 3500 \nL 2356 3053 \nL 1172 3053 \nL 1172 1153 \nQ 1172 725 1289 603 \nQ 1406 481 1766 481 \nL 2356 481 \nL 2356 0 \nL 1766 0 \nQ 1100 0 847 248 \nQ 594 497 594 1153 \nL 594 3053 \nL 172 3053 \nL 172 3500 \nL 594 3500 \nL 594 4494 \nL 1172 4494 \nz\n\" transform=\"scale(0.015625)\"/>\n       <path id=\"DejaVuSans-79\" d=\"M 2059 -325 \nQ 1816 -950 1584 -1140 \nQ 1353 -1331 966 -1331 \nL 506 -1331 \nL 506 -850 \nL 844 -850 \nQ 1081 -850 1212 -737 \nQ 1344 -625 1503 -206 \nL 1606 56 \nL 191 3500 \nL 800 3500 \nL 1894 763 \nL 2988 3500 \nL 3597 3500 \nL 2059 -325 \nz\n\" transform=\"scale(0.015625)\"/>\n      </defs>\n      <use xlink:href=\"#DejaVuSans-44\"/>\n      <use xlink:href=\"#DejaVuSans-65\" x=\"77.001953\"/>\n      <use xlink:href=\"#DejaVuSans-6e\" x=\"138.525391\"/>\n      <use xlink:href=\"#DejaVuSans-73\" x=\"201.904297\"/>\n      <use xlink:href=\"#DejaVuSans-69\" x=\"254.003906\"/>\n      <use xlink:href=\"#DejaVuSans-74\" x=\"281.787109\"/>\n      <use xlink:href=\"#DejaVuSans-79\" x=\"320.996094\"/>\n     </g>\n    </g>\n   </g>\n   <g id=\"patch_3\">\n    <path d=\"M 123.946447 224.64 \nL 133.972396 224.64 \nL 133.972396 208.204626 \nL 123.946447 208.204626 \nz\n\" clip-path=\"url(#p1a741f6a79)\" style=\"fill: #4c72b0; opacity: 0.4; stroke: #ffffff; stroke-linejoin: miter\"/>\n   </g>\n   <g id=\"patch_4\">\n    <path d=\"M 133.972396 224.64 \nL 143.998345 224.64 \nL 143.998345 208.204626 \nL 133.972396 208.204626 \nz\n\" clip-path=\"url(#p1a741f6a79)\" style=\"fill: #4c72b0; opacity: 0.4; stroke: #ffffff; stroke-linejoin: miter\"/>\n   </g>\n   <g id=\"patch_5\">\n    <path d=\"M 143.998345 224.64 \nL 154.024294 224.64 \nL 154.024294 142.463129 \nL 143.998345 142.463129 \nz\n\" clip-path=\"url(#p1a741f6a79)\" style=\"fill: #4c72b0; opacity: 0.4; stroke: #ffffff; stroke-linejoin: miter\"/>\n   </g>\n   <g id=\"patch_6\">\n    <path d=\"M 154.024294 224.64 \nL 164.050243 224.64 \nL 164.050243 109.592381 \nL 154.024294 109.592381 \nz\n\" clip-path=\"url(#p1a741f6a79)\" style=\"fill: #4c72b0; opacity: 0.4; stroke: #ffffff; stroke-linejoin: miter\"/>\n   </g>\n   <g id=\"patch_7\">\n    <path d=\"M 164.050243 224.64 \nL 174.076192 224.64 \nL 174.076192 60.286259 \nL 164.050243 60.286259 \nz\n\" clip-path=\"url(#p1a741f6a79)\" style=\"fill: #4c72b0; opacity: 0.4; stroke: #ffffff; stroke-linejoin: miter\"/>\n   </g>\n   <g id=\"patch_8\">\n    <path d=\"M 174.076192 224.64 \nL 184.102141 224.64 \nL 184.102141 76.721633 \nL 174.076192 76.721633 \nz\n\" clip-path=\"url(#p1a741f6a79)\" style=\"fill: #4c72b0; opacity: 0.4; stroke: #ffffff; stroke-linejoin: miter\"/>\n   </g>\n   <g id=\"patch_9\">\n    <path d=\"M 184.102141 224.64 \nL 194.12809 224.64 \nL 194.12809 27.41551 \nL 184.102141 27.41551 \nz\n\" clip-path=\"url(#p1a741f6a79)\" style=\"fill: #4c72b0; opacity: 0.4; stroke: #ffffff; stroke-linejoin: miter\"/>\n   </g>\n   <g id=\"patch_10\">\n    <path d=\"M 194.12809 224.64 \nL 204.154039 224.64 \nL 204.154039 93.157007 \nL 194.12809 93.157007 \nz\n\" clip-path=\"url(#p1a741f6a79)\" style=\"fill: #4c72b0; opacity: 0.4; stroke: #ffffff; stroke-linejoin: miter\"/>\n   </g>\n   <g id=\"patch_11\">\n    <path d=\"M 204.154039 224.64 \nL 214.179988 224.64 \nL 214.179988 93.157007 \nL 204.154039 93.157007 \nz\n\" clip-path=\"url(#p1a741f6a79)\" style=\"fill: #4c72b0; opacity: 0.4; stroke: #ffffff; stroke-linejoin: miter\"/>\n   </g>\n   <g id=\"patch_12\">\n    <path d=\"M 214.179988 224.64 \nL 224.205937 224.64 \nL 224.205937 158.898503 \nL 214.179988 158.898503 \nz\n\" clip-path=\"url(#p1a741f6a79)\" style=\"fill: #4c72b0; opacity: 0.4; stroke: #ffffff; stroke-linejoin: miter\"/>\n   </g>\n   <g id=\"patch_13\">\n    <path d=\"M 224.205938 224.64 \nL 234.231887 224.64 \nL 234.231887 109.592381 \nL 224.205938 109.592381 \nz\n\" clip-path=\"url(#p1a741f6a79)\" style=\"fill: #4c72b0; opacity: 0.4; stroke: #ffffff; stroke-linejoin: miter\"/>\n   </g>\n   <g id=\"patch_14\">\n    <path d=\"M 234.231887 224.64 \nL 244.257836 224.64 \nL 244.257836 126.027755 \nL 234.231887 126.027755 \nz\n\" clip-path=\"url(#p1a741f6a79)\" style=\"fill: #4c72b0; opacity: 0.4; stroke: #ffffff; stroke-linejoin: miter\"/>\n   </g>\n   <g id=\"patch_15\">\n    <path d=\"M 244.257836 224.64 \nL 254.283785 224.64 \nL 254.283785 93.157007 \nL 244.257836 93.157007 \nz\n\" clip-path=\"url(#p1a741f6a79)\" style=\"fill: #4c72b0; opacity: 0.4; stroke: #ffffff; stroke-linejoin: miter\"/>\n   </g>\n   <g id=\"patch_16\">\n    <path d=\"M 254.283785 224.64 \nL 264.309734 224.64 \nL 264.309734 109.592381 \nL 254.283785 109.592381 \nz\n\" clip-path=\"url(#p1a741f6a79)\" style=\"fill: #4c72b0; opacity: 0.4; stroke: #ffffff; stroke-linejoin: miter\"/>\n   </g>\n   <g id=\"patch_17\">\n    <path d=\"M 264.309734 224.64 \nL 274.335683 224.64 \nL 274.335683 109.592381 \nL 264.309734 109.592381 \nz\n\" clip-path=\"url(#p1a741f6a79)\" style=\"fill: #4c72b0; opacity: 0.4; stroke: #ffffff; stroke-linejoin: miter\"/>\n   </g>\n   <g id=\"patch_18\">\n    <path d=\"M 274.335683 224.64 \nL 284.361632 224.64 \nL 284.361632 142.463129 \nL 274.335683 142.463129 \nz\n\" clip-path=\"url(#p1a741f6a79)\" style=\"fill: #4c72b0; opacity: 0.4; stroke: #ffffff; stroke-linejoin: miter\"/>\n   </g>\n   <g id=\"patch_19\">\n    <path d=\"M 284.361632 224.64 \nL 294.387581 224.64 \nL 294.387581 208.204626 \nL 284.361632 208.204626 \nz\n\" clip-path=\"url(#p1a741f6a79)\" style=\"fill: #4c72b0; opacity: 0.4; stroke: #ffffff; stroke-linejoin: miter\"/>\n   </g>\n   <g id=\"patch_20\">\n    <path d=\"M 294.387581 224.64 \nL 304.41353 224.64 \nL 304.41353 191.769252 \nL 294.387581 191.769252 \nz\n\" clip-path=\"url(#p1a741f6a79)\" style=\"fill: #4c72b0; opacity: 0.4; stroke: #ffffff; stroke-linejoin: miter\"/>\n   </g>\n   <g id=\"patch_21\">\n    <path d=\"M 304.41353 224.64 \nL 314.439479 224.64 \nL 314.439479 208.204626 \nL 304.41353 208.204626 \nz\n\" clip-path=\"url(#p1a741f6a79)\" style=\"fill: #4c72b0; opacity: 0.4; stroke: #ffffff; stroke-linejoin: miter\"/>\n   </g>\n   <g id=\"patch_22\">\n    <path d=\"M 314.439479 224.64 \nL 324.465428 224.64 \nL 324.465428 191.769252 \nL 314.439479 191.769252 \nz\n\" clip-path=\"url(#p1a741f6a79)\" style=\"fill: #4c72b0; opacity: 0.4; stroke: #ffffff; stroke-linejoin: miter\"/>\n   </g>\n   <g id=\"line2d_14\">\n    <path d=\"M 72.024119 224.593463 \nL 81.200912 224.430097 \nL 87.318774 224.140281 \nL 91.907171 223.744367 \nL 96.495567 223.117726 \nL 99.554498 222.529744 \nL 102.61343 221.771448 \nL 105.672361 220.809086 \nL 108.731292 219.603564 \nL 111.790223 218.108747 \nL 114.849154 216.269654 \nL 117.908085 214.021117 \nL 120.967016 211.28761 \nL 124.025947 207.985006 \nL 127.084878 204.024803 \nL 130.143809 199.321038 \nL 133.20274 193.79958 \nL 136.261671 187.40899 \nL 139.320602 180.131669 \nL 142.379533 171.993775 \nL 145.438464 163.072345 \nL 148.497395 153.498322 \nL 153.085791 138.326452 \nL 159.203653 117.86481 \nL 162.262584 108.153229 \nL 165.321515 99.15674 \nL 168.380446 91.126469 \nL 169.909912 87.542155 \nL 171.439377 84.27587 \nL 172.968843 81.34668 \nL 174.498308 78.770188 \nL 176.027774 76.558405 \nL 177.557239 74.719677 \nL 179.086705 73.258653 \nL 180.61617 72.176287 \nL 182.145636 71.469879 \nL 183.675102 71.133134 \nL 185.204567 71.156242 \nL 186.734033 71.525985 \nL 188.263498 72.225852 \nL 189.792964 73.236189 \nL 191.322429 74.53436 \nL 192.851895 76.094952 \nL 194.38136 77.890009 \nL 197.440291 82.060714 \nL 200.499222 86.783887 \nL 209.676015 101.481534 \nL 212.734946 105.69763 \nL 214.264412 107.562139 \nL 215.793877 109.242183 \nL 217.323343 110.726725 \nL 218.852808 112.009354 \nL 220.382274 113.08829 \nL 221.911739 113.966268 \nL 223.441205 114.650291 \nL 224.97067 115.151284 \nL 226.500136 115.483638 \nL 228.029601 115.66469 \nL 231.088532 115.653492 \nL 234.147463 115.293085 \nL 241.794791 114.066846 \nL 244.853722 113.887709 \nL 246.383187 113.936833 \nL 247.912653 114.098355 \nL 249.442118 114.38561 \nL 250.971584 114.81071 \nL 252.501049 115.384578 \nL 254.030515 116.116956 \nL 255.55998 117.016367 \nL 257.089446 118.09003 \nL 258.618911 119.343737 \nL 260.148377 120.781679 \nL 261.677842 122.406252 \nL 263.207308 124.217851 \nL 266.266239 128.39245 \nL 269.32517 133.26139 \nL 272.384101 138.739237 \nL 275.443032 144.700391 \nL 280.031429 154.194142 \nL 286.149291 166.924252 \nL 289.208222 172.92896 \nL 292.267153 178.511018 \nL 295.326084 183.58566 \nL 298.385015 188.114965 \nL 301.443946 192.105092 \nL 304.502877 195.59841 \nL 307.561808 198.662243 \nL 310.620739 201.37627 \nL 313.67967 203.820537 \nL 318.268066 207.131211 \nL 322.856463 210.156484 \nL 327.444859 212.966389 \nL 332.033256 215.549412 \nL 336.621652 217.847925 \nL 339.680583 219.18993 \nL 342.739514 220.363048 \nL 345.798445 221.361337 \nL 348.857377 222.187214 \nL 351.916308 222.850817 \nL 356.504704 223.578543 \nL 361.093101 224.047239 \nL 367.210963 224.392582 \nL 374.85829 224.56926 \nL 376.387756 224.586112 \nL 376.387756 224.586112 \n\" clip-path=\"url(#p1a741f6a79)\" style=\"fill: none; stroke: #4c72b0; stroke-width: 1.5; stroke-linecap: round\"/>\n   </g>\n   <g id=\"LineCollection_1\">\n    <path d=\"M 214.607424 224.64 \nL 214.607424 17.554286 \n\" clip-path=\"url(#p1a741f6a79)\" style=\"fill: none; stroke-dasharray: 5.55,2.4; stroke-dashoffset: 0; stroke: #4c72b0; stroke-width: 1.5\"/>\n   </g>\n   <g id=\"patch_23\">\n    <path d=\"M 56.805937 224.64 \nL 56.805937 7.2 \n\" style=\"fill: none; stroke: #ffffff; stroke-width: 1.25; stroke-linejoin: miter; stroke-linecap: square\"/>\n   </g>\n   <g id=\"patch_24\">\n    <path d=\"M 391.605938 224.64 \nL 391.605938 7.2 \n\" style=\"fill: none; stroke: #ffffff; stroke-width: 1.25; stroke-linejoin: miter; stroke-linecap: square\"/>\n   </g>\n   <g id=\"patch_25\">\n    <path d=\"M 56.805937 224.64 \nL 391.605938 224.64 \n\" style=\"fill: none; stroke: #ffffff; stroke-width: 1.25; stroke-linejoin: miter; stroke-linecap: square\"/>\n   </g>\n   <g id=\"patch_26\">\n    <path d=\"M 56.805937 7.2 \nL 391.605938 7.2 \n\" style=\"fill: none; stroke: #ffffff; stroke-width: 1.25; stroke-linejoin: miter; stroke-linecap: square\"/>\n   </g>\n   <g id=\"legend_1\">\n    <g id=\"patch_27\">\n     <path d=\"M 262.990156 48.291875 \nL 383.905938 48.291875 \nQ 386.105938 48.291875 386.105938 46.091875 \nL 386.105938 14.9 \nQ 386.105938 12.7 383.905938 12.7 \nL 262.990156 12.7 \nQ 260.790156 12.7 260.790156 14.9 \nL 260.790156 46.091875 \nQ 260.790156 48.291875 262.990156 48.291875 \nz\n\" style=\"fill: #eaeaf2; opacity: 0.8; stroke: #cccccc; stroke-linejoin: miter\"/>\n    </g>\n    <g id=\"patch_28\">\n     <path d=\"M 265.190156 25.458281 \nL 287.190156 25.458281 \nL 287.190156 17.758281 \nL 265.190156 17.758281 \nz\n\" style=\"fill: #4c72b0; opacity: 0.4; stroke: #ffffff; stroke-linejoin: miter\"/>\n    </g>\n    <g id=\"text_15\">\n     <!-- X distribution -->\n     <g style=\"fill: #262626\" transform=\"translate(295.990156 25.458281)scale(0.11 -0.11)\">\n      <defs>\n       <path id=\"DejaVuSans-58\" d=\"M 403 4666 \nL 1081 4666 \nL 2241 2931 \nL 3406 4666 \nL 4084 4666 \nL 2584 2425 \nL 4184 0 \nL 3506 0 \nL 2194 1984 \nL 872 0 \nL 191 0 \nL 1856 2491 \nL 403 4666 \nz\n\" transform=\"scale(0.015625)\"/>\n       <path id=\"DejaVuSans-20\" transform=\"scale(0.015625)\"/>\n       <path id=\"DejaVuSans-64\" d=\"M 2906 2969 \nL 2906 4863 \nL 3481 4863 \nL 3481 0 \nL 2906 0 \nL 2906 525 \nQ 2725 213 2448 61 \nQ 2172 -91 1784 -91 \nQ 1150 -91 751 415 \nQ 353 922 353 1747 \nQ 353 2572 751 3078 \nQ 1150 3584 1784 3584 \nQ 2172 3584 2448 3432 \nQ 2725 3281 2906 2969 \nz\nM 947 1747 \nQ 947 1113 1208 752 \nQ 1469 391 1925 391 \nQ 2381 391 2643 752 \nQ 2906 1113 2906 1747 \nQ 2906 2381 2643 2742 \nQ 2381 3103 1925 3103 \nQ 1469 3103 1208 2742 \nQ 947 2381 947 1747 \nz\n\" transform=\"scale(0.015625)\"/>\n       <path id=\"DejaVuSans-72\" d=\"M 2631 2963 \nQ 2534 3019 2420 3045 \nQ 2306 3072 2169 3072 \nQ 1681 3072 1420 2755 \nQ 1159 2438 1159 1844 \nL 1159 0 \nL 581 0 \nL 581 3500 \nL 1159 3500 \nL 1159 2956 \nQ 1341 3275 1631 3429 \nQ 1922 3584 2338 3584 \nQ 2397 3584 2469 3576 \nQ 2541 3569 2628 3553 \nL 2631 2963 \nz\n\" transform=\"scale(0.015625)\"/>\n       <path id=\"DejaVuSans-62\" d=\"M 3116 1747 \nQ 3116 2381 2855 2742 \nQ 2594 3103 2138 3103 \nQ 1681 3103 1420 2742 \nQ 1159 2381 1159 1747 \nQ 1159 1113 1420 752 \nQ 1681 391 2138 391 \nQ 2594 391 2855 752 \nQ 3116 1113 3116 1747 \nz\nM 1159 2969 \nQ 1341 3281 1617 3432 \nQ 1894 3584 2278 3584 \nQ 2916 3584 3314 3078 \nQ 3713 2572 3713 1747 \nQ 3713 922 3314 415 \nQ 2916 -91 2278 -91 \nQ 1894 -91 1617 61 \nQ 1341 213 1159 525 \nL 1159 0 \nL 581 0 \nL 581 4863 \nL 1159 4863 \nL 1159 2969 \nz\n\" transform=\"scale(0.015625)\"/>\n       <path id=\"DejaVuSans-75\" d=\"M 544 1381 \nL 544 3500 \nL 1119 3500 \nL 1119 1403 \nQ 1119 906 1312 657 \nQ 1506 409 1894 409 \nQ 2359 409 2629 706 \nQ 2900 1003 2900 1516 \nL 2900 3500 \nL 3475 3500 \nL 3475 0 \nL 2900 0 \nL 2900 538 \nQ 2691 219 2414 64 \nQ 2138 -91 1772 -91 \nQ 1169 -91 856 284 \nQ 544 659 544 1381 \nz\nM 1991 3584 \nL 1991 3584 \nz\n\" transform=\"scale(0.015625)\"/>\n       <path id=\"DejaVuSans-6f\" d=\"M 1959 3097 \nQ 1497 3097 1228 2736 \nQ 959 2375 959 1747 \nQ 959 1119 1226 758 \nQ 1494 397 1959 397 \nQ 2419 397 2687 759 \nQ 2956 1122 2956 1747 \nQ 2956 2369 2687 2733 \nQ 2419 3097 1959 3097 \nz\nM 1959 3584 \nQ 2709 3584 3137 3096 \nQ 3566 2609 3566 1747 \nQ 3566 888 3137 398 \nQ 2709 -91 1959 -91 \nQ 1206 -91 779 398 \nQ 353 888 353 1747 \nQ 353 2609 779 3096 \nQ 1206 3584 1959 3584 \nz\n\" transform=\"scale(0.015625)\"/>\n      </defs>\n      <use xlink:href=\"#DejaVuSans-58\"/>\n      <use xlink:href=\"#DejaVuSans-20\" x=\"68.505859\"/>\n      <use xlink:href=\"#DejaVuSans-64\" x=\"100.292969\"/>\n      <use xlink:href=\"#DejaVuSans-69\" x=\"163.769531\"/>\n      <use xlink:href=\"#DejaVuSans-73\" x=\"191.552734\"/>\n      <use xlink:href=\"#DejaVuSans-74\" x=\"243.652344\"/>\n      <use xlink:href=\"#DejaVuSans-72\" x=\"282.861328\"/>\n      <use xlink:href=\"#DejaVuSans-69\" x=\"323.974609\"/>\n      <use xlink:href=\"#DejaVuSans-62\" x=\"351.757812\"/>\n      <use xlink:href=\"#DejaVuSans-75\" x=\"415.234375\"/>\n      <use xlink:href=\"#DejaVuSans-74\" x=\"478.613281\"/>\n      <use xlink:href=\"#DejaVuSans-69\" x=\"517.822266\"/>\n      <use xlink:href=\"#DejaVuSans-6f\" x=\"545.605469\"/>\n      <use xlink:href=\"#DejaVuSans-6e\" x=\"606.787109\"/>\n     </g>\n    </g>\n    <g id=\"line2d_15\">\n     <path d=\"M 265.190156 37.754219 \nL 287.190156 37.754219 \n\" style=\"fill: none; stroke-dasharray: 5.55,2.4; stroke-dashoffset: 0; stroke: #4c72b0; stroke-width: 1.5\"/>\n    </g>\n    <g id=\"text_16\">\n     <!-- X sample mean -->\n     <g style=\"fill: #262626\" transform=\"translate(295.990156 41.604219)scale(0.11 -0.11)\">\n      <defs>\n       <path id=\"DejaVuSans-61\" d=\"M 2194 1759 \nQ 1497 1759 1228 1600 \nQ 959 1441 959 1056 \nQ 959 750 1161 570 \nQ 1363 391 1709 391 \nQ 2188 391 2477 730 \nQ 2766 1069 2766 1631 \nL 2766 1759 \nL 2194 1759 \nz\nM 3341 1997 \nL 3341 0 \nL 2766 0 \nL 2766 531 \nQ 2569 213 2275 61 \nQ 1981 -91 1556 -91 \nQ 1019 -91 701 211 \nQ 384 513 384 1019 \nQ 384 1609 779 1909 \nQ 1175 2209 1959 2209 \nL 2766 2209 \nL 2766 2266 \nQ 2766 2663 2505 2880 \nQ 2244 3097 1772 3097 \nQ 1472 3097 1187 3025 \nQ 903 2953 641 2809 \nL 641 3341 \nQ 956 3463 1253 3523 \nQ 1550 3584 1831 3584 \nQ 2591 3584 2966 3190 \nQ 3341 2797 3341 1997 \nz\n\" transform=\"scale(0.015625)\"/>\n       <path id=\"DejaVuSans-6d\" d=\"M 3328 2828 \nQ 3544 3216 3844 3400 \nQ 4144 3584 4550 3584 \nQ 5097 3584 5394 3201 \nQ 5691 2819 5691 2113 \nL 5691 0 \nL 5113 0 \nL 5113 2094 \nQ 5113 2597 4934 2840 \nQ 4756 3084 4391 3084 \nQ 3944 3084 3684 2787 \nQ 3425 2491 3425 1978 \nL 3425 0 \nL 2847 0 \nL 2847 2094 \nQ 2847 2600 2669 2842 \nQ 2491 3084 2119 3084 \nQ 1678 3084 1418 2786 \nQ 1159 2488 1159 1978 \nL 1159 0 \nL 581 0 \nL 581 3500 \nL 1159 3500 \nL 1159 2956 \nQ 1356 3278 1631 3431 \nQ 1906 3584 2284 3584 \nQ 2666 3584 2933 3390 \nQ 3200 3197 3328 2828 \nz\n\" transform=\"scale(0.015625)\"/>\n       <path id=\"DejaVuSans-70\" d=\"M 1159 525 \nL 1159 -1331 \nL 581 -1331 \nL 581 3500 \nL 1159 3500 \nL 1159 2969 \nQ 1341 3281 1617 3432 \nQ 1894 3584 2278 3584 \nQ 2916 3584 3314 3078 \nQ 3713 2572 3713 1747 \nQ 3713 922 3314 415 \nQ 2916 -91 2278 -91 \nQ 1894 -91 1617 61 \nQ 1341 213 1159 525 \nz\nM 3116 1747 \nQ 3116 2381 2855 2742 \nQ 2594 3103 2138 3103 \nQ 1681 3103 1420 2742 \nQ 1159 2381 1159 1747 \nQ 1159 1113 1420 752 \nQ 1681 391 2138 391 \nQ 2594 391 2855 752 \nQ 3116 1113 3116 1747 \nz\n\" transform=\"scale(0.015625)\"/>\n       <path id=\"DejaVuSans-6c\" d=\"M 603 4863 \nL 1178 4863 \nL 1178 0 \nL 603 0 \nL 603 4863 \nz\n\" transform=\"scale(0.015625)\"/>\n      </defs>\n      <use xlink:href=\"#DejaVuSans-58\"/>\n      <use xlink:href=\"#DejaVuSans-20\" x=\"68.505859\"/>\n      <use xlink:href=\"#DejaVuSans-73\" x=\"100.292969\"/>\n      <use xlink:href=\"#DejaVuSans-61\" x=\"152.392578\"/>\n      <use xlink:href=\"#DejaVuSans-6d\" x=\"213.671875\"/>\n      <use xlink:href=\"#DejaVuSans-70\" x=\"311.083984\"/>\n      <use xlink:href=\"#DejaVuSans-6c\" x=\"374.560547\"/>\n      <use xlink:href=\"#DejaVuSans-65\" x=\"402.34375\"/>\n      <use xlink:href=\"#DejaVuSans-20\" x=\"463.867188\"/>\n      <use xlink:href=\"#DejaVuSans-6d\" x=\"495.654297\"/>\n      <use xlink:href=\"#DejaVuSans-65\" x=\"593.066406\"/>\n      <use xlink:href=\"#DejaVuSans-61\" x=\"654.589844\"/>\n      <use xlink:href=\"#DejaVuSans-6e\" x=\"715.869141\"/>\n     </g>\n    </g>\n   </g>\n  </g>\n </g>\n <defs>\n  <clipPath id=\"p1a741f6a79\">\n   <rect x=\"56.805937\" y=\"7.2\" width=\"334.8\" height=\"217.44\"/>\n  </clipPath>\n </defs>\n</svg>\n"
          },
          "metadata": {
            "needs_background": "light"
          }
        }
      ],
      "source": [
        "X = pd.read_excel('t1_data.xlsx').values.ravel()\n",
        "\n",
        "sns.distplot(X, label='X distribution', bins=20)\n",
        "plt.vlines(X.mean(), *plt.ylim(), linestyles='--', colors='b', label=\"X sample mean\")\n",
        "plt.legend()\n",
        "print(\"X sample mean: \", np.round(X.mean(), 3))\n",
        "plt.show()"
      ]
    },
    {
      "cell_type": "markdown",
      "metadata": {
        "id": "d1pTiqShAGv9"
      },
      "source": [
        "Определите доверительный интервал для математического ожидания на уровне $\\alpha$ (для каждого $\\alpha$ из списка) c использованием распределения Стьюдента."
      ]
    },
    {
      "cell_type": "code",
      "execution_count": null,
      "metadata": {
        "id": "U3zbCGgEAGv-"
      },
      "outputs": [],
      "source": [
        "alpha_list = np.array([0.1, 0.075, 0.05, 0.025, 0.01]) "
      ]
    },
    {
      "cell_type": "code",
      "execution_count": null,
      "metadata": {
        "id": "kbj3NzISAGwA"
      },
      "outputs": [],
      "source": [
        "def student_mci(data, alpha=0.05):\n",
        "    # Your code goes here...\n",
        "    s = np.std(data, ddof=1)\n",
        "    n = data.shape[0]\n",
        "    t = sp.stats.t(n - 1).ppf(1 - alpha / 2) * s / np.sqrt(n)\n",
        "    data_mean = np.mean(data)\n",
        "    return data_mean - t, data_mean + t"
      ]
    },
    {
      "cell_type": "markdown",
      "source": [
        "Рассмотрим получающиеся доверительные интервалы при различных $\\alpha$:"
      ],
      "metadata": {
        "id": "PVn_n-xCJlWV"
      }
    },
    {
      "cell_type": "code",
      "source": [
        "for alpha in alpha_list:\n",
        "    print(f'Alpha={alpha}:')\n",
        "    c_l, c_u = student_mci(X, alpha)\n",
        "    print(f'[{c_l}, {c_u}]')\n",
        "    print()"
      ],
      "metadata": {
        "colab": {
          "base_uri": "https://localhost:8080/"
        },
        "id": "LJxedRQJJbBe",
        "outputId": "e449f36f-f932-4a60-f20c-19e7ed07c68f"
      },
      "execution_count": null,
      "outputs": [
        {
          "output_type": "stream",
          "name": "stdout",
          "text": [
            "Alpha=0.1:\n",
            "[4.9555408822430085, 5.456495153793027]\n",
            "\n",
            "Alpha=0.075:\n",
            "[4.934601430031591, 5.4774346060044445]\n",
            "\n",
            "Alpha=0.05:\n",
            "[4.906777811970127, 5.5052582240659085]\n",
            "\n",
            "Alpha=0.025:\n",
            "[4.862878179081061, 5.549157856954974]\n",
            "\n",
            "Alpha=0.01:\n",
            "[4.810215473169937, 5.601820562866098]\n",
            "\n"
          ]
        }
      ]
    },
    {
      "cell_type": "markdown",
      "source": [
        "Результаты вполне адекватны и логичны, согласуются с графиком распределения выборки."
      ],
      "metadata": {
        "id": "WG6TayVEKinn"
      }
    },
    {
      "cell_type": "markdown",
      "metadata": {
        "id": "R7-aJB5qAGwB"
      },
      "source": [
        "### Задача 2"
      ]
    },
    {
      "cell_type": "markdown",
      "metadata": {
        "id": "cf2yaIFgAGwF"
      },
      "source": [
        "Два предприятия выпускают  изделия одного и того же назначения. Предприятие I выпускает изделия с математическим ожиданием срока службы $T_1$, предприятие II выпускает изделия с математическим ожиданием срока службы $T_2$. Сроки службы изделий обоих предприятий распределены нормально и стандартные отклонения для них равны $\\sigma_1$ и $\\sigma_2$ соответственно. При этом $T_1 < T_2$, но изделия второго предприятия дороже."
      ]
    },
    {
      "cell_type": "code",
      "execution_count": null,
      "metadata": {
        "colab": {
          "base_uri": "https://localhost:8080/",
          "height": 357
        },
        "id": "wq3wpH81AGwH",
        "outputId": "2b829e35-7a7a-491e-aae6-2f46f3c0a862"
      },
      "outputs": [
        {
          "output_type": "display_data",
          "data": {
            "text/plain": [
              "<Figure size 432x288 with 1 Axes>"
            ],
            "image/svg+xml": "<?xml version=\"1.0\" encoding=\"utf-8\" standalone=\"no\"?>\n<!DOCTYPE svg PUBLIC \"-//W3C//DTD SVG 1.1//EN\"\n  \"http://www.w3.org/Graphics/SVG/1.1/DTD/svg11.dtd\">\n<svg xmlns:xlink=\"http://www.w3.org/1999/xlink\" width=\"383.192187pt\" height=\"251.985937pt\" viewBox=\"0 0 383.192187 251.985937\" xmlns=\"http://www.w3.org/2000/svg\" version=\"1.1\">\n <metadata>\n  <rdf:RDF xmlns:dc=\"http://purl.org/dc/elements/1.1/\" xmlns:cc=\"http://creativecommons.org/ns#\" xmlns:rdf=\"http://www.w3.org/1999/02/22-rdf-syntax-ns#\">\n   <cc:Work>\n    <dc:type rdf:resource=\"http://purl.org/dc/dcmitype/StillImage\"/>\n    <dc:date>2023-03-10T17:00:51.154032</dc:date>\n    <dc:format>image/svg+xml</dc:format>\n    <dc:creator>\n     <cc:Agent>\n      <dc:title>Matplotlib v3.5.3, https://matplotlib.org/</dc:title>\n     </cc:Agent>\n    </dc:creator>\n   </cc:Work>\n  </rdf:RDF>\n </metadata>\n <defs>\n  <style type=\"text/css\">*{stroke-linejoin: round; stroke-linecap: butt}</style>\n </defs>\n <g id=\"figure_1\">\n  <g id=\"patch_1\">\n   <path d=\"M 0 251.985937 \nL 383.192187 251.985937 \nL 383.192187 0 \nL 0 0 \nL 0 251.985937 \nz\n\" style=\"fill: none\"/>\n  </g>\n  <g id=\"axes_1\">\n   <g id=\"patch_2\">\n    <path d=\"M 41.192188 224.64 \nL 375.992188 224.64 \nL 375.992188 7.2 \nL 41.192188 7.2 \nz\n\" style=\"fill: #eaeaf2\"/>\n   </g>\n   <g id=\"matplotlib.axis_1\">\n    <g id=\"xtick_1\">\n     <g id=\"line2d_1\">\n      <path d=\"M 50.415114 224.64 \nL 50.415114 7.2 \n\" clip-path=\"url(#p4814c0ea4a)\" style=\"fill: none; stroke: #ffffff; stroke-linecap: round\"/>\n     </g>\n     <g id=\"text_1\">\n      <!-- 5.0 -->\n      <g style=\"fill: #262626\" transform=\"translate(41.668395 242.498281)scale(0.11 -0.11)\">\n       <defs>\n        <path id=\"DejaVuSans-35\" d=\"M 691 4666 \nL 3169 4666 \nL 3169 4134 \nL 1269 4134 \nL 1269 2991 \nQ 1406 3038 1543 3061 \nQ 1681 3084 1819 3084 \nQ 2600 3084 3056 2656 \nQ 3513 2228 3513 1497 \nQ 3513 744 3044 326 \nQ 2575 -91 1722 -91 \nQ 1428 -91 1123 -41 \nQ 819 9 494 109 \nL 494 744 \nQ 775 591 1075 516 \nQ 1375 441 1709 441 \nQ 2250 441 2565 725 \nQ 2881 1009 2881 1497 \nQ 2881 1984 2565 2268 \nQ 2250 2553 1709 2553 \nQ 1456 2553 1204 2497 \nQ 953 2441 691 2322 \nL 691 4666 \nz\n\" transform=\"scale(0.015625)\"/>\n        <path id=\"DejaVuSans-2e\" d=\"M 684 794 \nL 1344 794 \nL 1344 0 \nL 684 0 \nL 684 794 \nz\n\" transform=\"scale(0.015625)\"/>\n        <path id=\"DejaVuSans-30\" d=\"M 2034 4250 \nQ 1547 4250 1301 3770 \nQ 1056 3291 1056 2328 \nQ 1056 1369 1301 889 \nQ 1547 409 2034 409 \nQ 2525 409 2770 889 \nQ 3016 1369 3016 2328 \nQ 3016 3291 2770 3770 \nQ 2525 4250 2034 4250 \nz\nM 2034 4750 \nQ 2819 4750 3233 4129 \nQ 3647 3509 3647 2328 \nQ 3647 1150 3233 529 \nQ 2819 -91 2034 -91 \nQ 1250 -91 836 529 \nQ 422 1150 422 2328 \nQ 422 3509 836 4129 \nQ 1250 4750 2034 4750 \nz\n\" transform=\"scale(0.015625)\"/>\n       </defs>\n       <use xlink:href=\"#DejaVuSans-35\"/>\n       <use xlink:href=\"#DejaVuSans-2e\" x=\"63.623047\"/>\n       <use xlink:href=\"#DejaVuSans-30\" x=\"95.410156\"/>\n      </g>\n     </g>\n    </g>\n    <g id=\"xtick_2\">\n     <g id=\"line2d_2\">\n      <path d=\"M 93.570759 224.64 \nL 93.570759 7.2 \n\" clip-path=\"url(#p4814c0ea4a)\" style=\"fill: none; stroke: #ffffff; stroke-linecap: round\"/>\n     </g>\n     <g id=\"text_2\">\n      <!-- 7.5 -->\n      <g style=\"fill: #262626\" transform=\"translate(84.82404 242.498281)scale(0.11 -0.11)\">\n       <defs>\n        <path id=\"DejaVuSans-37\" d=\"M 525 4666 \nL 3525 4666 \nL 3525 4397 \nL 1831 0 \nL 1172 0 \nL 2766 4134 \nL 525 4134 \nL 525 4666 \nz\n\" transform=\"scale(0.015625)\"/>\n       </defs>\n       <use xlink:href=\"#DejaVuSans-37\"/>\n       <use xlink:href=\"#DejaVuSans-2e\" x=\"63.623047\"/>\n       <use xlink:href=\"#DejaVuSans-35\" x=\"95.410156\"/>\n      </g>\n     </g>\n    </g>\n    <g id=\"xtick_3\">\n     <g id=\"line2d_3\">\n      <path d=\"M 136.726404 224.64 \nL 136.726404 7.2 \n\" clip-path=\"url(#p4814c0ea4a)\" style=\"fill: none; stroke: #ffffff; stroke-linecap: round\"/>\n     </g>\n     <g id=\"text_3\">\n      <!-- 10.0 -->\n      <g style=\"fill: #262626\" transform=\"translate(124.480311 242.498281)scale(0.11 -0.11)\">\n       <defs>\n        <path id=\"DejaVuSans-31\" d=\"M 794 531 \nL 1825 531 \nL 1825 4091 \nL 703 3866 \nL 703 4441 \nL 1819 4666 \nL 2450 4666 \nL 2450 531 \nL 3481 531 \nL 3481 0 \nL 794 0 \nL 794 531 \nz\n\" transform=\"scale(0.015625)\"/>\n       </defs>\n       <use xlink:href=\"#DejaVuSans-31\"/>\n       <use xlink:href=\"#DejaVuSans-30\" x=\"63.623047\"/>\n       <use xlink:href=\"#DejaVuSans-2e\" x=\"127.246094\"/>\n       <use xlink:href=\"#DejaVuSans-30\" x=\"159.033203\"/>\n      </g>\n     </g>\n    </g>\n    <g id=\"xtick_4\">\n     <g id=\"line2d_4\">\n      <path d=\"M 179.88205 224.64 \nL 179.88205 7.2 \n\" clip-path=\"url(#p4814c0ea4a)\" style=\"fill: none; stroke: #ffffff; stroke-linecap: round\"/>\n     </g>\n     <g id=\"text_4\">\n      <!-- 12.5 -->\n      <g style=\"fill: #262626\" transform=\"translate(167.635956 242.498281)scale(0.11 -0.11)\">\n       <defs>\n        <path id=\"DejaVuSans-32\" d=\"M 1228 531 \nL 3431 531 \nL 3431 0 \nL 469 0 \nL 469 531 \nQ 828 903 1448 1529 \nQ 2069 2156 2228 2338 \nQ 2531 2678 2651 2914 \nQ 2772 3150 2772 3378 \nQ 2772 3750 2511 3984 \nQ 2250 4219 1831 4219 \nQ 1534 4219 1204 4116 \nQ 875 4013 500 3803 \nL 500 4441 \nQ 881 4594 1212 4672 \nQ 1544 4750 1819 4750 \nQ 2544 4750 2975 4387 \nQ 3406 4025 3406 3419 \nQ 3406 3131 3298 2873 \nQ 3191 2616 2906 2266 \nQ 2828 2175 2409 1742 \nQ 1991 1309 1228 531 \nz\n\" transform=\"scale(0.015625)\"/>\n       </defs>\n       <use xlink:href=\"#DejaVuSans-31\"/>\n       <use xlink:href=\"#DejaVuSans-32\" x=\"63.623047\"/>\n       <use xlink:href=\"#DejaVuSans-2e\" x=\"127.246094\"/>\n       <use xlink:href=\"#DejaVuSans-35\" x=\"159.033203\"/>\n      </g>\n     </g>\n    </g>\n    <g id=\"xtick_5\">\n     <g id=\"line2d_5\">\n      <path d=\"M 223.037695 224.64 \nL 223.037695 7.2 \n\" clip-path=\"url(#p4814c0ea4a)\" style=\"fill: none; stroke: #ffffff; stroke-linecap: round\"/>\n     </g>\n     <g id=\"text_5\">\n      <!-- 15.0 -->\n      <g style=\"fill: #262626\" transform=\"translate(210.791601 242.498281)scale(0.11 -0.11)\">\n       <use xlink:href=\"#DejaVuSans-31\"/>\n       <use xlink:href=\"#DejaVuSans-35\" x=\"63.623047\"/>\n       <use xlink:href=\"#DejaVuSans-2e\" x=\"127.246094\"/>\n       <use xlink:href=\"#DejaVuSans-30\" x=\"159.033203\"/>\n      </g>\n     </g>\n    </g>\n    <g id=\"xtick_6\">\n     <g id=\"line2d_6\">\n      <path d=\"M 266.19334 224.64 \nL 266.19334 7.2 \n\" clip-path=\"url(#p4814c0ea4a)\" style=\"fill: none; stroke: #ffffff; stroke-linecap: round\"/>\n     </g>\n     <g id=\"text_6\">\n      <!-- 17.5 -->\n      <g style=\"fill: #262626\" transform=\"translate(253.947247 242.498281)scale(0.11 -0.11)\">\n       <use xlink:href=\"#DejaVuSans-31\"/>\n       <use xlink:href=\"#DejaVuSans-37\" x=\"63.623047\"/>\n       <use xlink:href=\"#DejaVuSans-2e\" x=\"127.246094\"/>\n       <use xlink:href=\"#DejaVuSans-35\" x=\"159.033203\"/>\n      </g>\n     </g>\n    </g>\n    <g id=\"xtick_7\">\n     <g id=\"line2d_7\">\n      <path d=\"M 309.348986 224.64 \nL 309.348986 7.2 \n\" clip-path=\"url(#p4814c0ea4a)\" style=\"fill: none; stroke: #ffffff; stroke-linecap: round\"/>\n     </g>\n     <g id=\"text_7\">\n      <!-- 20.0 -->\n      <g style=\"fill: #262626\" transform=\"translate(297.102892 242.498281)scale(0.11 -0.11)\">\n       <use xlink:href=\"#DejaVuSans-32\"/>\n       <use xlink:href=\"#DejaVuSans-30\" x=\"63.623047\"/>\n       <use xlink:href=\"#DejaVuSans-2e\" x=\"127.246094\"/>\n       <use xlink:href=\"#DejaVuSans-30\" x=\"159.033203\"/>\n      </g>\n     </g>\n    </g>\n    <g id=\"xtick_8\">\n     <g id=\"line2d_8\">\n      <path d=\"M 352.504631 224.64 \nL 352.504631 7.2 \n\" clip-path=\"url(#p4814c0ea4a)\" style=\"fill: none; stroke: #ffffff; stroke-linecap: round\"/>\n     </g>\n     <g id=\"text_8\">\n      <!-- 22.5 -->\n      <g style=\"fill: #262626\" transform=\"translate(340.258537 242.498281)scale(0.11 -0.11)\">\n       <use xlink:href=\"#DejaVuSans-32\"/>\n       <use xlink:href=\"#DejaVuSans-32\" x=\"63.623047\"/>\n       <use xlink:href=\"#DejaVuSans-2e\" x=\"127.246094\"/>\n       <use xlink:href=\"#DejaVuSans-35\" x=\"159.033203\"/>\n      </g>\n     </g>\n    </g>\n   </g>\n   <g id=\"matplotlib.axis_2\">\n    <g id=\"ytick_1\">\n     <g id=\"line2d_9\">\n      <path d=\"M 41.192188 209.298295 \nL 375.992188 209.298295 \n\" clip-path=\"url(#p4814c0ea4a)\" style=\"fill: none; stroke: #ffffff; stroke-linecap: round\"/>\n     </g>\n     <g id=\"text_9\">\n      <!-- 0.00 -->\n      <g style=\"fill: #262626\" transform=\"translate(7.2 213.477436)scale(0.11 -0.11)\">\n       <use xlink:href=\"#DejaVuSans-30\"/>\n       <use xlink:href=\"#DejaVuSans-2e\" x=\"63.623047\"/>\n       <use xlink:href=\"#DejaVuSans-30\" x=\"95.410156\"/>\n       <use xlink:href=\"#DejaVuSans-30\" x=\"159.033203\"/>\n      </g>\n     </g>\n    </g>\n    <g id=\"ytick_2\">\n     <g id=\"line2d_10\">\n      <path d=\"M 41.192188 165.416831 \nL 375.992188 165.416831 \n\" clip-path=\"url(#p4814c0ea4a)\" style=\"fill: none; stroke: #ffffff; stroke-linecap: round\"/>\n     </g>\n     <g id=\"text_10\">\n      <!-- 0.05 -->\n      <g style=\"fill: #262626\" transform=\"translate(7.2 169.595972)scale(0.11 -0.11)\">\n       <use xlink:href=\"#DejaVuSans-30\"/>\n       <use xlink:href=\"#DejaVuSans-2e\" x=\"63.623047\"/>\n       <use xlink:href=\"#DejaVuSans-30\" x=\"95.410156\"/>\n       <use xlink:href=\"#DejaVuSans-35\" x=\"159.033203\"/>\n      </g>\n     </g>\n    </g>\n    <g id=\"ytick_3\">\n     <g id=\"line2d_11\">\n      <path d=\"M 41.192188 121.535366 \nL 375.992188 121.535366 \n\" clip-path=\"url(#p4814c0ea4a)\" style=\"fill: none; stroke: #ffffff; stroke-linecap: round\"/>\n     </g>\n     <g id=\"text_11\">\n      <!-- 0.10 -->\n      <g style=\"fill: #262626\" transform=\"translate(7.2 125.714507)scale(0.11 -0.11)\">\n       <use xlink:href=\"#DejaVuSans-30\"/>\n       <use xlink:href=\"#DejaVuSans-2e\" x=\"63.623047\"/>\n       <use xlink:href=\"#DejaVuSans-31\" x=\"95.410156\"/>\n       <use xlink:href=\"#DejaVuSans-30\" x=\"159.033203\"/>\n      </g>\n     </g>\n    </g>\n    <g id=\"ytick_4\">\n     <g id=\"line2d_12\">\n      <path d=\"M 41.192188 77.653902 \nL 375.992188 77.653902 \n\" clip-path=\"url(#p4814c0ea4a)\" style=\"fill: none; stroke: #ffffff; stroke-linecap: round\"/>\n     </g>\n     <g id=\"text_12\">\n      <!-- 0.15 -->\n      <g style=\"fill: #262626\" transform=\"translate(7.2 81.833043)scale(0.11 -0.11)\">\n       <use xlink:href=\"#DejaVuSans-30\"/>\n       <use xlink:href=\"#DejaVuSans-2e\" x=\"63.623047\"/>\n       <use xlink:href=\"#DejaVuSans-31\" x=\"95.410156\"/>\n       <use xlink:href=\"#DejaVuSans-35\" x=\"159.033203\"/>\n      </g>\n     </g>\n    </g>\n    <g id=\"ytick_5\">\n     <g id=\"line2d_13\">\n      <path d=\"M 41.192188 33.772437 \nL 375.992188 33.772437 \n\" clip-path=\"url(#p4814c0ea4a)\" style=\"fill: none; stroke: #ffffff; stroke-linecap: round\"/>\n     </g>\n     <g id=\"text_13\">\n      <!-- 0.20 -->\n      <g style=\"fill: #262626\" transform=\"translate(7.2 37.951578)scale(0.11 -0.11)\">\n       <use xlink:href=\"#DejaVuSans-30\"/>\n       <use xlink:href=\"#DejaVuSans-2e\" x=\"63.623047\"/>\n       <use xlink:href=\"#DejaVuSans-32\" x=\"95.410156\"/>\n       <use xlink:href=\"#DejaVuSans-30\" x=\"159.033203\"/>\n      </g>\n     </g>\n    </g>\n   </g>\n   <g id=\"line2d_14\">\n    <path d=\"M 56.410369 197.602945 \nL 58.983055 195.427732 \nL 61.394948 193.104273 \nL 63.806841 190.483661 \nL 66.218734 187.545389 \nL 68.630627 184.270693 \nL 71.203313 180.388495 \nL 73.775999 176.089023 \nL 76.348684 171.361377 \nL 79.082163 165.863776 \nL 81.976435 159.513372 \nL 85.031499 152.236974 \nL 88.247356 143.980727 \nL 91.784799 134.268311 \nL 95.965414 122.100039 \nL 101.91475 104.001073 \nL 109.472014 81.104194 \nL 113.17025 70.590379 \nL 116.225314 62.533406 \nL 118.958793 55.949861 \nL 121.370686 50.72369 \nL 123.460993 46.693678 \nL 125.390508 43.423397 \nL 127.159229 40.830788 \nL 128.767158 38.827421 \nL 130.375086 37.173989 \nL 131.822222 35.993898 \nL 133.269358 35.112024 \nL 134.555701 34.582263 \nL 135.842044 34.294004 \nL 137.128386 34.248446 \nL 138.414729 34.445779 \nL 139.701072 34.885181 \nL 140.987415 35.564826 \nL 142.273758 36.481897 \nL 143.720894 37.792642 \nL 145.16803 39.392227 \nL 146.775958 41.498184 \nL 148.54468 44.198744 \nL 150.474194 47.580069 \nL 152.564501 51.72147 \nL 154.815601 56.689828 \nL 157.388287 62.940325 \nL 160.282559 70.590379 \nL 163.659209 80.163681 \nL 168.161409 93.642091 \nL 180.381667 130.594243 \nL 184.240695 141.393306 \nL 187.617345 150.228274 \nL 190.833203 158.029529 \nL 193.727474 164.499297 \nL 196.621746 170.426771 \nL 199.355224 175.521645 \nL 201.92791 179.874156 \nL 204.500596 183.807736 \nL 207.073282 187.337737 \nL 209.645968 190.483661 \nL 212.218653 193.268181 \nL 214.791339 195.716228 \nL 217.042439 197.602945 \nL 217.042439 197.602945 \n\" clip-path=\"url(#p4814c0ea4a)\" style=\"fill: none; stroke: #4c72b0; stroke-width: 1.5; stroke-linecap: round\"/>\n   </g>\n   <g id=\"LineCollection_1\">\n    <path d=\"M 136.726404 205.77124 \nL 136.726404 26.06876 \n\" clip-path=\"url(#p4814c0ea4a)\" style=\"fill: none; stroke-dasharray: 5.55,2.4; stroke-dashoffset: 0; stroke: #4c72b0; stroke-width: 1.5\"/>\n   </g>\n   <g id=\"line2d_15\">\n    <path d=\"M 119.825901 201.501395 \nL 123.926119 199.953865 \nL 128.026337 198.169165 \nL 131.885365 196.254093 \nL 135.744394 194.094144 \nL 139.603423 191.674669 \nL 143.462451 188.983297 \nL 147.32148 186.010589 \nL 151.180509 182.750708 \nL 155.039538 179.202085 \nL 159.139756 175.119118 \nL 163.239974 170.724804 \nL 167.581381 165.75325 \nL 172.405167 159.883292 \nL 177.952521 152.75793 \nL 184.94701 143.378426 \nL 199.900746 123.208553 \nL 204.965722 116.826351 \nL 209.06594 111.998952 \nL 212.683779 108.059033 \nL 216.060429 104.699555 \nL 219.19589 101.889955 \nL 222.090161 99.587082 \nL 224.743244 97.739295 \nL 227.396326 96.157726 \nL 229.808219 94.961193 \nL 232.220112 94.002365 \nL 234.632005 93.287407 \nL 237.043898 92.820941 \nL 239.214601 92.616114 \nL 241.385305 92.616114 \nL 243.556009 92.820941 \nL 245.726712 93.229516 \nL 248.138605 93.919806 \nL 250.550498 94.8545 \nL 252.962391 96.027583 \nL 255.615473 97.584319 \nL 258.268556 99.408457 \nL 261.162827 101.687072 \nL 264.057099 104.247079 \nL 267.192559 107.311854 \nL 270.56921 110.916615 \nL 274.428238 115.370836 \nL 278.769646 120.731057 \nL 284.07581 127.651766 \nL 292.276246 138.77048 \nL 302.406196 152.440628 \nL 308.19474 159.883292 \nL 313.259715 166.037567 \nL 317.842311 171.257415 \nL 322.183719 175.862669 \nL 326.283937 179.889364 \nL 330.142965 183.383946 \nL 334.001994 186.589724 \nL 337.861023 189.509119 \nL 341.720051 192.148694 \nL 345.57908 194.518488 \nL 349.438109 196.63135 \nL 353.297138 198.502281 \nL 357.397356 200.243584 \nL 360.774006 201.501395 \nL 360.774006 201.501395 \n\" clip-path=\"url(#p4814c0ea4a)\" style=\"fill: none; stroke: #c44e52; stroke-width: 1.5; stroke-linecap: round\"/>\n   </g>\n   <g id=\"LineCollection_2\">\n    <path d=\"M 240.299953 214.756364 \nL 240.299953 17.083636 \n\" clip-path=\"url(#p4814c0ea4a)\" style=\"fill: none; stroke-dasharray: 5.55,2.4; stroke-dashoffset: 0; stroke: #c44e52; stroke-width: 1.5\"/>\n   </g>\n   <g id=\"patch_3\">\n    <path d=\"M 41.192188 224.64 \nL 41.192188 7.2 \n\" style=\"fill: none; stroke: #ffffff; stroke-width: 1.25; stroke-linejoin: miter; stroke-linecap: square\"/>\n   </g>\n   <g id=\"patch_4\">\n    <path d=\"M 375.992188 224.64 \nL 375.992188 7.2 \n\" style=\"fill: none; stroke: #ffffff; stroke-width: 1.25; stroke-linejoin: miter; stroke-linecap: square\"/>\n   </g>\n   <g id=\"patch_5\">\n    <path d=\"M 41.192187 224.64 \nL 375.992187 224.64 \n\" style=\"fill: none; stroke: #ffffff; stroke-width: 1.25; stroke-linejoin: miter; stroke-linecap: square\"/>\n   </g>\n   <g id=\"patch_6\">\n    <path d=\"M 41.192187 7.2 \nL 375.992187 7.2 \n\" style=\"fill: none; stroke: #ffffff; stroke-width: 1.25; stroke-linejoin: miter; stroke-linecap: square\"/>\n   </g>\n   <g id=\"legend_1\">\n    <g id=\"patch_7\">\n     <path d=\"M 319.374844 48.291875 \nL 368.292188 48.291875 \nQ 370.492188 48.291875 370.492188 46.091875 \nL 370.492188 14.9 \nQ 370.492188 12.7 368.292188 12.7 \nL 319.374844 12.7 \nQ 317.174844 12.7 317.174844 14.9 \nL 317.174844 46.091875 \nQ 317.174844 48.291875 319.374844 48.291875 \nz\n\" style=\"fill: #eaeaf2; opacity: 0.8; stroke: #cccccc; stroke-linejoin: miter\"/>\n    </g>\n    <g id=\"line2d_16\">\n     <path d=\"M 321.574844 21.608281 \nL 343.574844 21.608281 \n\" style=\"fill: none; stroke-dasharray: 5.55,2.4; stroke-dashoffset: 0; stroke: #4c72b0; stroke-width: 1.5\"/>\n    </g>\n    <g id=\"text_14\">\n     <!-- T1 -->\n     <g style=\"fill: #262626\" transform=\"translate(352.374844 25.458281)scale(0.11 -0.11)\">\n      <defs>\n       <path id=\"DejaVuSans-54\" d=\"M -19 4666 \nL 3928 4666 \nL 3928 4134 \nL 2272 4134 \nL 2272 0 \nL 1638 0 \nL 1638 4134 \nL -19 4134 \nL -19 4666 \nz\n\" transform=\"scale(0.015625)\"/>\n      </defs>\n      <use xlink:href=\"#DejaVuSans-54\"/>\n      <use xlink:href=\"#DejaVuSans-31\" x=\"61.083984\"/>\n     </g>\n    </g>\n    <g id=\"line2d_17\">\n     <path d=\"M 321.574844 37.754219 \nL 343.574844 37.754219 \n\" style=\"fill: none; stroke-dasharray: 5.55,2.4; stroke-dashoffset: 0; stroke: #c44e52; stroke-width: 1.5\"/>\n    </g>\n    <g id=\"text_15\">\n     <!-- T2 -->\n     <g style=\"fill: #262626\" transform=\"translate(352.374844 41.604219)scale(0.11 -0.11)\">\n      <use xlink:href=\"#DejaVuSans-54\"/>\n      <use xlink:href=\"#DejaVuSans-32\" x=\"61.083984\"/>\n     </g>\n    </g>\n   </g>\n  </g>\n </g>\n <defs>\n  <clipPath id=\"p4814c0ea4a\">\n   <rect x=\"41.192188\" y=\"7.2\" width=\"334.8\" height=\"217.44\"/>\n  </clipPath>\n </defs>\n</svg>\n"
          },
          "metadata": {
            "needs_background": "light"
          }
        }
      ],
      "source": [
        "T1, T2, sigma1, sigma2 = 10, 16, 2, 3\n",
        "\n",
        "def plot_T(T, sigma, c, label):\n",
        "    norm = sp.stats.norm(loc=T, scale=sigma)\n",
        "    x = np.linspace(norm.ppf(0.01), norm.ppf(0.99), 1000)\n",
        "    plt.plot(x, norm.pdf(x), c=c)\n",
        "    plt.vlines(T, *plt.ylim(), linestyles='--', colors=c, label=label)\n",
        "    \n",
        "plot_T(T1, sigma1, 'b', 'T1')\n",
        "plot_T(T2, sigma2, 'r', 'T2')\n",
        "plt.legend()\n",
        "plt.show()"
      ]
    },
    {
      "cell_type": "markdown",
      "metadata": {
        "id": "VRTH2fxfAGwK"
      },
      "source": [
        "Третье предприятие утверждает, что ему удалось разработать технологию производства изделий со средним сроком службы  предприятия II, но по цене предприятия I. В качестве доказательства предлагаются результаты тестирования для $k$ изделий. \n",
        "\n",
        "Нулевая гипотеза $H_0$ предполагает, что на самом деле срок службы изделий предприятия III имеет распределение, совпадающее с распределением срока службы изделий предприятия I. Альтернативная гипотеза $H_1$ предполагает, что срок службы изделий предприятия III имеет распределение, совпадающее с распределением срока службы изделий предприятия II. Проверка этих двух предположений производится путем сравнения эмпирически оцененного среднего срока службы протестированных изделий предприятия III с некоторым порогом $T$. Конкретное значение $T$ находится из условия того, что допустимая ошибка первого рода равна $\\alpha$. Значение ошибки второго рода обозначим через $\\beta = \\beta(\\alpha, k)$.\n",
        "\n",
        "Постройте график мощности такого теста в зависимости от $k$ и сделайте выводы."
      ]
    },
    {
      "cell_type": "markdown",
      "source": [
        "Конкретное значение $\\alpha$ в условии не указано, поэтому можем принять $\\alpha=0.05$."
      ],
      "metadata": {
        "id": "anJ3p4cJbw15"
      }
    },
    {
      "cell_type": "code",
      "execution_count": null,
      "metadata": {
        "colab": {
          "base_uri": "https://localhost:8080/",
          "height": 667
        },
        "id": "XlKPYtEKAGwM",
        "outputId": "9c8128fa-6c4d-491b-c510-6c5e493d2cb4"
      },
      "outputs": [
        {
          "output_type": "display_data",
          "data": {
            "text/plain": [
              "<Figure size 720x576 with 1 Axes>"
            ],
            "image/svg+xml": "<?xml version=\"1.0\" encoding=\"utf-8\" standalone=\"no\"?>\n<!DOCTYPE svg PUBLIC \"-//W3C//DTD SVG 1.1//EN\"\n  \"http://www.w3.org/Graphics/SVG/1.1/DTD/svg11.dtd\">\n<svg xmlns:xlink=\"http://www.w3.org/1999/xlink\" width=\"613.390937pt\" height=\"484.544062pt\" viewBox=\"0 0 613.390937 484.544062\" xmlns=\"http://www.w3.org/2000/svg\" version=\"1.1\">\n <metadata>\n  <rdf:RDF xmlns:dc=\"http://purl.org/dc/elements/1.1/\" xmlns:cc=\"http://creativecommons.org/ns#\" xmlns:rdf=\"http://www.w3.org/1999/02/22-rdf-syntax-ns#\">\n   <cc:Work>\n    <dc:type rdf:resource=\"http://purl.org/dc/dcmitype/StillImage\"/>\n    <dc:date>2023-03-10T17:00:54.884896</dc:date>\n    <dc:format>image/svg+xml</dc:format>\n    <dc:creator>\n     <cc:Agent>\n      <dc:title>Matplotlib v3.5.3, https://matplotlib.org/</dc:title>\n     </cc:Agent>\n    </dc:creator>\n   </cc:Work>\n  </rdf:RDF>\n </metadata>\n <defs>\n  <style type=\"text/css\">*{stroke-linejoin: round; stroke-linecap: butt}</style>\n </defs>\n <g id=\"figure_1\">\n  <g id=\"patch_1\">\n   <path d=\"M 0 484.544062 \nL 613.390937 484.544062 \nL 613.390937 0 \nL 0 0 \nL 0 484.544062 \nz\n\" style=\"fill: none\"/>\n  </g>\n  <g id=\"axes_1\">\n   <g id=\"patch_2\">\n    <path d=\"M 48.190938 457.198125 \nL 606.190938 457.198125 \nL 606.190938 22.318125 \nL 48.190938 22.318125 \nz\n\" style=\"fill: #eaeaf2\"/>\n   </g>\n   <g id=\"matplotlib.axis_1\">\n    <g id=\"xtick_1\">\n     <g id=\"line2d_1\">\n      <path d=\"M 112.575553 457.198125 \nL 112.575553 22.318125 \n\" clip-path=\"url(#pcdee5eeb76)\" style=\"fill: none; stroke: #ffffff; stroke-linecap: round\"/>\n     </g>\n     <g id=\"text_1\">\n      <!-- 2 -->\n      <g style=\"fill: #262626\" transform=\"translate(109.076178 475.056406)scale(0.11 -0.11)\">\n       <defs>\n        <path id=\"DejaVuSans-32\" d=\"M 1228 531 \nL 3431 531 \nL 3431 0 \nL 469 0 \nL 469 531 \nQ 828 903 1448 1529 \nQ 2069 2156 2228 2338 \nQ 2531 2678 2651 2914 \nQ 2772 3150 2772 3378 \nQ 2772 3750 2511 3984 \nQ 2250 4219 1831 4219 \nQ 1534 4219 1204 4116 \nQ 875 4013 500 3803 \nL 500 4441 \nQ 881 4594 1212 4672 \nQ 1544 4750 1819 4750 \nQ 2544 4750 2975 4387 \nQ 3406 4025 3406 3419 \nQ 3406 3131 3298 2873 \nQ 3191 2616 2906 2266 \nQ 2828 2175 2409 1742 \nQ 1991 1309 1228 531 \nz\n\" transform=\"scale(0.015625)\"/>\n       </defs>\n       <use xlink:href=\"#DejaVuSans-32\"/>\n      </g>\n     </g>\n    </g>\n    <g id=\"xtick_2\">\n     <g id=\"line2d_2\">\n      <path d=\"M 190.617511 457.198125 \nL 190.617511 22.318125 \n\" clip-path=\"url(#pcdee5eeb76)\" style=\"fill: none; stroke: #ffffff; stroke-linecap: round\"/>\n     </g>\n     <g id=\"text_2\">\n      <!-- 4 -->\n      <g style=\"fill: #262626\" transform=\"translate(187.118136 475.056406)scale(0.11 -0.11)\">\n       <defs>\n        <path id=\"DejaVuSans-34\" d=\"M 2419 4116 \nL 825 1625 \nL 2419 1625 \nL 2419 4116 \nz\nM 2253 4666 \nL 3047 4666 \nL 3047 1625 \nL 3713 1625 \nL 3713 1100 \nL 3047 1100 \nL 3047 0 \nL 2419 0 \nL 2419 1100 \nL 313 1100 \nL 313 1709 \nL 2253 4666 \nz\n\" transform=\"scale(0.015625)\"/>\n       </defs>\n       <use xlink:href=\"#DejaVuSans-34\"/>\n      </g>\n     </g>\n    </g>\n    <g id=\"xtick_3\">\n     <g id=\"line2d_3\">\n      <path d=\"M 268.659469 457.198125 \nL 268.659469 22.318125 \n\" clip-path=\"url(#pcdee5eeb76)\" style=\"fill: none; stroke: #ffffff; stroke-linecap: round\"/>\n     </g>\n     <g id=\"text_3\">\n      <!-- 6 -->\n      <g style=\"fill: #262626\" transform=\"translate(265.160094 475.056406)scale(0.11 -0.11)\">\n       <defs>\n        <path id=\"DejaVuSans-36\" d=\"M 2113 2584 \nQ 1688 2584 1439 2293 \nQ 1191 2003 1191 1497 \nQ 1191 994 1439 701 \nQ 1688 409 2113 409 \nQ 2538 409 2786 701 \nQ 3034 994 3034 1497 \nQ 3034 2003 2786 2293 \nQ 2538 2584 2113 2584 \nz\nM 3366 4563 \nL 3366 3988 \nQ 3128 4100 2886 4159 \nQ 2644 4219 2406 4219 \nQ 1781 4219 1451 3797 \nQ 1122 3375 1075 2522 \nQ 1259 2794 1537 2939 \nQ 1816 3084 2150 3084 \nQ 2853 3084 3261 2657 \nQ 3669 2231 3669 1497 \nQ 3669 778 3244 343 \nQ 2819 -91 2113 -91 \nQ 1303 -91 875 529 \nQ 447 1150 447 2328 \nQ 447 3434 972 4092 \nQ 1497 4750 2381 4750 \nQ 2619 4750 2861 4703 \nQ 3103 4656 3366 4563 \nz\n\" transform=\"scale(0.015625)\"/>\n       </defs>\n       <use xlink:href=\"#DejaVuSans-36\"/>\n      </g>\n     </g>\n    </g>\n    <g id=\"xtick_4\">\n     <g id=\"line2d_4\">\n      <path d=\"M 346.701427 457.198125 \nL 346.701427 22.318125 \n\" clip-path=\"url(#pcdee5eeb76)\" style=\"fill: none; stroke: #ffffff; stroke-linecap: round\"/>\n     </g>\n     <g id=\"text_4\">\n      <!-- 8 -->\n      <g style=\"fill: #262626\" transform=\"translate(343.202052 475.056406)scale(0.11 -0.11)\">\n       <defs>\n        <path id=\"DejaVuSans-38\" d=\"M 2034 2216 \nQ 1584 2216 1326 1975 \nQ 1069 1734 1069 1313 \nQ 1069 891 1326 650 \nQ 1584 409 2034 409 \nQ 2484 409 2743 651 \nQ 3003 894 3003 1313 \nQ 3003 1734 2745 1975 \nQ 2488 2216 2034 2216 \nz\nM 1403 2484 \nQ 997 2584 770 2862 \nQ 544 3141 544 3541 \nQ 544 4100 942 4425 \nQ 1341 4750 2034 4750 \nQ 2731 4750 3128 4425 \nQ 3525 4100 3525 3541 \nQ 3525 3141 3298 2862 \nQ 3072 2584 2669 2484 \nQ 3125 2378 3379 2068 \nQ 3634 1759 3634 1313 \nQ 3634 634 3220 271 \nQ 2806 -91 2034 -91 \nQ 1263 -91 848 271 \nQ 434 634 434 1313 \nQ 434 1759 690 2068 \nQ 947 2378 1403 2484 \nz\nM 1172 3481 \nQ 1172 3119 1398 2916 \nQ 1625 2713 2034 2713 \nQ 2441 2713 2670 2916 \nQ 2900 3119 2900 3481 \nQ 2900 3844 2670 4047 \nQ 2441 4250 2034 4250 \nQ 1625 4250 1398 4047 \nQ 1172 3844 1172 3481 \nz\n\" transform=\"scale(0.015625)\"/>\n       </defs>\n       <use xlink:href=\"#DejaVuSans-38\"/>\n      </g>\n     </g>\n    </g>\n    <g id=\"xtick_5\">\n     <g id=\"line2d_5\">\n      <path d=\"M 424.743385 457.198125 \nL 424.743385 22.318125 \n\" clip-path=\"url(#pcdee5eeb76)\" style=\"fill: none; stroke: #ffffff; stroke-linecap: round\"/>\n     </g>\n     <g id=\"text_5\">\n      <!-- 10 -->\n      <g style=\"fill: #262626\" transform=\"translate(417.744635 475.056406)scale(0.11 -0.11)\">\n       <defs>\n        <path id=\"DejaVuSans-31\" d=\"M 794 531 \nL 1825 531 \nL 1825 4091 \nL 703 3866 \nL 703 4441 \nL 1819 4666 \nL 2450 4666 \nL 2450 531 \nL 3481 531 \nL 3481 0 \nL 794 0 \nL 794 531 \nz\n\" transform=\"scale(0.015625)\"/>\n        <path id=\"DejaVuSans-30\" d=\"M 2034 4250 \nQ 1547 4250 1301 3770 \nQ 1056 3291 1056 2328 \nQ 1056 1369 1301 889 \nQ 1547 409 2034 409 \nQ 2525 409 2770 889 \nQ 3016 1369 3016 2328 \nQ 3016 3291 2770 3770 \nQ 2525 4250 2034 4250 \nz\nM 2034 4750 \nQ 2819 4750 3233 4129 \nQ 3647 3509 3647 2328 \nQ 3647 1150 3233 529 \nQ 2819 -91 2034 -91 \nQ 1250 -91 836 529 \nQ 422 1150 422 2328 \nQ 422 3509 836 4129 \nQ 1250 4750 2034 4750 \nz\n\" transform=\"scale(0.015625)\"/>\n       </defs>\n       <use xlink:href=\"#DejaVuSans-31\"/>\n       <use xlink:href=\"#DejaVuSans-30\" x=\"63.623047\"/>\n      </g>\n     </g>\n    </g>\n    <g id=\"xtick_6\">\n     <g id=\"line2d_6\">\n      <path d=\"M 502.785343 457.198125 \nL 502.785343 22.318125 \n\" clip-path=\"url(#pcdee5eeb76)\" style=\"fill: none; stroke: #ffffff; stroke-linecap: round\"/>\n     </g>\n     <g id=\"text_6\">\n      <!-- 12 -->\n      <g style=\"fill: #262626\" transform=\"translate(495.786593 475.056406)scale(0.11 -0.11)\">\n       <use xlink:href=\"#DejaVuSans-31\"/>\n       <use xlink:href=\"#DejaVuSans-32\" x=\"63.623047\"/>\n      </g>\n     </g>\n    </g>\n    <g id=\"xtick_7\">\n     <g id=\"line2d_7\">\n      <path d=\"M 580.827301 457.198125 \nL 580.827301 22.318125 \n\" clip-path=\"url(#pcdee5eeb76)\" style=\"fill: none; stroke: #ffffff; stroke-linecap: round\"/>\n     </g>\n     <g id=\"text_7\">\n      <!-- 14 -->\n      <g style=\"fill: #262626\" transform=\"translate(573.828551 475.056406)scale(0.11 -0.11)\">\n       <use xlink:href=\"#DejaVuSans-31\"/>\n       <use xlink:href=\"#DejaVuSans-34\" x=\"63.623047\"/>\n      </g>\n     </g>\n    </g>\n   </g>\n   <g id=\"matplotlib.axis_2\">\n    <g id=\"ytick_1\">\n     <g id=\"line2d_8\">\n      <path d=\"M 48.190938 419.841205 \nL 606.190938 419.841205 \n\" clip-path=\"url(#pcdee5eeb76)\" style=\"fill: none; stroke: #ffffff; stroke-linecap: round\"/>\n     </g>\n     <g id=\"text_8\">\n      <!-- 0.825 -->\n      <g style=\"fill: #262626\" transform=\"translate(7.2 424.020346)scale(0.11 -0.11)\">\n       <defs>\n        <path id=\"DejaVuSans-2e\" d=\"M 684 794 \nL 1344 794 \nL 1344 0 \nL 684 0 \nL 684 794 \nz\n\" transform=\"scale(0.015625)\"/>\n        <path id=\"DejaVuSans-35\" d=\"M 691 4666 \nL 3169 4666 \nL 3169 4134 \nL 1269 4134 \nL 1269 2991 \nQ 1406 3038 1543 3061 \nQ 1681 3084 1819 3084 \nQ 2600 3084 3056 2656 \nQ 3513 2228 3513 1497 \nQ 3513 744 3044 326 \nQ 2575 -91 1722 -91 \nQ 1428 -91 1123 -41 \nQ 819 9 494 109 \nL 494 744 \nQ 775 591 1075 516 \nQ 1375 441 1709 441 \nQ 2250 441 2565 725 \nQ 2881 1009 2881 1497 \nQ 2881 1984 2565 2268 \nQ 2250 2553 1709 2553 \nQ 1456 2553 1204 2497 \nQ 953 2441 691 2322 \nL 691 4666 \nz\n\" transform=\"scale(0.015625)\"/>\n       </defs>\n       <use xlink:href=\"#DejaVuSans-30\"/>\n       <use xlink:href=\"#DejaVuSans-2e\" x=\"63.623047\"/>\n       <use xlink:href=\"#DejaVuSans-38\" x=\"95.410156\"/>\n       <use xlink:href=\"#DejaVuSans-32\" x=\"159.033203\"/>\n       <use xlink:href=\"#DejaVuSans-35\" x=\"222.65625\"/>\n      </g>\n     </g>\n    </g>\n    <g id=\"ytick_2\">\n     <g id=\"line2d_9\">\n      <path d=\"M 48.190938 365.87609 \nL 606.190938 365.87609 \n\" clip-path=\"url(#pcdee5eeb76)\" style=\"fill: none; stroke: #ffffff; stroke-linecap: round\"/>\n     </g>\n     <g id=\"text_9\">\n      <!-- 0.850 -->\n      <g style=\"fill: #262626\" transform=\"translate(7.2 370.055231)scale(0.11 -0.11)\">\n       <use xlink:href=\"#DejaVuSans-30\"/>\n       <use xlink:href=\"#DejaVuSans-2e\" x=\"63.623047\"/>\n       <use xlink:href=\"#DejaVuSans-38\" x=\"95.410156\"/>\n       <use xlink:href=\"#DejaVuSans-35\" x=\"159.033203\"/>\n       <use xlink:href=\"#DejaVuSans-30\" x=\"222.65625\"/>\n      </g>\n     </g>\n    </g>\n    <g id=\"ytick_3\">\n     <g id=\"line2d_10\">\n      <path d=\"M 48.190938 311.910975 \nL 606.190938 311.910975 \n\" clip-path=\"url(#pcdee5eeb76)\" style=\"fill: none; stroke: #ffffff; stroke-linecap: round\"/>\n     </g>\n     <g id=\"text_10\">\n      <!-- 0.875 -->\n      <g style=\"fill: #262626\" transform=\"translate(7.2 316.090115)scale(0.11 -0.11)\">\n       <defs>\n        <path id=\"DejaVuSans-37\" d=\"M 525 4666 \nL 3525 4666 \nL 3525 4397 \nL 1831 0 \nL 1172 0 \nL 2766 4134 \nL 525 4134 \nL 525 4666 \nz\n\" transform=\"scale(0.015625)\"/>\n       </defs>\n       <use xlink:href=\"#DejaVuSans-30\"/>\n       <use xlink:href=\"#DejaVuSans-2e\" x=\"63.623047\"/>\n       <use xlink:href=\"#DejaVuSans-38\" x=\"95.410156\"/>\n       <use xlink:href=\"#DejaVuSans-37\" x=\"159.033203\"/>\n       <use xlink:href=\"#DejaVuSans-35\" x=\"222.65625\"/>\n      </g>\n     </g>\n    </g>\n    <g id=\"ytick_4\">\n     <g id=\"line2d_11\">\n      <path d=\"M 48.190938 257.945859 \nL 606.190938 257.945859 \n\" clip-path=\"url(#pcdee5eeb76)\" style=\"fill: none; stroke: #ffffff; stroke-linecap: round\"/>\n     </g>\n     <g id=\"text_11\">\n      <!-- 0.900 -->\n      <g style=\"fill: #262626\" transform=\"translate(7.2 262.125)scale(0.11 -0.11)\">\n       <defs>\n        <path id=\"DejaVuSans-39\" d=\"M 703 97 \nL 703 672 \nQ 941 559 1184 500 \nQ 1428 441 1663 441 \nQ 2288 441 2617 861 \nQ 2947 1281 2994 2138 \nQ 2813 1869 2534 1725 \nQ 2256 1581 1919 1581 \nQ 1219 1581 811 2004 \nQ 403 2428 403 3163 \nQ 403 3881 828 4315 \nQ 1253 4750 1959 4750 \nQ 2769 4750 3195 4129 \nQ 3622 3509 3622 2328 \nQ 3622 1225 3098 567 \nQ 2575 -91 1691 -91 \nQ 1453 -91 1209 -44 \nQ 966 3 703 97 \nz\nM 1959 2075 \nQ 2384 2075 2632 2365 \nQ 2881 2656 2881 3163 \nQ 2881 3666 2632 3958 \nQ 2384 4250 1959 4250 \nQ 1534 4250 1286 3958 \nQ 1038 3666 1038 3163 \nQ 1038 2656 1286 2365 \nQ 1534 2075 1959 2075 \nz\n\" transform=\"scale(0.015625)\"/>\n       </defs>\n       <use xlink:href=\"#DejaVuSans-30\"/>\n       <use xlink:href=\"#DejaVuSans-2e\" x=\"63.623047\"/>\n       <use xlink:href=\"#DejaVuSans-39\" x=\"95.410156\"/>\n       <use xlink:href=\"#DejaVuSans-30\" x=\"159.033203\"/>\n       <use xlink:href=\"#DejaVuSans-30\" x=\"222.65625\"/>\n      </g>\n     </g>\n    </g>\n    <g id=\"ytick_5\">\n     <g id=\"line2d_12\">\n      <path d=\"M 48.190938 203.980744 \nL 606.190938 203.980744 \n\" clip-path=\"url(#pcdee5eeb76)\" style=\"fill: none; stroke: #ffffff; stroke-linecap: round\"/>\n     </g>\n     <g id=\"text_12\">\n      <!-- 0.925 -->\n      <g style=\"fill: #262626\" transform=\"translate(7.2 208.159884)scale(0.11 -0.11)\">\n       <use xlink:href=\"#DejaVuSans-30\"/>\n       <use xlink:href=\"#DejaVuSans-2e\" x=\"63.623047\"/>\n       <use xlink:href=\"#DejaVuSans-39\" x=\"95.410156\"/>\n       <use xlink:href=\"#DejaVuSans-32\" x=\"159.033203\"/>\n       <use xlink:href=\"#DejaVuSans-35\" x=\"222.65625\"/>\n      </g>\n     </g>\n    </g>\n    <g id=\"ytick_6\">\n     <g id=\"line2d_13\">\n      <path d=\"M 48.190938 150.015628 \nL 606.190938 150.015628 \n\" clip-path=\"url(#pcdee5eeb76)\" style=\"fill: none; stroke: #ffffff; stroke-linecap: round\"/>\n     </g>\n     <g id=\"text_13\">\n      <!-- 0.950 -->\n      <g style=\"fill: #262626\" transform=\"translate(7.2 154.194769)scale(0.11 -0.11)\">\n       <use xlink:href=\"#DejaVuSans-30\"/>\n       <use xlink:href=\"#DejaVuSans-2e\" x=\"63.623047\"/>\n       <use xlink:href=\"#DejaVuSans-39\" x=\"95.410156\"/>\n       <use xlink:href=\"#DejaVuSans-35\" x=\"159.033203\"/>\n       <use xlink:href=\"#DejaVuSans-30\" x=\"222.65625\"/>\n      </g>\n     </g>\n    </g>\n    <g id=\"ytick_7\">\n     <g id=\"line2d_14\">\n      <path d=\"M 48.190938 96.050513 \nL 606.190938 96.050513 \n\" clip-path=\"url(#pcdee5eeb76)\" style=\"fill: none; stroke: #ffffff; stroke-linecap: round\"/>\n     </g>\n     <g id=\"text_14\">\n      <!-- 0.975 -->\n      <g style=\"fill: #262626\" transform=\"translate(7.2 100.229654)scale(0.11 -0.11)\">\n       <use xlink:href=\"#DejaVuSans-30\"/>\n       <use xlink:href=\"#DejaVuSans-2e\" x=\"63.623047\"/>\n       <use xlink:href=\"#DejaVuSans-39\" x=\"95.410156\"/>\n       <use xlink:href=\"#DejaVuSans-37\" x=\"159.033203\"/>\n       <use xlink:href=\"#DejaVuSans-35\" x=\"222.65625\"/>\n      </g>\n     </g>\n    </g>\n    <g id=\"ytick_8\">\n     <g id=\"line2d_15\">\n      <path d=\"M 48.190938 42.085398 \nL 606.190938 42.085398 \n\" clip-path=\"url(#pcdee5eeb76)\" style=\"fill: none; stroke: #ffffff; stroke-linecap: round\"/>\n     </g>\n     <g id=\"text_15\">\n      <!-- 1.000 -->\n      <g style=\"fill: #262626\" transform=\"translate(7.2 46.264538)scale(0.11 -0.11)\">\n       <use xlink:href=\"#DejaVuSans-31\"/>\n       <use xlink:href=\"#DejaVuSans-2e\" x=\"63.623047\"/>\n       <use xlink:href=\"#DejaVuSans-30\" x=\"95.410156\"/>\n       <use xlink:href=\"#DejaVuSans-30\" x=\"159.033203\"/>\n       <use xlink:href=\"#DejaVuSans-30\" x=\"222.65625\"/>\n      </g>\n     </g>\n    </g>\n   </g>\n   <g id=\"line2d_16\">\n    <path d=\"M 73.554574 437.430852 \nL 112.575553 131.990029 \nL 151.596532 61.412621 \nL 190.617511 46.069085 \nL 229.63849 42.880453 \nL 268.659469 42.240056 \nL 307.680448 42.114857 \nL 346.701427 42.090911 \nL 385.722406 42.086414 \nL 424.743385 42.085583 \nL 463.764364 42.085431 \nL 502.785343 42.085403 \nL 541.806322 42.085399 \nL 580.827301 42.085398 \n\" clip-path=\"url(#pcdee5eeb76)\" style=\"fill: none; stroke: #4c72b0; stroke-width: 1.5; stroke-linecap: round\"/>\n   </g>\n   <g id=\"patch_3\">\n    <path d=\"M 48.190938 457.198125 \nL 48.190938 22.318125 \n\" style=\"fill: none; stroke: #ffffff; stroke-width: 1.25; stroke-linejoin: miter; stroke-linecap: square\"/>\n   </g>\n   <g id=\"patch_4\">\n    <path d=\"M 606.190938 457.198125 \nL 606.190938 22.318125 \n\" style=\"fill: none; stroke: #ffffff; stroke-width: 1.25; stroke-linejoin: miter; stroke-linecap: square\"/>\n   </g>\n   <g id=\"patch_5\">\n    <path d=\"M 48.190938 457.198125 \nL 606.190937 457.198125 \n\" style=\"fill: none; stroke: #ffffff; stroke-width: 1.25; stroke-linejoin: miter; stroke-linecap: square\"/>\n   </g>\n   <g id=\"patch_6\">\n    <path d=\"M 48.190938 22.318125 \nL 606.190937 22.318125 \n\" style=\"fill: none; stroke: #ffffff; stroke-width: 1.25; stroke-linejoin: miter; stroke-linecap: square\"/>\n   </g>\n   <g id=\"text_16\">\n    <!-- Зависимость мощности теста от значения k -->\n    <g style=\"fill: #262626\" transform=\"translate(187.080625 16.318125)scale(0.12 -0.12)\">\n     <defs>\n      <path id=\"DejaVuSans-417\" d=\"M 1828 4750 \nQ 2597 4750 3084 4423 \nQ 3572 4097 3572 3541 \nQ 3572 3153 3350 2886 \nQ 3128 2619 2719 2516 \nQ 3172 2419 3426 2112 \nQ 3681 1806 3681 1356 \nQ 3681 638 3126 273 \nQ 2572 -91 1828 -91 \nQ 1447 -91 1003 12 \nQ 559 116 422 203 \nL 422 853 \nQ 900 575 1164 508 \nQ 1428 441 1816 441 \nQ 2403 441 2728 666 \nQ 3053 891 3053 1356 \nQ 3053 1769 2764 2001 \nQ 2475 2234 1866 2234 \nL 1228 2234 \nL 1228 2753 \nL 1891 2753 \nQ 2450 2753 2697 2939 \nQ 2944 3125 2944 3475 \nQ 2944 3834 2689 4026 \nQ 2434 4219 1816 4219 \nQ 1397 4219 1253 4181 \nQ 1109 4144 469 3903 \nL 469 4519 \nQ 822 4644 1190 4697 \nQ 1559 4750 1828 4750 \nz\n\" transform=\"scale(0.015625)\"/>\n      <path id=\"DejaVuSans-430\" d=\"M 2194 1759 \nQ 1497 1759 1228 1600 \nQ 959 1441 959 1056 \nQ 959 750 1161 570 \nQ 1363 391 1709 391 \nQ 2188 391 2477 730 \nQ 2766 1069 2766 1631 \nL 2766 1759 \nL 2194 1759 \nz\nM 3341 1997 \nL 3341 0 \nL 2766 0 \nL 2766 531 \nQ 2569 213 2275 61 \nQ 1981 -91 1556 -91 \nQ 1019 -91 701 211 \nQ 384 513 384 1019 \nQ 384 1609 779 1909 \nQ 1175 2209 1959 2209 \nL 2766 2209 \nL 2766 2266 \nQ 2766 2663 2505 2880 \nQ 2244 3097 1772 3097 \nQ 1472 3097 1187 3025 \nQ 903 2953 641 2809 \nL 641 3341 \nQ 956 3463 1253 3523 \nQ 1550 3584 1831 3584 \nQ 2591 3584 2966 3190 \nQ 3341 2797 3341 1997 \nz\n\" transform=\"scale(0.015625)\"/>\n      <path id=\"DejaVuSans-432\" d=\"M 1156 1613 \nL 1156 459 \nL 1975 459 \nQ 2369 459 2575 607 \nQ 2781 756 2781 1038 \nQ 2781 1319 2575 1466 \nQ 2369 1613 1975 1613 \nL 1156 1613 \nz\nM 1156 3041 \nL 1156 2072 \nL 1913 2072 \nQ 2238 2072 2444 2201 \nQ 2650 2331 2650 2563 \nQ 2650 2794 2444 2917 \nQ 2238 3041 1913 3041 \nL 1156 3041 \nz\nM 581 3500 \nL 1950 3500 \nQ 2566 3500 2897 3275 \nQ 3228 3050 3228 2634 \nQ 3228 2313 3059 2123 \nQ 2891 1934 2559 1888 \nQ 2956 1813 3175 1575 \nQ 3394 1338 3394 981 \nQ 3394 513 3033 256 \nQ 2672 0 2003 0 \nL 581 0 \nL 581 3500 \nz\n\" transform=\"scale(0.015625)\"/>\n      <path id=\"DejaVuSans-438\" d=\"M 3578 3500 \nL 3578 0 \nL 3006 0 \nL 3006 2809 \nL 1319 0 \nL 581 0 \nL 581 3500 \nL 1153 3500 \nL 1153 697 \nL 2838 3500 \nL 3578 3500 \nz\n\" transform=\"scale(0.015625)\"/>\n      <path id=\"DejaVuSans-441\" d=\"M 3122 3366 \nL 3122 2828 \nQ 2878 2963 2633 3030 \nQ 2388 3097 2138 3097 \nQ 1578 3097 1268 2742 \nQ 959 2388 959 1747 \nQ 959 1106 1268 751 \nQ 1578 397 2138 397 \nQ 2388 397 2633 464 \nQ 2878 531 3122 666 \nL 3122 134 \nQ 2881 22 2623 -34 \nQ 2366 -91 2075 -91 \nQ 1284 -91 818 406 \nQ 353 903 353 1747 \nQ 353 2603 823 3093 \nQ 1294 3584 2113 3584 \nQ 2378 3584 2631 3529 \nQ 2884 3475 3122 3366 \nz\n\" transform=\"scale(0.015625)\"/>\n      <path id=\"DejaVuSans-43c\" d=\"M 581 3500 \nL 1422 3500 \nL 2416 1156 \nL 3413 3500 \nL 4247 3500 \nL 4247 0 \nL 3669 0 \nL 3669 2950 \nL 2703 672 \nL 2128 672 \nL 1159 2950 \nL 1159 0 \nL 581 0 \nL 581 3500 \nz\n\" transform=\"scale(0.015625)\"/>\n      <path id=\"DejaVuSans-43e\" d=\"M 1959 3097 \nQ 1497 3097 1228 2736 \nQ 959 2375 959 1747 \nQ 959 1119 1226 758 \nQ 1494 397 1959 397 \nQ 2419 397 2687 759 \nQ 2956 1122 2956 1747 \nQ 2956 2369 2687 2733 \nQ 2419 3097 1959 3097 \nz\nM 1959 3584 \nQ 2709 3584 3137 3096 \nQ 3566 2609 3566 1747 \nQ 3566 888 3137 398 \nQ 2709 -91 1959 -91 \nQ 1206 -91 779 398 \nQ 353 888 353 1747 \nQ 353 2609 779 3096 \nQ 1206 3584 1959 3584 \nz\n\" transform=\"scale(0.015625)\"/>\n      <path id=\"DejaVuSans-442\" d=\"M 188 3500 \nL 3541 3500 \nL 3541 3041 \nL 2147 3041 \nL 2147 0 \nL 1581 0 \nL 1581 3041 \nL 188 3041 \nL 188 3500 \nz\n\" transform=\"scale(0.015625)\"/>\n      <path id=\"DejaVuSans-44c\" d=\"M 2781 1038 \nQ 2781 1319 2576 1466 \nQ 2372 1613 1978 1613 \nL 1159 1613 \nL 1159 459 \nL 1978 459 \nQ 2372 459 2576 607 \nQ 2781 756 2781 1038 \nz\nM 581 3500 \nL 1159 3500 \nL 1159 2072 \nL 2003 2072 \nQ 2672 2072 3033 1817 \nQ 3394 1563 3394 1038 \nQ 3394 513 3033 256 \nQ 2672 0 2003 0 \nL 581 0 \nL 581 3500 \nz\n\" transform=\"scale(0.015625)\"/>\n      <path id=\"DejaVuSans-20\" transform=\"scale(0.015625)\"/>\n      <path id=\"DejaVuSans-449\" d=\"M 5275 0 \nL 581 0 \nL 581 3500 \nL 1159 3500 \nL 1159 459 \nL 2638 459 \nL 2638 3500 \nL 3216 3500 \nL 3216 459 \nL 4697 459 \nL 4697 3500 \nL 5275 3500 \nL 5275 459 \nL 5734 459 \nL 5734 -884 \nL 5275 -884 \nL 5275 0 \nz\n\" transform=\"scale(0.015625)\"/>\n      <path id=\"DejaVuSans-43d\" d=\"M 581 3500 \nL 1159 3500 \nL 1159 2072 \nL 3025 2072 \nL 3025 3500 \nL 3603 3500 \nL 3603 0 \nL 3025 0 \nL 3025 1613 \nL 1159 1613 \nL 1159 0 \nL 581 0 \nL 581 3500 \nz\n\" transform=\"scale(0.015625)\"/>\n      <path id=\"DejaVuSans-435\" d=\"M 3597 1894 \nL 3597 1613 \nL 953 1613 \nQ 991 1019 1311 708 \nQ 1631 397 2203 397 \nQ 2534 397 2845 478 \nQ 3156 559 3463 722 \nL 3463 178 \nQ 3153 47 2828 -22 \nQ 2503 -91 2169 -91 \nQ 1331 -91 842 396 \nQ 353 884 353 1716 \nQ 353 2575 817 3079 \nQ 1281 3584 2069 3584 \nQ 2775 3584 3186 3129 \nQ 3597 2675 3597 1894 \nz\nM 3022 2063 \nQ 3016 2534 2758 2815 \nQ 2500 3097 2075 3097 \nQ 1594 3097 1305 2825 \nQ 1016 2553 972 2059 \nL 3022 2063 \nz\n\" transform=\"scale(0.015625)\"/>\n      <path id=\"DejaVuSans-437\" d=\"M 2206 1888 \nQ 2594 1813 2809 1584 \nQ 3025 1356 3025 1019 \nQ 3025 478 2622 193 \nQ 2219 -91 1475 -91 \nQ 1225 -91 961 -47 \nQ 697 -3 416 84 \nL 416 619 \nQ 638 503 903 445 \nQ 1169 388 1459 388 \nQ 1931 388 2195 563 \nQ 2459 738 2459 1019 \nQ 2459 1294 2225 1461 \nQ 1991 1628 1563 1628 \nL 1100 1628 \nL 1100 2103 \nL 1584 2103 \nQ 1947 2103 2158 2242 \nQ 2369 2381 2369 2600 \nQ 2369 2800 2151 2944 \nQ 1934 3088 1563 3088 \nQ 1341 3088 1089 3047 \nQ 838 3006 534 2916 \nL 534 3438 \nQ 841 3513 1106 3550 \nQ 1372 3588 1609 3588 \nQ 2222 3588 2576 3342 \nQ 2931 3097 2931 2656 \nQ 2931 2366 2743 2164 \nQ 2556 1963 2206 1888 \nz\n\" transform=\"scale(0.015625)\"/>\n      <path id=\"DejaVuSans-447\" d=\"M 2625 0 \nL 2625 1472 \nL 1553 1472 \nQ 1075 1472 756 1769 \nQ 469 2038 469 2613 \nL 469 3500 \nL 1044 3500 \nL 1044 2666 \nQ 1044 2300 1206 2116 \nQ 1372 1931 1697 1931 \nL 2625 1931 \nL 2625 3500 \nL 3200 3500 \nL 3200 0 \nL 2625 0 \nz\n\" transform=\"scale(0.015625)\"/>\n      <path id=\"DejaVuSans-44f\" d=\"M 1181 2491 \nQ 1181 2231 1381 2084 \nQ 1581 1938 1953 1938 \nL 2728 1938 \nL 2728 3041 \nL 1953 3041 \nQ 1581 3041 1381 2897 \nQ 1181 2753 1181 2491 \nz\nM 363 0 \nL 1431 1534 \nQ 1069 1616 828 1830 \nQ 588 2044 588 2491 \nQ 588 2997 923 3248 \nQ 1259 3500 1938 3500 \nL 3306 3500 \nL 3306 0 \nL 2728 0 \nL 2728 1478 \nL 2013 1478 \nL 981 0 \nL 363 0 \nz\n\" transform=\"scale(0.015625)\"/>\n      <path id=\"DejaVuSans-6b\" d=\"M 581 4863 \nL 1159 4863 \nL 1159 1991 \nL 2875 3500 \nL 3609 3500 \nL 1753 1863 \nL 3688 0 \nL 2938 0 \nL 1159 1709 \nL 1159 0 \nL 581 0 \nL 581 4863 \nz\n\" transform=\"scale(0.015625)\"/>\n     </defs>\n     <use xlink:href=\"#DejaVuSans-417\"/>\n     <use xlink:href=\"#DejaVuSans-430\" x=\"64.111328\"/>\n     <use xlink:href=\"#DejaVuSans-432\" x=\"125.390625\"/>\n     <use xlink:href=\"#DejaVuSans-438\" x=\"184.326172\"/>\n     <use xlink:href=\"#DejaVuSans-441\" x=\"249.316406\"/>\n     <use xlink:href=\"#DejaVuSans-438\" x=\"304.296875\"/>\n     <use xlink:href=\"#DejaVuSans-43c\" x=\"369.287109\"/>\n     <use xlink:href=\"#DejaVuSans-43e\" x=\"444.726562\"/>\n     <use xlink:href=\"#DejaVuSans-441\" x=\"505.908203\"/>\n     <use xlink:href=\"#DejaVuSans-442\" x=\"560.888672\"/>\n     <use xlink:href=\"#DejaVuSans-44c\" x=\"619.140625\"/>\n     <use xlink:href=\"#DejaVuSans-20\" x=\"678.076172\"/>\n     <use xlink:href=\"#DejaVuSans-43c\" x=\"709.863281\"/>\n     <use xlink:href=\"#DejaVuSans-43e\" x=\"785.302734\"/>\n     <use xlink:href=\"#DejaVuSans-449\" x=\"846.484375\"/>\n     <use xlink:href=\"#DejaVuSans-43d\" x=\"940.673828\"/>\n     <use xlink:href=\"#DejaVuSans-43e\" x=\"1006.054688\"/>\n     <use xlink:href=\"#DejaVuSans-441\" x=\"1067.236328\"/>\n     <use xlink:href=\"#DejaVuSans-442\" x=\"1122.216797\"/>\n     <use xlink:href=\"#DejaVuSans-438\" x=\"1180.46875\"/>\n     <use xlink:href=\"#DejaVuSans-20\" x=\"1245.458984\"/>\n     <use xlink:href=\"#DejaVuSans-442\" x=\"1277.246094\"/>\n     <use xlink:href=\"#DejaVuSans-435\" x=\"1335.498047\"/>\n     <use xlink:href=\"#DejaVuSans-441\" x=\"1397.021484\"/>\n     <use xlink:href=\"#DejaVuSans-442\" x=\"1452.001953\"/>\n     <use xlink:href=\"#DejaVuSans-430\" x=\"1510.253906\"/>\n     <use xlink:href=\"#DejaVuSans-20\" x=\"1571.533203\"/>\n     <use xlink:href=\"#DejaVuSans-43e\" x=\"1603.320312\"/>\n     <use xlink:href=\"#DejaVuSans-442\" x=\"1664.501953\"/>\n     <use xlink:href=\"#DejaVuSans-20\" x=\"1722.753906\"/>\n     <use xlink:href=\"#DejaVuSans-437\" x=\"1754.541016\"/>\n     <use xlink:href=\"#DejaVuSans-43d\" x=\"1807.714844\"/>\n     <use xlink:href=\"#DejaVuSans-430\" x=\"1873.095703\"/>\n     <use xlink:href=\"#DejaVuSans-447\" x=\"1934.375\"/>\n     <use xlink:href=\"#DejaVuSans-435\" x=\"1993.457031\"/>\n     <use xlink:href=\"#DejaVuSans-43d\" x=\"2054.980469\"/>\n     <use xlink:href=\"#DejaVuSans-438\" x=\"2120.361328\"/>\n     <use xlink:href=\"#DejaVuSans-44f\" x=\"2185.351562\"/>\n     <use xlink:href=\"#DejaVuSans-20\" x=\"2245.507812\"/>\n     <use xlink:href=\"#DejaVuSans-6b\" x=\"2277.294922\"/>\n    </g>\n   </g>\n  </g>\n </g>\n <defs>\n  <clipPath id=\"pcdee5eeb76\">\n   <rect x=\"48.190938\" y=\"22.318125\" width=\"558\" height=\"434.88\"/>\n  </clipPath>\n </defs>\n</svg>\n"
          },
          "metadata": {
            "needs_background": "light"
          }
        }
      ],
      "source": [
        "# Your code goes here...\n",
        "plt.figure(figsize=(10, 8))\n",
        "def power(mu_1, sigma_1, mu_2, sigma_2, alpha, k):\n",
        "    sigma_1 /= np.sqrt(k)\n",
        "    sigma_2 /= np.sqrt(k)\n",
        "    z = sp.stats.norm(mu_1, sigma_1).ppf(1 - alpha)\n",
        "    return 1 - sp.stats.norm(mu_2, sigma_2).cdf(z)\n",
        "\n",
        "k_vals = np.arange(1, 15)\n",
        "pows = np.array([power(T1, sigma1, T2, sigma2, 0.05, k_val) for k_val in k_vals])\n",
        "plt.plot(k_vals, pows)\n",
        "plt.title('Зависимость мощности теста от значения k')\n",
        "plt.grid(True)"
      ]
    },
    {
      "cell_type": "markdown",
      "metadata": {
        "id": "ZoYx44dJAGwN"
      },
      "source": [
        "**Выводы:**\n",
        "\n",
        "По графику видно, что с ростом объема выборки $k$ мощность теста возрастает, соответственно, уменьшается вероятность ошибки второго рода. После примерно $k=4$, $k=5$ график выходит на плато со значением $1$, так что данных размеров выборки вероятно будет достаточно. "
      ]
    },
    {
      "cell_type": "markdown",
      "metadata": {
        "id": "0nyHKxMtAGwO"
      },
      "source": [
        "### Задача 3"
      ]
    },
    {
      "cell_type": "markdown",
      "metadata": {
        "id": "ivr85BC5AGwP"
      },
      "source": [
        "В 5 серии 13 сезона передачи “Разрушители легенд” проверялась справедливость выражения “know something like the back of one’s hand”. В эксперименте принимало участие 12 испытуемых. Каждому из них были предъявлены 10 фотографий похожих рук разных людей, среди которых они должны были угадать свою.\n",
        "11 из 12 испытуемых выбрали свою фотографию.\n",
        "\\($H_0$\\): испытуемые выбирают фотографии тыльной стороны руки наугад (\\($p$=0.1\\)).\n",
        "\\($H_1$\\): испытуемые выбирают фотографию тыльной стороны своей собственной руки осознанно (\\($p>0.1$\\)).\n",
        "\n",
        "\n",
        "1. Воспользуйтесь точным биномиальным критерием для проверки ($H_0$) против альтернативы ($H_1$). Для этого:\n",
        "\n",
        "\t- Постройте нулевое распределение статистики числа успехов в выборке распределения Бернулли с параметром p. Сформируйте выборку сами напрямую из условия задачи.\n",
        "\t- Напишите функцию, которая принимала бы на вход тройку чисел (np,nq,p0), где np – число успехов, nq – число неудач в выборке размера np + nq, p0 – значение параметра p, задающего нулевую гипотезу. Ваша функция должна возвращать значение достигаемого уровня значимости против правосторонней альтернативы.\n",
        "\t- Сравните значения, выдаваемые вашей функцией со стандартным тестом `binom_test(·)` из `scipy`\n",
        "\t- Отвергается ли гипотеза ($H_0$) на достигаемом уровне значимости 0.05? p-value?"
      ]
    },
    {
      "cell_type": "markdown",
      "source": [
        "Построим нулевое распределение и сгенерируем выборку согласно с условием задачи:"
      ],
      "metadata": {
        "id": "SRfYLlC6elUI"
      }
    },
    {
      "cell_type": "code",
      "execution_count": null,
      "metadata": {
        "id": "rx8Y3okPAGwQ"
      },
      "outputs": [],
      "source": [
        "# Your code goes here...\n",
        "def binomial_coef(n, k):\n",
        "    if k > n - k:\n",
        "        k = n - k\n",
        "    coef = 1\n",
        "    for i in range(k):\n",
        "        coef *= (n - i)\n",
        "        coef /= (i + 1)\n",
        "    return coef\n",
        "\n",
        "def bin_dist(n, p):\n",
        "    sup = np.arange(n + 1)\n",
        "    p_vals = np.array([binomial_coef(n, i) * (p ** i) * ((1 - p) ** (n - i)) for i in sup])\n",
        "    return sup, p_vals"
      ]
    },
    {
      "cell_type": "code",
      "source": [
        "def gen_data(n, n_pos):\n",
        "    X = np.zeros(n, dtype=int)\n",
        "    idx = np.random.permutation(n)[:n_pos]\n",
        "    X[idx] = 1\n",
        "    return X"
      ],
      "metadata": {
        "id": "VWxzzj_Qgmd_"
      },
      "execution_count": null,
      "outputs": []
    },
    {
      "cell_type": "code",
      "source": [
        "n = 12\n",
        "n_pos = 11\n",
        "X = gen_data(n, n_pos)\n",
        "X"
      ],
      "metadata": {
        "colab": {
          "base_uri": "https://localhost:8080/"
        },
        "id": "RoKaO_iEizMQ",
        "outputId": "75d4483a-0f7e-46ec-87ce-8632c478dae5"
      },
      "execution_count": null,
      "outputs": [
        {
          "output_type": "execute_result",
          "data": {
            "text/plain": [
              "array([1, 1, 1, 1, 1, 0, 1, 1, 1, 1, 1, 1])"
            ]
          },
          "metadata": {},
          "execution_count": 14
        }
      ]
    },
    {
      "cell_type": "markdown",
      "source": [
        "Функция вычисления уровня значимости:"
      ],
      "metadata": {
        "id": "CRXPRRsUjc7b"
      }
    },
    {
      "cell_type": "code",
      "source": [
        "def p_value(np, nq, p0):\n",
        "    n = np + nq\n",
        "    sup, p_vals = bin_dist(n, p0)\n",
        "    idx = (sup >= np)\n",
        "    return p_vals[idx].sum()"
      ],
      "metadata": {
        "id": "PHXugEhHjjHt"
      },
      "execution_count": null,
      "outputs": []
    },
    {
      "cell_type": "markdown",
      "source": [
        "Найдем p-value:"
      ],
      "metadata": {
        "id": "aFgU5tK_kOKp"
      }
    },
    {
      "cell_type": "code",
      "source": [
        "p = 0.1\n",
        "p_value(n_pos, n - n_pos, p)"
      ],
      "metadata": {
        "colab": {
          "base_uri": "https://localhost:8080/"
        },
        "id": "1PcLaKwJkD5c",
        "outputId": "7695f8f1-f0dc-46b8-deac-0257980f0ffc"
      },
      "execution_count": null,
      "outputs": [
        {
          "output_type": "execute_result",
          "data": {
            "text/plain": [
              "1.0900000000000006e-10"
            ]
          },
          "metadata": {},
          "execution_count": 16
        }
      ]
    },
    {
      "cell_type": "markdown",
      "source": [
        "Сравним со стандартным тестом из scipy, при различных $n$ и $p$. Построим графики и сравним визуально."
      ],
      "metadata": {
        "id": "CcbkAlvnklQk"
      }
    },
    {
      "cell_type": "code",
      "source": [
        "plt.figure(figsize=(10, 8))\n",
        "sup = np.arange(n + 1)\n",
        "scipy_vals = np.array([sp.stats.binom_test(i, n, p, 'greater') for i in sup])\n",
        "custom_vals = np.array([p_value(i, n - i, p) for i in sup])\n",
        "plt.plot(sup, scipy_vals, label='Тест из scipy')\n",
        "plt.plot(sup, custom_vals, label='Своя реализация')\n",
        "plt.xlabel('Значение n')\n",
        "plt.ylabel('p-value')\n",
        "plt.title('p-value в зависимости от n для различных реализаций')\n",
        "plt.legend()\n",
        "plt.grid(True)"
      ],
      "metadata": {
        "colab": {
          "base_uri": "https://localhost:8080/",
          "height": 688
        },
        "id": "qbqUBRtiombC",
        "outputId": "608a05a5-bcdb-495a-b9e4-de74cd566e8e"
      },
      "execution_count": null,
      "outputs": [
        {
          "output_type": "display_data",
          "data": {
            "text/plain": [
              "<Figure size 720x576 with 1 Axes>"
            ],
            "image/svg+xml": "<?xml version=\"1.0\" encoding=\"utf-8\" standalone=\"no\"?>\n<!DOCTYPE svg PUBLIC \"-//W3C//DTD SVG 1.1//EN\"\n  \"http://www.w3.org/Graphics/SVG/1.1/DTD/svg11.dtd\">\n<svg xmlns:xlink=\"http://www.w3.org/1999/xlink\" width=\"615.007187pt\" height=\"500.157812pt\" viewBox=\"0 0 615.007187 500.157812\" xmlns=\"http://www.w3.org/2000/svg\" version=\"1.1\">\n <metadata>\n  <rdf:RDF xmlns:dc=\"http://purl.org/dc/elements/1.1/\" xmlns:cc=\"http://creativecommons.org/ns#\" xmlns:rdf=\"http://www.w3.org/1999/02/22-rdf-syntax-ns#\">\n   <cc:Work>\n    <dc:type rdf:resource=\"http://purl.org/dc/dcmitype/StillImage\"/>\n    <dc:date>2023-03-10T17:01:14.895791</dc:date>\n    <dc:format>image/svg+xml</dc:format>\n    <dc:creator>\n     <cc:Agent>\n      <dc:title>Matplotlib v3.5.3, https://matplotlib.org/</dc:title>\n     </cc:Agent>\n    </dc:creator>\n   </cc:Work>\n  </rdf:RDF>\n </metadata>\n <defs>\n  <style type=\"text/css\">*{stroke-linejoin: round; stroke-linecap: butt}</style>\n </defs>\n <g id=\"figure_1\">\n  <g id=\"patch_1\">\n   <path d=\"M 0 500.157812 \nL 615.007187 500.157812 \nL 615.007187 0 \nL 0 0 \nL 0 500.157812 \nz\n\" style=\"fill: none\"/>\n  </g>\n  <g id=\"axes_1\">\n   <g id=\"patch_2\">\n    <path d=\"M 49.807188 457.198125 \nL 607.807188 457.198125 \nL 607.807188 22.318125 \nL 49.807188 22.318125 \nz\n\" style=\"fill: #eaeaf2\"/>\n   </g>\n   <g id=\"matplotlib.axis_1\">\n    <g id=\"xtick_1\">\n     <g id=\"line2d_1\">\n      <path d=\"M 75.170824 457.198125 \nL 75.170824 22.318125 \n\" clip-path=\"url(#pe0bb5d7d72)\" style=\"fill: none; stroke: #ffffff; stroke-linecap: round\"/>\n     </g>\n     <g id=\"text_1\">\n      <!-- 0 -->\n      <g style=\"fill: #262626\" transform=\"translate(71.671449 475.056406)scale(0.11 -0.11)\">\n       <defs>\n        <path id=\"DejaVuSans-30\" d=\"M 2034 4250 \nQ 1547 4250 1301 3770 \nQ 1056 3291 1056 2328 \nQ 1056 1369 1301 889 \nQ 1547 409 2034 409 \nQ 2525 409 2770 889 \nQ 3016 1369 3016 2328 \nQ 3016 3291 2770 3770 \nQ 2525 4250 2034 4250 \nz\nM 2034 4750 \nQ 2819 4750 3233 4129 \nQ 3647 3509 3647 2328 \nQ 3647 1150 3233 529 \nQ 2819 -91 2034 -91 \nQ 1250 -91 836 529 \nQ 422 1150 422 2328 \nQ 422 3509 836 4129 \nQ 1250 4750 2034 4750 \nz\n\" transform=\"scale(0.015625)\"/>\n       </defs>\n       <use xlink:href=\"#DejaVuSans-30\"/>\n      </g>\n     </g>\n    </g>\n    <g id=\"xtick_2\">\n     <g id=\"line2d_2\">\n      <path d=\"M 159.716278 457.198125 \nL 159.716278 22.318125 \n\" clip-path=\"url(#pe0bb5d7d72)\" style=\"fill: none; stroke: #ffffff; stroke-linecap: round\"/>\n     </g>\n     <g id=\"text_2\">\n      <!-- 2 -->\n      <g style=\"fill: #262626\" transform=\"translate(156.216903 475.056406)scale(0.11 -0.11)\">\n       <defs>\n        <path id=\"DejaVuSans-32\" d=\"M 1228 531 \nL 3431 531 \nL 3431 0 \nL 469 0 \nL 469 531 \nQ 828 903 1448 1529 \nQ 2069 2156 2228 2338 \nQ 2531 2678 2651 2914 \nQ 2772 3150 2772 3378 \nQ 2772 3750 2511 3984 \nQ 2250 4219 1831 4219 \nQ 1534 4219 1204 4116 \nQ 875 4013 500 3803 \nL 500 4441 \nQ 881 4594 1212 4672 \nQ 1544 4750 1819 4750 \nQ 2544 4750 2975 4387 \nQ 3406 4025 3406 3419 \nQ 3406 3131 3298 2873 \nQ 3191 2616 2906 2266 \nQ 2828 2175 2409 1742 \nQ 1991 1309 1228 531 \nz\n\" transform=\"scale(0.015625)\"/>\n       </defs>\n       <use xlink:href=\"#DejaVuSans-32\"/>\n      </g>\n     </g>\n    </g>\n    <g id=\"xtick_3\">\n     <g id=\"line2d_3\">\n      <path d=\"M 244.261733 457.198125 \nL 244.261733 22.318125 \n\" clip-path=\"url(#pe0bb5d7d72)\" style=\"fill: none; stroke: #ffffff; stroke-linecap: round\"/>\n     </g>\n     <g id=\"text_3\">\n      <!-- 4 -->\n      <g style=\"fill: #262626\" transform=\"translate(240.762358 475.056406)scale(0.11 -0.11)\">\n       <defs>\n        <path id=\"DejaVuSans-34\" d=\"M 2419 4116 \nL 825 1625 \nL 2419 1625 \nL 2419 4116 \nz\nM 2253 4666 \nL 3047 4666 \nL 3047 1625 \nL 3713 1625 \nL 3713 1100 \nL 3047 1100 \nL 3047 0 \nL 2419 0 \nL 2419 1100 \nL 313 1100 \nL 313 1709 \nL 2253 4666 \nz\n\" transform=\"scale(0.015625)\"/>\n       </defs>\n       <use xlink:href=\"#DejaVuSans-34\"/>\n      </g>\n     </g>\n    </g>\n    <g id=\"xtick_4\">\n     <g id=\"line2d_4\">\n      <path d=\"M 328.807187 457.198125 \nL 328.807187 22.318125 \n\" clip-path=\"url(#pe0bb5d7d72)\" style=\"fill: none; stroke: #ffffff; stroke-linecap: round\"/>\n     </g>\n     <g id=\"text_4\">\n      <!-- 6 -->\n      <g style=\"fill: #262626\" transform=\"translate(325.307813 475.056406)scale(0.11 -0.11)\">\n       <defs>\n        <path id=\"DejaVuSans-36\" d=\"M 2113 2584 \nQ 1688 2584 1439 2293 \nQ 1191 2003 1191 1497 \nQ 1191 994 1439 701 \nQ 1688 409 2113 409 \nQ 2538 409 2786 701 \nQ 3034 994 3034 1497 \nQ 3034 2003 2786 2293 \nQ 2538 2584 2113 2584 \nz\nM 3366 4563 \nL 3366 3988 \nQ 3128 4100 2886 4159 \nQ 2644 4219 2406 4219 \nQ 1781 4219 1451 3797 \nQ 1122 3375 1075 2522 \nQ 1259 2794 1537 2939 \nQ 1816 3084 2150 3084 \nQ 2853 3084 3261 2657 \nQ 3669 2231 3669 1497 \nQ 3669 778 3244 343 \nQ 2819 -91 2113 -91 \nQ 1303 -91 875 529 \nQ 447 1150 447 2328 \nQ 447 3434 972 4092 \nQ 1497 4750 2381 4750 \nQ 2619 4750 2861 4703 \nQ 3103 4656 3366 4563 \nz\n\" transform=\"scale(0.015625)\"/>\n       </defs>\n       <use xlink:href=\"#DejaVuSans-36\"/>\n      </g>\n     </g>\n    </g>\n    <g id=\"xtick_5\">\n     <g id=\"line2d_5\">\n      <path d=\"M 413.352642 457.198125 \nL 413.352642 22.318125 \n\" clip-path=\"url(#pe0bb5d7d72)\" style=\"fill: none; stroke: #ffffff; stroke-linecap: round\"/>\n     </g>\n     <g id=\"text_5\">\n      <!-- 8 -->\n      <g style=\"fill: #262626\" transform=\"translate(409.853267 475.056406)scale(0.11 -0.11)\">\n       <defs>\n        <path id=\"DejaVuSans-38\" d=\"M 2034 2216 \nQ 1584 2216 1326 1975 \nQ 1069 1734 1069 1313 \nQ 1069 891 1326 650 \nQ 1584 409 2034 409 \nQ 2484 409 2743 651 \nQ 3003 894 3003 1313 \nQ 3003 1734 2745 1975 \nQ 2488 2216 2034 2216 \nz\nM 1403 2484 \nQ 997 2584 770 2862 \nQ 544 3141 544 3541 \nQ 544 4100 942 4425 \nQ 1341 4750 2034 4750 \nQ 2731 4750 3128 4425 \nQ 3525 4100 3525 3541 \nQ 3525 3141 3298 2862 \nQ 3072 2584 2669 2484 \nQ 3125 2378 3379 2068 \nQ 3634 1759 3634 1313 \nQ 3634 634 3220 271 \nQ 2806 -91 2034 -91 \nQ 1263 -91 848 271 \nQ 434 634 434 1313 \nQ 434 1759 690 2068 \nQ 947 2378 1403 2484 \nz\nM 1172 3481 \nQ 1172 3119 1398 2916 \nQ 1625 2713 2034 2713 \nQ 2441 2713 2670 2916 \nQ 2900 3119 2900 3481 \nQ 2900 3844 2670 4047 \nQ 2441 4250 2034 4250 \nQ 1625 4250 1398 4047 \nQ 1172 3844 1172 3481 \nz\n\" transform=\"scale(0.015625)\"/>\n       </defs>\n       <use xlink:href=\"#DejaVuSans-38\"/>\n      </g>\n     </g>\n    </g>\n    <g id=\"xtick_6\">\n     <g id=\"line2d_6\">\n      <path d=\"M 497.898097 457.198125 \nL 497.898097 22.318125 \n\" clip-path=\"url(#pe0bb5d7d72)\" style=\"fill: none; stroke: #ffffff; stroke-linecap: round\"/>\n     </g>\n     <g id=\"text_6\">\n      <!-- 10 -->\n      <g style=\"fill: #262626\" transform=\"translate(490.899347 475.056406)scale(0.11 -0.11)\">\n       <defs>\n        <path id=\"DejaVuSans-31\" d=\"M 794 531 \nL 1825 531 \nL 1825 4091 \nL 703 3866 \nL 703 4441 \nL 1819 4666 \nL 2450 4666 \nL 2450 531 \nL 3481 531 \nL 3481 0 \nL 794 0 \nL 794 531 \nz\n\" transform=\"scale(0.015625)\"/>\n       </defs>\n       <use xlink:href=\"#DejaVuSans-31\"/>\n       <use xlink:href=\"#DejaVuSans-30\" x=\"63.623047\"/>\n      </g>\n     </g>\n    </g>\n    <g id=\"xtick_7\">\n     <g id=\"line2d_7\">\n      <path d=\"M 582.443551 457.198125 \nL 582.443551 22.318125 \n\" clip-path=\"url(#pe0bb5d7d72)\" style=\"fill: none; stroke: #ffffff; stroke-linecap: round\"/>\n     </g>\n     <g id=\"text_7\">\n      <!-- 12 -->\n      <g style=\"fill: #262626\" transform=\"translate(575.444801 475.056406)scale(0.11 -0.11)\">\n       <use xlink:href=\"#DejaVuSans-31\"/>\n       <use xlink:href=\"#DejaVuSans-32\" x=\"63.623047\"/>\n      </g>\n     </g>\n    </g>\n    <g id=\"text_8\">\n     <!-- Значение n -->\n     <g style=\"fill: #262626\" transform=\"translate(292.901875 490.462187)scale(0.12 -0.12)\">\n      <defs>\n       <path id=\"DejaVuSans-417\" d=\"M 1828 4750 \nQ 2597 4750 3084 4423 \nQ 3572 4097 3572 3541 \nQ 3572 3153 3350 2886 \nQ 3128 2619 2719 2516 \nQ 3172 2419 3426 2112 \nQ 3681 1806 3681 1356 \nQ 3681 638 3126 273 \nQ 2572 -91 1828 -91 \nQ 1447 -91 1003 12 \nQ 559 116 422 203 \nL 422 853 \nQ 900 575 1164 508 \nQ 1428 441 1816 441 \nQ 2403 441 2728 666 \nQ 3053 891 3053 1356 \nQ 3053 1769 2764 2001 \nQ 2475 2234 1866 2234 \nL 1228 2234 \nL 1228 2753 \nL 1891 2753 \nQ 2450 2753 2697 2939 \nQ 2944 3125 2944 3475 \nQ 2944 3834 2689 4026 \nQ 2434 4219 1816 4219 \nQ 1397 4219 1253 4181 \nQ 1109 4144 469 3903 \nL 469 4519 \nQ 822 4644 1190 4697 \nQ 1559 4750 1828 4750 \nz\n\" transform=\"scale(0.015625)\"/>\n       <path id=\"DejaVuSans-43d\" d=\"M 581 3500 \nL 1159 3500 \nL 1159 2072 \nL 3025 2072 \nL 3025 3500 \nL 3603 3500 \nL 3603 0 \nL 3025 0 \nL 3025 1613 \nL 1159 1613 \nL 1159 0 \nL 581 0 \nL 581 3500 \nz\n\" transform=\"scale(0.015625)\"/>\n       <path id=\"DejaVuSans-430\" d=\"M 2194 1759 \nQ 1497 1759 1228 1600 \nQ 959 1441 959 1056 \nQ 959 750 1161 570 \nQ 1363 391 1709 391 \nQ 2188 391 2477 730 \nQ 2766 1069 2766 1631 \nL 2766 1759 \nL 2194 1759 \nz\nM 3341 1997 \nL 3341 0 \nL 2766 0 \nL 2766 531 \nQ 2569 213 2275 61 \nQ 1981 -91 1556 -91 \nQ 1019 -91 701 211 \nQ 384 513 384 1019 \nQ 384 1609 779 1909 \nQ 1175 2209 1959 2209 \nL 2766 2209 \nL 2766 2266 \nQ 2766 2663 2505 2880 \nQ 2244 3097 1772 3097 \nQ 1472 3097 1187 3025 \nQ 903 2953 641 2809 \nL 641 3341 \nQ 956 3463 1253 3523 \nQ 1550 3584 1831 3584 \nQ 2591 3584 2966 3190 \nQ 3341 2797 3341 1997 \nz\n\" transform=\"scale(0.015625)\"/>\n       <path id=\"DejaVuSans-447\" d=\"M 2625 0 \nL 2625 1472 \nL 1553 1472 \nQ 1075 1472 756 1769 \nQ 469 2038 469 2613 \nL 469 3500 \nL 1044 3500 \nL 1044 2666 \nQ 1044 2300 1206 2116 \nQ 1372 1931 1697 1931 \nL 2625 1931 \nL 2625 3500 \nL 3200 3500 \nL 3200 0 \nL 2625 0 \nz\n\" transform=\"scale(0.015625)\"/>\n       <path id=\"DejaVuSans-435\" d=\"M 3597 1894 \nL 3597 1613 \nL 953 1613 \nQ 991 1019 1311 708 \nQ 1631 397 2203 397 \nQ 2534 397 2845 478 \nQ 3156 559 3463 722 \nL 3463 178 \nQ 3153 47 2828 -22 \nQ 2503 -91 2169 -91 \nQ 1331 -91 842 396 \nQ 353 884 353 1716 \nQ 353 2575 817 3079 \nQ 1281 3584 2069 3584 \nQ 2775 3584 3186 3129 \nQ 3597 2675 3597 1894 \nz\nM 3022 2063 \nQ 3016 2534 2758 2815 \nQ 2500 3097 2075 3097 \nQ 1594 3097 1305 2825 \nQ 1016 2553 972 2059 \nL 3022 2063 \nz\n\" transform=\"scale(0.015625)\"/>\n       <path id=\"DejaVuSans-438\" d=\"M 3578 3500 \nL 3578 0 \nL 3006 0 \nL 3006 2809 \nL 1319 0 \nL 581 0 \nL 581 3500 \nL 1153 3500 \nL 1153 697 \nL 2838 3500 \nL 3578 3500 \nz\n\" transform=\"scale(0.015625)\"/>\n       <path id=\"DejaVuSans-20\" transform=\"scale(0.015625)\"/>\n       <path id=\"DejaVuSans-6e\" d=\"M 3513 2113 \nL 3513 0 \nL 2938 0 \nL 2938 2094 \nQ 2938 2591 2744 2837 \nQ 2550 3084 2163 3084 \nQ 1697 3084 1428 2787 \nQ 1159 2491 1159 1978 \nL 1159 0 \nL 581 0 \nL 581 3500 \nL 1159 3500 \nL 1159 2956 \nQ 1366 3272 1645 3428 \nQ 1925 3584 2291 3584 \nQ 2894 3584 3203 3211 \nQ 3513 2838 3513 2113 \nz\n\" transform=\"scale(0.015625)\"/>\n      </defs>\n      <use xlink:href=\"#DejaVuSans-417\"/>\n      <use xlink:href=\"#DejaVuSans-43d\" x=\"64.111328\"/>\n      <use xlink:href=\"#DejaVuSans-430\" x=\"129.492188\"/>\n      <use xlink:href=\"#DejaVuSans-447\" x=\"190.771484\"/>\n      <use xlink:href=\"#DejaVuSans-435\" x=\"249.853516\"/>\n      <use xlink:href=\"#DejaVuSans-43d\" x=\"311.376953\"/>\n      <use xlink:href=\"#DejaVuSans-438\" x=\"376.757812\"/>\n      <use xlink:href=\"#DejaVuSans-435\" x=\"441.748047\"/>\n      <use xlink:href=\"#DejaVuSans-20\" x=\"503.271484\"/>\n      <use xlink:href=\"#DejaVuSans-6e\" x=\"535.058594\"/>\n     </g>\n    </g>\n   </g>\n   <g id=\"matplotlib.axis_2\">\n    <g id=\"ytick_1\">\n     <g id=\"line2d_8\">\n      <path d=\"M 49.807188 437.430852 \nL 607.807188 437.430852 \n\" clip-path=\"url(#pe0bb5d7d72)\" style=\"fill: none; stroke: #ffffff; stroke-linecap: round\"/>\n     </g>\n     <g id=\"text_9\">\n      <!-- 0.0 -->\n      <g style=\"fill: #262626\" transform=\"translate(22.81375 441.609993)scale(0.11 -0.11)\">\n       <defs>\n        <path id=\"DejaVuSans-2e\" d=\"M 684 794 \nL 1344 794 \nL 1344 0 \nL 684 0 \nL 684 794 \nz\n\" transform=\"scale(0.015625)\"/>\n       </defs>\n       <use xlink:href=\"#DejaVuSans-30\"/>\n       <use xlink:href=\"#DejaVuSans-2e\" x=\"63.623047\"/>\n       <use xlink:href=\"#DejaVuSans-30\" x=\"95.410156\"/>\n      </g>\n     </g>\n    </g>\n    <g id=\"ytick_2\">\n     <g id=\"line2d_9\">\n      <path d=\"M 49.807188 358.361761 \nL 607.807188 358.361761 \n\" clip-path=\"url(#pe0bb5d7d72)\" style=\"fill: none; stroke: #ffffff; stroke-linecap: round\"/>\n     </g>\n     <g id=\"text_10\">\n      <!-- 0.2 -->\n      <g style=\"fill: #262626\" transform=\"translate(22.81375 362.540902)scale(0.11 -0.11)\">\n       <use xlink:href=\"#DejaVuSans-30\"/>\n       <use xlink:href=\"#DejaVuSans-2e\" x=\"63.623047\"/>\n       <use xlink:href=\"#DejaVuSans-32\" x=\"95.410156\"/>\n      </g>\n     </g>\n    </g>\n    <g id=\"ytick_3\">\n     <g id=\"line2d_10\">\n      <path d=\"M 49.807188 279.29267 \nL 607.807188 279.29267 \n\" clip-path=\"url(#pe0bb5d7d72)\" style=\"fill: none; stroke: #ffffff; stroke-linecap: round\"/>\n     </g>\n     <g id=\"text_11\">\n      <!-- 0.4 -->\n      <g style=\"fill: #262626\" transform=\"translate(22.81375 283.471811)scale(0.11 -0.11)\">\n       <use xlink:href=\"#DejaVuSans-30\"/>\n       <use xlink:href=\"#DejaVuSans-2e\" x=\"63.623047\"/>\n       <use xlink:href=\"#DejaVuSans-34\" x=\"95.410156\"/>\n      </g>\n     </g>\n    </g>\n    <g id=\"ytick_4\">\n     <g id=\"line2d_11\">\n      <path d=\"M 49.807188 200.22358 \nL 607.807188 200.22358 \n\" clip-path=\"url(#pe0bb5d7d72)\" style=\"fill: none; stroke: #ffffff; stroke-linecap: round\"/>\n     </g>\n     <g id=\"text_12\">\n      <!-- 0.6 -->\n      <g style=\"fill: #262626\" transform=\"translate(22.81375 204.40272)scale(0.11 -0.11)\">\n       <use xlink:href=\"#DejaVuSans-30\"/>\n       <use xlink:href=\"#DejaVuSans-2e\" x=\"63.623047\"/>\n       <use xlink:href=\"#DejaVuSans-36\" x=\"95.410156\"/>\n      </g>\n     </g>\n    </g>\n    <g id=\"ytick_5\">\n     <g id=\"line2d_12\">\n      <path d=\"M 49.807188 121.154489 \nL 607.807188 121.154489 \n\" clip-path=\"url(#pe0bb5d7d72)\" style=\"fill: none; stroke: #ffffff; stroke-linecap: round\"/>\n     </g>\n     <g id=\"text_13\">\n      <!-- 0.8 -->\n      <g style=\"fill: #262626\" transform=\"translate(22.81375 125.333629)scale(0.11 -0.11)\">\n       <use xlink:href=\"#DejaVuSans-30\"/>\n       <use xlink:href=\"#DejaVuSans-2e\" x=\"63.623047\"/>\n       <use xlink:href=\"#DejaVuSans-38\" x=\"95.410156\"/>\n      </g>\n     </g>\n    </g>\n    <g id=\"ytick_6\">\n     <g id=\"line2d_13\">\n      <path d=\"M 49.807188 42.085398 \nL 607.807188 42.085398 \n\" clip-path=\"url(#pe0bb5d7d72)\" style=\"fill: none; stroke: #ffffff; stroke-linecap: round\"/>\n     </g>\n     <g id=\"text_14\">\n      <!-- 1.0 -->\n      <g style=\"fill: #262626\" transform=\"translate(22.81375 46.264538)scale(0.11 -0.11)\">\n       <use xlink:href=\"#DejaVuSans-31\"/>\n       <use xlink:href=\"#DejaVuSans-2e\" x=\"63.623047\"/>\n       <use xlink:href=\"#DejaVuSans-30\" x=\"95.410156\"/>\n      </g>\n     </g>\n    </g>\n    <g id=\"text_15\">\n     <!-- p-value -->\n     <g style=\"fill: #262626\" transform=\"translate(16.318125 261.96375)rotate(-90)scale(0.12 -0.12)\">\n      <defs>\n       <path id=\"DejaVuSans-70\" d=\"M 1159 525 \nL 1159 -1331 \nL 581 -1331 \nL 581 3500 \nL 1159 3500 \nL 1159 2969 \nQ 1341 3281 1617 3432 \nQ 1894 3584 2278 3584 \nQ 2916 3584 3314 3078 \nQ 3713 2572 3713 1747 \nQ 3713 922 3314 415 \nQ 2916 -91 2278 -91 \nQ 1894 -91 1617 61 \nQ 1341 213 1159 525 \nz\nM 3116 1747 \nQ 3116 2381 2855 2742 \nQ 2594 3103 2138 3103 \nQ 1681 3103 1420 2742 \nQ 1159 2381 1159 1747 \nQ 1159 1113 1420 752 \nQ 1681 391 2138 391 \nQ 2594 391 2855 752 \nQ 3116 1113 3116 1747 \nz\n\" transform=\"scale(0.015625)\"/>\n       <path id=\"DejaVuSans-2d\" d=\"M 313 2009 \nL 1997 2009 \nL 1997 1497 \nL 313 1497 \nL 313 2009 \nz\n\" transform=\"scale(0.015625)\"/>\n       <path id=\"DejaVuSans-76\" d=\"M 191 3500 \nL 800 3500 \nL 1894 563 \nL 2988 3500 \nL 3597 3500 \nL 2284 0 \nL 1503 0 \nL 191 3500 \nz\n\" transform=\"scale(0.015625)\"/>\n       <path id=\"DejaVuSans-61\" d=\"M 2194 1759 \nQ 1497 1759 1228 1600 \nQ 959 1441 959 1056 \nQ 959 750 1161 570 \nQ 1363 391 1709 391 \nQ 2188 391 2477 730 \nQ 2766 1069 2766 1631 \nL 2766 1759 \nL 2194 1759 \nz\nM 3341 1997 \nL 3341 0 \nL 2766 0 \nL 2766 531 \nQ 2569 213 2275 61 \nQ 1981 -91 1556 -91 \nQ 1019 -91 701 211 \nQ 384 513 384 1019 \nQ 384 1609 779 1909 \nQ 1175 2209 1959 2209 \nL 2766 2209 \nL 2766 2266 \nQ 2766 2663 2505 2880 \nQ 2244 3097 1772 3097 \nQ 1472 3097 1187 3025 \nQ 903 2953 641 2809 \nL 641 3341 \nQ 956 3463 1253 3523 \nQ 1550 3584 1831 3584 \nQ 2591 3584 2966 3190 \nQ 3341 2797 3341 1997 \nz\n\" transform=\"scale(0.015625)\"/>\n       <path id=\"DejaVuSans-6c\" d=\"M 603 4863 \nL 1178 4863 \nL 1178 0 \nL 603 0 \nL 603 4863 \nz\n\" transform=\"scale(0.015625)\"/>\n       <path id=\"DejaVuSans-75\" d=\"M 544 1381 \nL 544 3500 \nL 1119 3500 \nL 1119 1403 \nQ 1119 906 1312 657 \nQ 1506 409 1894 409 \nQ 2359 409 2629 706 \nQ 2900 1003 2900 1516 \nL 2900 3500 \nL 3475 3500 \nL 3475 0 \nL 2900 0 \nL 2900 538 \nQ 2691 219 2414 64 \nQ 2138 -91 1772 -91 \nQ 1169 -91 856 284 \nQ 544 659 544 1381 \nz\nM 1991 3584 \nL 1991 3584 \nz\n\" transform=\"scale(0.015625)\"/>\n       <path id=\"DejaVuSans-65\" d=\"M 3597 1894 \nL 3597 1613 \nL 953 1613 \nQ 991 1019 1311 708 \nQ 1631 397 2203 397 \nQ 2534 397 2845 478 \nQ 3156 559 3463 722 \nL 3463 178 \nQ 3153 47 2828 -22 \nQ 2503 -91 2169 -91 \nQ 1331 -91 842 396 \nQ 353 884 353 1716 \nQ 353 2575 817 3079 \nQ 1281 3584 2069 3584 \nQ 2775 3584 3186 3129 \nQ 3597 2675 3597 1894 \nz\nM 3022 2063 \nQ 3016 2534 2758 2815 \nQ 2500 3097 2075 3097 \nQ 1594 3097 1305 2825 \nQ 1016 2553 972 2059 \nL 3022 2063 \nz\n\" transform=\"scale(0.015625)\"/>\n      </defs>\n      <use xlink:href=\"#DejaVuSans-70\"/>\n      <use xlink:href=\"#DejaVuSans-2d\" x=\"63.476562\"/>\n      <use xlink:href=\"#DejaVuSans-76\" x=\"96.935547\"/>\n      <use xlink:href=\"#DejaVuSans-61\" x=\"156.115234\"/>\n      <use xlink:href=\"#DejaVuSans-6c\" x=\"217.394531\"/>\n      <use xlink:href=\"#DejaVuSans-75\" x=\"245.177734\"/>\n      <use xlink:href=\"#DejaVuSans-65\" x=\"308.556641\"/>\n     </g>\n    </g>\n   </g>\n   <g id=\"line2d_14\">\n    <path d=\"M 75.170824 42.085398 \nL 117.443551 153.742631 \nL 159.716278 302.618943 \nL 201.989006 393.598911 \nL 244.261733 427.295195 \nL 286.53446 435.719266 \nL 328.807187 437.216879 \nL 371.079915 437.411014 \nL 413.352642 437.429503 \nL 455.625369 437.430787 \nL 497.898097 437.43085 \nL 540.170824 437.430852 \nL 582.443551 437.430852 \n\" clip-path=\"url(#pe0bb5d7d72)\" style=\"fill: none; stroke: #4c72b0; stroke-width: 1.5; stroke-linecap: round\"/>\n   </g>\n   <g id=\"line2d_15\">\n    <path d=\"M 75.170824 42.085398 \nL 117.443551 153.742631 \nL 159.716278 302.618943 \nL 201.989006 393.598911 \nL 244.261733 427.295195 \nL 286.53446 435.719266 \nL 328.807187 437.216879 \nL 371.079915 437.411014 \nL 413.352642 437.429503 \nL 455.625369 437.430787 \nL 497.898097 437.43085 \nL 540.170824 437.430852 \nL 582.443551 437.430852 \n\" clip-path=\"url(#pe0bb5d7d72)\" style=\"fill: none; stroke: #dd8452; stroke-width: 1.5; stroke-linecap: round\"/>\n   </g>\n   <g id=\"patch_3\">\n    <path d=\"M 49.807188 457.198125 \nL 49.807188 22.318125 \n\" style=\"fill: none; stroke: #ffffff; stroke-width: 1.25; stroke-linejoin: miter; stroke-linecap: square\"/>\n   </g>\n   <g id=\"patch_4\">\n    <path d=\"M 607.807188 457.198125 \nL 607.807188 22.318125 \n\" style=\"fill: none; stroke: #ffffff; stroke-width: 1.25; stroke-linejoin: miter; stroke-linecap: square\"/>\n   </g>\n   <g id=\"patch_5\">\n    <path d=\"M 49.807188 457.198125 \nL 607.807188 457.198125 \n\" style=\"fill: none; stroke: #ffffff; stroke-width: 1.25; stroke-linejoin: miter; stroke-linecap: square\"/>\n   </g>\n   <g id=\"patch_6\">\n    <path d=\"M 49.807188 22.318125 \nL 607.807188 22.318125 \n\" style=\"fill: none; stroke: #ffffff; stroke-width: 1.25; stroke-linejoin: miter; stroke-linecap: square\"/>\n   </g>\n   <g id=\"text_16\">\n    <!-- p-value в зависимости от n для различных реализаций -->\n    <g style=\"fill: #262626\" transform=\"translate(154.936563 16.318125)scale(0.12 -0.12)\">\n     <defs>\n      <path id=\"DejaVuSans-432\" d=\"M 1156 1613 \nL 1156 459 \nL 1975 459 \nQ 2369 459 2575 607 \nQ 2781 756 2781 1038 \nQ 2781 1319 2575 1466 \nQ 2369 1613 1975 1613 \nL 1156 1613 \nz\nM 1156 3041 \nL 1156 2072 \nL 1913 2072 \nQ 2238 2072 2444 2201 \nQ 2650 2331 2650 2563 \nQ 2650 2794 2444 2917 \nQ 2238 3041 1913 3041 \nL 1156 3041 \nz\nM 581 3500 \nL 1950 3500 \nQ 2566 3500 2897 3275 \nQ 3228 3050 3228 2634 \nQ 3228 2313 3059 2123 \nQ 2891 1934 2559 1888 \nQ 2956 1813 3175 1575 \nQ 3394 1338 3394 981 \nQ 3394 513 3033 256 \nQ 2672 0 2003 0 \nL 581 0 \nL 581 3500 \nz\n\" transform=\"scale(0.015625)\"/>\n      <path id=\"DejaVuSans-437\" d=\"M 2206 1888 \nQ 2594 1813 2809 1584 \nQ 3025 1356 3025 1019 \nQ 3025 478 2622 193 \nQ 2219 -91 1475 -91 \nQ 1225 -91 961 -47 \nQ 697 -3 416 84 \nL 416 619 \nQ 638 503 903 445 \nQ 1169 388 1459 388 \nQ 1931 388 2195 563 \nQ 2459 738 2459 1019 \nQ 2459 1294 2225 1461 \nQ 1991 1628 1563 1628 \nL 1100 1628 \nL 1100 2103 \nL 1584 2103 \nQ 1947 2103 2158 2242 \nQ 2369 2381 2369 2600 \nQ 2369 2800 2151 2944 \nQ 1934 3088 1563 3088 \nQ 1341 3088 1089 3047 \nQ 838 3006 534 2916 \nL 534 3438 \nQ 841 3513 1106 3550 \nQ 1372 3588 1609 3588 \nQ 2222 3588 2576 3342 \nQ 2931 3097 2931 2656 \nQ 2931 2366 2743 2164 \nQ 2556 1963 2206 1888 \nz\n\" transform=\"scale(0.015625)\"/>\n      <path id=\"DejaVuSans-441\" d=\"M 3122 3366 \nL 3122 2828 \nQ 2878 2963 2633 3030 \nQ 2388 3097 2138 3097 \nQ 1578 3097 1268 2742 \nQ 959 2388 959 1747 \nQ 959 1106 1268 751 \nQ 1578 397 2138 397 \nQ 2388 397 2633 464 \nQ 2878 531 3122 666 \nL 3122 134 \nQ 2881 22 2623 -34 \nQ 2366 -91 2075 -91 \nQ 1284 -91 818 406 \nQ 353 903 353 1747 \nQ 353 2603 823 3093 \nQ 1294 3584 2113 3584 \nQ 2378 3584 2631 3529 \nQ 2884 3475 3122 3366 \nz\n\" transform=\"scale(0.015625)\"/>\n      <path id=\"DejaVuSans-43c\" d=\"M 581 3500 \nL 1422 3500 \nL 2416 1156 \nL 3413 3500 \nL 4247 3500 \nL 4247 0 \nL 3669 0 \nL 3669 2950 \nL 2703 672 \nL 2128 672 \nL 1159 2950 \nL 1159 0 \nL 581 0 \nL 581 3500 \nz\n\" transform=\"scale(0.015625)\"/>\n      <path id=\"DejaVuSans-43e\" d=\"M 1959 3097 \nQ 1497 3097 1228 2736 \nQ 959 2375 959 1747 \nQ 959 1119 1226 758 \nQ 1494 397 1959 397 \nQ 2419 397 2687 759 \nQ 2956 1122 2956 1747 \nQ 2956 2369 2687 2733 \nQ 2419 3097 1959 3097 \nz\nM 1959 3584 \nQ 2709 3584 3137 3096 \nQ 3566 2609 3566 1747 \nQ 3566 888 3137 398 \nQ 2709 -91 1959 -91 \nQ 1206 -91 779 398 \nQ 353 888 353 1747 \nQ 353 2609 779 3096 \nQ 1206 3584 1959 3584 \nz\n\" transform=\"scale(0.015625)\"/>\n      <path id=\"DejaVuSans-442\" d=\"M 188 3500 \nL 3541 3500 \nL 3541 3041 \nL 2147 3041 \nL 2147 0 \nL 1581 0 \nL 1581 3041 \nL 188 3041 \nL 188 3500 \nz\n\" transform=\"scale(0.015625)\"/>\n      <path id=\"DejaVuSans-434\" d=\"M 1384 459 \nL 3053 459 \nL 3053 3041 \nL 1844 3041 \nL 1844 2603 \nQ 1844 1316 1475 628 \nL 1384 459 \nz\nM 550 459 \nQ 834 584 959 850 \nQ 1266 1509 1266 2838 \nL 1266 3500 \nL 3631 3500 \nL 3631 459 \nL 4091 459 \nL 4091 -884 \nL 3631 -884 \nL 3631 0 \nL 794 0 \nL 794 -884 \nL 334 -884 \nL 334 459 \nL 550 459 \nz\n\" transform=\"scale(0.015625)\"/>\n      <path id=\"DejaVuSans-43b\" d=\"M 238 0 \nL 238 478 \nQ 806 566 981 959 \nQ 1194 1513 1194 2928 \nL 1194 3500 \nL 3559 3500 \nL 3559 0 \nL 2984 0 \nL 2984 3041 \nL 1769 3041 \nL 1769 2694 \nQ 1769 1344 1494 738 \nQ 1200 91 238 0 \nz\n\" transform=\"scale(0.015625)\"/>\n      <path id=\"DejaVuSans-44f\" d=\"M 1181 2491 \nQ 1181 2231 1381 2084 \nQ 1581 1938 1953 1938 \nL 2728 1938 \nL 2728 3041 \nL 1953 3041 \nQ 1581 3041 1381 2897 \nQ 1181 2753 1181 2491 \nz\nM 363 0 \nL 1431 1534 \nQ 1069 1616 828 1830 \nQ 588 2044 588 2491 \nQ 588 2997 923 3248 \nQ 1259 3500 1938 3500 \nL 3306 3500 \nL 3306 0 \nL 2728 0 \nL 2728 1478 \nL 2013 1478 \nL 981 0 \nL 363 0 \nz\n\" transform=\"scale(0.015625)\"/>\n      <path id=\"DejaVuSans-440\" d=\"M 1159 525 \nL 1159 -1331 \nL 581 -1331 \nL 581 3500 \nL 1159 3500 \nL 1159 2969 \nQ 1341 3281 1617 3432 \nQ 1894 3584 2278 3584 \nQ 2916 3584 3314 3078 \nQ 3713 2572 3713 1747 \nQ 3713 922 3314 415 \nQ 2916 -91 2278 -91 \nQ 1894 -91 1617 61 \nQ 1341 213 1159 525 \nz\nM 3116 1747 \nQ 3116 2381 2855 2742 \nQ 2594 3103 2138 3103 \nQ 1681 3103 1420 2742 \nQ 1159 2381 1159 1747 \nQ 1159 1113 1420 752 \nQ 1681 391 2138 391 \nQ 2594 391 2855 752 \nQ 3116 1113 3116 1747 \nz\n\" transform=\"scale(0.015625)\"/>\n      <path id=\"DejaVuSans-44b\" d=\"M 3907 3500 \nL 4482 3500 \nL 4482 0 \nL 3907 0 \nL 3907 3500 \nz\nM 4195 3584 \nL 4195 3584 \nz\nM 2781 1038 \nQ 2781 1319 2576 1466 \nQ 2372 1613 1978 1613 \nL 1159 1613 \nL 1159 459 \nL 1978 459 \nQ 2372 459 2576 607 \nQ 2781 756 2781 1038 \nz\nM 581 3500 \nL 1159 3500 \nL 1159 2072 \nL 2003 2072 \nQ 2672 2072 3033 1817 \nQ 3394 1563 3394 1038 \nQ 3394 513 3033 256 \nQ 2672 0 2003 0 \nL 581 0 \nL 581 3500 \nz\n\" transform=\"scale(0.015625)\"/>\n      <path id=\"DejaVuSans-445\" d=\"M 3513 3500 \nL 2247 1797 \nL 3578 0 \nL 2900 0 \nL 1881 1375 \nL 863 0 \nL 184 0 \nL 1544 1831 \nL 300 3500 \nL 978 3500 \nL 1906 2253 \nL 2834 3500 \nL 3513 3500 \nz\n\" transform=\"scale(0.015625)\"/>\n      <path id=\"DejaVuSans-446\" d=\"M 3603 0 \nL 581 0 \nL 581 3500 \nL 1159 3500 \nL 1159 459 \nL 3025 459 \nL 3025 3500 \nL 3603 3500 \nL 3603 459 \nL 4063 459 \nL 4063 -884 \nL 3603 -884 \nL 3603 0 \nz\n\" transform=\"scale(0.015625)\"/>\n      <path id=\"DejaVuSans-439\" d=\"M 3578 3500 \nL 3578 0 \nL 3006 0 \nL 3006 2809 \nL 1319 0 \nL 581 0 \nL 581 3500 \nL 1153 3500 \nL 1153 697 \nL 2838 3500 \nL 3578 3500 \nz\nM 1102 4833 \nL 1471 4833 \nQ 1505 4599 1656 4481 \nQ 1808 4364 2080 4364 \nQ 2349 4364 2499 4480 \nQ 2649 4596 2689 4833 \nL 3058 4833 \nQ 3027 4386 2780 4161 \nQ 2533 3936 2080 3936 \nQ 1627 3936 1380 4161 \nQ 1133 4386 1102 4833 \nz\n\" transform=\"scale(0.015625)\"/>\n     </defs>\n     <use xlink:href=\"#DejaVuSans-70\"/>\n     <use xlink:href=\"#DejaVuSans-2d\" x=\"63.476562\"/>\n     <use xlink:href=\"#DejaVuSans-76\" x=\"96.935547\"/>\n     <use xlink:href=\"#DejaVuSans-61\" x=\"156.115234\"/>\n     <use xlink:href=\"#DejaVuSans-6c\" x=\"217.394531\"/>\n     <use xlink:href=\"#DejaVuSans-75\" x=\"245.177734\"/>\n     <use xlink:href=\"#DejaVuSans-65\" x=\"308.556641\"/>\n     <use xlink:href=\"#DejaVuSans-20\" x=\"370.080078\"/>\n     <use xlink:href=\"#DejaVuSans-432\" x=\"401.867188\"/>\n     <use xlink:href=\"#DejaVuSans-20\" x=\"460.802734\"/>\n     <use xlink:href=\"#DejaVuSans-437\" x=\"492.589844\"/>\n     <use xlink:href=\"#DejaVuSans-430\" x=\"545.763672\"/>\n     <use xlink:href=\"#DejaVuSans-432\" x=\"607.042969\"/>\n     <use xlink:href=\"#DejaVuSans-438\" x=\"665.978516\"/>\n     <use xlink:href=\"#DejaVuSans-441\" x=\"730.96875\"/>\n     <use xlink:href=\"#DejaVuSans-438\" x=\"785.949219\"/>\n     <use xlink:href=\"#DejaVuSans-43c\" x=\"850.939453\"/>\n     <use xlink:href=\"#DejaVuSans-43e\" x=\"926.378906\"/>\n     <use xlink:href=\"#DejaVuSans-441\" x=\"987.560547\"/>\n     <use xlink:href=\"#DejaVuSans-442\" x=\"1042.541016\"/>\n     <use xlink:href=\"#DejaVuSans-438\" x=\"1100.792969\"/>\n     <use xlink:href=\"#DejaVuSans-20\" x=\"1165.783203\"/>\n     <use xlink:href=\"#DejaVuSans-43e\" x=\"1197.570312\"/>\n     <use xlink:href=\"#DejaVuSans-442\" x=\"1258.751953\"/>\n     <use xlink:href=\"#DejaVuSans-20\" x=\"1317.003906\"/>\n     <use xlink:href=\"#DejaVuSans-6e\" x=\"1348.791016\"/>\n     <use xlink:href=\"#DejaVuSans-20\" x=\"1412.169922\"/>\n     <use xlink:href=\"#DejaVuSans-434\" x=\"1443.957031\"/>\n     <use xlink:href=\"#DejaVuSans-43b\" x=\"1513.097656\"/>\n     <use xlink:href=\"#DejaVuSans-44f\" x=\"1577.013672\"/>\n     <use xlink:href=\"#DejaVuSans-20\" x=\"1637.169922\"/>\n     <use xlink:href=\"#DejaVuSans-440\" x=\"1668.957031\"/>\n     <use xlink:href=\"#DejaVuSans-430\" x=\"1732.433594\"/>\n     <use xlink:href=\"#DejaVuSans-437\" x=\"1793.712891\"/>\n     <use xlink:href=\"#DejaVuSans-43b\" x=\"1846.886719\"/>\n     <use xlink:href=\"#DejaVuSans-438\" x=\"1910.802734\"/>\n     <use xlink:href=\"#DejaVuSans-447\" x=\"1975.792969\"/>\n     <use xlink:href=\"#DejaVuSans-43d\" x=\"2034.875\"/>\n     <use xlink:href=\"#DejaVuSans-44b\" x=\"2100.255859\"/>\n     <use xlink:href=\"#DejaVuSans-445\" x=\"2179.210938\"/>\n     <use xlink:href=\"#DejaVuSans-20\" x=\"2238.390625\"/>\n     <use xlink:href=\"#DejaVuSans-440\" x=\"2270.177734\"/>\n     <use xlink:href=\"#DejaVuSans-435\" x=\"2333.654297\"/>\n     <use xlink:href=\"#DejaVuSans-430\" x=\"2395.177734\"/>\n     <use xlink:href=\"#DejaVuSans-43b\" x=\"2456.457031\"/>\n     <use xlink:href=\"#DejaVuSans-438\" x=\"2520.373047\"/>\n     <use xlink:href=\"#DejaVuSans-437\" x=\"2585.363281\"/>\n     <use xlink:href=\"#DejaVuSans-430\" x=\"2638.537109\"/>\n     <use xlink:href=\"#DejaVuSans-446\" x=\"2699.816406\"/>\n     <use xlink:href=\"#DejaVuSans-438\" x=\"2767.882812\"/>\n     <use xlink:href=\"#DejaVuSans-439\" x=\"2832.873047\"/>\n    </g>\n   </g>\n   <g id=\"legend_1\">\n    <g id=\"patch_7\">\n     <path d=\"M 465.384687 63.41 \nL 600.107188 63.41 \nQ 602.307188 63.41 602.307188 61.21 \nL 602.307188 30.018125 \nQ 602.307188 27.818125 600.107188 27.818125 \nL 465.384687 27.818125 \nQ 463.184687 27.818125 463.184687 30.018125 \nL 463.184687 61.21 \nQ 463.184687 63.41 465.384687 63.41 \nz\n\" style=\"fill: #eaeaf2; opacity: 0.8; stroke: #cccccc; stroke-linejoin: miter\"/>\n    </g>\n    <g id=\"line2d_16\">\n     <path d=\"M 467.584687 36.726406 \nL 478.584687 36.726406 \nL 489.584687 36.726406 \n\" style=\"fill: none; stroke: #4c72b0; stroke-width: 1.5; stroke-linecap: round\"/>\n    </g>\n    <g id=\"text_17\">\n     <!-- Тест из scipy -->\n     <g style=\"fill: #262626\" transform=\"translate(498.384687 40.576406)scale(0.11 -0.11)\">\n      <defs>\n       <path id=\"DejaVuSans-422\" d=\"M -19 4666 \nL 3928 4666 \nL 3928 4134 \nL 2272 4134 \nL 2272 0 \nL 1638 0 \nL 1638 4134 \nL -19 4134 \nL -19 4666 \nz\n\" transform=\"scale(0.015625)\"/>\n       <path id=\"DejaVuSans-73\" d=\"M 2834 3397 \nL 2834 2853 \nQ 2591 2978 2328 3040 \nQ 2066 3103 1784 3103 \nQ 1356 3103 1142 2972 \nQ 928 2841 928 2578 \nQ 928 2378 1081 2264 \nQ 1234 2150 1697 2047 \nL 1894 2003 \nQ 2506 1872 2764 1633 \nQ 3022 1394 3022 966 \nQ 3022 478 2636 193 \nQ 2250 -91 1575 -91 \nQ 1294 -91 989 -36 \nQ 684 19 347 128 \nL 347 722 \nQ 666 556 975 473 \nQ 1284 391 1588 391 \nQ 1994 391 2212 530 \nQ 2431 669 2431 922 \nQ 2431 1156 2273 1281 \nQ 2116 1406 1581 1522 \nL 1381 1569 \nQ 847 1681 609 1914 \nQ 372 2147 372 2553 \nQ 372 3047 722 3315 \nQ 1072 3584 1716 3584 \nQ 2034 3584 2315 3537 \nQ 2597 3491 2834 3397 \nz\n\" transform=\"scale(0.015625)\"/>\n       <path id=\"DejaVuSans-63\" d=\"M 3122 3366 \nL 3122 2828 \nQ 2878 2963 2633 3030 \nQ 2388 3097 2138 3097 \nQ 1578 3097 1268 2742 \nQ 959 2388 959 1747 \nQ 959 1106 1268 751 \nQ 1578 397 2138 397 \nQ 2388 397 2633 464 \nQ 2878 531 3122 666 \nL 3122 134 \nQ 2881 22 2623 -34 \nQ 2366 -91 2075 -91 \nQ 1284 -91 818 406 \nQ 353 903 353 1747 \nQ 353 2603 823 3093 \nQ 1294 3584 2113 3584 \nQ 2378 3584 2631 3529 \nQ 2884 3475 3122 3366 \nz\n\" transform=\"scale(0.015625)\"/>\n       <path id=\"DejaVuSans-69\" d=\"M 603 3500 \nL 1178 3500 \nL 1178 0 \nL 603 0 \nL 603 3500 \nz\nM 603 4863 \nL 1178 4863 \nL 1178 4134 \nL 603 4134 \nL 603 4863 \nz\n\" transform=\"scale(0.015625)\"/>\n       <path id=\"DejaVuSans-79\" d=\"M 2059 -325 \nQ 1816 -950 1584 -1140 \nQ 1353 -1331 966 -1331 \nL 506 -1331 \nL 506 -850 \nL 844 -850 \nQ 1081 -850 1212 -737 \nQ 1344 -625 1503 -206 \nL 1606 56 \nL 191 3500 \nL 800 3500 \nL 1894 763 \nL 2988 3500 \nL 3597 3500 \nL 2059 -325 \nz\n\" transform=\"scale(0.015625)\"/>\n      </defs>\n      <use xlink:href=\"#DejaVuSans-422\"/>\n      <use xlink:href=\"#DejaVuSans-435\" x=\"61.083984\"/>\n      <use xlink:href=\"#DejaVuSans-441\" x=\"122.607422\"/>\n      <use xlink:href=\"#DejaVuSans-442\" x=\"177.587891\"/>\n      <use xlink:href=\"#DejaVuSans-20\" x=\"235.839844\"/>\n      <use xlink:href=\"#DejaVuSans-438\" x=\"267.626953\"/>\n      <use xlink:href=\"#DejaVuSans-437\" x=\"332.617188\"/>\n      <use xlink:href=\"#DejaVuSans-20\" x=\"385.791016\"/>\n      <use xlink:href=\"#DejaVuSans-73\" x=\"417.578125\"/>\n      <use xlink:href=\"#DejaVuSans-63\" x=\"469.677734\"/>\n      <use xlink:href=\"#DejaVuSans-69\" x=\"524.658203\"/>\n      <use xlink:href=\"#DejaVuSans-70\" x=\"552.441406\"/>\n      <use xlink:href=\"#DejaVuSans-79\" x=\"615.917969\"/>\n     </g>\n    </g>\n    <g id=\"line2d_17\">\n     <path d=\"M 467.584687 52.872344 \nL 478.584687 52.872344 \nL 489.584687 52.872344 \n\" style=\"fill: none; stroke: #dd8452; stroke-width: 1.5; stroke-linecap: round\"/>\n    </g>\n    <g id=\"text_18\">\n     <!-- Своя реализация -->\n     <g style=\"fill: #262626\" transform=\"translate(498.384687 56.722344)scale(0.11 -0.11)\">\n      <defs>\n       <path id=\"DejaVuSans-421\" d=\"M 4122 4306 \nL 4122 3641 \nQ 3803 3938 3442 4084 \nQ 3081 4231 2675 4231 \nQ 1875 4231 1450 3742 \nQ 1025 3253 1025 2328 \nQ 1025 1406 1450 917 \nQ 1875 428 2675 428 \nQ 3081 428 3442 575 \nQ 3803 722 4122 1019 \nL 4122 359 \nQ 3791 134 3420 21 \nQ 3050 -91 2638 -91 \nQ 1578 -91 968 557 \nQ 359 1206 359 2328 \nQ 359 3453 968 4101 \nQ 1578 4750 2638 4750 \nQ 3056 4750 3426 4639 \nQ 3797 4528 4122 4306 \nz\n\" transform=\"scale(0.015625)\"/>\n      </defs>\n      <use xlink:href=\"#DejaVuSans-421\"/>\n      <use xlink:href=\"#DejaVuSans-432\" x=\"69.824219\"/>\n      <use xlink:href=\"#DejaVuSans-43e\" x=\"128.759766\"/>\n      <use xlink:href=\"#DejaVuSans-44f\" x=\"189.941406\"/>\n      <use xlink:href=\"#DejaVuSans-20\" x=\"250.097656\"/>\n      <use xlink:href=\"#DejaVuSans-440\" x=\"281.884766\"/>\n      <use xlink:href=\"#DejaVuSans-435\" x=\"345.361328\"/>\n      <use xlink:href=\"#DejaVuSans-430\" x=\"406.884766\"/>\n      <use xlink:href=\"#DejaVuSans-43b\" x=\"468.164062\"/>\n      <use xlink:href=\"#DejaVuSans-438\" x=\"532.080078\"/>\n      <use xlink:href=\"#DejaVuSans-437\" x=\"597.070312\"/>\n      <use xlink:href=\"#DejaVuSans-430\" x=\"650.244141\"/>\n      <use xlink:href=\"#DejaVuSans-446\" x=\"711.523438\"/>\n      <use xlink:href=\"#DejaVuSans-438\" x=\"779.589844\"/>\n      <use xlink:href=\"#DejaVuSans-44f\" x=\"844.580078\"/>\n     </g>\n    </g>\n   </g>\n  </g>\n </g>\n <defs>\n  <clipPath id=\"pe0bb5d7d72\">\n   <rect x=\"49.807188\" y=\"22.318125\" width=\"558\" height=\"434.88\"/>\n  </clipPath>\n </defs>\n</svg>\n"
          },
          "metadata": {
            "needs_background": "light"
          }
        }
      ]
    },
    {
      "cell_type": "code",
      "source": [
        "plt.figure(figsize=(10, 8))\n",
        "p_vals = np.linspace(0, 1, 100)\n",
        "scipy_vals = np.array([sp.stats.binom_test(n_pos, n, i, 'greater') for i in p_vals])\n",
        "custom_vals = np.array([p_value(n_pos, n - n_pos, i) for i in p_vals])\n",
        "plt.plot(p_vals, scipy_vals, label='Тест из scipy')\n",
        "plt.plot(p_vals, custom_vals, label='Своя реализация')\n",
        "plt.xlabel('Значение p')\n",
        "plt.ylabel('p-value')\n",
        "plt.title('p-value в зависимости от p для различных реализаций')\n",
        "plt.legend()\n",
        "plt.grid(True)"
      ],
      "metadata": {
        "colab": {
          "base_uri": "https://localhost:8080/",
          "height": 688
        },
        "id": "DsAlA8Cgkp4C",
        "outputId": "a06efddb-49d7-4b73-b44e-3f97653faa7b"
      },
      "execution_count": null,
      "outputs": [
        {
          "output_type": "display_data",
          "data": {
            "text/plain": [
              "<Figure size 720x576 with 1 Axes>"
            ],
            "image/svg+xml": "<?xml version=\"1.0\" encoding=\"utf-8\" standalone=\"no\"?>\n<!DOCTYPE svg PUBLIC \"-//W3C//DTD SVG 1.1//EN\"\n  \"http://www.w3.org/Graphics/SVG/1.1/DTD/svg11.dtd\">\n<svg xmlns:xlink=\"http://www.w3.org/1999/xlink\" width=\"615.007187pt\" height=\"500.157812pt\" viewBox=\"0 0 615.007187 500.157812\" xmlns=\"http://www.w3.org/2000/svg\" version=\"1.1\">\n <metadata>\n  <rdf:RDF xmlns:dc=\"http://purl.org/dc/elements/1.1/\" xmlns:cc=\"http://creativecommons.org/ns#\" xmlns:rdf=\"http://www.w3.org/1999/02/22-rdf-syntax-ns#\">\n   <cc:Work>\n    <dc:type rdf:resource=\"http://purl.org/dc/dcmitype/StillImage\"/>\n    <dc:date>2023-03-10T17:01:16.288970</dc:date>\n    <dc:format>image/svg+xml</dc:format>\n    <dc:creator>\n     <cc:Agent>\n      <dc:title>Matplotlib v3.5.3, https://matplotlib.org/</dc:title>\n     </cc:Agent>\n    </dc:creator>\n   </cc:Work>\n  </rdf:RDF>\n </metadata>\n <defs>\n  <style type=\"text/css\">*{stroke-linejoin: round; stroke-linecap: butt}</style>\n </defs>\n <g id=\"figure_1\">\n  <g id=\"patch_1\">\n   <path d=\"M 0 500.157812 \nL 615.007187 500.157812 \nL 615.007187 0 \nL 0 0 \nL 0 500.157812 \nz\n\" style=\"fill: none\"/>\n  </g>\n  <g id=\"axes_1\">\n   <g id=\"patch_2\">\n    <path d=\"M 49.807188 457.198125 \nL 607.807188 457.198125 \nL 607.807188 22.318125 \nL 49.807188 22.318125 \nz\n\" style=\"fill: #eaeaf2\"/>\n   </g>\n   <g id=\"matplotlib.axis_1\">\n    <g id=\"xtick_1\">\n     <g id=\"line2d_1\">\n      <path d=\"M 75.170824 457.198125 \nL 75.170824 22.318125 \n\" clip-path=\"url(#pcfa0f41d41)\" style=\"fill: none; stroke: #ffffff; stroke-linecap: round\"/>\n     </g>\n     <g id=\"text_1\">\n      <!-- 0.0 -->\n      <g style=\"fill: #262626\" transform=\"translate(66.424105 475.056406)scale(0.11 -0.11)\">\n       <defs>\n        <path id=\"DejaVuSans-30\" d=\"M 2034 4250 \nQ 1547 4250 1301 3770 \nQ 1056 3291 1056 2328 \nQ 1056 1369 1301 889 \nQ 1547 409 2034 409 \nQ 2525 409 2770 889 \nQ 3016 1369 3016 2328 \nQ 3016 3291 2770 3770 \nQ 2525 4250 2034 4250 \nz\nM 2034 4750 \nQ 2819 4750 3233 4129 \nQ 3647 3509 3647 2328 \nQ 3647 1150 3233 529 \nQ 2819 -91 2034 -91 \nQ 1250 -91 836 529 \nQ 422 1150 422 2328 \nQ 422 3509 836 4129 \nQ 1250 4750 2034 4750 \nz\n\" transform=\"scale(0.015625)\"/>\n        <path id=\"DejaVuSans-2e\" d=\"M 684 794 \nL 1344 794 \nL 1344 0 \nL 684 0 \nL 684 794 \nz\n\" transform=\"scale(0.015625)\"/>\n       </defs>\n       <use xlink:href=\"#DejaVuSans-30\"/>\n       <use xlink:href=\"#DejaVuSans-2e\" x=\"63.623047\"/>\n       <use xlink:href=\"#DejaVuSans-30\" x=\"95.410156\"/>\n      </g>\n     </g>\n    </g>\n    <g id=\"xtick_2\">\n     <g id=\"line2d_2\">\n      <path d=\"M 176.625369 457.198125 \nL 176.625369 22.318125 \n\" clip-path=\"url(#pcfa0f41d41)\" style=\"fill: none; stroke: #ffffff; stroke-linecap: round\"/>\n     </g>\n     <g id=\"text_2\">\n      <!-- 0.2 -->\n      <g style=\"fill: #262626\" transform=\"translate(167.878651 475.056406)scale(0.11 -0.11)\">\n       <defs>\n        <path id=\"DejaVuSans-32\" d=\"M 1228 531 \nL 3431 531 \nL 3431 0 \nL 469 0 \nL 469 531 \nQ 828 903 1448 1529 \nQ 2069 2156 2228 2338 \nQ 2531 2678 2651 2914 \nQ 2772 3150 2772 3378 \nQ 2772 3750 2511 3984 \nQ 2250 4219 1831 4219 \nQ 1534 4219 1204 4116 \nQ 875 4013 500 3803 \nL 500 4441 \nQ 881 4594 1212 4672 \nQ 1544 4750 1819 4750 \nQ 2544 4750 2975 4387 \nQ 3406 4025 3406 3419 \nQ 3406 3131 3298 2873 \nQ 3191 2616 2906 2266 \nQ 2828 2175 2409 1742 \nQ 1991 1309 1228 531 \nz\n\" transform=\"scale(0.015625)\"/>\n       </defs>\n       <use xlink:href=\"#DejaVuSans-30\"/>\n       <use xlink:href=\"#DejaVuSans-2e\" x=\"63.623047\"/>\n       <use xlink:href=\"#DejaVuSans-32\" x=\"95.410156\"/>\n      </g>\n     </g>\n    </g>\n    <g id=\"xtick_3\">\n     <g id=\"line2d_3\">\n      <path d=\"M 278.079915 457.198125 \nL 278.079915 22.318125 \n\" clip-path=\"url(#pcfa0f41d41)\" style=\"fill: none; stroke: #ffffff; stroke-linecap: round\"/>\n     </g>\n     <g id=\"text_3\">\n      <!-- 0.4 -->\n      <g style=\"fill: #262626\" transform=\"translate(269.333196 475.056406)scale(0.11 -0.11)\">\n       <defs>\n        <path id=\"DejaVuSans-34\" d=\"M 2419 4116 \nL 825 1625 \nL 2419 1625 \nL 2419 4116 \nz\nM 2253 4666 \nL 3047 4666 \nL 3047 1625 \nL 3713 1625 \nL 3713 1100 \nL 3047 1100 \nL 3047 0 \nL 2419 0 \nL 2419 1100 \nL 313 1100 \nL 313 1709 \nL 2253 4666 \nz\n\" transform=\"scale(0.015625)\"/>\n       </defs>\n       <use xlink:href=\"#DejaVuSans-30\"/>\n       <use xlink:href=\"#DejaVuSans-2e\" x=\"63.623047\"/>\n       <use xlink:href=\"#DejaVuSans-34\" x=\"95.410156\"/>\n      </g>\n     </g>\n    </g>\n    <g id=\"xtick_4\">\n     <g id=\"line2d_4\">\n      <path d=\"M 379.53446 457.198125 \nL 379.53446 22.318125 \n\" clip-path=\"url(#pcfa0f41d41)\" style=\"fill: none; stroke: #ffffff; stroke-linecap: round\"/>\n     </g>\n     <g id=\"text_4\">\n      <!-- 0.6 -->\n      <g style=\"fill: #262626\" transform=\"translate(370.787741 475.056406)scale(0.11 -0.11)\">\n       <defs>\n        <path id=\"DejaVuSans-36\" d=\"M 2113 2584 \nQ 1688 2584 1439 2293 \nQ 1191 2003 1191 1497 \nQ 1191 994 1439 701 \nQ 1688 409 2113 409 \nQ 2538 409 2786 701 \nQ 3034 994 3034 1497 \nQ 3034 2003 2786 2293 \nQ 2538 2584 2113 2584 \nz\nM 3366 4563 \nL 3366 3988 \nQ 3128 4100 2886 4159 \nQ 2644 4219 2406 4219 \nQ 1781 4219 1451 3797 \nQ 1122 3375 1075 2522 \nQ 1259 2794 1537 2939 \nQ 1816 3084 2150 3084 \nQ 2853 3084 3261 2657 \nQ 3669 2231 3669 1497 \nQ 3669 778 3244 343 \nQ 2819 -91 2113 -91 \nQ 1303 -91 875 529 \nQ 447 1150 447 2328 \nQ 447 3434 972 4092 \nQ 1497 4750 2381 4750 \nQ 2619 4750 2861 4703 \nQ 3103 4656 3366 4563 \nz\n\" transform=\"scale(0.015625)\"/>\n       </defs>\n       <use xlink:href=\"#DejaVuSans-30\"/>\n       <use xlink:href=\"#DejaVuSans-2e\" x=\"63.623047\"/>\n       <use xlink:href=\"#DejaVuSans-36\" x=\"95.410156\"/>\n      </g>\n     </g>\n    </g>\n    <g id=\"xtick_5\">\n     <g id=\"line2d_5\">\n      <path d=\"M 480.989006 457.198125 \nL 480.989006 22.318125 \n\" clip-path=\"url(#pcfa0f41d41)\" style=\"fill: none; stroke: #ffffff; stroke-linecap: round\"/>\n     </g>\n     <g id=\"text_5\">\n      <!-- 0.8 -->\n      <g style=\"fill: #262626\" transform=\"translate(472.242287 475.056406)scale(0.11 -0.11)\">\n       <defs>\n        <path id=\"DejaVuSans-38\" d=\"M 2034 2216 \nQ 1584 2216 1326 1975 \nQ 1069 1734 1069 1313 \nQ 1069 891 1326 650 \nQ 1584 409 2034 409 \nQ 2484 409 2743 651 \nQ 3003 894 3003 1313 \nQ 3003 1734 2745 1975 \nQ 2488 2216 2034 2216 \nz\nM 1403 2484 \nQ 997 2584 770 2862 \nQ 544 3141 544 3541 \nQ 544 4100 942 4425 \nQ 1341 4750 2034 4750 \nQ 2731 4750 3128 4425 \nQ 3525 4100 3525 3541 \nQ 3525 3141 3298 2862 \nQ 3072 2584 2669 2484 \nQ 3125 2378 3379 2068 \nQ 3634 1759 3634 1313 \nQ 3634 634 3220 271 \nQ 2806 -91 2034 -91 \nQ 1263 -91 848 271 \nQ 434 634 434 1313 \nQ 434 1759 690 2068 \nQ 947 2378 1403 2484 \nz\nM 1172 3481 \nQ 1172 3119 1398 2916 \nQ 1625 2713 2034 2713 \nQ 2441 2713 2670 2916 \nQ 2900 3119 2900 3481 \nQ 2900 3844 2670 4047 \nQ 2441 4250 2034 4250 \nQ 1625 4250 1398 4047 \nQ 1172 3844 1172 3481 \nz\n\" transform=\"scale(0.015625)\"/>\n       </defs>\n       <use xlink:href=\"#DejaVuSans-30\"/>\n       <use xlink:href=\"#DejaVuSans-2e\" x=\"63.623047\"/>\n       <use xlink:href=\"#DejaVuSans-38\" x=\"95.410156\"/>\n      </g>\n     </g>\n    </g>\n    <g id=\"xtick_6\">\n     <g id=\"line2d_6\">\n      <path d=\"M 582.443551 457.198125 \nL 582.443551 22.318125 \n\" clip-path=\"url(#pcfa0f41d41)\" style=\"fill: none; stroke: #ffffff; stroke-linecap: round\"/>\n     </g>\n     <g id=\"text_6\">\n      <!-- 1.0 -->\n      <g style=\"fill: #262626\" transform=\"translate(573.696832 475.056406)scale(0.11 -0.11)\">\n       <defs>\n        <path id=\"DejaVuSans-31\" d=\"M 794 531 \nL 1825 531 \nL 1825 4091 \nL 703 3866 \nL 703 4441 \nL 1819 4666 \nL 2450 4666 \nL 2450 531 \nL 3481 531 \nL 3481 0 \nL 794 0 \nL 794 531 \nz\n\" transform=\"scale(0.015625)\"/>\n       </defs>\n       <use xlink:href=\"#DejaVuSans-31\"/>\n       <use xlink:href=\"#DejaVuSans-2e\" x=\"63.623047\"/>\n       <use xlink:href=\"#DejaVuSans-30\" x=\"95.410156\"/>\n      </g>\n     </g>\n    </g>\n    <g id=\"text_7\">\n     <!-- Значение p -->\n     <g style=\"fill: #262626\" transform=\"translate(292.895312 490.462187)scale(0.12 -0.12)\">\n      <defs>\n       <path id=\"DejaVuSans-417\" d=\"M 1828 4750 \nQ 2597 4750 3084 4423 \nQ 3572 4097 3572 3541 \nQ 3572 3153 3350 2886 \nQ 3128 2619 2719 2516 \nQ 3172 2419 3426 2112 \nQ 3681 1806 3681 1356 \nQ 3681 638 3126 273 \nQ 2572 -91 1828 -91 \nQ 1447 -91 1003 12 \nQ 559 116 422 203 \nL 422 853 \nQ 900 575 1164 508 \nQ 1428 441 1816 441 \nQ 2403 441 2728 666 \nQ 3053 891 3053 1356 \nQ 3053 1769 2764 2001 \nQ 2475 2234 1866 2234 \nL 1228 2234 \nL 1228 2753 \nL 1891 2753 \nQ 2450 2753 2697 2939 \nQ 2944 3125 2944 3475 \nQ 2944 3834 2689 4026 \nQ 2434 4219 1816 4219 \nQ 1397 4219 1253 4181 \nQ 1109 4144 469 3903 \nL 469 4519 \nQ 822 4644 1190 4697 \nQ 1559 4750 1828 4750 \nz\n\" transform=\"scale(0.015625)\"/>\n       <path id=\"DejaVuSans-43d\" d=\"M 581 3500 \nL 1159 3500 \nL 1159 2072 \nL 3025 2072 \nL 3025 3500 \nL 3603 3500 \nL 3603 0 \nL 3025 0 \nL 3025 1613 \nL 1159 1613 \nL 1159 0 \nL 581 0 \nL 581 3500 \nz\n\" transform=\"scale(0.015625)\"/>\n       <path id=\"DejaVuSans-430\" d=\"M 2194 1759 \nQ 1497 1759 1228 1600 \nQ 959 1441 959 1056 \nQ 959 750 1161 570 \nQ 1363 391 1709 391 \nQ 2188 391 2477 730 \nQ 2766 1069 2766 1631 \nL 2766 1759 \nL 2194 1759 \nz\nM 3341 1997 \nL 3341 0 \nL 2766 0 \nL 2766 531 \nQ 2569 213 2275 61 \nQ 1981 -91 1556 -91 \nQ 1019 -91 701 211 \nQ 384 513 384 1019 \nQ 384 1609 779 1909 \nQ 1175 2209 1959 2209 \nL 2766 2209 \nL 2766 2266 \nQ 2766 2663 2505 2880 \nQ 2244 3097 1772 3097 \nQ 1472 3097 1187 3025 \nQ 903 2953 641 2809 \nL 641 3341 \nQ 956 3463 1253 3523 \nQ 1550 3584 1831 3584 \nQ 2591 3584 2966 3190 \nQ 3341 2797 3341 1997 \nz\n\" transform=\"scale(0.015625)\"/>\n       <path id=\"DejaVuSans-447\" d=\"M 2625 0 \nL 2625 1472 \nL 1553 1472 \nQ 1075 1472 756 1769 \nQ 469 2038 469 2613 \nL 469 3500 \nL 1044 3500 \nL 1044 2666 \nQ 1044 2300 1206 2116 \nQ 1372 1931 1697 1931 \nL 2625 1931 \nL 2625 3500 \nL 3200 3500 \nL 3200 0 \nL 2625 0 \nz\n\" transform=\"scale(0.015625)\"/>\n       <path id=\"DejaVuSans-435\" d=\"M 3597 1894 \nL 3597 1613 \nL 953 1613 \nQ 991 1019 1311 708 \nQ 1631 397 2203 397 \nQ 2534 397 2845 478 \nQ 3156 559 3463 722 \nL 3463 178 \nQ 3153 47 2828 -22 \nQ 2503 -91 2169 -91 \nQ 1331 -91 842 396 \nQ 353 884 353 1716 \nQ 353 2575 817 3079 \nQ 1281 3584 2069 3584 \nQ 2775 3584 3186 3129 \nQ 3597 2675 3597 1894 \nz\nM 3022 2063 \nQ 3016 2534 2758 2815 \nQ 2500 3097 2075 3097 \nQ 1594 3097 1305 2825 \nQ 1016 2553 972 2059 \nL 3022 2063 \nz\n\" transform=\"scale(0.015625)\"/>\n       <path id=\"DejaVuSans-438\" d=\"M 3578 3500 \nL 3578 0 \nL 3006 0 \nL 3006 2809 \nL 1319 0 \nL 581 0 \nL 581 3500 \nL 1153 3500 \nL 1153 697 \nL 2838 3500 \nL 3578 3500 \nz\n\" transform=\"scale(0.015625)\"/>\n       <path id=\"DejaVuSans-20\" transform=\"scale(0.015625)\"/>\n       <path id=\"DejaVuSans-70\" d=\"M 1159 525 \nL 1159 -1331 \nL 581 -1331 \nL 581 3500 \nL 1159 3500 \nL 1159 2969 \nQ 1341 3281 1617 3432 \nQ 1894 3584 2278 3584 \nQ 2916 3584 3314 3078 \nQ 3713 2572 3713 1747 \nQ 3713 922 3314 415 \nQ 2916 -91 2278 -91 \nQ 1894 -91 1617 61 \nQ 1341 213 1159 525 \nz\nM 3116 1747 \nQ 3116 2381 2855 2742 \nQ 2594 3103 2138 3103 \nQ 1681 3103 1420 2742 \nQ 1159 2381 1159 1747 \nQ 1159 1113 1420 752 \nQ 1681 391 2138 391 \nQ 2594 391 2855 752 \nQ 3116 1113 3116 1747 \nz\n\" transform=\"scale(0.015625)\"/>\n      </defs>\n      <use xlink:href=\"#DejaVuSans-417\"/>\n      <use xlink:href=\"#DejaVuSans-43d\" x=\"64.111328\"/>\n      <use xlink:href=\"#DejaVuSans-430\" x=\"129.492188\"/>\n      <use xlink:href=\"#DejaVuSans-447\" x=\"190.771484\"/>\n      <use xlink:href=\"#DejaVuSans-435\" x=\"249.853516\"/>\n      <use xlink:href=\"#DejaVuSans-43d\" x=\"311.376953\"/>\n      <use xlink:href=\"#DejaVuSans-438\" x=\"376.757812\"/>\n      <use xlink:href=\"#DejaVuSans-435\" x=\"441.748047\"/>\n      <use xlink:href=\"#DejaVuSans-20\" x=\"503.271484\"/>\n      <use xlink:href=\"#DejaVuSans-70\" x=\"535.058594\"/>\n     </g>\n    </g>\n   </g>\n   <g id=\"matplotlib.axis_2\">\n    <g id=\"ytick_1\">\n     <g id=\"line2d_7\">\n      <path d=\"M 49.807188 437.430852 \nL 607.807188 437.430852 \n\" clip-path=\"url(#pcfa0f41d41)\" style=\"fill: none; stroke: #ffffff; stroke-linecap: round\"/>\n     </g>\n     <g id=\"text_8\">\n      <!-- 0.0 -->\n      <g style=\"fill: #262626\" transform=\"translate(22.81375 441.609993)scale(0.11 -0.11)\">\n       <use xlink:href=\"#DejaVuSans-30\"/>\n       <use xlink:href=\"#DejaVuSans-2e\" x=\"63.623047\"/>\n       <use xlink:href=\"#DejaVuSans-30\" x=\"95.410156\"/>\n      </g>\n     </g>\n    </g>\n    <g id=\"ytick_2\">\n     <g id=\"line2d_8\">\n      <path d=\"M 49.807188 358.361761 \nL 607.807188 358.361761 \n\" clip-path=\"url(#pcfa0f41d41)\" style=\"fill: none; stroke: #ffffff; stroke-linecap: round\"/>\n     </g>\n     <g id=\"text_9\">\n      <!-- 0.2 -->\n      <g style=\"fill: #262626\" transform=\"translate(22.81375 362.540902)scale(0.11 -0.11)\">\n       <use xlink:href=\"#DejaVuSans-30\"/>\n       <use xlink:href=\"#DejaVuSans-2e\" x=\"63.623047\"/>\n       <use xlink:href=\"#DejaVuSans-32\" x=\"95.410156\"/>\n      </g>\n     </g>\n    </g>\n    <g id=\"ytick_3\">\n     <g id=\"line2d_9\">\n      <path d=\"M 49.807188 279.29267 \nL 607.807188 279.29267 \n\" clip-path=\"url(#pcfa0f41d41)\" style=\"fill: none; stroke: #ffffff; stroke-linecap: round\"/>\n     </g>\n     <g id=\"text_10\">\n      <!-- 0.4 -->\n      <g style=\"fill: #262626\" transform=\"translate(22.81375 283.471811)scale(0.11 -0.11)\">\n       <use xlink:href=\"#DejaVuSans-30\"/>\n       <use xlink:href=\"#DejaVuSans-2e\" x=\"63.623047\"/>\n       <use xlink:href=\"#DejaVuSans-34\" x=\"95.410156\"/>\n      </g>\n     </g>\n    </g>\n    <g id=\"ytick_4\">\n     <g id=\"line2d_10\">\n      <path d=\"M 49.807188 200.22358 \nL 607.807188 200.22358 \n\" clip-path=\"url(#pcfa0f41d41)\" style=\"fill: none; stroke: #ffffff; stroke-linecap: round\"/>\n     </g>\n     <g id=\"text_11\">\n      <!-- 0.6 -->\n      <g style=\"fill: #262626\" transform=\"translate(22.81375 204.40272)scale(0.11 -0.11)\">\n       <use xlink:href=\"#DejaVuSans-30\"/>\n       <use xlink:href=\"#DejaVuSans-2e\" x=\"63.623047\"/>\n       <use xlink:href=\"#DejaVuSans-36\" x=\"95.410156\"/>\n      </g>\n     </g>\n    </g>\n    <g id=\"ytick_5\">\n     <g id=\"line2d_11\">\n      <path d=\"M 49.807188 121.154489 \nL 607.807188 121.154489 \n\" clip-path=\"url(#pcfa0f41d41)\" style=\"fill: none; stroke: #ffffff; stroke-linecap: round\"/>\n     </g>\n     <g id=\"text_12\">\n      <!-- 0.8 -->\n      <g style=\"fill: #262626\" transform=\"translate(22.81375 125.333629)scale(0.11 -0.11)\">\n       <use xlink:href=\"#DejaVuSans-30\"/>\n       <use xlink:href=\"#DejaVuSans-2e\" x=\"63.623047\"/>\n       <use xlink:href=\"#DejaVuSans-38\" x=\"95.410156\"/>\n      </g>\n     </g>\n    </g>\n    <g id=\"ytick_6\">\n     <g id=\"line2d_12\">\n      <path d=\"M 49.807188 42.085398 \nL 607.807188 42.085398 \n\" clip-path=\"url(#pcfa0f41d41)\" style=\"fill: none; stroke: #ffffff; stroke-linecap: round\"/>\n     </g>\n     <g id=\"text_13\">\n      <!-- 1.0 -->\n      <g style=\"fill: #262626\" transform=\"translate(22.81375 46.264538)scale(0.11 -0.11)\">\n       <use xlink:href=\"#DejaVuSans-31\"/>\n       <use xlink:href=\"#DejaVuSans-2e\" x=\"63.623047\"/>\n       <use xlink:href=\"#DejaVuSans-30\" x=\"95.410156\"/>\n      </g>\n     </g>\n    </g>\n    <g id=\"text_14\">\n     <!-- p-value -->\n     <g style=\"fill: #262626\" transform=\"translate(16.318125 261.96375)rotate(-90)scale(0.12 -0.12)\">\n      <defs>\n       <path id=\"DejaVuSans-2d\" d=\"M 313 2009 \nL 1997 2009 \nL 1997 1497 \nL 313 1497 \nL 313 2009 \nz\n\" transform=\"scale(0.015625)\"/>\n       <path id=\"DejaVuSans-76\" d=\"M 191 3500 \nL 800 3500 \nL 1894 563 \nL 2988 3500 \nL 3597 3500 \nL 2284 0 \nL 1503 0 \nL 191 3500 \nz\n\" transform=\"scale(0.015625)\"/>\n       <path id=\"DejaVuSans-61\" d=\"M 2194 1759 \nQ 1497 1759 1228 1600 \nQ 959 1441 959 1056 \nQ 959 750 1161 570 \nQ 1363 391 1709 391 \nQ 2188 391 2477 730 \nQ 2766 1069 2766 1631 \nL 2766 1759 \nL 2194 1759 \nz\nM 3341 1997 \nL 3341 0 \nL 2766 0 \nL 2766 531 \nQ 2569 213 2275 61 \nQ 1981 -91 1556 -91 \nQ 1019 -91 701 211 \nQ 384 513 384 1019 \nQ 384 1609 779 1909 \nQ 1175 2209 1959 2209 \nL 2766 2209 \nL 2766 2266 \nQ 2766 2663 2505 2880 \nQ 2244 3097 1772 3097 \nQ 1472 3097 1187 3025 \nQ 903 2953 641 2809 \nL 641 3341 \nQ 956 3463 1253 3523 \nQ 1550 3584 1831 3584 \nQ 2591 3584 2966 3190 \nQ 3341 2797 3341 1997 \nz\n\" transform=\"scale(0.015625)\"/>\n       <path id=\"DejaVuSans-6c\" d=\"M 603 4863 \nL 1178 4863 \nL 1178 0 \nL 603 0 \nL 603 4863 \nz\n\" transform=\"scale(0.015625)\"/>\n       <path id=\"DejaVuSans-75\" d=\"M 544 1381 \nL 544 3500 \nL 1119 3500 \nL 1119 1403 \nQ 1119 906 1312 657 \nQ 1506 409 1894 409 \nQ 2359 409 2629 706 \nQ 2900 1003 2900 1516 \nL 2900 3500 \nL 3475 3500 \nL 3475 0 \nL 2900 0 \nL 2900 538 \nQ 2691 219 2414 64 \nQ 2138 -91 1772 -91 \nQ 1169 -91 856 284 \nQ 544 659 544 1381 \nz\nM 1991 3584 \nL 1991 3584 \nz\n\" transform=\"scale(0.015625)\"/>\n       <path id=\"DejaVuSans-65\" d=\"M 3597 1894 \nL 3597 1613 \nL 953 1613 \nQ 991 1019 1311 708 \nQ 1631 397 2203 397 \nQ 2534 397 2845 478 \nQ 3156 559 3463 722 \nL 3463 178 \nQ 3153 47 2828 -22 \nQ 2503 -91 2169 -91 \nQ 1331 -91 842 396 \nQ 353 884 353 1716 \nQ 353 2575 817 3079 \nQ 1281 3584 2069 3584 \nQ 2775 3584 3186 3129 \nQ 3597 2675 3597 1894 \nz\nM 3022 2063 \nQ 3016 2534 2758 2815 \nQ 2500 3097 2075 3097 \nQ 1594 3097 1305 2825 \nQ 1016 2553 972 2059 \nL 3022 2063 \nz\n\" transform=\"scale(0.015625)\"/>\n      </defs>\n      <use xlink:href=\"#DejaVuSans-70\"/>\n      <use xlink:href=\"#DejaVuSans-2d\" x=\"63.476562\"/>\n      <use xlink:href=\"#DejaVuSans-76\" x=\"96.935547\"/>\n      <use xlink:href=\"#DejaVuSans-61\" x=\"156.115234\"/>\n      <use xlink:href=\"#DejaVuSans-6c\" x=\"217.394531\"/>\n      <use xlink:href=\"#DejaVuSans-75\" x=\"245.177734\"/>\n      <use xlink:href=\"#DejaVuSans-65\" x=\"308.556641\"/>\n     </g>\n    </g>\n   </g>\n   <g id=\"line2d_13\">\n    <path d=\"M 75.170824 437.430852 \nL 80.294791 437.430852 \nL 85.418758 437.430852 \nL 90.542725 437.430852 \nL 95.666692 437.430852 \nL 100.790659 437.430852 \nL 105.914626 437.430852 \nL 111.038592 437.430852 \nL 116.162559 437.430852 \nL 121.286526 437.430852 \nL 126.410493 437.430852 \nL 131.53446 437.430852 \nL 136.658427 437.430852 \nL 141.782394 437.430851 \nL 146.906361 437.43085 \nL 152.030328 437.430848 \nL 157.154295 437.430844 \nL 162.278262 437.430837 \nL 167.402229 437.430824 \nL 172.526196 437.430801 \nL 177.650163 437.430764 \nL 182.77413 437.430703 \nL 187.898097 437.430606 \nL 193.022064 437.430455 \nL 198.14603 437.430225 \nL 203.269997 437.429881 \nL 208.393964 437.429376 \nL 213.517931 437.428643 \nL 218.641898 437.427597 \nL 223.765865 437.426123 \nL 228.889832 437.424073 \nL 234.013799 437.421253 \nL 239.137766 437.417418 \nL 244.261733 437.412254 \nL 249.3857 437.405369 \nL 254.509667 437.396273 \nL 259.633634 437.384357 \nL 264.757601 437.368876 \nL 269.881568 437.348918 \nL 275.005535 437.323377 \nL 280.129502 437.290921 \nL 285.253468 437.24995 \nL 290.377435 437.198561 \nL 295.501402 437.134496 \nL 300.625369 437.055096 \nL 305.749336 436.957237 \nL 310.873303 436.837278 \nL 315.99727 436.690986 \nL 321.121237 436.513467 \nL 326.245204 436.299088 \nL 331.369171 436.041395 \nL 336.493138 435.733023 \nL 341.617105 435.365606 \nL 346.741072 434.929676 \nL 351.865039 434.414568 \nL 356.989006 433.808318 \nL 362.112973 433.097552 \nL 367.23694 432.267394 \nL 372.360907 431.301352 \nL 377.484873 430.181231 \nL 382.60884 428.887032 \nL 387.732807 427.396874 \nL 392.856774 425.686921 \nL 397.980741 423.731323 \nL 403.104708 421.502183 \nL 408.228675 418.969544 \nL 413.352642 416.101401 \nL 418.476609 412.863758 \nL 423.600576 409.220719 \nL 428.724543 405.134632 \nL 433.84851 400.566285 \nL 438.972477 395.475182 \nL 444.096444 389.819879 \nL 449.220411 383.558417 \nL 454.344378 376.64886 \nL 459.468345 369.049933 \nL 464.592311 360.721804 \nL 469.716278 351.627003 \nL 474.840245 341.731503 \nL 479.964212 331.005989 \nL 485.088179 319.427325 \nL 490.212146 306.980255 \nL 495.336113 293.659346 \nL 500.46008 279.471216 \nL 505.584047 264.437072 \nL 510.708014 248.59558 \nL 515.831981 232.006113 \nL 520.955948 214.752411 \nL 526.079915 196.946685 \nL 531.203882 178.734221 \nL 536.327849 160.298512 \nL 541.451816 141.866987 \nL 546.575783 123.71737 \nL 551.699749 106.184738 \nL 556.823716 89.669332 \nL 561.947683 74.645194 \nL 567.07165 61.669674 \nL 572.195617 51.393914 \nL 577.319584 44.574362 \nL 582.443551 42.085398 \n\" clip-path=\"url(#pcfa0f41d41)\" style=\"fill: none; stroke: #4c72b0; stroke-width: 1.5; stroke-linecap: round\"/>\n   </g>\n   <g id=\"line2d_14\">\n    <path d=\"M 75.170824 437.430852 \nL 80.294791 437.430852 \nL 85.418758 437.430852 \nL 90.542725 437.430852 \nL 95.666692 437.430852 \nL 100.790659 437.430852 \nL 105.914626 437.430852 \nL 111.038592 437.430852 \nL 116.162559 437.430852 \nL 121.286526 437.430852 \nL 126.410493 437.430852 \nL 131.53446 437.430852 \nL 136.658427 437.430852 \nL 141.782394 437.430851 \nL 146.906361 437.43085 \nL 152.030328 437.430848 \nL 157.154295 437.430844 \nL 162.278262 437.430837 \nL 167.402229 437.430824 \nL 172.526196 437.430801 \nL 177.650163 437.430764 \nL 182.77413 437.430703 \nL 187.898097 437.430606 \nL 193.022064 437.430455 \nL 198.14603 437.430225 \nL 203.269997 437.429881 \nL 208.393964 437.429376 \nL 213.517931 437.428643 \nL 218.641898 437.427597 \nL 223.765865 437.426123 \nL 228.889832 437.424073 \nL 234.013799 437.421253 \nL 239.137766 437.417418 \nL 244.261733 437.412254 \nL 249.3857 437.405369 \nL 254.509667 437.396273 \nL 259.633634 437.384357 \nL 264.757601 437.368876 \nL 269.881568 437.348918 \nL 275.005535 437.323377 \nL 280.129502 437.290921 \nL 285.253468 437.24995 \nL 290.377435 437.198561 \nL 295.501402 437.134496 \nL 300.625369 437.055096 \nL 305.749336 436.957237 \nL 310.873303 436.837278 \nL 315.99727 436.690986 \nL 321.121237 436.513467 \nL 326.245204 436.299088 \nL 331.369171 436.041395 \nL 336.493138 435.733023 \nL 341.617105 435.365606 \nL 346.741072 434.929676 \nL 351.865039 434.414568 \nL 356.989006 433.808318 \nL 362.112973 433.097552 \nL 367.23694 432.267394 \nL 372.360907 431.301352 \nL 377.484873 430.181231 \nL 382.60884 428.887032 \nL 387.732807 427.396874 \nL 392.856774 425.686921 \nL 397.980741 423.731323 \nL 403.104708 421.502183 \nL 408.228675 418.969544 \nL 413.352642 416.101401 \nL 418.476609 412.863758 \nL 423.600576 409.220719 \nL 428.724543 405.134632 \nL 433.84851 400.566285 \nL 438.972477 395.475182 \nL 444.096444 389.819879 \nL 449.220411 383.558417 \nL 454.344378 376.64886 \nL 459.468345 369.049933 \nL 464.592311 360.721804 \nL 469.716278 351.627003 \nL 474.840245 341.731503 \nL 479.964212 331.005989 \nL 485.088179 319.427325 \nL 490.212146 306.980255 \nL 495.336113 293.659346 \nL 500.46008 279.471216 \nL 505.584047 264.437072 \nL 510.708014 248.59558 \nL 515.831981 232.006113 \nL 520.955948 214.752411 \nL 526.079915 196.946685 \nL 531.203882 178.734221 \nL 536.327849 160.298512 \nL 541.451816 141.866987 \nL 546.575783 123.71737 \nL 551.699749 106.184738 \nL 556.823716 89.669332 \nL 561.947683 74.645194 \nL 567.07165 61.669674 \nL 572.195617 51.393914 \nL 577.319584 44.574362 \nL 582.443551 42.085398 \n\" clip-path=\"url(#pcfa0f41d41)\" style=\"fill: none; stroke: #dd8452; stroke-width: 1.5; stroke-linecap: round\"/>\n   </g>\n   <g id=\"patch_3\">\n    <path d=\"M 49.807188 457.198125 \nL 49.807188 22.318125 \n\" style=\"fill: none; stroke: #ffffff; stroke-width: 1.25; stroke-linejoin: miter; stroke-linecap: square\"/>\n   </g>\n   <g id=\"patch_4\">\n    <path d=\"M 607.807188 457.198125 \nL 607.807188 22.318125 \n\" style=\"fill: none; stroke: #ffffff; stroke-width: 1.25; stroke-linejoin: miter; stroke-linecap: square\"/>\n   </g>\n   <g id=\"patch_5\">\n    <path d=\"M 49.807188 457.198125 \nL 607.807188 457.198125 \n\" style=\"fill: none; stroke: #ffffff; stroke-width: 1.25; stroke-linejoin: miter; stroke-linecap: square\"/>\n   </g>\n   <g id=\"patch_6\">\n    <path d=\"M 49.807188 22.318125 \nL 607.807188 22.318125 \n\" style=\"fill: none; stroke: #ffffff; stroke-width: 1.25; stroke-linejoin: miter; stroke-linecap: square\"/>\n   </g>\n   <g id=\"text_15\">\n    <!-- p-value в зависимости от p для различных реализаций -->\n    <g style=\"fill: #262626\" transform=\"translate(154.93 16.318125)scale(0.12 -0.12)\">\n     <defs>\n      <path id=\"DejaVuSans-432\" d=\"M 1156 1613 \nL 1156 459 \nL 1975 459 \nQ 2369 459 2575 607 \nQ 2781 756 2781 1038 \nQ 2781 1319 2575 1466 \nQ 2369 1613 1975 1613 \nL 1156 1613 \nz\nM 1156 3041 \nL 1156 2072 \nL 1913 2072 \nQ 2238 2072 2444 2201 \nQ 2650 2331 2650 2563 \nQ 2650 2794 2444 2917 \nQ 2238 3041 1913 3041 \nL 1156 3041 \nz\nM 581 3500 \nL 1950 3500 \nQ 2566 3500 2897 3275 \nQ 3228 3050 3228 2634 \nQ 3228 2313 3059 2123 \nQ 2891 1934 2559 1888 \nQ 2956 1813 3175 1575 \nQ 3394 1338 3394 981 \nQ 3394 513 3033 256 \nQ 2672 0 2003 0 \nL 581 0 \nL 581 3500 \nz\n\" transform=\"scale(0.015625)\"/>\n      <path id=\"DejaVuSans-437\" d=\"M 2206 1888 \nQ 2594 1813 2809 1584 \nQ 3025 1356 3025 1019 \nQ 3025 478 2622 193 \nQ 2219 -91 1475 -91 \nQ 1225 -91 961 -47 \nQ 697 -3 416 84 \nL 416 619 \nQ 638 503 903 445 \nQ 1169 388 1459 388 \nQ 1931 388 2195 563 \nQ 2459 738 2459 1019 \nQ 2459 1294 2225 1461 \nQ 1991 1628 1563 1628 \nL 1100 1628 \nL 1100 2103 \nL 1584 2103 \nQ 1947 2103 2158 2242 \nQ 2369 2381 2369 2600 \nQ 2369 2800 2151 2944 \nQ 1934 3088 1563 3088 \nQ 1341 3088 1089 3047 \nQ 838 3006 534 2916 \nL 534 3438 \nQ 841 3513 1106 3550 \nQ 1372 3588 1609 3588 \nQ 2222 3588 2576 3342 \nQ 2931 3097 2931 2656 \nQ 2931 2366 2743 2164 \nQ 2556 1963 2206 1888 \nz\n\" transform=\"scale(0.015625)\"/>\n      <path id=\"DejaVuSans-441\" d=\"M 3122 3366 \nL 3122 2828 \nQ 2878 2963 2633 3030 \nQ 2388 3097 2138 3097 \nQ 1578 3097 1268 2742 \nQ 959 2388 959 1747 \nQ 959 1106 1268 751 \nQ 1578 397 2138 397 \nQ 2388 397 2633 464 \nQ 2878 531 3122 666 \nL 3122 134 \nQ 2881 22 2623 -34 \nQ 2366 -91 2075 -91 \nQ 1284 -91 818 406 \nQ 353 903 353 1747 \nQ 353 2603 823 3093 \nQ 1294 3584 2113 3584 \nQ 2378 3584 2631 3529 \nQ 2884 3475 3122 3366 \nz\n\" transform=\"scale(0.015625)\"/>\n      <path id=\"DejaVuSans-43c\" d=\"M 581 3500 \nL 1422 3500 \nL 2416 1156 \nL 3413 3500 \nL 4247 3500 \nL 4247 0 \nL 3669 0 \nL 3669 2950 \nL 2703 672 \nL 2128 672 \nL 1159 2950 \nL 1159 0 \nL 581 0 \nL 581 3500 \nz\n\" transform=\"scale(0.015625)\"/>\n      <path id=\"DejaVuSans-43e\" d=\"M 1959 3097 \nQ 1497 3097 1228 2736 \nQ 959 2375 959 1747 \nQ 959 1119 1226 758 \nQ 1494 397 1959 397 \nQ 2419 397 2687 759 \nQ 2956 1122 2956 1747 \nQ 2956 2369 2687 2733 \nQ 2419 3097 1959 3097 \nz\nM 1959 3584 \nQ 2709 3584 3137 3096 \nQ 3566 2609 3566 1747 \nQ 3566 888 3137 398 \nQ 2709 -91 1959 -91 \nQ 1206 -91 779 398 \nQ 353 888 353 1747 \nQ 353 2609 779 3096 \nQ 1206 3584 1959 3584 \nz\n\" transform=\"scale(0.015625)\"/>\n      <path id=\"DejaVuSans-442\" d=\"M 188 3500 \nL 3541 3500 \nL 3541 3041 \nL 2147 3041 \nL 2147 0 \nL 1581 0 \nL 1581 3041 \nL 188 3041 \nL 188 3500 \nz\n\" transform=\"scale(0.015625)\"/>\n      <path id=\"DejaVuSans-434\" d=\"M 1384 459 \nL 3053 459 \nL 3053 3041 \nL 1844 3041 \nL 1844 2603 \nQ 1844 1316 1475 628 \nL 1384 459 \nz\nM 550 459 \nQ 834 584 959 850 \nQ 1266 1509 1266 2838 \nL 1266 3500 \nL 3631 3500 \nL 3631 459 \nL 4091 459 \nL 4091 -884 \nL 3631 -884 \nL 3631 0 \nL 794 0 \nL 794 -884 \nL 334 -884 \nL 334 459 \nL 550 459 \nz\n\" transform=\"scale(0.015625)\"/>\n      <path id=\"DejaVuSans-43b\" d=\"M 238 0 \nL 238 478 \nQ 806 566 981 959 \nQ 1194 1513 1194 2928 \nL 1194 3500 \nL 3559 3500 \nL 3559 0 \nL 2984 0 \nL 2984 3041 \nL 1769 3041 \nL 1769 2694 \nQ 1769 1344 1494 738 \nQ 1200 91 238 0 \nz\n\" transform=\"scale(0.015625)\"/>\n      <path id=\"DejaVuSans-44f\" d=\"M 1181 2491 \nQ 1181 2231 1381 2084 \nQ 1581 1938 1953 1938 \nL 2728 1938 \nL 2728 3041 \nL 1953 3041 \nQ 1581 3041 1381 2897 \nQ 1181 2753 1181 2491 \nz\nM 363 0 \nL 1431 1534 \nQ 1069 1616 828 1830 \nQ 588 2044 588 2491 \nQ 588 2997 923 3248 \nQ 1259 3500 1938 3500 \nL 3306 3500 \nL 3306 0 \nL 2728 0 \nL 2728 1478 \nL 2013 1478 \nL 981 0 \nL 363 0 \nz\n\" transform=\"scale(0.015625)\"/>\n      <path id=\"DejaVuSans-440\" d=\"M 1159 525 \nL 1159 -1331 \nL 581 -1331 \nL 581 3500 \nL 1159 3500 \nL 1159 2969 \nQ 1341 3281 1617 3432 \nQ 1894 3584 2278 3584 \nQ 2916 3584 3314 3078 \nQ 3713 2572 3713 1747 \nQ 3713 922 3314 415 \nQ 2916 -91 2278 -91 \nQ 1894 -91 1617 61 \nQ 1341 213 1159 525 \nz\nM 3116 1747 \nQ 3116 2381 2855 2742 \nQ 2594 3103 2138 3103 \nQ 1681 3103 1420 2742 \nQ 1159 2381 1159 1747 \nQ 1159 1113 1420 752 \nQ 1681 391 2138 391 \nQ 2594 391 2855 752 \nQ 3116 1113 3116 1747 \nz\n\" transform=\"scale(0.015625)\"/>\n      <path id=\"DejaVuSans-44b\" d=\"M 3907 3500 \nL 4482 3500 \nL 4482 0 \nL 3907 0 \nL 3907 3500 \nz\nM 4195 3584 \nL 4195 3584 \nz\nM 2781 1038 \nQ 2781 1319 2576 1466 \nQ 2372 1613 1978 1613 \nL 1159 1613 \nL 1159 459 \nL 1978 459 \nQ 2372 459 2576 607 \nQ 2781 756 2781 1038 \nz\nM 581 3500 \nL 1159 3500 \nL 1159 2072 \nL 2003 2072 \nQ 2672 2072 3033 1817 \nQ 3394 1563 3394 1038 \nQ 3394 513 3033 256 \nQ 2672 0 2003 0 \nL 581 0 \nL 581 3500 \nz\n\" transform=\"scale(0.015625)\"/>\n      <path id=\"DejaVuSans-445\" d=\"M 3513 3500 \nL 2247 1797 \nL 3578 0 \nL 2900 0 \nL 1881 1375 \nL 863 0 \nL 184 0 \nL 1544 1831 \nL 300 3500 \nL 978 3500 \nL 1906 2253 \nL 2834 3500 \nL 3513 3500 \nz\n\" transform=\"scale(0.015625)\"/>\n      <path id=\"DejaVuSans-446\" d=\"M 3603 0 \nL 581 0 \nL 581 3500 \nL 1159 3500 \nL 1159 459 \nL 3025 459 \nL 3025 3500 \nL 3603 3500 \nL 3603 459 \nL 4063 459 \nL 4063 -884 \nL 3603 -884 \nL 3603 0 \nz\n\" transform=\"scale(0.015625)\"/>\n      <path id=\"DejaVuSans-439\" d=\"M 3578 3500 \nL 3578 0 \nL 3006 0 \nL 3006 2809 \nL 1319 0 \nL 581 0 \nL 581 3500 \nL 1153 3500 \nL 1153 697 \nL 2838 3500 \nL 3578 3500 \nz\nM 1102 4833 \nL 1471 4833 \nQ 1505 4599 1656 4481 \nQ 1808 4364 2080 4364 \nQ 2349 4364 2499 4480 \nQ 2649 4596 2689 4833 \nL 3058 4833 \nQ 3027 4386 2780 4161 \nQ 2533 3936 2080 3936 \nQ 1627 3936 1380 4161 \nQ 1133 4386 1102 4833 \nz\n\" transform=\"scale(0.015625)\"/>\n     </defs>\n     <use xlink:href=\"#DejaVuSans-70\"/>\n     <use xlink:href=\"#DejaVuSans-2d\" x=\"63.476562\"/>\n     <use xlink:href=\"#DejaVuSans-76\" x=\"96.935547\"/>\n     <use xlink:href=\"#DejaVuSans-61\" x=\"156.115234\"/>\n     <use xlink:href=\"#DejaVuSans-6c\" x=\"217.394531\"/>\n     <use xlink:href=\"#DejaVuSans-75\" x=\"245.177734\"/>\n     <use xlink:href=\"#DejaVuSans-65\" x=\"308.556641\"/>\n     <use xlink:href=\"#DejaVuSans-20\" x=\"370.080078\"/>\n     <use xlink:href=\"#DejaVuSans-432\" x=\"401.867188\"/>\n     <use xlink:href=\"#DejaVuSans-20\" x=\"460.802734\"/>\n     <use xlink:href=\"#DejaVuSans-437\" x=\"492.589844\"/>\n     <use xlink:href=\"#DejaVuSans-430\" x=\"545.763672\"/>\n     <use xlink:href=\"#DejaVuSans-432\" x=\"607.042969\"/>\n     <use xlink:href=\"#DejaVuSans-438\" x=\"665.978516\"/>\n     <use xlink:href=\"#DejaVuSans-441\" x=\"730.96875\"/>\n     <use xlink:href=\"#DejaVuSans-438\" x=\"785.949219\"/>\n     <use xlink:href=\"#DejaVuSans-43c\" x=\"850.939453\"/>\n     <use xlink:href=\"#DejaVuSans-43e\" x=\"926.378906\"/>\n     <use xlink:href=\"#DejaVuSans-441\" x=\"987.560547\"/>\n     <use xlink:href=\"#DejaVuSans-442\" x=\"1042.541016\"/>\n     <use xlink:href=\"#DejaVuSans-438\" x=\"1100.792969\"/>\n     <use xlink:href=\"#DejaVuSans-20\" x=\"1165.783203\"/>\n     <use xlink:href=\"#DejaVuSans-43e\" x=\"1197.570312\"/>\n     <use xlink:href=\"#DejaVuSans-442\" x=\"1258.751953\"/>\n     <use xlink:href=\"#DejaVuSans-20\" x=\"1317.003906\"/>\n     <use xlink:href=\"#DejaVuSans-70\" x=\"1348.791016\"/>\n     <use xlink:href=\"#DejaVuSans-20\" x=\"1412.267578\"/>\n     <use xlink:href=\"#DejaVuSans-434\" x=\"1444.054688\"/>\n     <use xlink:href=\"#DejaVuSans-43b\" x=\"1513.195312\"/>\n     <use xlink:href=\"#DejaVuSans-44f\" x=\"1577.111328\"/>\n     <use xlink:href=\"#DejaVuSans-20\" x=\"1637.267578\"/>\n     <use xlink:href=\"#DejaVuSans-440\" x=\"1669.054688\"/>\n     <use xlink:href=\"#DejaVuSans-430\" x=\"1732.53125\"/>\n     <use xlink:href=\"#DejaVuSans-437\" x=\"1793.810547\"/>\n     <use xlink:href=\"#DejaVuSans-43b\" x=\"1846.984375\"/>\n     <use xlink:href=\"#DejaVuSans-438\" x=\"1910.900391\"/>\n     <use xlink:href=\"#DejaVuSans-447\" x=\"1975.890625\"/>\n     <use xlink:href=\"#DejaVuSans-43d\" x=\"2034.972656\"/>\n     <use xlink:href=\"#DejaVuSans-44b\" x=\"2100.353516\"/>\n     <use xlink:href=\"#DejaVuSans-445\" x=\"2179.308594\"/>\n     <use xlink:href=\"#DejaVuSans-20\" x=\"2238.488281\"/>\n     <use xlink:href=\"#DejaVuSans-440\" x=\"2270.275391\"/>\n     <use xlink:href=\"#DejaVuSans-435\" x=\"2333.751953\"/>\n     <use xlink:href=\"#DejaVuSans-430\" x=\"2395.275391\"/>\n     <use xlink:href=\"#DejaVuSans-43b\" x=\"2456.554688\"/>\n     <use xlink:href=\"#DejaVuSans-438\" x=\"2520.470703\"/>\n     <use xlink:href=\"#DejaVuSans-437\" x=\"2585.460938\"/>\n     <use xlink:href=\"#DejaVuSans-430\" x=\"2638.634766\"/>\n     <use xlink:href=\"#DejaVuSans-446\" x=\"2699.914062\"/>\n     <use xlink:href=\"#DejaVuSans-438\" x=\"2767.980469\"/>\n     <use xlink:href=\"#DejaVuSans-439\" x=\"2832.970703\"/>\n    </g>\n   </g>\n   <g id=\"legend_1\">\n    <g id=\"patch_7\">\n     <path d=\"M 57.507188 63.41 \nL 192.229688 63.41 \nQ 194.429688 63.41 194.429688 61.21 \nL 194.429688 30.018125 \nQ 194.429688 27.818125 192.229688 27.818125 \nL 57.507188 27.818125 \nQ 55.307188 27.818125 55.307188 30.018125 \nL 55.307188 61.21 \nQ 55.307188 63.41 57.507188 63.41 \nz\n\" style=\"fill: #eaeaf2; opacity: 0.8; stroke: #cccccc; stroke-linejoin: miter\"/>\n    </g>\n    <g id=\"line2d_15\">\n     <path d=\"M 59.707188 36.726406 \nL 70.707188 36.726406 \nL 81.707188 36.726406 \n\" style=\"fill: none; stroke: #4c72b0; stroke-width: 1.5; stroke-linecap: round\"/>\n    </g>\n    <g id=\"text_16\">\n     <!-- Тест из scipy -->\n     <g style=\"fill: #262626\" transform=\"translate(90.507188 40.576406)scale(0.11 -0.11)\">\n      <defs>\n       <path id=\"DejaVuSans-422\" d=\"M -19 4666 \nL 3928 4666 \nL 3928 4134 \nL 2272 4134 \nL 2272 0 \nL 1638 0 \nL 1638 4134 \nL -19 4134 \nL -19 4666 \nz\n\" transform=\"scale(0.015625)\"/>\n       <path id=\"DejaVuSans-73\" d=\"M 2834 3397 \nL 2834 2853 \nQ 2591 2978 2328 3040 \nQ 2066 3103 1784 3103 \nQ 1356 3103 1142 2972 \nQ 928 2841 928 2578 \nQ 928 2378 1081 2264 \nQ 1234 2150 1697 2047 \nL 1894 2003 \nQ 2506 1872 2764 1633 \nQ 3022 1394 3022 966 \nQ 3022 478 2636 193 \nQ 2250 -91 1575 -91 \nQ 1294 -91 989 -36 \nQ 684 19 347 128 \nL 347 722 \nQ 666 556 975 473 \nQ 1284 391 1588 391 \nQ 1994 391 2212 530 \nQ 2431 669 2431 922 \nQ 2431 1156 2273 1281 \nQ 2116 1406 1581 1522 \nL 1381 1569 \nQ 847 1681 609 1914 \nQ 372 2147 372 2553 \nQ 372 3047 722 3315 \nQ 1072 3584 1716 3584 \nQ 2034 3584 2315 3537 \nQ 2597 3491 2834 3397 \nz\n\" transform=\"scale(0.015625)\"/>\n       <path id=\"DejaVuSans-63\" d=\"M 3122 3366 \nL 3122 2828 \nQ 2878 2963 2633 3030 \nQ 2388 3097 2138 3097 \nQ 1578 3097 1268 2742 \nQ 959 2388 959 1747 \nQ 959 1106 1268 751 \nQ 1578 397 2138 397 \nQ 2388 397 2633 464 \nQ 2878 531 3122 666 \nL 3122 134 \nQ 2881 22 2623 -34 \nQ 2366 -91 2075 -91 \nQ 1284 -91 818 406 \nQ 353 903 353 1747 \nQ 353 2603 823 3093 \nQ 1294 3584 2113 3584 \nQ 2378 3584 2631 3529 \nQ 2884 3475 3122 3366 \nz\n\" transform=\"scale(0.015625)\"/>\n       <path id=\"DejaVuSans-69\" d=\"M 603 3500 \nL 1178 3500 \nL 1178 0 \nL 603 0 \nL 603 3500 \nz\nM 603 4863 \nL 1178 4863 \nL 1178 4134 \nL 603 4134 \nL 603 4863 \nz\n\" transform=\"scale(0.015625)\"/>\n       <path id=\"DejaVuSans-79\" d=\"M 2059 -325 \nQ 1816 -950 1584 -1140 \nQ 1353 -1331 966 -1331 \nL 506 -1331 \nL 506 -850 \nL 844 -850 \nQ 1081 -850 1212 -737 \nQ 1344 -625 1503 -206 \nL 1606 56 \nL 191 3500 \nL 800 3500 \nL 1894 763 \nL 2988 3500 \nL 3597 3500 \nL 2059 -325 \nz\n\" transform=\"scale(0.015625)\"/>\n      </defs>\n      <use xlink:href=\"#DejaVuSans-422\"/>\n      <use xlink:href=\"#DejaVuSans-435\" x=\"61.083984\"/>\n      <use xlink:href=\"#DejaVuSans-441\" x=\"122.607422\"/>\n      <use xlink:href=\"#DejaVuSans-442\" x=\"177.587891\"/>\n      <use xlink:href=\"#DejaVuSans-20\" x=\"235.839844\"/>\n      <use xlink:href=\"#DejaVuSans-438\" x=\"267.626953\"/>\n      <use xlink:href=\"#DejaVuSans-437\" x=\"332.617188\"/>\n      <use xlink:href=\"#DejaVuSans-20\" x=\"385.791016\"/>\n      <use xlink:href=\"#DejaVuSans-73\" x=\"417.578125\"/>\n      <use xlink:href=\"#DejaVuSans-63\" x=\"469.677734\"/>\n      <use xlink:href=\"#DejaVuSans-69\" x=\"524.658203\"/>\n      <use xlink:href=\"#DejaVuSans-70\" x=\"552.441406\"/>\n      <use xlink:href=\"#DejaVuSans-79\" x=\"615.917969\"/>\n     </g>\n    </g>\n    <g id=\"line2d_16\">\n     <path d=\"M 59.707188 52.872344 \nL 70.707188 52.872344 \nL 81.707188 52.872344 \n\" style=\"fill: none; stroke: #dd8452; stroke-width: 1.5; stroke-linecap: round\"/>\n    </g>\n    <g id=\"text_17\">\n     <!-- Своя реализация -->\n     <g style=\"fill: #262626\" transform=\"translate(90.507188 56.722344)scale(0.11 -0.11)\">\n      <defs>\n       <path id=\"DejaVuSans-421\" d=\"M 4122 4306 \nL 4122 3641 \nQ 3803 3938 3442 4084 \nQ 3081 4231 2675 4231 \nQ 1875 4231 1450 3742 \nQ 1025 3253 1025 2328 \nQ 1025 1406 1450 917 \nQ 1875 428 2675 428 \nQ 3081 428 3442 575 \nQ 3803 722 4122 1019 \nL 4122 359 \nQ 3791 134 3420 21 \nQ 3050 -91 2638 -91 \nQ 1578 -91 968 557 \nQ 359 1206 359 2328 \nQ 359 3453 968 4101 \nQ 1578 4750 2638 4750 \nQ 3056 4750 3426 4639 \nQ 3797 4528 4122 4306 \nz\n\" transform=\"scale(0.015625)\"/>\n      </defs>\n      <use xlink:href=\"#DejaVuSans-421\"/>\n      <use xlink:href=\"#DejaVuSans-432\" x=\"69.824219\"/>\n      <use xlink:href=\"#DejaVuSans-43e\" x=\"128.759766\"/>\n      <use xlink:href=\"#DejaVuSans-44f\" x=\"189.941406\"/>\n      <use xlink:href=\"#DejaVuSans-20\" x=\"250.097656\"/>\n      <use xlink:href=\"#DejaVuSans-440\" x=\"281.884766\"/>\n      <use xlink:href=\"#DejaVuSans-435\" x=\"345.361328\"/>\n      <use xlink:href=\"#DejaVuSans-430\" x=\"406.884766\"/>\n      <use xlink:href=\"#DejaVuSans-43b\" x=\"468.164062\"/>\n      <use xlink:href=\"#DejaVuSans-438\" x=\"532.080078\"/>\n      <use xlink:href=\"#DejaVuSans-437\" x=\"597.070312\"/>\n      <use xlink:href=\"#DejaVuSans-430\" x=\"650.244141\"/>\n      <use xlink:href=\"#DejaVuSans-446\" x=\"711.523438\"/>\n      <use xlink:href=\"#DejaVuSans-438\" x=\"779.589844\"/>\n      <use xlink:href=\"#DejaVuSans-44f\" x=\"844.580078\"/>\n     </g>\n    </g>\n   </g>\n  </g>\n </g>\n <defs>\n  <clipPath id=\"pcfa0f41d41\">\n   <rect x=\"49.807188\" y=\"22.318125\" width=\"558\" height=\"434.88\"/>\n  </clipPath>\n </defs>\n</svg>\n"
          },
          "metadata": {
            "needs_background": "light"
          }
        }
      ]
    },
    {
      "cell_type": "markdown",
      "source": [
        "Судя по графикам, получаемые значения в обоих тестах очень близки друг к другу, почти полностью совпадают, визуально графики наслаиваются друг на друга. "
      ],
      "metadata": {
        "id": "Cg6n280KpLw4"
      }
    },
    {
      "cell_type": "markdown",
      "source": [
        "Далее сравним тесты применительно к рассматриваемой задаче:"
      ],
      "metadata": {
        "id": "AwcynHTWp9Q1"
      }
    },
    {
      "cell_type": "code",
      "source": [
        "print(f'Scipy test p-value: {sp.stats.binom_test(n_pos, n, p, \"greater\")}')\n",
        "print(f'Custom test p-value: {p_value(n_pos, n - n_pos, p)}')"
      ],
      "metadata": {
        "colab": {
          "base_uri": "https://localhost:8080/"
        },
        "id": "rioVyJ3HqDPO",
        "outputId": "4089377e-5d00-4930-e254-196371490854"
      },
      "execution_count": null,
      "outputs": [
        {
          "output_type": "stream",
          "name": "stdout",
          "text": [
            "Scipy test p-value: 1.0900000000000006e-10\n",
            "Custom test p-value: 1.0900000000000006e-10\n"
          ]
        }
      ]
    },
    {
      "cell_type": "markdown",
      "source": [
        "Полученные значения совпадают. Значение p-value=$1.0900000000000006^{-10}$ меньше заданного уровня значимости $0.05$, следовательно, гипотеза $H_0$ отвергается при уровне значимости $0.05$."
      ],
      "metadata": {
        "id": "j653K7jfqtII"
      }
    },
    {
      "cell_type": "markdown",
      "metadata": {
        "id": "bZtWyaujAGwR"
      },
      "source": [
        "2. Воспользуйтесь z-критерием для вычисления p-value (`proportions_ztest` из `statsmodels`)."
      ]
    },
    {
      "cell_type": "code",
      "execution_count": null,
      "metadata": {
        "colab": {
          "base_uri": "https://localhost:8080/"
        },
        "id": "TzqlXpVGAGwS",
        "outputId": "d1f69644-19d0-4732-e1f6-38774a710f58"
      },
      "outputs": [
        {
          "output_type": "execute_result",
          "data": {
            "text/plain": [
              "6.85528054545589e-25"
            ]
          },
          "metadata": {},
          "execution_count": 20
        }
      ],
      "source": [
        "# Your code goes here...\n",
        "from statsmodels.stats.proportion import proportions_ztest\n",
        "proportions_ztest(n_pos, n, 0.1, 'larger')[1]"
      ]
    },
    {
      "cell_type": "markdown",
      "source": [
        "Гипотеза $H_0$ так же будет отвергнута при том же уровне значимости.\n"
      ],
      "metadata": {
        "id": "V2UYks47u4_k"
      }
    },
    {
      "cell_type": "markdown",
      "metadata": {
        "id": "vJCSTp3nAGwT"
      },
      "source": [
        "3. Получите доверительный интервал Клоппера-Пирсона. (`proportion_confint` из `statsmodels` для построения доверительного интервала)"
      ]
    },
    {
      "cell_type": "code",
      "execution_count": null,
      "metadata": {
        "colab": {
          "base_uri": "https://localhost:8080/"
        },
        "id": "kU7FBkWxAGwU",
        "outputId": "158cd259-7068-4a92-e5f1-137f2535d58b"
      },
      "outputs": [
        {
          "output_type": "execute_result",
          "data": {
            "text/plain": [
              "(0.7602897792479355, 1.0)"
            ]
          },
          "metadata": {},
          "execution_count": 21
        }
      ],
      "source": [
        "# Your code goes here...\n",
        "from statsmodels.stats.proportion import proportion_confint\n",
        "proportion_confint(n_pos, n)"
      ]
    },
    {
      "cell_type": "markdown",
      "metadata": {
        "id": "VB-ep3ctAGwV"
      },
      "source": [
        "4. Реализуйте формулы для подсчёта уровней значимости критерием Вальда и множителей Лагранжа (используйте `norm.sf` из `scipy`). Проанализируйте результаты."
      ]
    },
    {
      "cell_type": "markdown",
      "source": [
        "Рассмотрим критерий Вальда. В данной задаче по сути имеем биномиальное распределение $Bin(n, p)$: $X_1, \\cdots, X_n \\sim Ber(p), \\sum\\limits_{i=1}^n X_i \\sim Bin(n, p)$.  В качестве статистики возьмем $T=\\sum\\limits_{i=1}^n X_i$.\n",
        "\n",
        "Правдоподобие: $L(p)=p^T(1-p)^{n - T} \\Rightarrow \\log L(p) = T\\log p+(n-T)\\log(1-p)$. \n",
        "\n",
        "$\\frac{\\partial \\log L(p)}{\\partial p}=\\frac{T}{p}-\\frac{n - T}{1 - p}=0 \\Rightarrow \\hat p_{MLE}=\\frac{T}{n}$. \n",
        "\n",
        "$\\mathbb{D}\\hat p_{MLE}=\\frac{\\hat p_{MLE} (1 - \\hat p_{MLE})}{n} \\Rightarrow Z_W=\\frac{\\hat p_{MLE} - p_0}{\\sqrt{\\frac{\\hat p_{MLE} (1 - \\hat p_{MLE})}{n}}}$.\n",
        "\n",
        "Будем рассматривать правостороннюю альтернативу."
      ],
      "metadata": {
        "id": "c9LZy3q3-CCm"
      }
    },
    {
      "cell_type": "code",
      "execution_count": null,
      "metadata": {
        "id": "H7X8oJHXAGwX"
      },
      "outputs": [],
      "source": [
        "# Your code goes here...\n",
        "def wald_test(n, n_pos, p, alt_type):\n",
        "    p_mle = n_pos / n\n",
        "    D_p_mle = p_mle * (1 - p_mle) / n\n",
        "    Z_w = (p_mle - p) / np.sqrt(D_p_mle)\n",
        "    if alt_type == 'left':\n",
        "        return sp.stats.norm.cdf(Z_w)\n",
        "    elif alt_type == 'right':\n",
        "        return sp.stats.norm.sf(Z_w)\n",
        "    elif alt_type == 'two-sided':\n",
        "        return 2 * sp.stats.norm.sf(np.abs(Z_w))"
      ]
    },
    {
      "cell_type": "markdown",
      "source": [
        "Рассмотрим при различных $p$:"
      ],
      "metadata": {
        "id": "HqJEumYCG-i9"
      }
    },
    {
      "cell_type": "code",
      "source": [
        "plt.figure(figsize=(10,8))\n",
        "p_vals = np.linspace(0, 1, 100)\n",
        "wald_test_vals = np.array([wald_test(n, n_pos, i, 'right') for i in p_vals])\n",
        "plt.plot(p_vals, wald_test_vals)\n",
        "plt.title('p-value в тесте Вальда при различных p, правосторонняя гипотеза')\n",
        "plt.xlabel('Значение p')\n",
        "plt.ylabel('p-value')\n",
        "plt.grid(True)"
      ],
      "metadata": {
        "colab": {
          "base_uri": "https://localhost:8080/",
          "height": 688
        },
        "id": "4esLRoOdIkec",
        "outputId": "7ccd09d4-50b2-489b-b0ce-9be1d81b5b91"
      },
      "execution_count": null,
      "outputs": [
        {
          "output_type": "display_data",
          "data": {
            "text/plain": [
              "<Figure size 720x576 with 1 Axes>"
            ],
            "image/svg+xml": "<?xml version=\"1.0\" encoding=\"utf-8\" standalone=\"no\"?>\n<!DOCTYPE svg PUBLIC \"-//W3C//DTD SVG 1.1//EN\"\n  \"http://www.w3.org/Graphics/SVG/1.1/DTD/svg11.dtd\">\n<svg xmlns:xlink=\"http://www.w3.org/1999/xlink\" width=\"615.007187pt\" height=\"500.157812pt\" viewBox=\"0 0 615.007187 500.157812\" xmlns=\"http://www.w3.org/2000/svg\" version=\"1.1\">\n <metadata>\n  <rdf:RDF xmlns:dc=\"http://purl.org/dc/elements/1.1/\" xmlns:cc=\"http://creativecommons.org/ns#\" xmlns:rdf=\"http://www.w3.org/1999/02/22-rdf-syntax-ns#\">\n   <cc:Work>\n    <dc:type rdf:resource=\"http://purl.org/dc/dcmitype/StillImage\"/>\n    <dc:date>2023-03-10T17:01:34.502727</dc:date>\n    <dc:format>image/svg+xml</dc:format>\n    <dc:creator>\n     <cc:Agent>\n      <dc:title>Matplotlib v3.5.3, https://matplotlib.org/</dc:title>\n     </cc:Agent>\n    </dc:creator>\n   </cc:Work>\n  </rdf:RDF>\n </metadata>\n <defs>\n  <style type=\"text/css\">*{stroke-linejoin: round; stroke-linecap: butt}</style>\n </defs>\n <g id=\"figure_1\">\n  <g id=\"patch_1\">\n   <path d=\"M 0 500.157812 \nL 615.007187 500.157812 \nL 615.007187 0 \nL 0 0 \nL 0 500.157812 \nz\n\" style=\"fill: none\"/>\n  </g>\n  <g id=\"axes_1\">\n   <g id=\"patch_2\">\n    <path d=\"M 49.807188 457.198125 \nL 607.807188 457.198125 \nL 607.807188 22.318125 \nL 49.807188 22.318125 \nz\n\" style=\"fill: #eaeaf2\"/>\n   </g>\n   <g id=\"matplotlib.axis_1\">\n    <g id=\"xtick_1\">\n     <g id=\"line2d_1\">\n      <path d=\"M 75.170824 457.198125 \nL 75.170824 22.318125 \n\" clip-path=\"url(#p0081c65ead)\" style=\"fill: none; stroke: #ffffff; stroke-linecap: round\"/>\n     </g>\n     <g id=\"text_1\">\n      <!-- 0.0 -->\n      <g style=\"fill: #262626\" transform=\"translate(66.424105 475.056406)scale(0.11 -0.11)\">\n       <defs>\n        <path id=\"DejaVuSans-30\" d=\"M 2034 4250 \nQ 1547 4250 1301 3770 \nQ 1056 3291 1056 2328 \nQ 1056 1369 1301 889 \nQ 1547 409 2034 409 \nQ 2525 409 2770 889 \nQ 3016 1369 3016 2328 \nQ 3016 3291 2770 3770 \nQ 2525 4250 2034 4250 \nz\nM 2034 4750 \nQ 2819 4750 3233 4129 \nQ 3647 3509 3647 2328 \nQ 3647 1150 3233 529 \nQ 2819 -91 2034 -91 \nQ 1250 -91 836 529 \nQ 422 1150 422 2328 \nQ 422 3509 836 4129 \nQ 1250 4750 2034 4750 \nz\n\" transform=\"scale(0.015625)\"/>\n        <path id=\"DejaVuSans-2e\" d=\"M 684 794 \nL 1344 794 \nL 1344 0 \nL 684 0 \nL 684 794 \nz\n\" transform=\"scale(0.015625)\"/>\n       </defs>\n       <use xlink:href=\"#DejaVuSans-30\"/>\n       <use xlink:href=\"#DejaVuSans-2e\" x=\"63.623047\"/>\n       <use xlink:href=\"#DejaVuSans-30\" x=\"95.410156\"/>\n      </g>\n     </g>\n    </g>\n    <g id=\"xtick_2\">\n     <g id=\"line2d_2\">\n      <path d=\"M 176.625369 457.198125 \nL 176.625369 22.318125 \n\" clip-path=\"url(#p0081c65ead)\" style=\"fill: none; stroke: #ffffff; stroke-linecap: round\"/>\n     </g>\n     <g id=\"text_2\">\n      <!-- 0.2 -->\n      <g style=\"fill: #262626\" transform=\"translate(167.878651 475.056406)scale(0.11 -0.11)\">\n       <defs>\n        <path id=\"DejaVuSans-32\" d=\"M 1228 531 \nL 3431 531 \nL 3431 0 \nL 469 0 \nL 469 531 \nQ 828 903 1448 1529 \nQ 2069 2156 2228 2338 \nQ 2531 2678 2651 2914 \nQ 2772 3150 2772 3378 \nQ 2772 3750 2511 3984 \nQ 2250 4219 1831 4219 \nQ 1534 4219 1204 4116 \nQ 875 4013 500 3803 \nL 500 4441 \nQ 881 4594 1212 4672 \nQ 1544 4750 1819 4750 \nQ 2544 4750 2975 4387 \nQ 3406 4025 3406 3419 \nQ 3406 3131 3298 2873 \nQ 3191 2616 2906 2266 \nQ 2828 2175 2409 1742 \nQ 1991 1309 1228 531 \nz\n\" transform=\"scale(0.015625)\"/>\n       </defs>\n       <use xlink:href=\"#DejaVuSans-30\"/>\n       <use xlink:href=\"#DejaVuSans-2e\" x=\"63.623047\"/>\n       <use xlink:href=\"#DejaVuSans-32\" x=\"95.410156\"/>\n      </g>\n     </g>\n    </g>\n    <g id=\"xtick_3\">\n     <g id=\"line2d_3\">\n      <path d=\"M 278.079915 457.198125 \nL 278.079915 22.318125 \n\" clip-path=\"url(#p0081c65ead)\" style=\"fill: none; stroke: #ffffff; stroke-linecap: round\"/>\n     </g>\n     <g id=\"text_3\">\n      <!-- 0.4 -->\n      <g style=\"fill: #262626\" transform=\"translate(269.333196 475.056406)scale(0.11 -0.11)\">\n       <defs>\n        <path id=\"DejaVuSans-34\" d=\"M 2419 4116 \nL 825 1625 \nL 2419 1625 \nL 2419 4116 \nz\nM 2253 4666 \nL 3047 4666 \nL 3047 1625 \nL 3713 1625 \nL 3713 1100 \nL 3047 1100 \nL 3047 0 \nL 2419 0 \nL 2419 1100 \nL 313 1100 \nL 313 1709 \nL 2253 4666 \nz\n\" transform=\"scale(0.015625)\"/>\n       </defs>\n       <use xlink:href=\"#DejaVuSans-30\"/>\n       <use xlink:href=\"#DejaVuSans-2e\" x=\"63.623047\"/>\n       <use xlink:href=\"#DejaVuSans-34\" x=\"95.410156\"/>\n      </g>\n     </g>\n    </g>\n    <g id=\"xtick_4\">\n     <g id=\"line2d_4\">\n      <path d=\"M 379.53446 457.198125 \nL 379.53446 22.318125 \n\" clip-path=\"url(#p0081c65ead)\" style=\"fill: none; stroke: #ffffff; stroke-linecap: round\"/>\n     </g>\n     <g id=\"text_4\">\n      <!-- 0.6 -->\n      <g style=\"fill: #262626\" transform=\"translate(370.787741 475.056406)scale(0.11 -0.11)\">\n       <defs>\n        <path id=\"DejaVuSans-36\" d=\"M 2113 2584 \nQ 1688 2584 1439 2293 \nQ 1191 2003 1191 1497 \nQ 1191 994 1439 701 \nQ 1688 409 2113 409 \nQ 2538 409 2786 701 \nQ 3034 994 3034 1497 \nQ 3034 2003 2786 2293 \nQ 2538 2584 2113 2584 \nz\nM 3366 4563 \nL 3366 3988 \nQ 3128 4100 2886 4159 \nQ 2644 4219 2406 4219 \nQ 1781 4219 1451 3797 \nQ 1122 3375 1075 2522 \nQ 1259 2794 1537 2939 \nQ 1816 3084 2150 3084 \nQ 2853 3084 3261 2657 \nQ 3669 2231 3669 1497 \nQ 3669 778 3244 343 \nQ 2819 -91 2113 -91 \nQ 1303 -91 875 529 \nQ 447 1150 447 2328 \nQ 447 3434 972 4092 \nQ 1497 4750 2381 4750 \nQ 2619 4750 2861 4703 \nQ 3103 4656 3366 4563 \nz\n\" transform=\"scale(0.015625)\"/>\n       </defs>\n       <use xlink:href=\"#DejaVuSans-30\"/>\n       <use xlink:href=\"#DejaVuSans-2e\" x=\"63.623047\"/>\n       <use xlink:href=\"#DejaVuSans-36\" x=\"95.410156\"/>\n      </g>\n     </g>\n    </g>\n    <g id=\"xtick_5\">\n     <g id=\"line2d_5\">\n      <path d=\"M 480.989006 457.198125 \nL 480.989006 22.318125 \n\" clip-path=\"url(#p0081c65ead)\" style=\"fill: none; stroke: #ffffff; stroke-linecap: round\"/>\n     </g>\n     <g id=\"text_5\">\n      <!-- 0.8 -->\n      <g style=\"fill: #262626\" transform=\"translate(472.242287 475.056406)scale(0.11 -0.11)\">\n       <defs>\n        <path id=\"DejaVuSans-38\" d=\"M 2034 2216 \nQ 1584 2216 1326 1975 \nQ 1069 1734 1069 1313 \nQ 1069 891 1326 650 \nQ 1584 409 2034 409 \nQ 2484 409 2743 651 \nQ 3003 894 3003 1313 \nQ 3003 1734 2745 1975 \nQ 2488 2216 2034 2216 \nz\nM 1403 2484 \nQ 997 2584 770 2862 \nQ 544 3141 544 3541 \nQ 544 4100 942 4425 \nQ 1341 4750 2034 4750 \nQ 2731 4750 3128 4425 \nQ 3525 4100 3525 3541 \nQ 3525 3141 3298 2862 \nQ 3072 2584 2669 2484 \nQ 3125 2378 3379 2068 \nQ 3634 1759 3634 1313 \nQ 3634 634 3220 271 \nQ 2806 -91 2034 -91 \nQ 1263 -91 848 271 \nQ 434 634 434 1313 \nQ 434 1759 690 2068 \nQ 947 2378 1403 2484 \nz\nM 1172 3481 \nQ 1172 3119 1398 2916 \nQ 1625 2713 2034 2713 \nQ 2441 2713 2670 2916 \nQ 2900 3119 2900 3481 \nQ 2900 3844 2670 4047 \nQ 2441 4250 2034 4250 \nQ 1625 4250 1398 4047 \nQ 1172 3844 1172 3481 \nz\n\" transform=\"scale(0.015625)\"/>\n       </defs>\n       <use xlink:href=\"#DejaVuSans-30\"/>\n       <use xlink:href=\"#DejaVuSans-2e\" x=\"63.623047\"/>\n       <use xlink:href=\"#DejaVuSans-38\" x=\"95.410156\"/>\n      </g>\n     </g>\n    </g>\n    <g id=\"xtick_6\">\n     <g id=\"line2d_6\">\n      <path d=\"M 582.443551 457.198125 \nL 582.443551 22.318125 \n\" clip-path=\"url(#p0081c65ead)\" style=\"fill: none; stroke: #ffffff; stroke-linecap: round\"/>\n     </g>\n     <g id=\"text_6\">\n      <!-- 1.0 -->\n      <g style=\"fill: #262626\" transform=\"translate(573.696832 475.056406)scale(0.11 -0.11)\">\n       <defs>\n        <path id=\"DejaVuSans-31\" d=\"M 794 531 \nL 1825 531 \nL 1825 4091 \nL 703 3866 \nL 703 4441 \nL 1819 4666 \nL 2450 4666 \nL 2450 531 \nL 3481 531 \nL 3481 0 \nL 794 0 \nL 794 531 \nz\n\" transform=\"scale(0.015625)\"/>\n       </defs>\n       <use xlink:href=\"#DejaVuSans-31\"/>\n       <use xlink:href=\"#DejaVuSans-2e\" x=\"63.623047\"/>\n       <use xlink:href=\"#DejaVuSans-30\" x=\"95.410156\"/>\n      </g>\n     </g>\n    </g>\n    <g id=\"text_7\">\n     <!-- Значение p -->\n     <g style=\"fill: #262626\" transform=\"translate(292.895312 490.462187)scale(0.12 -0.12)\">\n      <defs>\n       <path id=\"DejaVuSans-417\" d=\"M 1828 4750 \nQ 2597 4750 3084 4423 \nQ 3572 4097 3572 3541 \nQ 3572 3153 3350 2886 \nQ 3128 2619 2719 2516 \nQ 3172 2419 3426 2112 \nQ 3681 1806 3681 1356 \nQ 3681 638 3126 273 \nQ 2572 -91 1828 -91 \nQ 1447 -91 1003 12 \nQ 559 116 422 203 \nL 422 853 \nQ 900 575 1164 508 \nQ 1428 441 1816 441 \nQ 2403 441 2728 666 \nQ 3053 891 3053 1356 \nQ 3053 1769 2764 2001 \nQ 2475 2234 1866 2234 \nL 1228 2234 \nL 1228 2753 \nL 1891 2753 \nQ 2450 2753 2697 2939 \nQ 2944 3125 2944 3475 \nQ 2944 3834 2689 4026 \nQ 2434 4219 1816 4219 \nQ 1397 4219 1253 4181 \nQ 1109 4144 469 3903 \nL 469 4519 \nQ 822 4644 1190 4697 \nQ 1559 4750 1828 4750 \nz\n\" transform=\"scale(0.015625)\"/>\n       <path id=\"DejaVuSans-43d\" d=\"M 581 3500 \nL 1159 3500 \nL 1159 2072 \nL 3025 2072 \nL 3025 3500 \nL 3603 3500 \nL 3603 0 \nL 3025 0 \nL 3025 1613 \nL 1159 1613 \nL 1159 0 \nL 581 0 \nL 581 3500 \nz\n\" transform=\"scale(0.015625)\"/>\n       <path id=\"DejaVuSans-430\" d=\"M 2194 1759 \nQ 1497 1759 1228 1600 \nQ 959 1441 959 1056 \nQ 959 750 1161 570 \nQ 1363 391 1709 391 \nQ 2188 391 2477 730 \nQ 2766 1069 2766 1631 \nL 2766 1759 \nL 2194 1759 \nz\nM 3341 1997 \nL 3341 0 \nL 2766 0 \nL 2766 531 \nQ 2569 213 2275 61 \nQ 1981 -91 1556 -91 \nQ 1019 -91 701 211 \nQ 384 513 384 1019 \nQ 384 1609 779 1909 \nQ 1175 2209 1959 2209 \nL 2766 2209 \nL 2766 2266 \nQ 2766 2663 2505 2880 \nQ 2244 3097 1772 3097 \nQ 1472 3097 1187 3025 \nQ 903 2953 641 2809 \nL 641 3341 \nQ 956 3463 1253 3523 \nQ 1550 3584 1831 3584 \nQ 2591 3584 2966 3190 \nQ 3341 2797 3341 1997 \nz\n\" transform=\"scale(0.015625)\"/>\n       <path id=\"DejaVuSans-447\" d=\"M 2625 0 \nL 2625 1472 \nL 1553 1472 \nQ 1075 1472 756 1769 \nQ 469 2038 469 2613 \nL 469 3500 \nL 1044 3500 \nL 1044 2666 \nQ 1044 2300 1206 2116 \nQ 1372 1931 1697 1931 \nL 2625 1931 \nL 2625 3500 \nL 3200 3500 \nL 3200 0 \nL 2625 0 \nz\n\" transform=\"scale(0.015625)\"/>\n       <path id=\"DejaVuSans-435\" d=\"M 3597 1894 \nL 3597 1613 \nL 953 1613 \nQ 991 1019 1311 708 \nQ 1631 397 2203 397 \nQ 2534 397 2845 478 \nQ 3156 559 3463 722 \nL 3463 178 \nQ 3153 47 2828 -22 \nQ 2503 -91 2169 -91 \nQ 1331 -91 842 396 \nQ 353 884 353 1716 \nQ 353 2575 817 3079 \nQ 1281 3584 2069 3584 \nQ 2775 3584 3186 3129 \nQ 3597 2675 3597 1894 \nz\nM 3022 2063 \nQ 3016 2534 2758 2815 \nQ 2500 3097 2075 3097 \nQ 1594 3097 1305 2825 \nQ 1016 2553 972 2059 \nL 3022 2063 \nz\n\" transform=\"scale(0.015625)\"/>\n       <path id=\"DejaVuSans-438\" d=\"M 3578 3500 \nL 3578 0 \nL 3006 0 \nL 3006 2809 \nL 1319 0 \nL 581 0 \nL 581 3500 \nL 1153 3500 \nL 1153 697 \nL 2838 3500 \nL 3578 3500 \nz\n\" transform=\"scale(0.015625)\"/>\n       <path id=\"DejaVuSans-20\" transform=\"scale(0.015625)\"/>\n       <path id=\"DejaVuSans-70\" d=\"M 1159 525 \nL 1159 -1331 \nL 581 -1331 \nL 581 3500 \nL 1159 3500 \nL 1159 2969 \nQ 1341 3281 1617 3432 \nQ 1894 3584 2278 3584 \nQ 2916 3584 3314 3078 \nQ 3713 2572 3713 1747 \nQ 3713 922 3314 415 \nQ 2916 -91 2278 -91 \nQ 1894 -91 1617 61 \nQ 1341 213 1159 525 \nz\nM 3116 1747 \nQ 3116 2381 2855 2742 \nQ 2594 3103 2138 3103 \nQ 1681 3103 1420 2742 \nQ 1159 2381 1159 1747 \nQ 1159 1113 1420 752 \nQ 1681 391 2138 391 \nQ 2594 391 2855 752 \nQ 3116 1113 3116 1747 \nz\n\" transform=\"scale(0.015625)\"/>\n      </defs>\n      <use xlink:href=\"#DejaVuSans-417\"/>\n      <use xlink:href=\"#DejaVuSans-43d\" x=\"64.111328\"/>\n      <use xlink:href=\"#DejaVuSans-430\" x=\"129.492188\"/>\n      <use xlink:href=\"#DejaVuSans-447\" x=\"190.771484\"/>\n      <use xlink:href=\"#DejaVuSans-435\" x=\"249.853516\"/>\n      <use xlink:href=\"#DejaVuSans-43d\" x=\"311.376953\"/>\n      <use xlink:href=\"#DejaVuSans-438\" x=\"376.757812\"/>\n      <use xlink:href=\"#DejaVuSans-435\" x=\"441.748047\"/>\n      <use xlink:href=\"#DejaVuSans-20\" x=\"503.271484\"/>\n      <use xlink:href=\"#DejaVuSans-70\" x=\"535.058594\"/>\n     </g>\n    </g>\n   </g>\n   <g id=\"matplotlib.axis_2\">\n    <g id=\"ytick_1\">\n     <g id=\"line2d_7\">\n      <path d=\"M 49.807188 437.430852 \nL 607.807188 437.430852 \n\" clip-path=\"url(#p0081c65ead)\" style=\"fill: none; stroke: #ffffff; stroke-linecap: round\"/>\n     </g>\n     <g id=\"text_8\">\n      <!-- 0.0 -->\n      <g style=\"fill: #262626\" transform=\"translate(22.81375 441.609993)scale(0.11 -0.11)\">\n       <use xlink:href=\"#DejaVuSans-30\"/>\n       <use xlink:href=\"#DejaVuSans-2e\" x=\"63.623047\"/>\n       <use xlink:href=\"#DejaVuSans-30\" x=\"95.410156\"/>\n      </g>\n     </g>\n    </g>\n    <g id=\"ytick_2\">\n     <g id=\"line2d_8\">\n      <path d=\"M 49.807188 344.612055 \nL 607.807188 344.612055 \n\" clip-path=\"url(#p0081c65ead)\" style=\"fill: none; stroke: #ffffff; stroke-linecap: round\"/>\n     </g>\n     <g id=\"text_9\">\n      <!-- 0.2 -->\n      <g style=\"fill: #262626\" transform=\"translate(22.81375 348.791195)scale(0.11 -0.11)\">\n       <use xlink:href=\"#DejaVuSans-30\"/>\n       <use xlink:href=\"#DejaVuSans-2e\" x=\"63.623047\"/>\n       <use xlink:href=\"#DejaVuSans-32\" x=\"95.410156\"/>\n      </g>\n     </g>\n    </g>\n    <g id=\"ytick_3\">\n     <g id=\"line2d_9\">\n      <path d=\"M 49.807188 251.793257 \nL 607.807188 251.793257 \n\" clip-path=\"url(#p0081c65ead)\" style=\"fill: none; stroke: #ffffff; stroke-linecap: round\"/>\n     </g>\n     <g id=\"text_10\">\n      <!-- 0.4 -->\n      <g style=\"fill: #262626\" transform=\"translate(22.81375 255.972398)scale(0.11 -0.11)\">\n       <use xlink:href=\"#DejaVuSans-30\"/>\n       <use xlink:href=\"#DejaVuSans-2e\" x=\"63.623047\"/>\n       <use xlink:href=\"#DejaVuSans-34\" x=\"95.410156\"/>\n      </g>\n     </g>\n    </g>\n    <g id=\"ytick_4\">\n     <g id=\"line2d_10\">\n      <path d=\"M 49.807188 158.97446 \nL 607.807188 158.97446 \n\" clip-path=\"url(#p0081c65ead)\" style=\"fill: none; stroke: #ffffff; stroke-linecap: round\"/>\n     </g>\n     <g id=\"text_11\">\n      <!-- 0.6 -->\n      <g style=\"fill: #262626\" transform=\"translate(22.81375 163.1536)scale(0.11 -0.11)\">\n       <use xlink:href=\"#DejaVuSans-30\"/>\n       <use xlink:href=\"#DejaVuSans-2e\" x=\"63.623047\"/>\n       <use xlink:href=\"#DejaVuSans-36\" x=\"95.410156\"/>\n      </g>\n     </g>\n    </g>\n    <g id=\"ytick_5\">\n     <g id=\"line2d_11\">\n      <path d=\"M 49.807188 66.155662 \nL 607.807188 66.155662 \n\" clip-path=\"url(#p0081c65ead)\" style=\"fill: none; stroke: #ffffff; stroke-linecap: round\"/>\n     </g>\n     <g id=\"text_12\">\n      <!-- 0.8 -->\n      <g style=\"fill: #262626\" transform=\"translate(22.81375 70.334803)scale(0.11 -0.11)\">\n       <use xlink:href=\"#DejaVuSans-30\"/>\n       <use xlink:href=\"#DejaVuSans-2e\" x=\"63.623047\"/>\n       <use xlink:href=\"#DejaVuSans-38\" x=\"95.410156\"/>\n      </g>\n     </g>\n    </g>\n    <g id=\"text_13\">\n     <!-- p-value -->\n     <g style=\"fill: #262626\" transform=\"translate(16.318125 261.96375)rotate(-90)scale(0.12 -0.12)\">\n      <defs>\n       <path id=\"DejaVuSans-2d\" d=\"M 313 2009 \nL 1997 2009 \nL 1997 1497 \nL 313 1497 \nL 313 2009 \nz\n\" transform=\"scale(0.015625)\"/>\n       <path id=\"DejaVuSans-76\" d=\"M 191 3500 \nL 800 3500 \nL 1894 563 \nL 2988 3500 \nL 3597 3500 \nL 2284 0 \nL 1503 0 \nL 191 3500 \nz\n\" transform=\"scale(0.015625)\"/>\n       <path id=\"DejaVuSans-61\" d=\"M 2194 1759 \nQ 1497 1759 1228 1600 \nQ 959 1441 959 1056 \nQ 959 750 1161 570 \nQ 1363 391 1709 391 \nQ 2188 391 2477 730 \nQ 2766 1069 2766 1631 \nL 2766 1759 \nL 2194 1759 \nz\nM 3341 1997 \nL 3341 0 \nL 2766 0 \nL 2766 531 \nQ 2569 213 2275 61 \nQ 1981 -91 1556 -91 \nQ 1019 -91 701 211 \nQ 384 513 384 1019 \nQ 384 1609 779 1909 \nQ 1175 2209 1959 2209 \nL 2766 2209 \nL 2766 2266 \nQ 2766 2663 2505 2880 \nQ 2244 3097 1772 3097 \nQ 1472 3097 1187 3025 \nQ 903 2953 641 2809 \nL 641 3341 \nQ 956 3463 1253 3523 \nQ 1550 3584 1831 3584 \nQ 2591 3584 2966 3190 \nQ 3341 2797 3341 1997 \nz\n\" transform=\"scale(0.015625)\"/>\n       <path id=\"DejaVuSans-6c\" d=\"M 603 4863 \nL 1178 4863 \nL 1178 0 \nL 603 0 \nL 603 4863 \nz\n\" transform=\"scale(0.015625)\"/>\n       <path id=\"DejaVuSans-75\" d=\"M 544 1381 \nL 544 3500 \nL 1119 3500 \nL 1119 1403 \nQ 1119 906 1312 657 \nQ 1506 409 1894 409 \nQ 2359 409 2629 706 \nQ 2900 1003 2900 1516 \nL 2900 3500 \nL 3475 3500 \nL 3475 0 \nL 2900 0 \nL 2900 538 \nQ 2691 219 2414 64 \nQ 2138 -91 1772 -91 \nQ 1169 -91 856 284 \nQ 544 659 544 1381 \nz\nM 1991 3584 \nL 1991 3584 \nz\n\" transform=\"scale(0.015625)\"/>\n       <path id=\"DejaVuSans-65\" d=\"M 3597 1894 \nL 3597 1613 \nL 953 1613 \nQ 991 1019 1311 708 \nQ 1631 397 2203 397 \nQ 2534 397 2845 478 \nQ 3156 559 3463 722 \nL 3463 178 \nQ 3153 47 2828 -22 \nQ 2503 -91 2169 -91 \nQ 1331 -91 842 396 \nQ 353 884 353 1716 \nQ 353 2575 817 3079 \nQ 1281 3584 2069 3584 \nQ 2775 3584 3186 3129 \nQ 3597 2675 3597 1894 \nz\nM 3022 2063 \nQ 3016 2534 2758 2815 \nQ 2500 3097 2075 3097 \nQ 1594 3097 1305 2825 \nQ 1016 2553 972 2059 \nL 3022 2063 \nz\n\" transform=\"scale(0.015625)\"/>\n      </defs>\n      <use xlink:href=\"#DejaVuSans-70\"/>\n      <use xlink:href=\"#DejaVuSans-2d\" x=\"63.476562\"/>\n      <use xlink:href=\"#DejaVuSans-76\" x=\"96.935547\"/>\n      <use xlink:href=\"#DejaVuSans-61\" x=\"156.115234\"/>\n      <use xlink:href=\"#DejaVuSans-6c\" x=\"217.394531\"/>\n      <use xlink:href=\"#DejaVuSans-75\" x=\"245.177734\"/>\n      <use xlink:href=\"#DejaVuSans-65\" x=\"308.556641\"/>\n     </g>\n    </g>\n   </g>\n   <g id=\"line2d_12\">\n    <path d=\"M 75.170824 437.430852 \nL 80.294791 437.430852 \nL 85.418758 437.430852 \nL 90.542725 437.430852 \nL 95.666692 437.430852 \nL 100.790659 437.430852 \nL 105.914626 437.430852 \nL 111.038592 437.430852 \nL 116.162559 437.430852 \nL 121.286526 437.430852 \nL 126.410493 437.430852 \nL 131.53446 437.430852 \nL 136.658427 437.430852 \nL 141.782394 437.430852 \nL 146.906361 437.430852 \nL 152.030328 437.430852 \nL 157.154295 437.430852 \nL 162.278262 437.430852 \nL 167.402229 437.430852 \nL 172.526196 437.430852 \nL 177.650163 437.430852 \nL 182.77413 437.430852 \nL 187.898097 437.430852 \nL 193.022064 437.430852 \nL 198.14603 437.430852 \nL 203.269997 437.430852 \nL 208.393964 437.430852 \nL 213.517931 437.430852 \nL 218.641898 437.430852 \nL 223.765865 437.430852 \nL 228.889832 437.430852 \nL 234.013799 437.430852 \nL 239.137766 437.430852 \nL 244.261733 437.430852 \nL 249.3857 437.430852 \nL 254.509667 437.430852 \nL 259.633634 437.430852 \nL 264.757601 437.430852 \nL 269.881568 437.430852 \nL 275.005535 437.430852 \nL 280.129502 437.430852 \nL 285.253468 437.430852 \nL 290.377435 437.430852 \nL 295.501402 437.430852 \nL 300.625369 437.430852 \nL 305.749336 437.430851 \nL 310.873303 437.430849 \nL 315.99727 437.430845 \nL 321.121237 437.430838 \nL 326.245204 437.430823 \nL 331.369171 437.430795 \nL 336.493138 437.43074 \nL 341.617105 437.430636 \nL 346.741072 437.430444 \nL 351.865039 437.430092 \nL 356.989006 437.429458 \nL 362.112973 437.428334 \nL 367.23694 437.426373 \nL 372.360907 437.423009 \nL 377.484873 437.417325 \nL 382.60884 437.407878 \nL 387.732807 437.392422 \nL 392.856774 437.36754 \nL 397.980741 437.328116 \nL 403.104708 437.266646 \nL 408.228675 437.172323 \nL 413.352642 437.029886 \nL 418.476609 436.818209 \nL 423.600576 436.508626 \nL 428.724543 436.063047 \nL 433.84851 435.43191 \nL 438.972477 434.55214 \nL 444.096444 433.345261 \nL 449.220411 431.71594 \nL 454.344378 429.551241 \nL 459.468345 426.72091 \nL 464.592311 423.079035 \nL 469.716278 418.467333 \nL 474.840245 412.720271 \nL 479.964212 405.672061 \nL 485.088179 397.165378 \nL 490.212146 387.061456 \nL 495.336113 375.25096 \nL 500.46008 361.664864 \nL 505.584047 346.284395 \nL 510.708014 329.149048 \nL 515.831981 310.361737 \nL 520.955948 290.09029 \nL 526.079915 268.564791 \nL 531.203882 246.070612 \nL 536.327849 222.937427 \nL 541.451816 199.524854 \nL 546.575783 176.205783 \nL 551.699749 153.348651 \nL 556.823716 131.30007 \nL 561.947683 110.369168 \nL 567.07165 90.814807 \nL 572.195617 72.836545 \nL 577.319584 56.569817 \nL 582.443551 42.085398 \n\" clip-path=\"url(#p0081c65ead)\" style=\"fill: none; stroke: #4c72b0; stroke-width: 1.5; stroke-linecap: round\"/>\n   </g>\n   <g id=\"patch_3\">\n    <path d=\"M 49.807188 457.198125 \nL 49.807188 22.318125 \n\" style=\"fill: none; stroke: #ffffff; stroke-width: 1.25; stroke-linejoin: miter; stroke-linecap: square\"/>\n   </g>\n   <g id=\"patch_4\">\n    <path d=\"M 607.807188 457.198125 \nL 607.807188 22.318125 \n\" style=\"fill: none; stroke: #ffffff; stroke-width: 1.25; stroke-linejoin: miter; stroke-linecap: square\"/>\n   </g>\n   <g id=\"patch_5\">\n    <path d=\"M 49.807188 457.198125 \nL 607.807188 457.198125 \n\" style=\"fill: none; stroke: #ffffff; stroke-width: 1.25; stroke-linejoin: miter; stroke-linecap: square\"/>\n   </g>\n   <g id=\"patch_6\">\n    <path d=\"M 49.807188 22.318125 \nL 607.807188 22.318125 \n\" style=\"fill: none; stroke: #ffffff; stroke-width: 1.25; stroke-linejoin: miter; stroke-linecap: square\"/>\n   </g>\n   <g id=\"text_14\">\n    <!-- p-value в тесте Вальда при различных p, правосторонняя гипотеза -->\n    <g style=\"fill: #262626\" transform=\"translate(115.309375 16.318125)scale(0.12 -0.12)\">\n     <defs>\n      <path id=\"DejaVuSans-432\" d=\"M 1156 1613 \nL 1156 459 \nL 1975 459 \nQ 2369 459 2575 607 \nQ 2781 756 2781 1038 \nQ 2781 1319 2575 1466 \nQ 2369 1613 1975 1613 \nL 1156 1613 \nz\nM 1156 3041 \nL 1156 2072 \nL 1913 2072 \nQ 2238 2072 2444 2201 \nQ 2650 2331 2650 2563 \nQ 2650 2794 2444 2917 \nQ 2238 3041 1913 3041 \nL 1156 3041 \nz\nM 581 3500 \nL 1950 3500 \nQ 2566 3500 2897 3275 \nQ 3228 3050 3228 2634 \nQ 3228 2313 3059 2123 \nQ 2891 1934 2559 1888 \nQ 2956 1813 3175 1575 \nQ 3394 1338 3394 981 \nQ 3394 513 3033 256 \nQ 2672 0 2003 0 \nL 581 0 \nL 581 3500 \nz\n\" transform=\"scale(0.015625)\"/>\n      <path id=\"DejaVuSans-442\" d=\"M 188 3500 \nL 3541 3500 \nL 3541 3041 \nL 2147 3041 \nL 2147 0 \nL 1581 0 \nL 1581 3041 \nL 188 3041 \nL 188 3500 \nz\n\" transform=\"scale(0.015625)\"/>\n      <path id=\"DejaVuSans-441\" d=\"M 3122 3366 \nL 3122 2828 \nQ 2878 2963 2633 3030 \nQ 2388 3097 2138 3097 \nQ 1578 3097 1268 2742 \nQ 959 2388 959 1747 \nQ 959 1106 1268 751 \nQ 1578 397 2138 397 \nQ 2388 397 2633 464 \nQ 2878 531 3122 666 \nL 3122 134 \nQ 2881 22 2623 -34 \nQ 2366 -91 2075 -91 \nQ 1284 -91 818 406 \nQ 353 903 353 1747 \nQ 353 2603 823 3093 \nQ 1294 3584 2113 3584 \nQ 2378 3584 2631 3529 \nQ 2884 3475 3122 3366 \nz\n\" transform=\"scale(0.015625)\"/>\n      <path id=\"DejaVuSans-412\" d=\"M 1259 2228 \nL 1259 519 \nL 2272 519 \nQ 2781 519 3026 730 \nQ 3272 941 3272 1375 \nQ 3272 1813 3026 2020 \nQ 2781 2228 2272 2228 \nL 1259 2228 \nz\nM 1259 4147 \nL 1259 2741 \nL 2194 2741 \nQ 2656 2741 2882 2914 \nQ 3109 3088 3109 3444 \nQ 3109 3797 2882 3972 \nQ 2656 4147 2194 4147 \nL 1259 4147 \nz\nM 628 4666 \nL 2241 4666 \nQ 2963 4666 3353 4366 \nQ 3744 4066 3744 3513 \nQ 3744 3084 3544 2831 \nQ 3344 2578 2956 2516 \nQ 3422 2416 3680 2098 \nQ 3938 1781 3938 1306 \nQ 3938 681 3513 340 \nQ 3088 0 2303 0 \nL 628 0 \nL 628 4666 \nz\n\" transform=\"scale(0.015625)\"/>\n      <path id=\"DejaVuSans-43b\" d=\"M 238 0 \nL 238 478 \nQ 806 566 981 959 \nQ 1194 1513 1194 2928 \nL 1194 3500 \nL 3559 3500 \nL 3559 0 \nL 2984 0 \nL 2984 3041 \nL 1769 3041 \nL 1769 2694 \nQ 1769 1344 1494 738 \nQ 1200 91 238 0 \nz\n\" transform=\"scale(0.015625)\"/>\n      <path id=\"DejaVuSans-44c\" d=\"M 2781 1038 \nQ 2781 1319 2576 1466 \nQ 2372 1613 1978 1613 \nL 1159 1613 \nL 1159 459 \nL 1978 459 \nQ 2372 459 2576 607 \nQ 2781 756 2781 1038 \nz\nM 581 3500 \nL 1159 3500 \nL 1159 2072 \nL 2003 2072 \nQ 2672 2072 3033 1817 \nQ 3394 1563 3394 1038 \nQ 3394 513 3033 256 \nQ 2672 0 2003 0 \nL 581 0 \nL 581 3500 \nz\n\" transform=\"scale(0.015625)\"/>\n      <path id=\"DejaVuSans-434\" d=\"M 1384 459 \nL 3053 459 \nL 3053 3041 \nL 1844 3041 \nL 1844 2603 \nQ 1844 1316 1475 628 \nL 1384 459 \nz\nM 550 459 \nQ 834 584 959 850 \nQ 1266 1509 1266 2838 \nL 1266 3500 \nL 3631 3500 \nL 3631 459 \nL 4091 459 \nL 4091 -884 \nL 3631 -884 \nL 3631 0 \nL 794 0 \nL 794 -884 \nL 334 -884 \nL 334 459 \nL 550 459 \nz\n\" transform=\"scale(0.015625)\"/>\n      <path id=\"DejaVuSans-43f\" d=\"M 3603 3500 \nL 3603 0 \nL 3025 0 \nL 3025 3041 \nL 1159 3041 \nL 1159 0 \nL 581 0 \nL 581 3500 \nL 3603 3500 \nz\n\" transform=\"scale(0.015625)\"/>\n      <path id=\"DejaVuSans-440\" d=\"M 1159 525 \nL 1159 -1331 \nL 581 -1331 \nL 581 3500 \nL 1159 3500 \nL 1159 2969 \nQ 1341 3281 1617 3432 \nQ 1894 3584 2278 3584 \nQ 2916 3584 3314 3078 \nQ 3713 2572 3713 1747 \nQ 3713 922 3314 415 \nQ 2916 -91 2278 -91 \nQ 1894 -91 1617 61 \nQ 1341 213 1159 525 \nz\nM 3116 1747 \nQ 3116 2381 2855 2742 \nQ 2594 3103 2138 3103 \nQ 1681 3103 1420 2742 \nQ 1159 2381 1159 1747 \nQ 1159 1113 1420 752 \nQ 1681 391 2138 391 \nQ 2594 391 2855 752 \nQ 3116 1113 3116 1747 \nz\n\" transform=\"scale(0.015625)\"/>\n      <path id=\"DejaVuSans-437\" d=\"M 2206 1888 \nQ 2594 1813 2809 1584 \nQ 3025 1356 3025 1019 \nQ 3025 478 2622 193 \nQ 2219 -91 1475 -91 \nQ 1225 -91 961 -47 \nQ 697 -3 416 84 \nL 416 619 \nQ 638 503 903 445 \nQ 1169 388 1459 388 \nQ 1931 388 2195 563 \nQ 2459 738 2459 1019 \nQ 2459 1294 2225 1461 \nQ 1991 1628 1563 1628 \nL 1100 1628 \nL 1100 2103 \nL 1584 2103 \nQ 1947 2103 2158 2242 \nQ 2369 2381 2369 2600 \nQ 2369 2800 2151 2944 \nQ 1934 3088 1563 3088 \nQ 1341 3088 1089 3047 \nQ 838 3006 534 2916 \nL 534 3438 \nQ 841 3513 1106 3550 \nQ 1372 3588 1609 3588 \nQ 2222 3588 2576 3342 \nQ 2931 3097 2931 2656 \nQ 2931 2366 2743 2164 \nQ 2556 1963 2206 1888 \nz\n\" transform=\"scale(0.015625)\"/>\n      <path id=\"DejaVuSans-44b\" d=\"M 3907 3500 \nL 4482 3500 \nL 4482 0 \nL 3907 0 \nL 3907 3500 \nz\nM 4195 3584 \nL 4195 3584 \nz\nM 2781 1038 \nQ 2781 1319 2576 1466 \nQ 2372 1613 1978 1613 \nL 1159 1613 \nL 1159 459 \nL 1978 459 \nQ 2372 459 2576 607 \nQ 2781 756 2781 1038 \nz\nM 581 3500 \nL 1159 3500 \nL 1159 2072 \nL 2003 2072 \nQ 2672 2072 3033 1817 \nQ 3394 1563 3394 1038 \nQ 3394 513 3033 256 \nQ 2672 0 2003 0 \nL 581 0 \nL 581 3500 \nz\n\" transform=\"scale(0.015625)\"/>\n      <path id=\"DejaVuSans-445\" d=\"M 3513 3500 \nL 2247 1797 \nL 3578 0 \nL 2900 0 \nL 1881 1375 \nL 863 0 \nL 184 0 \nL 1544 1831 \nL 300 3500 \nL 978 3500 \nL 1906 2253 \nL 2834 3500 \nL 3513 3500 \nz\n\" transform=\"scale(0.015625)\"/>\n      <path id=\"DejaVuSans-2c\" d=\"M 750 794 \nL 1409 794 \nL 1409 256 \nL 897 -744 \nL 494 -744 \nL 750 256 \nL 750 794 \nz\n\" transform=\"scale(0.015625)\"/>\n      <path id=\"DejaVuSans-43e\" d=\"M 1959 3097 \nQ 1497 3097 1228 2736 \nQ 959 2375 959 1747 \nQ 959 1119 1226 758 \nQ 1494 397 1959 397 \nQ 2419 397 2687 759 \nQ 2956 1122 2956 1747 \nQ 2956 2369 2687 2733 \nQ 2419 3097 1959 3097 \nz\nM 1959 3584 \nQ 2709 3584 3137 3096 \nQ 3566 2609 3566 1747 \nQ 3566 888 3137 398 \nQ 2709 -91 1959 -91 \nQ 1206 -91 779 398 \nQ 353 888 353 1747 \nQ 353 2609 779 3096 \nQ 1206 3584 1959 3584 \nz\n\" transform=\"scale(0.015625)\"/>\n      <path id=\"DejaVuSans-44f\" d=\"M 1181 2491 \nQ 1181 2231 1381 2084 \nQ 1581 1938 1953 1938 \nL 2728 1938 \nL 2728 3041 \nL 1953 3041 \nQ 1581 3041 1381 2897 \nQ 1181 2753 1181 2491 \nz\nM 363 0 \nL 1431 1534 \nQ 1069 1616 828 1830 \nQ 588 2044 588 2491 \nQ 588 2997 923 3248 \nQ 1259 3500 1938 3500 \nL 3306 3500 \nL 3306 0 \nL 2728 0 \nL 2728 1478 \nL 2013 1478 \nL 981 0 \nL 363 0 \nz\n\" transform=\"scale(0.015625)\"/>\n      <path id=\"DejaVuSans-433\" d=\"M 581 0 \nL 581 3500 \nL 3050 3500 \nL 3050 3041 \nL 1159 3041 \nL 1159 0 \nL 581 0 \nz\n\" transform=\"scale(0.015625)\"/>\n     </defs>\n     <use xlink:href=\"#DejaVuSans-70\"/>\n     <use xlink:href=\"#DejaVuSans-2d\" x=\"63.476562\"/>\n     <use xlink:href=\"#DejaVuSans-76\" x=\"96.935547\"/>\n     <use xlink:href=\"#DejaVuSans-61\" x=\"156.115234\"/>\n     <use xlink:href=\"#DejaVuSans-6c\" x=\"217.394531\"/>\n     <use xlink:href=\"#DejaVuSans-75\" x=\"245.177734\"/>\n     <use xlink:href=\"#DejaVuSans-65\" x=\"308.556641\"/>\n     <use xlink:href=\"#DejaVuSans-20\" x=\"370.080078\"/>\n     <use xlink:href=\"#DejaVuSans-432\" x=\"401.867188\"/>\n     <use xlink:href=\"#DejaVuSans-20\" x=\"460.802734\"/>\n     <use xlink:href=\"#DejaVuSans-442\" x=\"492.589844\"/>\n     <use xlink:href=\"#DejaVuSans-435\" x=\"550.841797\"/>\n     <use xlink:href=\"#DejaVuSans-441\" x=\"612.365234\"/>\n     <use xlink:href=\"#DejaVuSans-442\" x=\"667.345703\"/>\n     <use xlink:href=\"#DejaVuSans-435\" x=\"725.597656\"/>\n     <use xlink:href=\"#DejaVuSans-20\" x=\"787.121094\"/>\n     <use xlink:href=\"#DejaVuSans-412\" x=\"818.908203\"/>\n     <use xlink:href=\"#DejaVuSans-430\" x=\"887.511719\"/>\n     <use xlink:href=\"#DejaVuSans-43b\" x=\"948.791016\"/>\n     <use xlink:href=\"#DejaVuSans-44c\" x=\"1012.707031\"/>\n     <use xlink:href=\"#DejaVuSans-434\" x=\"1071.642578\"/>\n     <use xlink:href=\"#DejaVuSans-430\" x=\"1140.783203\"/>\n     <use xlink:href=\"#DejaVuSans-20\" x=\"1202.0625\"/>\n     <use xlink:href=\"#DejaVuSans-43f\" x=\"1233.849609\"/>\n     <use xlink:href=\"#DejaVuSans-440\" x=\"1299.230469\"/>\n     <use xlink:href=\"#DejaVuSans-438\" x=\"1362.707031\"/>\n     <use xlink:href=\"#DejaVuSans-20\" x=\"1427.697266\"/>\n     <use xlink:href=\"#DejaVuSans-440\" x=\"1459.484375\"/>\n     <use xlink:href=\"#DejaVuSans-430\" x=\"1522.960938\"/>\n     <use xlink:href=\"#DejaVuSans-437\" x=\"1584.240234\"/>\n     <use xlink:href=\"#DejaVuSans-43b\" x=\"1637.414062\"/>\n     <use xlink:href=\"#DejaVuSans-438\" x=\"1701.330078\"/>\n     <use xlink:href=\"#DejaVuSans-447\" x=\"1766.320312\"/>\n     <use xlink:href=\"#DejaVuSans-43d\" x=\"1825.402344\"/>\n     <use xlink:href=\"#DejaVuSans-44b\" x=\"1890.783203\"/>\n     <use xlink:href=\"#DejaVuSans-445\" x=\"1969.738281\"/>\n     <use xlink:href=\"#DejaVuSans-20\" x=\"2028.917969\"/>\n     <use xlink:href=\"#DejaVuSans-70\" x=\"2060.705078\"/>\n     <use xlink:href=\"#DejaVuSans-2c\" x=\"2124.181641\"/>\n     <use xlink:href=\"#DejaVuSans-20\" x=\"2155.96875\"/>\n     <use xlink:href=\"#DejaVuSans-43f\" x=\"2187.755859\"/>\n     <use xlink:href=\"#DejaVuSans-440\" x=\"2253.136719\"/>\n     <use xlink:href=\"#DejaVuSans-430\" x=\"2316.613281\"/>\n     <use xlink:href=\"#DejaVuSans-432\" x=\"2377.892578\"/>\n     <use xlink:href=\"#DejaVuSans-43e\" x=\"2436.828125\"/>\n     <use xlink:href=\"#DejaVuSans-441\" x=\"2498.009766\"/>\n     <use xlink:href=\"#DejaVuSans-442\" x=\"2552.990234\"/>\n     <use xlink:href=\"#DejaVuSans-43e\" x=\"2611.242188\"/>\n     <use xlink:href=\"#DejaVuSans-440\" x=\"2672.423828\"/>\n     <use xlink:href=\"#DejaVuSans-43e\" x=\"2735.900391\"/>\n     <use xlink:href=\"#DejaVuSans-43d\" x=\"2797.082031\"/>\n     <use xlink:href=\"#DejaVuSans-43d\" x=\"2862.462891\"/>\n     <use xlink:href=\"#DejaVuSans-44f\" x=\"2927.84375\"/>\n     <use xlink:href=\"#DejaVuSans-44f\" x=\"2988\"/>\n     <use xlink:href=\"#DejaVuSans-20\" x=\"3048.15625\"/>\n     <use xlink:href=\"#DejaVuSans-433\" x=\"3079.943359\"/>\n     <use xlink:href=\"#DejaVuSans-438\" x=\"3132.482422\"/>\n     <use xlink:href=\"#DejaVuSans-43f\" x=\"3197.472656\"/>\n     <use xlink:href=\"#DejaVuSans-43e\" x=\"3262.853516\"/>\n     <use xlink:href=\"#DejaVuSans-442\" x=\"3324.035156\"/>\n     <use xlink:href=\"#DejaVuSans-435\" x=\"3382.287109\"/>\n     <use xlink:href=\"#DejaVuSans-437\" x=\"3443.810547\"/>\n     <use xlink:href=\"#DejaVuSans-430\" x=\"3496.984375\"/>\n    </g>\n   </g>\n  </g>\n </g>\n <defs>\n  <clipPath id=\"p0081c65ead\">\n   <rect x=\"49.807188\" y=\"22.318125\" width=\"558\" height=\"434.88\"/>\n  </clipPath>\n </defs>\n</svg>\n"
          },
          "metadata": {
            "needs_background": "light"
          }
        }
      ]
    },
    {
      "cell_type": "markdown",
      "source": [
        "Рассмотрим применительно к задаче:"
      ],
      "metadata": {
        "id": "97pUhfmaJn2y"
      }
    },
    {
      "cell_type": "code",
      "source": [
        "wald_test(n, n_pos, p, 'right')"
      ],
      "metadata": {
        "colab": {
          "base_uri": "https://localhost:8080/"
        },
        "id": "UM-HsdOdJnHF",
        "outputId": "d8274187-2552-43b2-dfc3-5c59012d1f4a"
      },
      "execution_count": null,
      "outputs": [
        {
          "output_type": "execute_result",
          "data": {
            "text/plain": [
              "6.85528054545589e-25"
            ]
          },
          "metadata": {},
          "execution_count": 24
        }
      ]
    },
    {
      "cell_type": "markdown",
      "source": [
        "Таким образом, нулевая гипотеза так же будет отвергнута, т. к. полученный уровень значимости ниже заданного $0.05$."
      ],
      "metadata": {
        "id": "dj-y3amZKAaw"
      }
    },
    {
      "cell_type": "markdown",
      "source": [
        "Также рассмотрим $\\hat p_{MLE}$:"
      ],
      "metadata": {
        "id": "SGGhk_fmJ1V6"
      }
    },
    {
      "cell_type": "code",
      "source": [
        "p_mle = n_pos / n\n",
        "p_mle"
      ],
      "metadata": {
        "colab": {
          "base_uri": "https://localhost:8080/"
        },
        "id": "jnwvNPk-J7Pf",
        "outputId": "c533180f-dca5-4378-90c8-fc7f5fbf757c"
      },
      "execution_count": null,
      "outputs": [
        {
          "output_type": "execute_result",
          "data": {
            "text/plain": [
              "0.9166666666666666"
            ]
          },
          "metadata": {},
          "execution_count": 25
        }
      ]
    },
    {
      "cell_type": "markdown",
      "source": [
        "Результаты согласуются с графиком, наиболее вероятное значение параметра в задаче достаточно велико, и нулевая гипотеза будет отвергаться при малых $p$ как неверная."
      ],
      "metadata": {
        "id": "hbDdJXI6LAy-"
      }
    },
    {
      "cell_type": "markdown",
      "source": [
        "Рассмотрим критерий меток (множителей Лагранжа).\n",
        "\n",
        "$Z_S=\\frac{\\hat p_{MLE}-p_0}{\\sqrt{\\frac{p_0(1-p_0)}{n}}}$, $\\quad \\hat p_{MLE}=\\frac{T}{n}$\n",
        "\n"
      ],
      "metadata": {
        "id": "qzTc0HP8pwoB"
      }
    },
    {
      "cell_type": "code",
      "source": [
        "def lagrange_test(n, n_pos, p, alt_type):\n",
        "    p_mle = n_pos / n\n",
        "    Z_s = (p_mle - p) / np.sqrt(p * (1 - p) / n)\n",
        "    if alt_type == 'left':\n",
        "        return sp.stats.norm.cdf(Z_s)\n",
        "    elif alt_type == 'right':\n",
        "        return sp.stats.norm.sf(Z_s)\n",
        "    elif alt_type == 'two-sided':\n",
        "        return 2 * sp.stats.norm.sf(np.abs(Z_s))"
      ],
      "metadata": {
        "id": "cSwDjEfDrZnp"
      },
      "execution_count": null,
      "outputs": []
    },
    {
      "cell_type": "markdown",
      "source": [
        "Рассмотрим при различных $p$:"
      ],
      "metadata": {
        "id": "OZFHJR05o8WP"
      }
    },
    {
      "cell_type": "code",
      "source": [
        "plt.figure(figsize=(10,8))\n",
        "p_vals = np.linspace(0, 1, 100)\n",
        "lagrange_test_vals = np.array([lagrange_test(n, n_pos, i, 'right') for i in p_vals])\n",
        "plt.plot(p_vals, lagrange_test_vals)\n",
        "plt.title('p-value в критерии меток при различных p, правосторонняя гипотеза')\n",
        "plt.xlabel('Значение p')\n",
        "plt.ylabel('p-value')\n",
        "plt.grid(True)"
      ],
      "metadata": {
        "colab": {
          "base_uri": "https://localhost:8080/",
          "height": 688
        },
        "id": "cXmBfmb2o94x",
        "outputId": "f1b84e4c-4909-4593-a02f-18eb8e6d8450"
      },
      "execution_count": null,
      "outputs": [
        {
          "output_type": "display_data",
          "data": {
            "text/plain": [
              "<Figure size 720x576 with 1 Axes>"
            ],
            "image/svg+xml": "<?xml version=\"1.0\" encoding=\"utf-8\" standalone=\"no\"?>\n<!DOCTYPE svg PUBLIC \"-//W3C//DTD SVG 1.1//EN\"\n  \"http://www.w3.org/Graphics/SVG/1.1/DTD/svg11.dtd\">\n<svg xmlns:xlink=\"http://www.w3.org/1999/xlink\" width=\"615.007187pt\" height=\"500.157812pt\" viewBox=\"0 0 615.007187 500.157812\" xmlns=\"http://www.w3.org/2000/svg\" version=\"1.1\">\n <metadata>\n  <rdf:RDF xmlns:dc=\"http://purl.org/dc/elements/1.1/\" xmlns:cc=\"http://creativecommons.org/ns#\" xmlns:rdf=\"http://www.w3.org/1999/02/22-rdf-syntax-ns#\">\n   <cc:Work>\n    <dc:type rdf:resource=\"http://purl.org/dc/dcmitype/StillImage\"/>\n    <dc:date>2023-03-10T18:27:36.876191</dc:date>\n    <dc:format>image/svg+xml</dc:format>\n    <dc:creator>\n     <cc:Agent>\n      <dc:title>Matplotlib v3.5.3, https://matplotlib.org/</dc:title>\n     </cc:Agent>\n    </dc:creator>\n   </cc:Work>\n  </rdf:RDF>\n </metadata>\n <defs>\n  <style type=\"text/css\">*{stroke-linejoin: round; stroke-linecap: butt}</style>\n </defs>\n <g id=\"figure_1\">\n  <g id=\"patch_1\">\n   <path d=\"M 0 500.157812 \nL 615.007187 500.157812 \nL 615.007187 0 \nL 0 0 \nL 0 500.157812 \nz\n\" style=\"fill: none\"/>\n  </g>\n  <g id=\"axes_1\">\n   <g id=\"patch_2\">\n    <path d=\"M 49.807188 457.198125 \nL 607.807188 457.198125 \nL 607.807188 22.318125 \nL 49.807188 22.318125 \nz\n\" style=\"fill: #eaeaf2\"/>\n   </g>\n   <g id=\"matplotlib.axis_1\">\n    <g id=\"xtick_1\">\n     <g id=\"line2d_1\">\n      <path d=\"M 75.170824 457.198125 \nL 75.170824 22.318125 \n\" clip-path=\"url(#p4ca6212529)\" style=\"fill: none; stroke: #ffffff; stroke-linecap: round\"/>\n     </g>\n     <g id=\"text_1\">\n      <!-- 0.0 -->\n      <g style=\"fill: #262626\" transform=\"translate(66.424105 475.056406)scale(0.11 -0.11)\">\n       <defs>\n        <path id=\"DejaVuSans-30\" d=\"M 2034 4250 \nQ 1547 4250 1301 3770 \nQ 1056 3291 1056 2328 \nQ 1056 1369 1301 889 \nQ 1547 409 2034 409 \nQ 2525 409 2770 889 \nQ 3016 1369 3016 2328 \nQ 3016 3291 2770 3770 \nQ 2525 4250 2034 4250 \nz\nM 2034 4750 \nQ 2819 4750 3233 4129 \nQ 3647 3509 3647 2328 \nQ 3647 1150 3233 529 \nQ 2819 -91 2034 -91 \nQ 1250 -91 836 529 \nQ 422 1150 422 2328 \nQ 422 3509 836 4129 \nQ 1250 4750 2034 4750 \nz\n\" transform=\"scale(0.015625)\"/>\n        <path id=\"DejaVuSans-2e\" d=\"M 684 794 \nL 1344 794 \nL 1344 0 \nL 684 0 \nL 684 794 \nz\n\" transform=\"scale(0.015625)\"/>\n       </defs>\n       <use xlink:href=\"#DejaVuSans-30\"/>\n       <use xlink:href=\"#DejaVuSans-2e\" x=\"63.623047\"/>\n       <use xlink:href=\"#DejaVuSans-30\" x=\"95.410156\"/>\n      </g>\n     </g>\n    </g>\n    <g id=\"xtick_2\">\n     <g id=\"line2d_2\">\n      <path d=\"M 176.625369 457.198125 \nL 176.625369 22.318125 \n\" clip-path=\"url(#p4ca6212529)\" style=\"fill: none; stroke: #ffffff; stroke-linecap: round\"/>\n     </g>\n     <g id=\"text_2\">\n      <!-- 0.2 -->\n      <g style=\"fill: #262626\" transform=\"translate(167.878651 475.056406)scale(0.11 -0.11)\">\n       <defs>\n        <path id=\"DejaVuSans-32\" d=\"M 1228 531 \nL 3431 531 \nL 3431 0 \nL 469 0 \nL 469 531 \nQ 828 903 1448 1529 \nQ 2069 2156 2228 2338 \nQ 2531 2678 2651 2914 \nQ 2772 3150 2772 3378 \nQ 2772 3750 2511 3984 \nQ 2250 4219 1831 4219 \nQ 1534 4219 1204 4116 \nQ 875 4013 500 3803 \nL 500 4441 \nQ 881 4594 1212 4672 \nQ 1544 4750 1819 4750 \nQ 2544 4750 2975 4387 \nQ 3406 4025 3406 3419 \nQ 3406 3131 3298 2873 \nQ 3191 2616 2906 2266 \nQ 2828 2175 2409 1742 \nQ 1991 1309 1228 531 \nz\n\" transform=\"scale(0.015625)\"/>\n       </defs>\n       <use xlink:href=\"#DejaVuSans-30\"/>\n       <use xlink:href=\"#DejaVuSans-2e\" x=\"63.623047\"/>\n       <use xlink:href=\"#DejaVuSans-32\" x=\"95.410156\"/>\n      </g>\n     </g>\n    </g>\n    <g id=\"xtick_3\">\n     <g id=\"line2d_3\">\n      <path d=\"M 278.079915 457.198125 \nL 278.079915 22.318125 \n\" clip-path=\"url(#p4ca6212529)\" style=\"fill: none; stroke: #ffffff; stroke-linecap: round\"/>\n     </g>\n     <g id=\"text_3\">\n      <!-- 0.4 -->\n      <g style=\"fill: #262626\" transform=\"translate(269.333196 475.056406)scale(0.11 -0.11)\">\n       <defs>\n        <path id=\"DejaVuSans-34\" d=\"M 2419 4116 \nL 825 1625 \nL 2419 1625 \nL 2419 4116 \nz\nM 2253 4666 \nL 3047 4666 \nL 3047 1625 \nL 3713 1625 \nL 3713 1100 \nL 3047 1100 \nL 3047 0 \nL 2419 0 \nL 2419 1100 \nL 313 1100 \nL 313 1709 \nL 2253 4666 \nz\n\" transform=\"scale(0.015625)\"/>\n       </defs>\n       <use xlink:href=\"#DejaVuSans-30\"/>\n       <use xlink:href=\"#DejaVuSans-2e\" x=\"63.623047\"/>\n       <use xlink:href=\"#DejaVuSans-34\" x=\"95.410156\"/>\n      </g>\n     </g>\n    </g>\n    <g id=\"xtick_4\">\n     <g id=\"line2d_4\">\n      <path d=\"M 379.53446 457.198125 \nL 379.53446 22.318125 \n\" clip-path=\"url(#p4ca6212529)\" style=\"fill: none; stroke: #ffffff; stroke-linecap: round\"/>\n     </g>\n     <g id=\"text_4\">\n      <!-- 0.6 -->\n      <g style=\"fill: #262626\" transform=\"translate(370.787741 475.056406)scale(0.11 -0.11)\">\n       <defs>\n        <path id=\"DejaVuSans-36\" d=\"M 2113 2584 \nQ 1688 2584 1439 2293 \nQ 1191 2003 1191 1497 \nQ 1191 994 1439 701 \nQ 1688 409 2113 409 \nQ 2538 409 2786 701 \nQ 3034 994 3034 1497 \nQ 3034 2003 2786 2293 \nQ 2538 2584 2113 2584 \nz\nM 3366 4563 \nL 3366 3988 \nQ 3128 4100 2886 4159 \nQ 2644 4219 2406 4219 \nQ 1781 4219 1451 3797 \nQ 1122 3375 1075 2522 \nQ 1259 2794 1537 2939 \nQ 1816 3084 2150 3084 \nQ 2853 3084 3261 2657 \nQ 3669 2231 3669 1497 \nQ 3669 778 3244 343 \nQ 2819 -91 2113 -91 \nQ 1303 -91 875 529 \nQ 447 1150 447 2328 \nQ 447 3434 972 4092 \nQ 1497 4750 2381 4750 \nQ 2619 4750 2861 4703 \nQ 3103 4656 3366 4563 \nz\n\" transform=\"scale(0.015625)\"/>\n       </defs>\n       <use xlink:href=\"#DejaVuSans-30\"/>\n       <use xlink:href=\"#DejaVuSans-2e\" x=\"63.623047\"/>\n       <use xlink:href=\"#DejaVuSans-36\" x=\"95.410156\"/>\n      </g>\n     </g>\n    </g>\n    <g id=\"xtick_5\">\n     <g id=\"line2d_5\">\n      <path d=\"M 480.989006 457.198125 \nL 480.989006 22.318125 \n\" clip-path=\"url(#p4ca6212529)\" style=\"fill: none; stroke: #ffffff; stroke-linecap: round\"/>\n     </g>\n     <g id=\"text_5\">\n      <!-- 0.8 -->\n      <g style=\"fill: #262626\" transform=\"translate(472.242287 475.056406)scale(0.11 -0.11)\">\n       <defs>\n        <path id=\"DejaVuSans-38\" d=\"M 2034 2216 \nQ 1584 2216 1326 1975 \nQ 1069 1734 1069 1313 \nQ 1069 891 1326 650 \nQ 1584 409 2034 409 \nQ 2484 409 2743 651 \nQ 3003 894 3003 1313 \nQ 3003 1734 2745 1975 \nQ 2488 2216 2034 2216 \nz\nM 1403 2484 \nQ 997 2584 770 2862 \nQ 544 3141 544 3541 \nQ 544 4100 942 4425 \nQ 1341 4750 2034 4750 \nQ 2731 4750 3128 4425 \nQ 3525 4100 3525 3541 \nQ 3525 3141 3298 2862 \nQ 3072 2584 2669 2484 \nQ 3125 2378 3379 2068 \nQ 3634 1759 3634 1313 \nQ 3634 634 3220 271 \nQ 2806 -91 2034 -91 \nQ 1263 -91 848 271 \nQ 434 634 434 1313 \nQ 434 1759 690 2068 \nQ 947 2378 1403 2484 \nz\nM 1172 3481 \nQ 1172 3119 1398 2916 \nQ 1625 2713 2034 2713 \nQ 2441 2713 2670 2916 \nQ 2900 3119 2900 3481 \nQ 2900 3844 2670 4047 \nQ 2441 4250 2034 4250 \nQ 1625 4250 1398 4047 \nQ 1172 3844 1172 3481 \nz\n\" transform=\"scale(0.015625)\"/>\n       </defs>\n       <use xlink:href=\"#DejaVuSans-30\"/>\n       <use xlink:href=\"#DejaVuSans-2e\" x=\"63.623047\"/>\n       <use xlink:href=\"#DejaVuSans-38\" x=\"95.410156\"/>\n      </g>\n     </g>\n    </g>\n    <g id=\"xtick_6\">\n     <g id=\"line2d_6\">\n      <path d=\"M 582.443551 457.198125 \nL 582.443551 22.318125 \n\" clip-path=\"url(#p4ca6212529)\" style=\"fill: none; stroke: #ffffff; stroke-linecap: round\"/>\n     </g>\n     <g id=\"text_6\">\n      <!-- 1.0 -->\n      <g style=\"fill: #262626\" transform=\"translate(573.696832 475.056406)scale(0.11 -0.11)\">\n       <defs>\n        <path id=\"DejaVuSans-31\" d=\"M 794 531 \nL 1825 531 \nL 1825 4091 \nL 703 3866 \nL 703 4441 \nL 1819 4666 \nL 2450 4666 \nL 2450 531 \nL 3481 531 \nL 3481 0 \nL 794 0 \nL 794 531 \nz\n\" transform=\"scale(0.015625)\"/>\n       </defs>\n       <use xlink:href=\"#DejaVuSans-31\"/>\n       <use xlink:href=\"#DejaVuSans-2e\" x=\"63.623047\"/>\n       <use xlink:href=\"#DejaVuSans-30\" x=\"95.410156\"/>\n      </g>\n     </g>\n    </g>\n    <g id=\"text_7\">\n     <!-- Значение p -->\n     <g style=\"fill: #262626\" transform=\"translate(292.895312 490.462187)scale(0.12 -0.12)\">\n      <defs>\n       <path id=\"DejaVuSans-417\" d=\"M 1828 4750 \nQ 2597 4750 3084 4423 \nQ 3572 4097 3572 3541 \nQ 3572 3153 3350 2886 \nQ 3128 2619 2719 2516 \nQ 3172 2419 3426 2112 \nQ 3681 1806 3681 1356 \nQ 3681 638 3126 273 \nQ 2572 -91 1828 -91 \nQ 1447 -91 1003 12 \nQ 559 116 422 203 \nL 422 853 \nQ 900 575 1164 508 \nQ 1428 441 1816 441 \nQ 2403 441 2728 666 \nQ 3053 891 3053 1356 \nQ 3053 1769 2764 2001 \nQ 2475 2234 1866 2234 \nL 1228 2234 \nL 1228 2753 \nL 1891 2753 \nQ 2450 2753 2697 2939 \nQ 2944 3125 2944 3475 \nQ 2944 3834 2689 4026 \nQ 2434 4219 1816 4219 \nQ 1397 4219 1253 4181 \nQ 1109 4144 469 3903 \nL 469 4519 \nQ 822 4644 1190 4697 \nQ 1559 4750 1828 4750 \nz\n\" transform=\"scale(0.015625)\"/>\n       <path id=\"DejaVuSans-43d\" d=\"M 581 3500 \nL 1159 3500 \nL 1159 2072 \nL 3025 2072 \nL 3025 3500 \nL 3603 3500 \nL 3603 0 \nL 3025 0 \nL 3025 1613 \nL 1159 1613 \nL 1159 0 \nL 581 0 \nL 581 3500 \nz\n\" transform=\"scale(0.015625)\"/>\n       <path id=\"DejaVuSans-430\" d=\"M 2194 1759 \nQ 1497 1759 1228 1600 \nQ 959 1441 959 1056 \nQ 959 750 1161 570 \nQ 1363 391 1709 391 \nQ 2188 391 2477 730 \nQ 2766 1069 2766 1631 \nL 2766 1759 \nL 2194 1759 \nz\nM 3341 1997 \nL 3341 0 \nL 2766 0 \nL 2766 531 \nQ 2569 213 2275 61 \nQ 1981 -91 1556 -91 \nQ 1019 -91 701 211 \nQ 384 513 384 1019 \nQ 384 1609 779 1909 \nQ 1175 2209 1959 2209 \nL 2766 2209 \nL 2766 2266 \nQ 2766 2663 2505 2880 \nQ 2244 3097 1772 3097 \nQ 1472 3097 1187 3025 \nQ 903 2953 641 2809 \nL 641 3341 \nQ 956 3463 1253 3523 \nQ 1550 3584 1831 3584 \nQ 2591 3584 2966 3190 \nQ 3341 2797 3341 1997 \nz\n\" transform=\"scale(0.015625)\"/>\n       <path id=\"DejaVuSans-447\" d=\"M 2625 0 \nL 2625 1472 \nL 1553 1472 \nQ 1075 1472 756 1769 \nQ 469 2038 469 2613 \nL 469 3500 \nL 1044 3500 \nL 1044 2666 \nQ 1044 2300 1206 2116 \nQ 1372 1931 1697 1931 \nL 2625 1931 \nL 2625 3500 \nL 3200 3500 \nL 3200 0 \nL 2625 0 \nz\n\" transform=\"scale(0.015625)\"/>\n       <path id=\"DejaVuSans-435\" d=\"M 3597 1894 \nL 3597 1613 \nL 953 1613 \nQ 991 1019 1311 708 \nQ 1631 397 2203 397 \nQ 2534 397 2845 478 \nQ 3156 559 3463 722 \nL 3463 178 \nQ 3153 47 2828 -22 \nQ 2503 -91 2169 -91 \nQ 1331 -91 842 396 \nQ 353 884 353 1716 \nQ 353 2575 817 3079 \nQ 1281 3584 2069 3584 \nQ 2775 3584 3186 3129 \nQ 3597 2675 3597 1894 \nz\nM 3022 2063 \nQ 3016 2534 2758 2815 \nQ 2500 3097 2075 3097 \nQ 1594 3097 1305 2825 \nQ 1016 2553 972 2059 \nL 3022 2063 \nz\n\" transform=\"scale(0.015625)\"/>\n       <path id=\"DejaVuSans-438\" d=\"M 3578 3500 \nL 3578 0 \nL 3006 0 \nL 3006 2809 \nL 1319 0 \nL 581 0 \nL 581 3500 \nL 1153 3500 \nL 1153 697 \nL 2838 3500 \nL 3578 3500 \nz\n\" transform=\"scale(0.015625)\"/>\n       <path id=\"DejaVuSans-20\" transform=\"scale(0.015625)\"/>\n       <path id=\"DejaVuSans-70\" d=\"M 1159 525 \nL 1159 -1331 \nL 581 -1331 \nL 581 3500 \nL 1159 3500 \nL 1159 2969 \nQ 1341 3281 1617 3432 \nQ 1894 3584 2278 3584 \nQ 2916 3584 3314 3078 \nQ 3713 2572 3713 1747 \nQ 3713 922 3314 415 \nQ 2916 -91 2278 -91 \nQ 1894 -91 1617 61 \nQ 1341 213 1159 525 \nz\nM 3116 1747 \nQ 3116 2381 2855 2742 \nQ 2594 3103 2138 3103 \nQ 1681 3103 1420 2742 \nQ 1159 2381 1159 1747 \nQ 1159 1113 1420 752 \nQ 1681 391 2138 391 \nQ 2594 391 2855 752 \nQ 3116 1113 3116 1747 \nz\n\" transform=\"scale(0.015625)\"/>\n      </defs>\n      <use xlink:href=\"#DejaVuSans-417\"/>\n      <use xlink:href=\"#DejaVuSans-43d\" x=\"64.111328\"/>\n      <use xlink:href=\"#DejaVuSans-430\" x=\"129.492188\"/>\n      <use xlink:href=\"#DejaVuSans-447\" x=\"190.771484\"/>\n      <use xlink:href=\"#DejaVuSans-435\" x=\"249.853516\"/>\n      <use xlink:href=\"#DejaVuSans-43d\" x=\"311.376953\"/>\n      <use xlink:href=\"#DejaVuSans-438\" x=\"376.757812\"/>\n      <use xlink:href=\"#DejaVuSans-435\" x=\"441.748047\"/>\n      <use xlink:href=\"#DejaVuSans-20\" x=\"503.271484\"/>\n      <use xlink:href=\"#DejaVuSans-70\" x=\"535.058594\"/>\n     </g>\n    </g>\n   </g>\n   <g id=\"matplotlib.axis_2\">\n    <g id=\"ytick_1\">\n     <g id=\"line2d_7\">\n      <path d=\"M 49.807188 437.430852 \nL 607.807188 437.430852 \n\" clip-path=\"url(#p4ca6212529)\" style=\"fill: none; stroke: #ffffff; stroke-linecap: round\"/>\n     </g>\n     <g id=\"text_8\">\n      <!-- 0.0 -->\n      <g style=\"fill: #262626\" transform=\"translate(22.81375 441.609993)scale(0.11 -0.11)\">\n       <use xlink:href=\"#DejaVuSans-30\"/>\n       <use xlink:href=\"#DejaVuSans-2e\" x=\"63.623047\"/>\n       <use xlink:href=\"#DejaVuSans-30\" x=\"95.410156\"/>\n      </g>\n     </g>\n    </g>\n    <g id=\"ytick_2\">\n     <g id=\"line2d_8\">\n      <path d=\"M 49.807188 358.361761 \nL 607.807188 358.361761 \n\" clip-path=\"url(#p4ca6212529)\" style=\"fill: none; stroke: #ffffff; stroke-linecap: round\"/>\n     </g>\n     <g id=\"text_9\">\n      <!-- 0.2 -->\n      <g style=\"fill: #262626\" transform=\"translate(22.81375 362.540902)scale(0.11 -0.11)\">\n       <use xlink:href=\"#DejaVuSans-30\"/>\n       <use xlink:href=\"#DejaVuSans-2e\" x=\"63.623047\"/>\n       <use xlink:href=\"#DejaVuSans-32\" x=\"95.410156\"/>\n      </g>\n     </g>\n    </g>\n    <g id=\"ytick_3\">\n     <g id=\"line2d_9\">\n      <path d=\"M 49.807188 279.29267 \nL 607.807188 279.29267 \n\" clip-path=\"url(#p4ca6212529)\" style=\"fill: none; stroke: #ffffff; stroke-linecap: round\"/>\n     </g>\n     <g id=\"text_10\">\n      <!-- 0.4 -->\n      <g style=\"fill: #262626\" transform=\"translate(22.81375 283.471811)scale(0.11 -0.11)\">\n       <use xlink:href=\"#DejaVuSans-30\"/>\n       <use xlink:href=\"#DejaVuSans-2e\" x=\"63.623047\"/>\n       <use xlink:href=\"#DejaVuSans-34\" x=\"95.410156\"/>\n      </g>\n     </g>\n    </g>\n    <g id=\"ytick_4\">\n     <g id=\"line2d_10\">\n      <path d=\"M 49.807188 200.22358 \nL 607.807188 200.22358 \n\" clip-path=\"url(#p4ca6212529)\" style=\"fill: none; stroke: #ffffff; stroke-linecap: round\"/>\n     </g>\n     <g id=\"text_11\">\n      <!-- 0.6 -->\n      <g style=\"fill: #262626\" transform=\"translate(22.81375 204.40272)scale(0.11 -0.11)\">\n       <use xlink:href=\"#DejaVuSans-30\"/>\n       <use xlink:href=\"#DejaVuSans-2e\" x=\"63.623047\"/>\n       <use xlink:href=\"#DejaVuSans-36\" x=\"95.410156\"/>\n      </g>\n     </g>\n    </g>\n    <g id=\"ytick_5\">\n     <g id=\"line2d_11\">\n      <path d=\"M 49.807188 121.154489 \nL 607.807188 121.154489 \n\" clip-path=\"url(#p4ca6212529)\" style=\"fill: none; stroke: #ffffff; stroke-linecap: round\"/>\n     </g>\n     <g id=\"text_12\">\n      <!-- 0.8 -->\n      <g style=\"fill: #262626\" transform=\"translate(22.81375 125.333629)scale(0.11 -0.11)\">\n       <use xlink:href=\"#DejaVuSans-30\"/>\n       <use xlink:href=\"#DejaVuSans-2e\" x=\"63.623047\"/>\n       <use xlink:href=\"#DejaVuSans-38\" x=\"95.410156\"/>\n      </g>\n     </g>\n    </g>\n    <g id=\"ytick_6\">\n     <g id=\"line2d_12\">\n      <path d=\"M 49.807188 42.085398 \nL 607.807188 42.085398 \n\" clip-path=\"url(#p4ca6212529)\" style=\"fill: none; stroke: #ffffff; stroke-linecap: round\"/>\n     </g>\n     <g id=\"text_13\">\n      <!-- 1.0 -->\n      <g style=\"fill: #262626\" transform=\"translate(22.81375 46.264538)scale(0.11 -0.11)\">\n       <use xlink:href=\"#DejaVuSans-31\"/>\n       <use xlink:href=\"#DejaVuSans-2e\" x=\"63.623047\"/>\n       <use xlink:href=\"#DejaVuSans-30\" x=\"95.410156\"/>\n      </g>\n     </g>\n    </g>\n    <g id=\"text_14\">\n     <!-- p-value -->\n     <g style=\"fill: #262626\" transform=\"translate(16.318125 261.96375)rotate(-90)scale(0.12 -0.12)\">\n      <defs>\n       <path id=\"DejaVuSans-2d\" d=\"M 313 2009 \nL 1997 2009 \nL 1997 1497 \nL 313 1497 \nL 313 2009 \nz\n\" transform=\"scale(0.015625)\"/>\n       <path id=\"DejaVuSans-76\" d=\"M 191 3500 \nL 800 3500 \nL 1894 563 \nL 2988 3500 \nL 3597 3500 \nL 2284 0 \nL 1503 0 \nL 191 3500 \nz\n\" transform=\"scale(0.015625)\"/>\n       <path id=\"DejaVuSans-61\" d=\"M 2194 1759 \nQ 1497 1759 1228 1600 \nQ 959 1441 959 1056 \nQ 959 750 1161 570 \nQ 1363 391 1709 391 \nQ 2188 391 2477 730 \nQ 2766 1069 2766 1631 \nL 2766 1759 \nL 2194 1759 \nz\nM 3341 1997 \nL 3341 0 \nL 2766 0 \nL 2766 531 \nQ 2569 213 2275 61 \nQ 1981 -91 1556 -91 \nQ 1019 -91 701 211 \nQ 384 513 384 1019 \nQ 384 1609 779 1909 \nQ 1175 2209 1959 2209 \nL 2766 2209 \nL 2766 2266 \nQ 2766 2663 2505 2880 \nQ 2244 3097 1772 3097 \nQ 1472 3097 1187 3025 \nQ 903 2953 641 2809 \nL 641 3341 \nQ 956 3463 1253 3523 \nQ 1550 3584 1831 3584 \nQ 2591 3584 2966 3190 \nQ 3341 2797 3341 1997 \nz\n\" transform=\"scale(0.015625)\"/>\n       <path id=\"DejaVuSans-6c\" d=\"M 603 4863 \nL 1178 4863 \nL 1178 0 \nL 603 0 \nL 603 4863 \nz\n\" transform=\"scale(0.015625)\"/>\n       <path id=\"DejaVuSans-75\" d=\"M 544 1381 \nL 544 3500 \nL 1119 3500 \nL 1119 1403 \nQ 1119 906 1312 657 \nQ 1506 409 1894 409 \nQ 2359 409 2629 706 \nQ 2900 1003 2900 1516 \nL 2900 3500 \nL 3475 3500 \nL 3475 0 \nL 2900 0 \nL 2900 538 \nQ 2691 219 2414 64 \nQ 2138 -91 1772 -91 \nQ 1169 -91 856 284 \nQ 544 659 544 1381 \nz\nM 1991 3584 \nL 1991 3584 \nz\n\" transform=\"scale(0.015625)\"/>\n       <path id=\"DejaVuSans-65\" d=\"M 3597 1894 \nL 3597 1613 \nL 953 1613 \nQ 991 1019 1311 708 \nQ 1631 397 2203 397 \nQ 2534 397 2845 478 \nQ 3156 559 3463 722 \nL 3463 178 \nQ 3153 47 2828 -22 \nQ 2503 -91 2169 -91 \nQ 1331 -91 842 396 \nQ 353 884 353 1716 \nQ 353 2575 817 3079 \nQ 1281 3584 2069 3584 \nQ 2775 3584 3186 3129 \nQ 3597 2675 3597 1894 \nz\nM 3022 2063 \nQ 3016 2534 2758 2815 \nQ 2500 3097 2075 3097 \nQ 1594 3097 1305 2825 \nQ 1016 2553 972 2059 \nL 3022 2063 \nz\n\" transform=\"scale(0.015625)\"/>\n      </defs>\n      <use xlink:href=\"#DejaVuSans-70\"/>\n      <use xlink:href=\"#DejaVuSans-2d\" x=\"63.476562\"/>\n      <use xlink:href=\"#DejaVuSans-76\" x=\"96.935547\"/>\n      <use xlink:href=\"#DejaVuSans-61\" x=\"156.115234\"/>\n      <use xlink:href=\"#DejaVuSans-6c\" x=\"217.394531\"/>\n      <use xlink:href=\"#DejaVuSans-75\" x=\"245.177734\"/>\n      <use xlink:href=\"#DejaVuSans-65\" x=\"308.556641\"/>\n     </g>\n    </g>\n   </g>\n   <g id=\"line2d_13\">\n    <path d=\"M 75.170824 437.430852 \nL 80.294791 437.430852 \nL 85.418758 437.430852 \nL 90.542725 437.430852 \nL 95.666692 437.430852 \nL 100.790659 437.430852 \nL 105.914626 437.430852 \nL 111.038592 437.430852 \nL 116.162559 437.430852 \nL 121.286526 437.430852 \nL 126.410493 437.430852 \nL 131.53446 437.430852 \nL 136.658427 437.430852 \nL 141.782394 437.430852 \nL 146.906361 437.430852 \nL 152.030328 437.430852 \nL 157.154295 437.430852 \nL 162.278262 437.430852 \nL 167.402229 437.430852 \nL 172.526196 437.430852 \nL 177.650163 437.430852 \nL 182.77413 437.430852 \nL 187.898097 437.430851 \nL 193.022064 437.430848 \nL 198.14603 437.430842 \nL 203.269997 437.430829 \nL 208.393964 437.4308 \nL 213.517931 437.430744 \nL 218.641898 437.430637 \nL 223.765865 437.430445 \nL 228.889832 437.430113 \nL 234.013799 437.429559 \nL 239.137766 437.428665 \nL 244.261733 437.427266 \nL 249.3857 437.425135 \nL 254.509667 437.421968 \nL 259.633634 437.417371 \nL 264.757601 437.410833 \nL 269.881568 437.401713 \nL 275.005535 437.389213 \nL 280.129502 437.372358 \nL 285.253468 437.349969 \nL 290.377435 437.320638 \nL 295.501402 437.282708 \nL 300.625369 437.234237 \nL 305.749336 437.172983 \nL 310.873303 437.09637 \nL 315.99727 437.001467 \nL 321.121237 436.884958 \nL 326.245204 436.743123 \nL 331.369171 436.571807 \nL 336.493138 436.366396 \nL 341.617105 436.121797 \nL 346.741072 435.832405 \nL 351.865039 435.492083 \nL 356.989006 435.094136 \nL 362.112973 434.63128 \nL 367.23694 434.095617 \nL 372.360907 433.478602 \nL 377.484873 432.771015 \nL 382.60884 431.962919 \nL 387.732807 431.043624 \nL 392.856774 430.001647 \nL 397.980741 428.824656 \nL 403.104708 427.499418 \nL 408.228675 426.011738 \nL 413.352642 424.346385 \nL 418.476609 422.487006 \nL 423.600576 420.416036 \nL 428.724543 418.114582 \nL 433.84851 415.562297 \nL 438.972477 412.737225 \nL 444.096444 409.615626 \nL 449.220411 406.171767 \nL 454.344378 402.377673 \nL 459.468345 398.202837 \nL 464.592311 393.613866 \nL 469.716278 388.574066 \nL 474.840245 383.042936 \nL 479.964212 376.975557 \nL 485.088179 370.321852 \nL 490.212146 363.025676 \nL 495.336113 355.023695 \nL 500.46008 346.244007 \nL 505.584047 336.604413 \nL 510.708014 326.010266 \nL 515.831981 314.351773 \nL 520.955948 301.500614 \nL 526.079915 287.305756 \nL 531.203882 271.588362 \nL 536.327849 254.135955 \nL 541.451816 234.696649 \nL 546.575783 212.976237 \nL 551.699749 188.646521 \nL 556.823716 161.38997 \nL 561.947683 131.058308 \nL 567.07165 98.200035 \nL 572.195617 65.822546 \nL 577.319584 44.295696 \nL 582.443551 42.085398 \n\" clip-path=\"url(#p4ca6212529)\" style=\"fill: none; stroke: #4c72b0; stroke-width: 1.5; stroke-linecap: round\"/>\n   </g>\n   <g id=\"patch_3\">\n    <path d=\"M 49.807188 457.198125 \nL 49.807188 22.318125 \n\" style=\"fill: none; stroke: #ffffff; stroke-width: 1.25; stroke-linejoin: miter; stroke-linecap: square\"/>\n   </g>\n   <g id=\"patch_4\">\n    <path d=\"M 607.807188 457.198125 \nL 607.807188 22.318125 \n\" style=\"fill: none; stroke: #ffffff; stroke-width: 1.25; stroke-linejoin: miter; stroke-linecap: square\"/>\n   </g>\n   <g id=\"patch_5\">\n    <path d=\"M 49.807188 457.198125 \nL 607.807188 457.198125 \n\" style=\"fill: none; stroke: #ffffff; stroke-width: 1.25; stroke-linejoin: miter; stroke-linecap: square\"/>\n   </g>\n   <g id=\"patch_6\">\n    <path d=\"M 49.807188 22.318125 \nL 607.807188 22.318125 \n\" style=\"fill: none; stroke: #ffffff; stroke-width: 1.25; stroke-linejoin: miter; stroke-linecap: square\"/>\n   </g>\n   <g id=\"text_15\">\n    <!-- p-value в критерии меток при различных p, правосторонняя гипотеза -->\n    <g style=\"fill: #262626\" transform=\"translate(106.837187 16.318125)scale(0.12 -0.12)\">\n     <defs>\n      <path id=\"DejaVuSans-432\" d=\"M 1156 1613 \nL 1156 459 \nL 1975 459 \nQ 2369 459 2575 607 \nQ 2781 756 2781 1038 \nQ 2781 1319 2575 1466 \nQ 2369 1613 1975 1613 \nL 1156 1613 \nz\nM 1156 3041 \nL 1156 2072 \nL 1913 2072 \nQ 2238 2072 2444 2201 \nQ 2650 2331 2650 2563 \nQ 2650 2794 2444 2917 \nQ 2238 3041 1913 3041 \nL 1156 3041 \nz\nM 581 3500 \nL 1950 3500 \nQ 2566 3500 2897 3275 \nQ 3228 3050 3228 2634 \nQ 3228 2313 3059 2123 \nQ 2891 1934 2559 1888 \nQ 2956 1813 3175 1575 \nQ 3394 1338 3394 981 \nQ 3394 513 3033 256 \nQ 2672 0 2003 0 \nL 581 0 \nL 581 3500 \nz\n\" transform=\"scale(0.015625)\"/>\n      <path id=\"DejaVuSans-43a\" d=\"M 581 3500 \nL 1153 3500 \nL 1153 1856 \nL 2775 3500 \nL 3481 3500 \nL 2144 2147 \nL 3653 0 \nL 3009 0 \nL 1769 1766 \nL 1153 1141 \nL 1153 0 \nL 581 0 \nL 581 3500 \nz\n\" transform=\"scale(0.015625)\"/>\n      <path id=\"DejaVuSans-440\" d=\"M 1159 525 \nL 1159 -1331 \nL 581 -1331 \nL 581 3500 \nL 1159 3500 \nL 1159 2969 \nQ 1341 3281 1617 3432 \nQ 1894 3584 2278 3584 \nQ 2916 3584 3314 3078 \nQ 3713 2572 3713 1747 \nQ 3713 922 3314 415 \nQ 2916 -91 2278 -91 \nQ 1894 -91 1617 61 \nQ 1341 213 1159 525 \nz\nM 3116 1747 \nQ 3116 2381 2855 2742 \nQ 2594 3103 2138 3103 \nQ 1681 3103 1420 2742 \nQ 1159 2381 1159 1747 \nQ 1159 1113 1420 752 \nQ 1681 391 2138 391 \nQ 2594 391 2855 752 \nQ 3116 1113 3116 1747 \nz\n\" transform=\"scale(0.015625)\"/>\n      <path id=\"DejaVuSans-442\" d=\"M 188 3500 \nL 3541 3500 \nL 3541 3041 \nL 2147 3041 \nL 2147 0 \nL 1581 0 \nL 1581 3041 \nL 188 3041 \nL 188 3500 \nz\n\" transform=\"scale(0.015625)\"/>\n      <path id=\"DejaVuSans-43c\" d=\"M 581 3500 \nL 1422 3500 \nL 2416 1156 \nL 3413 3500 \nL 4247 3500 \nL 4247 0 \nL 3669 0 \nL 3669 2950 \nL 2703 672 \nL 2128 672 \nL 1159 2950 \nL 1159 0 \nL 581 0 \nL 581 3500 \nz\n\" transform=\"scale(0.015625)\"/>\n      <path id=\"DejaVuSans-43e\" d=\"M 1959 3097 \nQ 1497 3097 1228 2736 \nQ 959 2375 959 1747 \nQ 959 1119 1226 758 \nQ 1494 397 1959 397 \nQ 2419 397 2687 759 \nQ 2956 1122 2956 1747 \nQ 2956 2369 2687 2733 \nQ 2419 3097 1959 3097 \nz\nM 1959 3584 \nQ 2709 3584 3137 3096 \nQ 3566 2609 3566 1747 \nQ 3566 888 3137 398 \nQ 2709 -91 1959 -91 \nQ 1206 -91 779 398 \nQ 353 888 353 1747 \nQ 353 2609 779 3096 \nQ 1206 3584 1959 3584 \nz\n\" transform=\"scale(0.015625)\"/>\n      <path id=\"DejaVuSans-43f\" d=\"M 3603 3500 \nL 3603 0 \nL 3025 0 \nL 3025 3041 \nL 1159 3041 \nL 1159 0 \nL 581 0 \nL 581 3500 \nL 3603 3500 \nz\n\" transform=\"scale(0.015625)\"/>\n      <path id=\"DejaVuSans-437\" d=\"M 2206 1888 \nQ 2594 1813 2809 1584 \nQ 3025 1356 3025 1019 \nQ 3025 478 2622 193 \nQ 2219 -91 1475 -91 \nQ 1225 -91 961 -47 \nQ 697 -3 416 84 \nL 416 619 \nQ 638 503 903 445 \nQ 1169 388 1459 388 \nQ 1931 388 2195 563 \nQ 2459 738 2459 1019 \nQ 2459 1294 2225 1461 \nQ 1991 1628 1563 1628 \nL 1100 1628 \nL 1100 2103 \nL 1584 2103 \nQ 1947 2103 2158 2242 \nQ 2369 2381 2369 2600 \nQ 2369 2800 2151 2944 \nQ 1934 3088 1563 3088 \nQ 1341 3088 1089 3047 \nQ 838 3006 534 2916 \nL 534 3438 \nQ 841 3513 1106 3550 \nQ 1372 3588 1609 3588 \nQ 2222 3588 2576 3342 \nQ 2931 3097 2931 2656 \nQ 2931 2366 2743 2164 \nQ 2556 1963 2206 1888 \nz\n\" transform=\"scale(0.015625)\"/>\n      <path id=\"DejaVuSans-43b\" d=\"M 238 0 \nL 238 478 \nQ 806 566 981 959 \nQ 1194 1513 1194 2928 \nL 1194 3500 \nL 3559 3500 \nL 3559 0 \nL 2984 0 \nL 2984 3041 \nL 1769 3041 \nL 1769 2694 \nQ 1769 1344 1494 738 \nQ 1200 91 238 0 \nz\n\" transform=\"scale(0.015625)\"/>\n      <path id=\"DejaVuSans-44b\" d=\"M 3907 3500 \nL 4482 3500 \nL 4482 0 \nL 3907 0 \nL 3907 3500 \nz\nM 4195 3584 \nL 4195 3584 \nz\nM 2781 1038 \nQ 2781 1319 2576 1466 \nQ 2372 1613 1978 1613 \nL 1159 1613 \nL 1159 459 \nL 1978 459 \nQ 2372 459 2576 607 \nQ 2781 756 2781 1038 \nz\nM 581 3500 \nL 1159 3500 \nL 1159 2072 \nL 2003 2072 \nQ 2672 2072 3033 1817 \nQ 3394 1563 3394 1038 \nQ 3394 513 3033 256 \nQ 2672 0 2003 0 \nL 581 0 \nL 581 3500 \nz\n\" transform=\"scale(0.015625)\"/>\n      <path id=\"DejaVuSans-445\" d=\"M 3513 3500 \nL 2247 1797 \nL 3578 0 \nL 2900 0 \nL 1881 1375 \nL 863 0 \nL 184 0 \nL 1544 1831 \nL 300 3500 \nL 978 3500 \nL 1906 2253 \nL 2834 3500 \nL 3513 3500 \nz\n\" transform=\"scale(0.015625)\"/>\n      <path id=\"DejaVuSans-2c\" d=\"M 750 794 \nL 1409 794 \nL 1409 256 \nL 897 -744 \nL 494 -744 \nL 750 256 \nL 750 794 \nz\n\" transform=\"scale(0.015625)\"/>\n      <path id=\"DejaVuSans-441\" d=\"M 3122 3366 \nL 3122 2828 \nQ 2878 2963 2633 3030 \nQ 2388 3097 2138 3097 \nQ 1578 3097 1268 2742 \nQ 959 2388 959 1747 \nQ 959 1106 1268 751 \nQ 1578 397 2138 397 \nQ 2388 397 2633 464 \nQ 2878 531 3122 666 \nL 3122 134 \nQ 2881 22 2623 -34 \nQ 2366 -91 2075 -91 \nQ 1284 -91 818 406 \nQ 353 903 353 1747 \nQ 353 2603 823 3093 \nQ 1294 3584 2113 3584 \nQ 2378 3584 2631 3529 \nQ 2884 3475 3122 3366 \nz\n\" transform=\"scale(0.015625)\"/>\n      <path id=\"DejaVuSans-44f\" d=\"M 1181 2491 \nQ 1181 2231 1381 2084 \nQ 1581 1938 1953 1938 \nL 2728 1938 \nL 2728 3041 \nL 1953 3041 \nQ 1581 3041 1381 2897 \nQ 1181 2753 1181 2491 \nz\nM 363 0 \nL 1431 1534 \nQ 1069 1616 828 1830 \nQ 588 2044 588 2491 \nQ 588 2997 923 3248 \nQ 1259 3500 1938 3500 \nL 3306 3500 \nL 3306 0 \nL 2728 0 \nL 2728 1478 \nL 2013 1478 \nL 981 0 \nL 363 0 \nz\n\" transform=\"scale(0.015625)\"/>\n      <path id=\"DejaVuSans-433\" d=\"M 581 0 \nL 581 3500 \nL 3050 3500 \nL 3050 3041 \nL 1159 3041 \nL 1159 0 \nL 581 0 \nz\n\" transform=\"scale(0.015625)\"/>\n     </defs>\n     <use xlink:href=\"#DejaVuSans-70\"/>\n     <use xlink:href=\"#DejaVuSans-2d\" x=\"63.476562\"/>\n     <use xlink:href=\"#DejaVuSans-76\" x=\"96.935547\"/>\n     <use xlink:href=\"#DejaVuSans-61\" x=\"156.115234\"/>\n     <use xlink:href=\"#DejaVuSans-6c\" x=\"217.394531\"/>\n     <use xlink:href=\"#DejaVuSans-75\" x=\"245.177734\"/>\n     <use xlink:href=\"#DejaVuSans-65\" x=\"308.556641\"/>\n     <use xlink:href=\"#DejaVuSans-20\" x=\"370.080078\"/>\n     <use xlink:href=\"#DejaVuSans-432\" x=\"401.867188\"/>\n     <use xlink:href=\"#DejaVuSans-20\" x=\"460.802734\"/>\n     <use xlink:href=\"#DejaVuSans-43a\" x=\"492.589844\"/>\n     <use xlink:href=\"#DejaVuSans-440\" x=\"552.990234\"/>\n     <use xlink:href=\"#DejaVuSans-438\" x=\"616.466797\"/>\n     <use xlink:href=\"#DejaVuSans-442\" x=\"681.457031\"/>\n     <use xlink:href=\"#DejaVuSans-435\" x=\"739.708984\"/>\n     <use xlink:href=\"#DejaVuSans-440\" x=\"801.232422\"/>\n     <use xlink:href=\"#DejaVuSans-438\" x=\"864.708984\"/>\n     <use xlink:href=\"#DejaVuSans-438\" x=\"929.699219\"/>\n     <use xlink:href=\"#DejaVuSans-20\" x=\"994.689453\"/>\n     <use xlink:href=\"#DejaVuSans-43c\" x=\"1026.476562\"/>\n     <use xlink:href=\"#DejaVuSans-435\" x=\"1101.916016\"/>\n     <use xlink:href=\"#DejaVuSans-442\" x=\"1163.439453\"/>\n     <use xlink:href=\"#DejaVuSans-43e\" x=\"1221.691406\"/>\n     <use xlink:href=\"#DejaVuSans-43a\" x=\"1282.873047\"/>\n     <use xlink:href=\"#DejaVuSans-20\" x=\"1343.273438\"/>\n     <use xlink:href=\"#DejaVuSans-43f\" x=\"1375.060547\"/>\n     <use xlink:href=\"#DejaVuSans-440\" x=\"1440.441406\"/>\n     <use xlink:href=\"#DejaVuSans-438\" x=\"1503.917969\"/>\n     <use xlink:href=\"#DejaVuSans-20\" x=\"1568.908203\"/>\n     <use xlink:href=\"#DejaVuSans-440\" x=\"1600.695312\"/>\n     <use xlink:href=\"#DejaVuSans-430\" x=\"1664.171875\"/>\n     <use xlink:href=\"#DejaVuSans-437\" x=\"1725.451172\"/>\n     <use xlink:href=\"#DejaVuSans-43b\" x=\"1778.625\"/>\n     <use xlink:href=\"#DejaVuSans-438\" x=\"1842.541016\"/>\n     <use xlink:href=\"#DejaVuSans-447\" x=\"1907.53125\"/>\n     <use xlink:href=\"#DejaVuSans-43d\" x=\"1966.613281\"/>\n     <use xlink:href=\"#DejaVuSans-44b\" x=\"2031.994141\"/>\n     <use xlink:href=\"#DejaVuSans-445\" x=\"2110.949219\"/>\n     <use xlink:href=\"#DejaVuSans-20\" x=\"2170.128906\"/>\n     <use xlink:href=\"#DejaVuSans-70\" x=\"2201.916016\"/>\n     <use xlink:href=\"#DejaVuSans-2c\" x=\"2265.392578\"/>\n     <use xlink:href=\"#DejaVuSans-20\" x=\"2297.179688\"/>\n     <use xlink:href=\"#DejaVuSans-43f\" x=\"2328.966797\"/>\n     <use xlink:href=\"#DejaVuSans-440\" x=\"2394.347656\"/>\n     <use xlink:href=\"#DejaVuSans-430\" x=\"2457.824219\"/>\n     <use xlink:href=\"#DejaVuSans-432\" x=\"2519.103516\"/>\n     <use xlink:href=\"#DejaVuSans-43e\" x=\"2578.039062\"/>\n     <use xlink:href=\"#DejaVuSans-441\" x=\"2639.220703\"/>\n     <use xlink:href=\"#DejaVuSans-442\" x=\"2694.201172\"/>\n     <use xlink:href=\"#DejaVuSans-43e\" x=\"2752.453125\"/>\n     <use xlink:href=\"#DejaVuSans-440\" x=\"2813.634766\"/>\n     <use xlink:href=\"#DejaVuSans-43e\" x=\"2877.111328\"/>\n     <use xlink:href=\"#DejaVuSans-43d\" x=\"2938.292969\"/>\n     <use xlink:href=\"#DejaVuSans-43d\" x=\"3003.673828\"/>\n     <use xlink:href=\"#DejaVuSans-44f\" x=\"3069.054688\"/>\n     <use xlink:href=\"#DejaVuSans-44f\" x=\"3129.210938\"/>\n     <use xlink:href=\"#DejaVuSans-20\" x=\"3189.367188\"/>\n     <use xlink:href=\"#DejaVuSans-433\" x=\"3221.154297\"/>\n     <use xlink:href=\"#DejaVuSans-438\" x=\"3273.693359\"/>\n     <use xlink:href=\"#DejaVuSans-43f\" x=\"3338.683594\"/>\n     <use xlink:href=\"#DejaVuSans-43e\" x=\"3404.064453\"/>\n     <use xlink:href=\"#DejaVuSans-442\" x=\"3465.246094\"/>\n     <use xlink:href=\"#DejaVuSans-435\" x=\"3523.498047\"/>\n     <use xlink:href=\"#DejaVuSans-437\" x=\"3585.021484\"/>\n     <use xlink:href=\"#DejaVuSans-430\" x=\"3638.195312\"/>\n    </g>\n   </g>\n  </g>\n </g>\n <defs>\n  <clipPath id=\"p4ca6212529\">\n   <rect x=\"49.807188\" y=\"22.318125\" width=\"558\" height=\"434.88\"/>\n  </clipPath>\n </defs>\n</svg>\n"
          },
          "metadata": {
            "needs_background": "light"
          }
        }
      ]
    },
    {
      "cell_type": "markdown",
      "source": [
        "Рассмотрим применительно к задаче:"
      ],
      "metadata": {
        "id": "PBXFAibmp_Y9"
      }
    },
    {
      "cell_type": "code",
      "source": [
        "lagrange_test(n, n_pos, p, 'right')"
      ],
      "metadata": {
        "colab": {
          "base_uri": "https://localhost:8080/"
        },
        "id": "YEKCdeDmqAzC",
        "outputId": "f1416471-50d4-4410-df9c-118d9e8a8bd4"
      },
      "execution_count": null,
      "outputs": [
        {
          "output_type": "execute_result",
          "data": {
            "text/plain": [
              "2.0493817493281634e-21"
            ]
          },
          "metadata": {},
          "execution_count": 31
        }
      ]
    },
    {
      "cell_type": "markdown",
      "source": [
        "Нулевая гипотеза так же будет отвергнута, полученное p-value меньше уровня значимости $0.05$. График при различных $p$ в целом схож с графиком для теста Вальда, однако полученное значение p-value выше."
      ],
      "metadata": {
        "id": "LfruhfldqGg3"
      }
    },
    {
      "cell_type": "markdown",
      "metadata": {
        "id": "W4XhwtX4AGwZ"
      },
      "source": [
        "**Выводы:**\n",
        "\n",
        "p-value во всех случаях получилось очень близким к нулю, т. е. нулевая гипотеза будет отвергаться даже при очень низком заданном уровне значимости. В целом это логично, т. к. $11$ успешных выборов из $12$ при $p=0.1$ получить маловероятно, и это подтверждается в рассмотренных статистических тестах.  "
      ]
    },
    {
      "cell_type": "markdown",
      "metadata": {
        "id": "UkkLUH88AGwa"
      },
      "source": [
        "### Задача 4"
      ]
    },
    {
      "cell_type": "markdown",
      "metadata": {
        "id": "F7unIchZAGwc"
      },
      "source": [
        "Задана выборка $Y$ результатов распознавания для некоторой задачи классификации."
      ]
    },
    {
      "cell_type": "code",
      "execution_count": null,
      "metadata": {
        "id": "SpJQkjb5AGwd",
        "colab": {
          "base_uri": "https://localhost:8080/",
          "height": 357
        },
        "outputId": "e6d60296-6c67-4967-f8f2-432920b83222"
      },
      "outputs": [
        {
          "output_type": "display_data",
          "data": {
            "text/plain": [
              "<Figure size 432x288 with 1 Axes>"
            ],
            "image/svg+xml": "<?xml version=\"1.0\" encoding=\"utf-8\" standalone=\"no\"?>\n<!DOCTYPE svg PUBLIC \"-//W3C//DTD SVG 1.1//EN\"\n  \"http://www.w3.org/Graphics/SVG/1.1/DTD/svg11.dtd\">\n<svg xmlns:xlink=\"http://www.w3.org/1999/xlink\" width=\"376.193437pt\" height=\"251.985937pt\" viewBox=\"0 0 376.193437 251.985937\" xmlns=\"http://www.w3.org/2000/svg\" version=\"1.1\">\n <metadata>\n  <rdf:RDF xmlns:dc=\"http://purl.org/dc/elements/1.1/\" xmlns:cc=\"http://creativecommons.org/ns#\" xmlns:rdf=\"http://www.w3.org/1999/02/22-rdf-syntax-ns#\">\n   <cc:Work>\n    <dc:type rdf:resource=\"http://purl.org/dc/dcmitype/StillImage\"/>\n    <dc:date>2023-03-06T19:28:02.935553</dc:date>\n    <dc:format>image/svg+xml</dc:format>\n    <dc:creator>\n     <cc:Agent>\n      <dc:title>Matplotlib v3.5.3, https://matplotlib.org/</dc:title>\n     </cc:Agent>\n    </dc:creator>\n   </cc:Work>\n  </rdf:RDF>\n </metadata>\n <defs>\n  <style type=\"text/css\">*{stroke-linejoin: round; stroke-linecap: butt}</style>\n </defs>\n <g id=\"figure_1\">\n  <g id=\"patch_1\">\n   <path d=\"M 0 251.985937 \nL 376.193437 251.985937 \nL 376.193437 0 \nL 0 0 \nL 0 251.985937 \nz\n\" style=\"fill: none\"/>\n  </g>\n  <g id=\"axes_1\">\n   <g id=\"patch_2\">\n    <path d=\"M 34.193438 224.64 \nL 368.993438 224.64 \nL 368.993438 7.2 \nL 34.193438 7.2 \nz\n\" style=\"fill: #eaeaf2\"/>\n   </g>\n   <g id=\"matplotlib.axis_1\">\n    <g id=\"xtick_1\">\n     <g id=\"line2d_1\">\n      <path d=\"M 49.411619 224.64 \nL 49.411619 7.2 \n\" clip-path=\"url(#p4980131e85)\" style=\"fill: none; stroke: #ffffff; stroke-linecap: round\"/>\n     </g>\n     <g id=\"text_1\">\n      <!-- 0 -->\n      <g style=\"fill: #262626\" transform=\"translate(45.912244 242.498281)scale(0.11 -0.11)\">\n       <defs>\n        <path id=\"DejaVuSans-30\" d=\"M 2034 4250 \nQ 1547 4250 1301 3770 \nQ 1056 3291 1056 2328 \nQ 1056 1369 1301 889 \nQ 1547 409 2034 409 \nQ 2525 409 2770 889 \nQ 3016 1369 3016 2328 \nQ 3016 3291 2770 3770 \nQ 2525 4250 2034 4250 \nz\nM 2034 4750 \nQ 2819 4750 3233 4129 \nQ 3647 3509 3647 2328 \nQ 3647 1150 3233 529 \nQ 2819 -91 2034 -91 \nQ 1250 -91 836 529 \nQ 422 1150 422 2328 \nQ 422 3509 836 4129 \nQ 1250 4750 2034 4750 \nz\n\" transform=\"scale(0.015625)\"/>\n       </defs>\n       <use xlink:href=\"#DejaVuSans-30\"/>\n      </g>\n     </g>\n    </g>\n    <g id=\"xtick_2\">\n     <g id=\"line2d_2\">\n      <path d=\"M 97.723308 224.64 \nL 97.723308 7.2 \n\" clip-path=\"url(#p4980131e85)\" style=\"fill: none; stroke: #ffffff; stroke-linecap: round\"/>\n     </g>\n     <g id=\"text_2\">\n      <!-- 10 -->\n      <g style=\"fill: #262626\" transform=\"translate(90.724558 242.498281)scale(0.11 -0.11)\">\n       <defs>\n        <path id=\"DejaVuSans-31\" d=\"M 794 531 \nL 1825 531 \nL 1825 4091 \nL 703 3866 \nL 703 4441 \nL 1819 4666 \nL 2450 4666 \nL 2450 531 \nL 3481 531 \nL 3481 0 \nL 794 0 \nL 794 531 \nz\n\" transform=\"scale(0.015625)\"/>\n       </defs>\n       <use xlink:href=\"#DejaVuSans-31\"/>\n       <use xlink:href=\"#DejaVuSans-30\" x=\"63.623047\"/>\n      </g>\n     </g>\n    </g>\n    <g id=\"xtick_3\">\n     <g id=\"line2d_3\">\n      <path d=\"M 146.034996 224.64 \nL 146.034996 7.2 \n\" clip-path=\"url(#p4980131e85)\" style=\"fill: none; stroke: #ffffff; stroke-linecap: round\"/>\n     </g>\n     <g id=\"text_3\">\n      <!-- 20 -->\n      <g style=\"fill: #262626\" transform=\"translate(139.036246 242.498281)scale(0.11 -0.11)\">\n       <defs>\n        <path id=\"DejaVuSans-32\" d=\"M 1228 531 \nL 3431 531 \nL 3431 0 \nL 469 0 \nL 469 531 \nQ 828 903 1448 1529 \nQ 2069 2156 2228 2338 \nQ 2531 2678 2651 2914 \nQ 2772 3150 2772 3378 \nQ 2772 3750 2511 3984 \nQ 2250 4219 1831 4219 \nQ 1534 4219 1204 4116 \nQ 875 4013 500 3803 \nL 500 4441 \nQ 881 4594 1212 4672 \nQ 1544 4750 1819 4750 \nQ 2544 4750 2975 4387 \nQ 3406 4025 3406 3419 \nQ 3406 3131 3298 2873 \nQ 3191 2616 2906 2266 \nQ 2828 2175 2409 1742 \nQ 1991 1309 1228 531 \nz\n\" transform=\"scale(0.015625)\"/>\n       </defs>\n       <use xlink:href=\"#DejaVuSans-32\"/>\n       <use xlink:href=\"#DejaVuSans-30\" x=\"63.623047\"/>\n      </g>\n     </g>\n    </g>\n    <g id=\"xtick_4\">\n     <g id=\"line2d_4\">\n      <path d=\"M 194.346684 224.64 \nL 194.346684 7.2 \n\" clip-path=\"url(#p4980131e85)\" style=\"fill: none; stroke: #ffffff; stroke-linecap: round\"/>\n     </g>\n     <g id=\"text_4\">\n      <!-- 30 -->\n      <g style=\"fill: #262626\" transform=\"translate(187.347934 242.498281)scale(0.11 -0.11)\">\n       <defs>\n        <path id=\"DejaVuSans-33\" d=\"M 2597 2516 \nQ 3050 2419 3304 2112 \nQ 3559 1806 3559 1356 \nQ 3559 666 3084 287 \nQ 2609 -91 1734 -91 \nQ 1441 -91 1130 -33 \nQ 819 25 488 141 \nL 488 750 \nQ 750 597 1062 519 \nQ 1375 441 1716 441 \nQ 2309 441 2620 675 \nQ 2931 909 2931 1356 \nQ 2931 1769 2642 2001 \nQ 2353 2234 1838 2234 \nL 1294 2234 \nL 1294 2753 \nL 1863 2753 \nQ 2328 2753 2575 2939 \nQ 2822 3125 2822 3475 \nQ 2822 3834 2567 4026 \nQ 2313 4219 1838 4219 \nQ 1578 4219 1281 4162 \nQ 984 4106 628 3988 \nL 628 4550 \nQ 988 4650 1302 4700 \nQ 1616 4750 1894 4750 \nQ 2613 4750 3031 4423 \nQ 3450 4097 3450 3541 \nQ 3450 3153 3228 2886 \nQ 3006 2619 2597 2516 \nz\n\" transform=\"scale(0.015625)\"/>\n       </defs>\n       <use xlink:href=\"#DejaVuSans-33\"/>\n       <use xlink:href=\"#DejaVuSans-30\" x=\"63.623047\"/>\n      </g>\n     </g>\n    </g>\n    <g id=\"xtick_5\">\n     <g id=\"line2d_5\">\n      <path d=\"M 242.658373 224.64 \nL 242.658373 7.2 \n\" clip-path=\"url(#p4980131e85)\" style=\"fill: none; stroke: #ffffff; stroke-linecap: round\"/>\n     </g>\n     <g id=\"text_5\">\n      <!-- 40 -->\n      <g style=\"fill: #262626\" transform=\"translate(235.659623 242.498281)scale(0.11 -0.11)\">\n       <defs>\n        <path id=\"DejaVuSans-34\" d=\"M 2419 4116 \nL 825 1625 \nL 2419 1625 \nL 2419 4116 \nz\nM 2253 4666 \nL 3047 4666 \nL 3047 1625 \nL 3713 1625 \nL 3713 1100 \nL 3047 1100 \nL 3047 0 \nL 2419 0 \nL 2419 1100 \nL 313 1100 \nL 313 1709 \nL 2253 4666 \nz\n\" transform=\"scale(0.015625)\"/>\n       </defs>\n       <use xlink:href=\"#DejaVuSans-34\"/>\n       <use xlink:href=\"#DejaVuSans-30\" x=\"63.623047\"/>\n      </g>\n     </g>\n    </g>\n    <g id=\"xtick_6\">\n     <g id=\"line2d_6\">\n      <path d=\"M 290.970061 224.64 \nL 290.970061 7.2 \n\" clip-path=\"url(#p4980131e85)\" style=\"fill: none; stroke: #ffffff; stroke-linecap: round\"/>\n     </g>\n     <g id=\"text_6\">\n      <!-- 50 -->\n      <g style=\"fill: #262626\" transform=\"translate(283.971311 242.498281)scale(0.11 -0.11)\">\n       <defs>\n        <path id=\"DejaVuSans-35\" d=\"M 691 4666 \nL 3169 4666 \nL 3169 4134 \nL 1269 4134 \nL 1269 2991 \nQ 1406 3038 1543 3061 \nQ 1681 3084 1819 3084 \nQ 2600 3084 3056 2656 \nQ 3513 2228 3513 1497 \nQ 3513 744 3044 326 \nQ 2575 -91 1722 -91 \nQ 1428 -91 1123 -41 \nQ 819 9 494 109 \nL 494 744 \nQ 775 591 1075 516 \nQ 1375 441 1709 441 \nQ 2250 441 2565 725 \nQ 2881 1009 2881 1497 \nQ 2881 1984 2565 2268 \nQ 2250 2553 1709 2553 \nQ 1456 2553 1204 2497 \nQ 953 2441 691 2322 \nL 691 4666 \nz\n\" transform=\"scale(0.015625)\"/>\n       </defs>\n       <use xlink:href=\"#DejaVuSans-35\"/>\n       <use xlink:href=\"#DejaVuSans-30\" x=\"63.623047\"/>\n      </g>\n     </g>\n    </g>\n    <g id=\"xtick_7\">\n     <g id=\"line2d_7\">\n      <path d=\"M 339.281749 224.64 \nL 339.281749 7.2 \n\" clip-path=\"url(#p4980131e85)\" style=\"fill: none; stroke: #ffffff; stroke-linecap: round\"/>\n     </g>\n     <g id=\"text_7\">\n      <!-- 60 -->\n      <g style=\"fill: #262626\" transform=\"translate(332.282999 242.498281)scale(0.11 -0.11)\">\n       <defs>\n        <path id=\"DejaVuSans-36\" d=\"M 2113 2584 \nQ 1688 2584 1439 2293 \nQ 1191 2003 1191 1497 \nQ 1191 994 1439 701 \nQ 1688 409 2113 409 \nQ 2538 409 2786 701 \nQ 3034 994 3034 1497 \nQ 3034 2003 2786 2293 \nQ 2538 2584 2113 2584 \nz\nM 3366 4563 \nL 3366 3988 \nQ 3128 4100 2886 4159 \nQ 2644 4219 2406 4219 \nQ 1781 4219 1451 3797 \nQ 1122 3375 1075 2522 \nQ 1259 2794 1537 2939 \nQ 1816 3084 2150 3084 \nQ 2853 3084 3261 2657 \nQ 3669 2231 3669 1497 \nQ 3669 778 3244 343 \nQ 2819 -91 2113 -91 \nQ 1303 -91 875 529 \nQ 447 1150 447 2328 \nQ 447 3434 972 4092 \nQ 1497 4750 2381 4750 \nQ 2619 4750 2861 4703 \nQ 3103 4656 3366 4563 \nz\n\" transform=\"scale(0.015625)\"/>\n       </defs>\n       <use xlink:href=\"#DejaVuSans-36\"/>\n       <use xlink:href=\"#DejaVuSans-30\" x=\"63.623047\"/>\n      </g>\n     </g>\n    </g>\n   </g>\n   <g id=\"matplotlib.axis_2\">\n    <g id=\"ytick_1\">\n     <g id=\"line2d_8\">\n      <path d=\"M 34.193438 214.756364 \nL 368.993438 214.756364 \n\" clip-path=\"url(#p4980131e85)\" style=\"fill: none; stroke: #ffffff; stroke-linecap: round\"/>\n     </g>\n     <g id=\"text_8\">\n      <!-- 0.0 -->\n      <g style=\"fill: #262626\" transform=\"translate(7.2 218.935504)scale(0.11 -0.11)\">\n       <defs>\n        <path id=\"DejaVuSans-2e\" d=\"M 684 794 \nL 1344 794 \nL 1344 0 \nL 684 0 \nL 684 794 \nz\n\" transform=\"scale(0.015625)\"/>\n       </defs>\n       <use xlink:href=\"#DejaVuSans-30\"/>\n       <use xlink:href=\"#DejaVuSans-2e\" x=\"63.623047\"/>\n       <use xlink:href=\"#DejaVuSans-30\" x=\"95.410156\"/>\n      </g>\n     </g>\n    </g>\n    <g id=\"ytick_2\">\n     <g id=\"line2d_9\">\n      <path d=\"M 34.193438 175.221818 \nL 368.993438 175.221818 \n\" clip-path=\"url(#p4980131e85)\" style=\"fill: none; stroke: #ffffff; stroke-linecap: round\"/>\n     </g>\n     <g id=\"text_9\">\n      <!-- 0.2 -->\n      <g style=\"fill: #262626\" transform=\"translate(7.2 179.400959)scale(0.11 -0.11)\">\n       <use xlink:href=\"#DejaVuSans-30\"/>\n       <use xlink:href=\"#DejaVuSans-2e\" x=\"63.623047\"/>\n       <use xlink:href=\"#DejaVuSans-32\" x=\"95.410156\"/>\n      </g>\n     </g>\n    </g>\n    <g id=\"ytick_3\">\n     <g id=\"line2d_10\">\n      <path d=\"M 34.193438 135.687273 \nL 368.993438 135.687273 \n\" clip-path=\"url(#p4980131e85)\" style=\"fill: none; stroke: #ffffff; stroke-linecap: round\"/>\n     </g>\n     <g id=\"text_10\">\n      <!-- 0.4 -->\n      <g style=\"fill: #262626\" transform=\"translate(7.2 139.866413)scale(0.11 -0.11)\">\n       <use xlink:href=\"#DejaVuSans-30\"/>\n       <use xlink:href=\"#DejaVuSans-2e\" x=\"63.623047\"/>\n       <use xlink:href=\"#DejaVuSans-34\" x=\"95.410156\"/>\n      </g>\n     </g>\n    </g>\n    <g id=\"ytick_4\">\n     <g id=\"line2d_11\">\n      <path d=\"M 34.193438 96.152727 \nL 368.993438 96.152727 \n\" clip-path=\"url(#p4980131e85)\" style=\"fill: none; stroke: #ffffff; stroke-linecap: round\"/>\n     </g>\n     <g id=\"text_11\">\n      <!-- 0.6 -->\n      <g style=\"fill: #262626\" transform=\"translate(7.2 100.331868)scale(0.11 -0.11)\">\n       <use xlink:href=\"#DejaVuSans-30\"/>\n       <use xlink:href=\"#DejaVuSans-2e\" x=\"63.623047\"/>\n       <use xlink:href=\"#DejaVuSans-36\" x=\"95.410156\"/>\n      </g>\n     </g>\n    </g>\n    <g id=\"ytick_5\">\n     <g id=\"line2d_12\">\n      <path d=\"M 34.193438 56.618182 \nL 368.993438 56.618182 \n\" clip-path=\"url(#p4980131e85)\" style=\"fill: none; stroke: #ffffff; stroke-linecap: round\"/>\n     </g>\n     <g id=\"text_12\">\n      <!-- 0.8 -->\n      <g style=\"fill: #262626\" transform=\"translate(7.2 60.797322)scale(0.11 -0.11)\">\n       <defs>\n        <path id=\"DejaVuSans-38\" d=\"M 2034 2216 \nQ 1584 2216 1326 1975 \nQ 1069 1734 1069 1313 \nQ 1069 891 1326 650 \nQ 1584 409 2034 409 \nQ 2484 409 2743 651 \nQ 3003 894 3003 1313 \nQ 3003 1734 2745 1975 \nQ 2488 2216 2034 2216 \nz\nM 1403 2484 \nQ 997 2584 770 2862 \nQ 544 3141 544 3541 \nQ 544 4100 942 4425 \nQ 1341 4750 2034 4750 \nQ 2731 4750 3128 4425 \nQ 3525 4100 3525 3541 \nQ 3525 3141 3298 2862 \nQ 3072 2584 2669 2484 \nQ 3125 2378 3379 2068 \nQ 3634 1759 3634 1313 \nQ 3634 634 3220 271 \nQ 2806 -91 2034 -91 \nQ 1263 -91 848 271 \nQ 434 634 434 1313 \nQ 434 1759 690 2068 \nQ 947 2378 1403 2484 \nz\nM 1172 3481 \nQ 1172 3119 1398 2916 \nQ 1625 2713 2034 2713 \nQ 2441 2713 2670 2916 \nQ 2900 3119 2900 3481 \nQ 2900 3844 2670 4047 \nQ 2441 4250 2034 4250 \nQ 1625 4250 1398 4047 \nQ 1172 3844 1172 3481 \nz\n\" transform=\"scale(0.015625)\"/>\n       </defs>\n       <use xlink:href=\"#DejaVuSans-30\"/>\n       <use xlink:href=\"#DejaVuSans-2e\" x=\"63.623047\"/>\n       <use xlink:href=\"#DejaVuSans-38\" x=\"95.410156\"/>\n      </g>\n     </g>\n    </g>\n    <g id=\"ytick_6\">\n     <g id=\"line2d_13\">\n      <path d=\"M 34.193438 17.083636 \nL 368.993438 17.083636 \n\" clip-path=\"url(#p4980131e85)\" style=\"fill: none; stroke: #ffffff; stroke-linecap: round\"/>\n     </g>\n     <g id=\"text_13\">\n      <!-- 1.0 -->\n      <g style=\"fill: #262626\" transform=\"translate(7.2 21.262777)scale(0.11 -0.11)\">\n       <use xlink:href=\"#DejaVuSans-31\"/>\n       <use xlink:href=\"#DejaVuSans-2e\" x=\"63.623047\"/>\n       <use xlink:href=\"#DejaVuSans-30\" x=\"95.410156\"/>\n      </g>\n     </g>\n    </g>\n   </g>\n   <g id=\"line2d_14\">\n    <defs>\n     <path id=\"mddc56fdd07\" d=\"M -3 0 \nL 3 0 \nM 0 3 \nL 0 -3 \n\" style=\"stroke: #c44e52\"/>\n    </defs>\n    <g clip-path=\"url(#p4980131e85)\">\n     <use xlink:href=\"#mddc56fdd07\" x=\"54.242788\" y=\"17.083636\" style=\"fill: #c44e52; stroke: #c44e52\"/>\n     <use xlink:href=\"#mddc56fdd07\" x=\"59.073957\" y=\"17.083636\" style=\"fill: #c44e52; stroke: #c44e52\"/>\n     <use xlink:href=\"#mddc56fdd07\" x=\"63.905126\" y=\"17.083636\" style=\"fill: #c44e52; stroke: #c44e52\"/>\n     <use xlink:href=\"#mddc56fdd07\" x=\"68.736295\" y=\"17.083636\" style=\"fill: #c44e52; stroke: #c44e52\"/>\n     <use xlink:href=\"#mddc56fdd07\" x=\"73.567463\" y=\"17.083636\" style=\"fill: #c44e52; stroke: #c44e52\"/>\n     <use xlink:href=\"#mddc56fdd07\" x=\"78.398632\" y=\"17.083636\" style=\"fill: #c44e52; stroke: #c44e52\"/>\n     <use xlink:href=\"#mddc56fdd07\" x=\"88.06097\" y=\"17.083636\" style=\"fill: #c44e52; stroke: #c44e52\"/>\n     <use xlink:href=\"#mddc56fdd07\" x=\"92.892139\" y=\"17.083636\" style=\"fill: #c44e52; stroke: #c44e52\"/>\n     <use xlink:href=\"#mddc56fdd07\" x=\"97.723308\" y=\"17.083636\" style=\"fill: #c44e52; stroke: #c44e52\"/>\n     <use xlink:href=\"#mddc56fdd07\" x=\"107.385645\" y=\"17.083636\" style=\"fill: #c44e52; stroke: #c44e52\"/>\n     <use xlink:href=\"#mddc56fdd07\" x=\"112.216814\" y=\"17.083636\" style=\"fill: #c44e52; stroke: #c44e52\"/>\n     <use xlink:href=\"#mddc56fdd07\" x=\"117.047983\" y=\"17.083636\" style=\"fill: #c44e52; stroke: #c44e52\"/>\n     <use xlink:href=\"#mddc56fdd07\" x=\"121.879152\" y=\"17.083636\" style=\"fill: #c44e52; stroke: #c44e52\"/>\n     <use xlink:href=\"#mddc56fdd07\" x=\"126.710321\" y=\"17.083636\" style=\"fill: #c44e52; stroke: #c44e52\"/>\n     <use xlink:href=\"#mddc56fdd07\" x=\"131.541489\" y=\"17.083636\" style=\"fill: #c44e52; stroke: #c44e52\"/>\n     <use xlink:href=\"#mddc56fdd07\" x=\"146.034996\" y=\"17.083636\" style=\"fill: #c44e52; stroke: #c44e52\"/>\n     <use xlink:href=\"#mddc56fdd07\" x=\"150.866165\" y=\"17.083636\" style=\"fill: #c44e52; stroke: #c44e52\"/>\n     <use xlink:href=\"#mddc56fdd07\" x=\"155.697334\" y=\"17.083636\" style=\"fill: #c44e52; stroke: #c44e52\"/>\n     <use xlink:href=\"#mddc56fdd07\" x=\"160.528502\" y=\"17.083636\" style=\"fill: #c44e52; stroke: #c44e52\"/>\n     <use xlink:href=\"#mddc56fdd07\" x=\"165.359671\" y=\"17.083636\" style=\"fill: #c44e52; stroke: #c44e52\"/>\n     <use xlink:href=\"#mddc56fdd07\" x=\"170.19084\" y=\"17.083636\" style=\"fill: #c44e52; stroke: #c44e52\"/>\n     <use xlink:href=\"#mddc56fdd07\" x=\"175.022009\" y=\"17.083636\" style=\"fill: #c44e52; stroke: #c44e52\"/>\n     <use xlink:href=\"#mddc56fdd07\" x=\"179.853178\" y=\"17.083636\" style=\"fill: #c44e52; stroke: #c44e52\"/>\n     <use xlink:href=\"#mddc56fdd07\" x=\"184.684347\" y=\"17.083636\" style=\"fill: #c44e52; stroke: #c44e52\"/>\n     <use xlink:href=\"#mddc56fdd07\" x=\"189.515515\" y=\"17.083636\" style=\"fill: #c44e52; stroke: #c44e52\"/>\n     <use xlink:href=\"#mddc56fdd07\" x=\"194.346684\" y=\"17.083636\" style=\"fill: #c44e52; stroke: #c44e52\"/>\n     <use xlink:href=\"#mddc56fdd07\" x=\"204.009022\" y=\"17.083636\" style=\"fill: #c44e52; stroke: #c44e52\"/>\n     <use xlink:href=\"#mddc56fdd07\" x=\"208.840191\" y=\"17.083636\" style=\"fill: #c44e52; stroke: #c44e52\"/>\n     <use xlink:href=\"#mddc56fdd07\" x=\"213.67136\" y=\"17.083636\" style=\"fill: #c44e52; stroke: #c44e52\"/>\n     <use xlink:href=\"#mddc56fdd07\" x=\"218.502528\" y=\"17.083636\" style=\"fill: #c44e52; stroke: #c44e52\"/>\n     <use xlink:href=\"#mddc56fdd07\" x=\"228.164866\" y=\"17.083636\" style=\"fill: #c44e52; stroke: #c44e52\"/>\n     <use xlink:href=\"#mddc56fdd07\" x=\"266.814217\" y=\"17.083636\" style=\"fill: #c44e52; stroke: #c44e52\"/>\n     <use xlink:href=\"#mddc56fdd07\" x=\"276.476554\" y=\"17.083636\" style=\"fill: #c44e52; stroke: #c44e52\"/>\n     <use xlink:href=\"#mddc56fdd07\" x=\"286.138892\" y=\"17.083636\" style=\"fill: #c44e52; stroke: #c44e52\"/>\n     <use xlink:href=\"#mddc56fdd07\" x=\"290.970061\" y=\"17.083636\" style=\"fill: #c44e52; stroke: #c44e52\"/>\n     <use xlink:href=\"#mddc56fdd07\" x=\"310.294736\" y=\"17.083636\" style=\"fill: #c44e52; stroke: #c44e52\"/>\n     <use xlink:href=\"#mddc56fdd07\" x=\"324.788243\" y=\"17.083636\" style=\"fill: #c44e52; stroke: #c44e52\"/>\n     <use xlink:href=\"#mddc56fdd07\" x=\"329.619412\" y=\"17.083636\" style=\"fill: #c44e52; stroke: #c44e52\"/>\n     <use xlink:href=\"#mddc56fdd07\" x=\"334.45058\" y=\"17.083636\" style=\"fill: #c44e52; stroke: #c44e52\"/>\n     <use xlink:href=\"#mddc56fdd07\" x=\"348.944087\" y=\"17.083636\" style=\"fill: #c44e52; stroke: #c44e52\"/>\n    </g>\n   </g>\n   <g id=\"line2d_15\">\n    <defs>\n     <path id=\"m1cf966d41c\" d=\"M 0 1.5 \nC 0.397805 1.5 0.77937 1.341951 1.06066 1.06066 \nC 1.341951 0.77937 1.5 0.397805 1.5 0 \nC 1.5 -0.397805 1.341951 -0.77937 1.06066 -1.06066 \nC 0.77937 -1.341951 0.397805 -1.5 0 -1.5 \nC -0.397805 -1.5 -0.77937 -1.341951 -1.06066 -1.06066 \nC -1.341951 -0.77937 -1.5 -0.397805 -1.5 0 \nC -1.5 0.397805 -1.341951 0.77937 -1.06066 1.06066 \nC -0.77937 1.341951 -0.397805 1.5 0 1.5 \nz\n\" style=\"stroke: #4c72b0\"/>\n    </defs>\n    <g clip-path=\"url(#p4980131e85)\">\n     <use xlink:href=\"#m1cf966d41c\" x=\"49.411619\" y=\"214.756364\" style=\"fill: #4c72b0; stroke: #4c72b0\"/>\n     <use xlink:href=\"#m1cf966d41c\" x=\"83.229801\" y=\"214.756364\" style=\"fill: #4c72b0; stroke: #4c72b0\"/>\n     <use xlink:href=\"#m1cf966d41c\" x=\"102.554476\" y=\"214.756364\" style=\"fill: #4c72b0; stroke: #4c72b0\"/>\n     <use xlink:href=\"#m1cf966d41c\" x=\"136.372658\" y=\"214.756364\" style=\"fill: #4c72b0; stroke: #4c72b0\"/>\n     <use xlink:href=\"#m1cf966d41c\" x=\"141.203827\" y=\"214.756364\" style=\"fill: #4c72b0; stroke: #4c72b0\"/>\n     <use xlink:href=\"#m1cf966d41c\" x=\"199.177853\" y=\"214.756364\" style=\"fill: #4c72b0; stroke: #4c72b0\"/>\n     <use xlink:href=\"#m1cf966d41c\" x=\"223.333697\" y=\"214.756364\" style=\"fill: #4c72b0; stroke: #4c72b0\"/>\n     <use xlink:href=\"#m1cf966d41c\" x=\"232.996035\" y=\"214.756364\" style=\"fill: #4c72b0; stroke: #4c72b0\"/>\n     <use xlink:href=\"#m1cf966d41c\" x=\"237.827204\" y=\"214.756364\" style=\"fill: #4c72b0; stroke: #4c72b0\"/>\n     <use xlink:href=\"#m1cf966d41c\" x=\"242.658373\" y=\"214.756364\" style=\"fill: #4c72b0; stroke: #4c72b0\"/>\n     <use xlink:href=\"#m1cf966d41c\" x=\"247.489541\" y=\"214.756364\" style=\"fill: #4c72b0; stroke: #4c72b0\"/>\n     <use xlink:href=\"#m1cf966d41c\" x=\"252.32071\" y=\"214.756364\" style=\"fill: #4c72b0; stroke: #4c72b0\"/>\n     <use xlink:href=\"#m1cf966d41c\" x=\"257.151879\" y=\"214.756364\" style=\"fill: #4c72b0; stroke: #4c72b0\"/>\n     <use xlink:href=\"#m1cf966d41c\" x=\"261.983048\" y=\"214.756364\" style=\"fill: #4c72b0; stroke: #4c72b0\"/>\n     <use xlink:href=\"#m1cf966d41c\" x=\"271.645386\" y=\"214.756364\" style=\"fill: #4c72b0; stroke: #4c72b0\"/>\n     <use xlink:href=\"#m1cf966d41c\" x=\"281.307723\" y=\"214.756364\" style=\"fill: #4c72b0; stroke: #4c72b0\"/>\n     <use xlink:href=\"#m1cf966d41c\" x=\"295.80123\" y=\"214.756364\" style=\"fill: #4c72b0; stroke: #4c72b0\"/>\n     <use xlink:href=\"#m1cf966d41c\" x=\"300.632399\" y=\"214.756364\" style=\"fill: #4c72b0; stroke: #4c72b0\"/>\n     <use xlink:href=\"#m1cf966d41c\" x=\"305.463567\" y=\"214.756364\" style=\"fill: #4c72b0; stroke: #4c72b0\"/>\n     <use xlink:href=\"#m1cf966d41c\" x=\"315.125905\" y=\"214.756364\" style=\"fill: #4c72b0; stroke: #4c72b0\"/>\n     <use xlink:href=\"#m1cf966d41c\" x=\"319.957074\" y=\"214.756364\" style=\"fill: #4c72b0; stroke: #4c72b0\"/>\n     <use xlink:href=\"#m1cf966d41c\" x=\"339.281749\" y=\"214.756364\" style=\"fill: #4c72b0; stroke: #4c72b0\"/>\n     <use xlink:href=\"#m1cf966d41c\" x=\"344.112918\" y=\"214.756364\" style=\"fill: #4c72b0; stroke: #4c72b0\"/>\n     <use xlink:href=\"#m1cf966d41c\" x=\"353.775256\" y=\"214.756364\" style=\"fill: #4c72b0; stroke: #4c72b0\"/>\n    </g>\n   </g>\n   <g id=\"patch_3\">\n    <path d=\"M 34.193438 224.64 \nL 34.193438 7.2 \n\" style=\"fill: none; stroke: #ffffff; stroke-width: 1.25; stroke-linejoin: miter; stroke-linecap: square\"/>\n   </g>\n   <g id=\"patch_4\">\n    <path d=\"M 368.993438 224.64 \nL 368.993438 7.2 \n\" style=\"fill: none; stroke: #ffffff; stroke-width: 1.25; stroke-linejoin: miter; stroke-linecap: square\"/>\n   </g>\n   <g id=\"patch_5\">\n    <path d=\"M 34.193438 224.64 \nL 368.993437 224.64 \n\" style=\"fill: none; stroke: #ffffff; stroke-width: 1.25; stroke-linejoin: miter; stroke-linecap: square\"/>\n   </g>\n   <g id=\"patch_6\">\n    <path d=\"M 34.193438 7.2 \nL 368.993437 7.2 \n\" style=\"fill: none; stroke: #ffffff; stroke-width: 1.25; stroke-linejoin: miter; stroke-linecap: square\"/>\n   </g>\n   <g id=\"legend_1\">\n    <g id=\"patch_7\">\n     <path d=\"M 296.166562 133.715937 \nL 361.293438 133.715937 \nQ 363.493438 133.715937 363.493438 131.515937 \nL 363.493438 100.324062 \nQ 363.493438 98.124062 361.293438 98.124062 \nL 296.166562 98.124062 \nQ 293.966563 98.124062 293.966563 100.324062 \nL 293.966563 131.515937 \nQ 293.966563 133.715937 296.166562 133.715937 \nz\n\" style=\"fill: #eaeaf2; opacity: 0.8; stroke: #cccccc; stroke-linejoin: miter\"/>\n    </g>\n    <g id=\"line2d_16\">\n     <g>\n      <use xlink:href=\"#mddc56fdd07\" x=\"309.366562\" y=\"107.032344\" style=\"fill: #c44e52; stroke: #c44e52\"/>\n     </g>\n    </g>\n    <g id=\"text_14\">\n     <!-- Y = 1 -->\n     <g style=\"fill: #262626\" transform=\"translate(329.166562 110.882344)scale(0.11 -0.11)\">\n      <defs>\n       <path id=\"DejaVuSans-59\" d=\"M -13 4666 \nL 666 4666 \nL 1959 2747 \nL 3244 4666 \nL 3922 4666 \nL 2272 2222 \nL 2272 0 \nL 1638 0 \nL 1638 2222 \nL -13 4666 \nz\n\" transform=\"scale(0.015625)\"/>\n       <path id=\"DejaVuSans-20\" transform=\"scale(0.015625)\"/>\n       <path id=\"DejaVuSans-3d\" d=\"M 678 2906 \nL 4684 2906 \nL 4684 2381 \nL 678 2381 \nL 678 2906 \nz\nM 678 1631 \nL 4684 1631 \nL 4684 1100 \nL 678 1100 \nL 678 1631 \nz\n\" transform=\"scale(0.015625)\"/>\n      </defs>\n      <use xlink:href=\"#DejaVuSans-59\"/>\n      <use xlink:href=\"#DejaVuSans-20\" x=\"61.083984\"/>\n      <use xlink:href=\"#DejaVuSans-3d\" x=\"92.871094\"/>\n      <use xlink:href=\"#DejaVuSans-20\" x=\"176.660156\"/>\n      <use xlink:href=\"#DejaVuSans-31\" x=\"208.447266\"/>\n     </g>\n    </g>\n    <g id=\"line2d_17\">\n     <g>\n      <use xlink:href=\"#m1cf966d41c\" x=\"309.366562\" y=\"123.178281\" style=\"fill: #4c72b0; stroke: #4c72b0\"/>\n     </g>\n    </g>\n    <g id=\"text_15\">\n     <!-- Y = 0 -->\n     <g style=\"fill: #262626\" transform=\"translate(329.166562 127.028281)scale(0.11 -0.11)\">\n      <use xlink:href=\"#DejaVuSans-59\"/>\n      <use xlink:href=\"#DejaVuSans-20\" x=\"61.083984\"/>\n      <use xlink:href=\"#DejaVuSans-3d\" x=\"92.871094\"/>\n      <use xlink:href=\"#DejaVuSans-20\" x=\"176.660156\"/>\n      <use xlink:href=\"#DejaVuSans-30\" x=\"208.447266\"/>\n     </g>\n    </g>\n   </g>\n  </g>\n </g>\n <defs>\n  <clipPath id=\"p4980131e85\">\n   <rect x=\"34.193438\" y=\"7.2\" width=\"334.8\" height=\"217.44\"/>\n  </clipPath>\n </defs>\n</svg>\n"
          },
          "metadata": {
            "needs_background": "light"
          }
        }
      ],
      "source": [
        "Y = pd.read_excel(\"t2_data.xlsx\").values.ravel()\n",
        "\n",
        "plt.plot(np.arange(Y.size)[Y == 1], np.count_nonzero(Y == 1) * [1], 'r+', label='Y = 1')\n",
        "plt.plot(np.arange(Y.size)[Y == 0], np.count_nonzero(Y == 0) * [0], 'b.', label='Y = 0')\n",
        "plt.legend()\n",
        "plt.show()"
      ]
    },
    {
      "cell_type": "markdown",
      "metadata": {
        "id": "lBO9B6ivAGwe"
      },
      "source": [
        "Оцените доверительный интервал для показателя *ACCURACY* с использованием..."
      ]
    },
    {
      "cell_type": "markdown",
      "metadata": {
        "id": "YPw4T9BjAGwf"
      },
      "source": [
        "Метода Клоппера-Пирсона (с использованием аппроксимации через __бета__ распределение).\n",
        "\n",
        "    http://en.wikipedia.org/wiki/Binomial_proportion_confidence_interval\n",
        "    alpha confidence intervals for a binomial distribution of k expected successes on n trials"
      ]
    },
    {
      "cell_type": "code",
      "execution_count": null,
      "metadata": {
        "id": "BDYoEvpCAGwg"
      },
      "outputs": [],
      "source": [
        "def bin_clopper_pearson(data, alpha=0.05):\n",
        "    # Your code goes here\n",
        "    pos = data.sum()\n",
        "    neg = data.shape[0] - pos\n",
        "    c_l = sp.stats.beta.ppf(alpha / 2, pos, neg + 1)\n",
        "    c_u = sp.stats.beta.ppf(1 - alpha / 2, pos + 1, neg)\n",
        "    return c_l, c_u"
      ]
    },
    {
      "cell_type": "markdown",
      "metadata": {
        "id": "Fkr-cldsAGwh"
      },
      "source": [
        "А также с помощью __нормальной__ аппроксимации"
      ]
    },
    {
      "cell_type": "code",
      "execution_count": null,
      "metadata": {
        "id": "eR1JJWDFAGwh"
      },
      "outputs": [],
      "source": [
        "def bin_normal_approx(data, alpha=0.05):\n",
        "    # Your code goes here\n",
        "    p_hat = data.sum() / data.shape[0]\n",
        "    z = sp.stats.norm.ppf(1 - alpha / 2)\n",
        "    D = np.sqrt(p_hat * (1 - p_hat) / data.shape[0])\n",
        "    return p_hat - D * z, p_hat + D * z"
      ]
    },
    {
      "cell_type": "markdown",
      "metadata": {
        "id": "Za3hIXfmAGwi"
      },
      "source": [
        "Сравните результаты и сделайте выводы."
      ]
    },
    {
      "cell_type": "code",
      "execution_count": null,
      "metadata": {
        "id": "GXi5Vx9-AGwj",
        "colab": {
          "base_uri": "https://localhost:8080/",
          "height": 206
        },
        "outputId": "1f5e1d26-eec1-4957-cc7d-d03880b4b564"
      },
      "outputs": [
        {
          "output_type": "execute_result",
          "data": {
            "text/plain": [
              "   alpha Clopper-Pearson          Normal\n",
              "0  0.100  [0.515, 0.726]  [0.525, 0.725]\n",
              "1  0.075  [0.506, 0.733]  [0.517, 0.733]\n",
              "2  0.050  [0.495, 0.743]  [0.506, 0.744]\n",
              "3  0.025  [0.478, 0.757]  [0.489, 0.761]\n",
              "4  0.010  [0.457, 0.774]  [0.469, 0.781]"
            ],
            "text/html": [
              "\n",
              "  <div id=\"df-24f333e9-5cc0-4a55-95ab-34de15402026\">\n",
              "    <div class=\"colab-df-container\">\n",
              "      <div>\n",
              "<style scoped>\n",
              "    .dataframe tbody tr th:only-of-type {\n",
              "        vertical-align: middle;\n",
              "    }\n",
              "\n",
              "    .dataframe tbody tr th {\n",
              "        vertical-align: top;\n",
              "    }\n",
              "\n",
              "    .dataframe thead th {\n",
              "        text-align: right;\n",
              "    }\n",
              "</style>\n",
              "<table border=\"1\" class=\"dataframe\">\n",
              "  <thead>\n",
              "    <tr style=\"text-align: right;\">\n",
              "      <th></th>\n",
              "      <th>alpha</th>\n",
              "      <th>Clopper-Pearson</th>\n",
              "      <th>Normal</th>\n",
              "    </tr>\n",
              "  </thead>\n",
              "  <tbody>\n",
              "    <tr>\n",
              "      <th>0</th>\n",
              "      <td>0.100</td>\n",
              "      <td>[0.515, 0.726]</td>\n",
              "      <td>[0.525, 0.725]</td>\n",
              "    </tr>\n",
              "    <tr>\n",
              "      <th>1</th>\n",
              "      <td>0.075</td>\n",
              "      <td>[0.506, 0.733]</td>\n",
              "      <td>[0.517, 0.733]</td>\n",
              "    </tr>\n",
              "    <tr>\n",
              "      <th>2</th>\n",
              "      <td>0.050</td>\n",
              "      <td>[0.495, 0.743]</td>\n",
              "      <td>[0.506, 0.744]</td>\n",
              "    </tr>\n",
              "    <tr>\n",
              "      <th>3</th>\n",
              "      <td>0.025</td>\n",
              "      <td>[0.478, 0.757]</td>\n",
              "      <td>[0.489, 0.761]</td>\n",
              "    </tr>\n",
              "    <tr>\n",
              "      <th>4</th>\n",
              "      <td>0.010</td>\n",
              "      <td>[0.457, 0.774]</td>\n",
              "      <td>[0.469, 0.781]</td>\n",
              "    </tr>\n",
              "  </tbody>\n",
              "</table>\n",
              "</div>\n",
              "      <button class=\"colab-df-convert\" onclick=\"convertToInteractive('df-24f333e9-5cc0-4a55-95ab-34de15402026')\"\n",
              "              title=\"Convert this dataframe to an interactive table.\"\n",
              "              style=\"display:none;\">\n",
              "        \n",
              "  <svg xmlns=\"http://www.w3.org/2000/svg\" height=\"24px\"viewBox=\"0 0 24 24\"\n",
              "       width=\"24px\">\n",
              "    <path d=\"M0 0h24v24H0V0z\" fill=\"none\"/>\n",
              "    <path d=\"M18.56 5.44l.94 2.06.94-2.06 2.06-.94-2.06-.94-.94-2.06-.94 2.06-2.06.94zm-11 1L8.5 8.5l.94-2.06 2.06-.94-2.06-.94L8.5 2.5l-.94 2.06-2.06.94zm10 10l.94 2.06.94-2.06 2.06-.94-2.06-.94-.94-2.06-.94 2.06-2.06.94z\"/><path d=\"M17.41 7.96l-1.37-1.37c-.4-.4-.92-.59-1.43-.59-.52 0-1.04.2-1.43.59L10.3 9.45l-7.72 7.72c-.78.78-.78 2.05 0 2.83L4 21.41c.39.39.9.59 1.41.59.51 0 1.02-.2 1.41-.59l7.78-7.78 2.81-2.81c.8-.78.8-2.07 0-2.86zM5.41 20L4 18.59l7.72-7.72 1.47 1.35L5.41 20z\"/>\n",
              "  </svg>\n",
              "      </button>\n",
              "      \n",
              "  <style>\n",
              "    .colab-df-container {\n",
              "      display:flex;\n",
              "      flex-wrap:wrap;\n",
              "      gap: 12px;\n",
              "    }\n",
              "\n",
              "    .colab-df-convert {\n",
              "      background-color: #E8F0FE;\n",
              "      border: none;\n",
              "      border-radius: 50%;\n",
              "      cursor: pointer;\n",
              "      display: none;\n",
              "      fill: #1967D2;\n",
              "      height: 32px;\n",
              "      padding: 0 0 0 0;\n",
              "      width: 32px;\n",
              "    }\n",
              "\n",
              "    .colab-df-convert:hover {\n",
              "      background-color: #E2EBFA;\n",
              "      box-shadow: 0px 1px 2px rgba(60, 64, 67, 0.3), 0px 1px 3px 1px rgba(60, 64, 67, 0.15);\n",
              "      fill: #174EA6;\n",
              "    }\n",
              "\n",
              "    [theme=dark] .colab-df-convert {\n",
              "      background-color: #3B4455;\n",
              "      fill: #D2E3FC;\n",
              "    }\n",
              "\n",
              "    [theme=dark] .colab-df-convert:hover {\n",
              "      background-color: #434B5C;\n",
              "      box-shadow: 0px 1px 3px 1px rgba(0, 0, 0, 0.15);\n",
              "      filter: drop-shadow(0px 1px 2px rgba(0, 0, 0, 0.3));\n",
              "      fill: #FFFFFF;\n",
              "    }\n",
              "  </style>\n",
              "\n",
              "      <script>\n",
              "        const buttonEl =\n",
              "          document.querySelector('#df-24f333e9-5cc0-4a55-95ab-34de15402026 button.colab-df-convert');\n",
              "        buttonEl.style.display =\n",
              "          google.colab.kernel.accessAllowed ? 'block' : 'none';\n",
              "\n",
              "        async function convertToInteractive(key) {\n",
              "          const element = document.querySelector('#df-24f333e9-5cc0-4a55-95ab-34de15402026');\n",
              "          const dataTable =\n",
              "            await google.colab.kernel.invokeFunction('convertToInteractive',\n",
              "                                                     [key], {});\n",
              "          if (!dataTable) return;\n",
              "\n",
              "          const docLinkHtml = 'Like what you see? Visit the ' +\n",
              "            '<a target=\"_blank\" href=https://colab.research.google.com/notebooks/data_table.ipynb>data table notebook</a>'\n",
              "            + ' to learn more about interactive tables.';\n",
              "          element.innerHTML = '';\n",
              "          dataTable['output_type'] = 'display_data';\n",
              "          await google.colab.output.renderOutput(dataTable, element);\n",
              "          const docLink = document.createElement('div');\n",
              "          docLink.innerHTML = docLinkHtml;\n",
              "          element.appendChild(docLink);\n",
              "        }\n",
              "      </script>\n",
              "    </div>\n",
              "  </div>\n",
              "  "
            ]
          },
          "metadata": {},
          "execution_count": 70
        }
      ],
      "source": [
        "res = defaultdict(list)\n",
        "res[\"alpha\"] = alpha_list\n",
        "res[\"Clopper-Pearson\"] = [np.round(bin_clopper_pearson(Y, alpha), 3) for alpha in alpha_list]\n",
        "res[\"Normal\"] = [np.round(bin_normal_approx(Y, alpha), 3) for alpha in alpha_list]\n",
        "res = pd.DataFrame(res)\n",
        "res"
      ]
    },
    {
      "cell_type": "markdown",
      "metadata": {
        "id": "F5pAbbQoAGwl"
      },
      "source": [
        "Также сравните ваши реализованные метод с библиотечными: `statsmodels.stats.proportion.proportion_confint`, в вариантах  `proportion_confint(k, n, alpha, 'beta')` и `proportion_confint(k, n, alpha, 'normal')`"
      ]
    },
    {
      "cell_type": "code",
      "execution_count": null,
      "metadata": {
        "id": "pyCfYq5GAGwm",
        "colab": {
          "base_uri": "https://localhost:8080/",
          "height": 206
        },
        "outputId": "67940daa-acd9-4df3-93f8-bf2793dbe133"
      },
      "outputs": [
        {
          "output_type": "execute_result",
          "data": {
            "text/plain": [
              "   alpha Clopper-Pearson          Normal Statsmodels Clopper-Pearson  \\\n",
              "0  0.100  [0.515, 0.726]  [0.525, 0.725]              [0.515, 0.726]   \n",
              "1  0.075  [0.506, 0.733]  [0.517, 0.733]              [0.506, 0.733]   \n",
              "2  0.050  [0.495, 0.743]  [0.506, 0.744]              [0.495, 0.743]   \n",
              "3  0.025  [0.478, 0.757]  [0.489, 0.761]              [0.478, 0.757]   \n",
              "4  0.010  [0.457, 0.774]  [0.469, 0.781]              [0.457, 0.774]   \n",
              "\n",
              "  Statsmodels Normal  \n",
              "0     [0.525, 0.725]  \n",
              "1     [0.517, 0.733]  \n",
              "2     [0.506, 0.744]  \n",
              "3     [0.489, 0.761]  \n",
              "4     [0.469, 0.781]  "
            ],
            "text/html": [
              "\n",
              "  <div id=\"df-a2ea59c4-4898-4a68-890d-d5216b14c74f\">\n",
              "    <div class=\"colab-df-container\">\n",
              "      <div>\n",
              "<style scoped>\n",
              "    .dataframe tbody tr th:only-of-type {\n",
              "        vertical-align: middle;\n",
              "    }\n",
              "\n",
              "    .dataframe tbody tr th {\n",
              "        vertical-align: top;\n",
              "    }\n",
              "\n",
              "    .dataframe thead th {\n",
              "        text-align: right;\n",
              "    }\n",
              "</style>\n",
              "<table border=\"1\" class=\"dataframe\">\n",
              "  <thead>\n",
              "    <tr style=\"text-align: right;\">\n",
              "      <th></th>\n",
              "      <th>alpha</th>\n",
              "      <th>Clopper-Pearson</th>\n",
              "      <th>Normal</th>\n",
              "      <th>Statsmodels Clopper-Pearson</th>\n",
              "      <th>Statsmodels Normal</th>\n",
              "    </tr>\n",
              "  </thead>\n",
              "  <tbody>\n",
              "    <tr>\n",
              "      <th>0</th>\n",
              "      <td>0.100</td>\n",
              "      <td>[0.515, 0.726]</td>\n",
              "      <td>[0.525, 0.725]</td>\n",
              "      <td>[0.515, 0.726]</td>\n",
              "      <td>[0.525, 0.725]</td>\n",
              "    </tr>\n",
              "    <tr>\n",
              "      <th>1</th>\n",
              "      <td>0.075</td>\n",
              "      <td>[0.506, 0.733]</td>\n",
              "      <td>[0.517, 0.733]</td>\n",
              "      <td>[0.506, 0.733]</td>\n",
              "      <td>[0.517, 0.733]</td>\n",
              "    </tr>\n",
              "    <tr>\n",
              "      <th>2</th>\n",
              "      <td>0.050</td>\n",
              "      <td>[0.495, 0.743]</td>\n",
              "      <td>[0.506, 0.744]</td>\n",
              "      <td>[0.495, 0.743]</td>\n",
              "      <td>[0.506, 0.744]</td>\n",
              "    </tr>\n",
              "    <tr>\n",
              "      <th>3</th>\n",
              "      <td>0.025</td>\n",
              "      <td>[0.478, 0.757]</td>\n",
              "      <td>[0.489, 0.761]</td>\n",
              "      <td>[0.478, 0.757]</td>\n",
              "      <td>[0.489, 0.761]</td>\n",
              "    </tr>\n",
              "    <tr>\n",
              "      <th>4</th>\n",
              "      <td>0.010</td>\n",
              "      <td>[0.457, 0.774]</td>\n",
              "      <td>[0.469, 0.781]</td>\n",
              "      <td>[0.457, 0.774]</td>\n",
              "      <td>[0.469, 0.781]</td>\n",
              "    </tr>\n",
              "  </tbody>\n",
              "</table>\n",
              "</div>\n",
              "      <button class=\"colab-df-convert\" onclick=\"convertToInteractive('df-a2ea59c4-4898-4a68-890d-d5216b14c74f')\"\n",
              "              title=\"Convert this dataframe to an interactive table.\"\n",
              "              style=\"display:none;\">\n",
              "        \n",
              "  <svg xmlns=\"http://www.w3.org/2000/svg\" height=\"24px\"viewBox=\"0 0 24 24\"\n",
              "       width=\"24px\">\n",
              "    <path d=\"M0 0h24v24H0V0z\" fill=\"none\"/>\n",
              "    <path d=\"M18.56 5.44l.94 2.06.94-2.06 2.06-.94-2.06-.94-.94-2.06-.94 2.06-2.06.94zm-11 1L8.5 8.5l.94-2.06 2.06-.94-2.06-.94L8.5 2.5l-.94 2.06-2.06.94zm10 10l.94 2.06.94-2.06 2.06-.94-2.06-.94-.94-2.06-.94 2.06-2.06.94z\"/><path d=\"M17.41 7.96l-1.37-1.37c-.4-.4-.92-.59-1.43-.59-.52 0-1.04.2-1.43.59L10.3 9.45l-7.72 7.72c-.78.78-.78 2.05 0 2.83L4 21.41c.39.39.9.59 1.41.59.51 0 1.02-.2 1.41-.59l7.78-7.78 2.81-2.81c.8-.78.8-2.07 0-2.86zM5.41 20L4 18.59l7.72-7.72 1.47 1.35L5.41 20z\"/>\n",
              "  </svg>\n",
              "      </button>\n",
              "      \n",
              "  <style>\n",
              "    .colab-df-container {\n",
              "      display:flex;\n",
              "      flex-wrap:wrap;\n",
              "      gap: 12px;\n",
              "    }\n",
              "\n",
              "    .colab-df-convert {\n",
              "      background-color: #E8F0FE;\n",
              "      border: none;\n",
              "      border-radius: 50%;\n",
              "      cursor: pointer;\n",
              "      display: none;\n",
              "      fill: #1967D2;\n",
              "      height: 32px;\n",
              "      padding: 0 0 0 0;\n",
              "      width: 32px;\n",
              "    }\n",
              "\n",
              "    .colab-df-convert:hover {\n",
              "      background-color: #E2EBFA;\n",
              "      box-shadow: 0px 1px 2px rgba(60, 64, 67, 0.3), 0px 1px 3px 1px rgba(60, 64, 67, 0.15);\n",
              "      fill: #174EA6;\n",
              "    }\n",
              "\n",
              "    [theme=dark] .colab-df-convert {\n",
              "      background-color: #3B4455;\n",
              "      fill: #D2E3FC;\n",
              "    }\n",
              "\n",
              "    [theme=dark] .colab-df-convert:hover {\n",
              "      background-color: #434B5C;\n",
              "      box-shadow: 0px 1px 3px 1px rgba(0, 0, 0, 0.15);\n",
              "      filter: drop-shadow(0px 1px 2px rgba(0, 0, 0, 0.3));\n",
              "      fill: #FFFFFF;\n",
              "    }\n",
              "  </style>\n",
              "\n",
              "      <script>\n",
              "        const buttonEl =\n",
              "          document.querySelector('#df-a2ea59c4-4898-4a68-890d-d5216b14c74f button.colab-df-convert');\n",
              "        buttonEl.style.display =\n",
              "          google.colab.kernel.accessAllowed ? 'block' : 'none';\n",
              "\n",
              "        async function convertToInteractive(key) {\n",
              "          const element = document.querySelector('#df-a2ea59c4-4898-4a68-890d-d5216b14c74f');\n",
              "          const dataTable =\n",
              "            await google.colab.kernel.invokeFunction('convertToInteractive',\n",
              "                                                     [key], {});\n",
              "          if (!dataTable) return;\n",
              "\n",
              "          const docLinkHtml = 'Like what you see? Visit the ' +\n",
              "            '<a target=\"_blank\" href=https://colab.research.google.com/notebooks/data_table.ipynb>data table notebook</a>'\n",
              "            + ' to learn more about interactive tables.';\n",
              "          element.innerHTML = '';\n",
              "          dataTable['output_type'] = 'display_data';\n",
              "          await google.colab.output.renderOutput(dataTable, element);\n",
              "          const docLink = document.createElement('div');\n",
              "          docLink.innerHTML = docLinkHtml;\n",
              "          element.appendChild(docLink);\n",
              "        }\n",
              "      </script>\n",
              "    </div>\n",
              "  </div>\n",
              "  "
            ]
          },
          "metadata": {},
          "execution_count": 71
        }
      ],
      "source": [
        "# Your code goes here...\n",
        "from statsmodels.stats.proportion import proportion_confint\n",
        "alpha_list = np.array([0.1, 0.075, 0.05, 0.025, 0.01]) \n",
        "res['Statsmodels Clopper-Pearson'] = [np.round(proportion_confint(Y.sum(), Y.shape[0], alpha, 'beta'), 3) for alpha in alpha_list]\n",
        "res['Statsmodels Normal'] = [np.round(proportion_confint(Y.sum(), Y.shape[0], alpha, 'normal'), 3) for alpha in alpha_list]\n",
        "res"
      ]
    },
    {
      "cell_type": "markdown",
      "metadata": {
        "id": "8u--IwlvAGwn"
      },
      "source": [
        "**Выводы:**\n",
        "\n",
        "Доверительные интервалы, получаемые обоими способами, примерно одинаковы, для метода Клоппера-Пирсона левая граница всегда меньше, чем для нормальной аппроксимации. Также значения для реализованных методов полностью совпадает с результатом для соответствующих библиотечных версий из statsmodels, что свидетельствует о правильности написанных реализаций.  "
      ]
    },
    {
      "cell_type": "markdown",
      "metadata": {
        "id": "CX6cM45PAGwo"
      },
      "source": [
        "### Задача 5"
      ]
    },
    {
      "cell_type": "markdown",
      "metadata": {
        "id": "AzxOvH4xAGwo"
      },
      "source": [
        "#### Продолжительность жизни крыс\n",
        "\n",
        "В исследовании принимало участие 195 крыс. 106 из них держали на строгой диете, оставшиеся 89 — на диете ad libitum. Имеющиеся данные: продолжительность жизни крыс в каждой из групп. Влияет ли диета на продолжительность жизни?"
      ]
    },
    {
      "cell_type": "code",
      "execution_count": null,
      "metadata": {
        "scrolled": true,
        "id": "NlhLlDGiAGwq",
        "outputId": "346af182-f3cb-4c3f-e2ae-0b684a4b4a8a",
        "colab": {
          "base_uri": "https://localhost:8080/",
          "height": 206
        }
      },
      "outputs": [
        {
          "output_type": "execute_result",
          "data": {
            "text/plain": [
              "     lifespan        diet\n",
              "84       1190  restricted\n",
              "29        893  restricted\n",
              "57       1057  restricted\n",
              "70       1129  restricted\n",
              "123       620  ad libitum"
            ],
            "text/html": [
              "\n",
              "  <div id=\"df-497d2ce4-030a-4b33-b1a8-61c1cbba7063\">\n",
              "    <div class=\"colab-df-container\">\n",
              "      <div>\n",
              "<style scoped>\n",
              "    .dataframe tbody tr th:only-of-type {\n",
              "        vertical-align: middle;\n",
              "    }\n",
              "\n",
              "    .dataframe tbody tr th {\n",
              "        vertical-align: top;\n",
              "    }\n",
              "\n",
              "    .dataframe thead th {\n",
              "        text-align: right;\n",
              "    }\n",
              "</style>\n",
              "<table border=\"1\" class=\"dataframe\">\n",
              "  <thead>\n",
              "    <tr style=\"text-align: right;\">\n",
              "      <th></th>\n",
              "      <th>lifespan</th>\n",
              "      <th>diet</th>\n",
              "    </tr>\n",
              "  </thead>\n",
              "  <tbody>\n",
              "    <tr>\n",
              "      <th>84</th>\n",
              "      <td>1190</td>\n",
              "      <td>restricted</td>\n",
              "    </tr>\n",
              "    <tr>\n",
              "      <th>29</th>\n",
              "      <td>893</td>\n",
              "      <td>restricted</td>\n",
              "    </tr>\n",
              "    <tr>\n",
              "      <th>57</th>\n",
              "      <td>1057</td>\n",
              "      <td>restricted</td>\n",
              "    </tr>\n",
              "    <tr>\n",
              "      <th>70</th>\n",
              "      <td>1129</td>\n",
              "      <td>restricted</td>\n",
              "    </tr>\n",
              "    <tr>\n",
              "      <th>123</th>\n",
              "      <td>620</td>\n",
              "      <td>ad libitum</td>\n",
              "    </tr>\n",
              "  </tbody>\n",
              "</table>\n",
              "</div>\n",
              "      <button class=\"colab-df-convert\" onclick=\"convertToInteractive('df-497d2ce4-030a-4b33-b1a8-61c1cbba7063')\"\n",
              "              title=\"Convert this dataframe to an interactive table.\"\n",
              "              style=\"display:none;\">\n",
              "        \n",
              "  <svg xmlns=\"http://www.w3.org/2000/svg\" height=\"24px\"viewBox=\"0 0 24 24\"\n",
              "       width=\"24px\">\n",
              "    <path d=\"M0 0h24v24H0V0z\" fill=\"none\"/>\n",
              "    <path d=\"M18.56 5.44l.94 2.06.94-2.06 2.06-.94-2.06-.94-.94-2.06-.94 2.06-2.06.94zm-11 1L8.5 8.5l.94-2.06 2.06-.94-2.06-.94L8.5 2.5l-.94 2.06-2.06.94zm10 10l.94 2.06.94-2.06 2.06-.94-2.06-.94-.94-2.06-.94 2.06-2.06.94z\"/><path d=\"M17.41 7.96l-1.37-1.37c-.4-.4-.92-.59-1.43-.59-.52 0-1.04.2-1.43.59L10.3 9.45l-7.72 7.72c-.78.78-.78 2.05 0 2.83L4 21.41c.39.39.9.59 1.41.59.51 0 1.02-.2 1.41-.59l7.78-7.78 2.81-2.81c.8-.78.8-2.07 0-2.86zM5.41 20L4 18.59l7.72-7.72 1.47 1.35L5.41 20z\"/>\n",
              "  </svg>\n",
              "      </button>\n",
              "      \n",
              "  <style>\n",
              "    .colab-df-container {\n",
              "      display:flex;\n",
              "      flex-wrap:wrap;\n",
              "      gap: 12px;\n",
              "    }\n",
              "\n",
              "    .colab-df-convert {\n",
              "      background-color: #E8F0FE;\n",
              "      border: none;\n",
              "      border-radius: 50%;\n",
              "      cursor: pointer;\n",
              "      display: none;\n",
              "      fill: #1967D2;\n",
              "      height: 32px;\n",
              "      padding: 0 0 0 0;\n",
              "      width: 32px;\n",
              "    }\n",
              "\n",
              "    .colab-df-convert:hover {\n",
              "      background-color: #E2EBFA;\n",
              "      box-shadow: 0px 1px 2px rgba(60, 64, 67, 0.3), 0px 1px 3px 1px rgba(60, 64, 67, 0.15);\n",
              "      fill: #174EA6;\n",
              "    }\n",
              "\n",
              "    [theme=dark] .colab-df-convert {\n",
              "      background-color: #3B4455;\n",
              "      fill: #D2E3FC;\n",
              "    }\n",
              "\n",
              "    [theme=dark] .colab-df-convert:hover {\n",
              "      background-color: #434B5C;\n",
              "      box-shadow: 0px 1px 3px 1px rgba(0, 0, 0, 0.15);\n",
              "      filter: drop-shadow(0px 1px 2px rgba(0, 0, 0, 0.3));\n",
              "      fill: #FFFFFF;\n",
              "    }\n",
              "  </style>\n",
              "\n",
              "      <script>\n",
              "        const buttonEl =\n",
              "          document.querySelector('#df-497d2ce4-030a-4b33-b1a8-61c1cbba7063 button.colab-df-convert');\n",
              "        buttonEl.style.display =\n",
              "          google.colab.kernel.accessAllowed ? 'block' : 'none';\n",
              "\n",
              "        async function convertToInteractive(key) {\n",
              "          const element = document.querySelector('#df-497d2ce4-030a-4b33-b1a8-61c1cbba7063');\n",
              "          const dataTable =\n",
              "            await google.colab.kernel.invokeFunction('convertToInteractive',\n",
              "                                                     [key], {});\n",
              "          if (!dataTable) return;\n",
              "\n",
              "          const docLinkHtml = 'Like what you see? Visit the ' +\n",
              "            '<a target=\"_blank\" href=https://colab.research.google.com/notebooks/data_table.ipynb>data table notebook</a>'\n",
              "            + ' to learn more about interactive tables.';\n",
              "          element.innerHTML = '';\n",
              "          dataTable['output_type'] = 'display_data';\n",
              "          await google.colab.output.renderOutput(dataTable, element);\n",
              "          const docLink = document.createElement('div');\n",
              "          docLink.innerHTML = docLinkHtml;\n",
              "          element.appendChild(docLink);\n",
              "        }\n",
              "      </script>\n",
              "    </div>\n",
              "  </div>\n",
              "  "
            ]
          },
          "metadata": {},
          "execution_count": 72
        }
      ],
      "source": [
        "rats = pd.read_table(\"rats.txt\", sep=\"\\t\")\n",
        "rats.sample(5)"
      ]
    },
    {
      "cell_type": "code",
      "execution_count": null,
      "metadata": {
        "id": "kfuoZucaAGws"
      },
      "outputs": [],
      "source": [
        "x1 = rats.loc[rats['diet'] == 'restricted']['lifespan']\n",
        "x2 = rats.loc[rats['diet'] == 'ad libitum']['lifespan']"
      ]
    },
    {
      "cell_type": "code",
      "execution_count": null,
      "metadata": {
        "id": "D0VX7qo8AGwt",
        "outputId": "9b555c9d-5639-4c14-f9e7-f526febcd4e7",
        "colab": {
          "base_uri": "https://localhost:8080/",
          "height": 491
        }
      },
      "outputs": [
        {
          "output_type": "display_data",
          "data": {
            "text/plain": [
              "<Figure size 720x360 with 2 Axes>"
            ],
            "image/svg+xml": "<?xml version=\"1.0\" encoding=\"utf-8\" standalone=\"no\"?>\n<!DOCTYPE svg PUBLIC \"-//W3C//DTD SVG 1.1//EN\"\n  \"http://www.w3.org/Graphics/SVG/1.1/DTD/svg11.dtd\">\n<svg xmlns:xlink=\"http://www.w3.org/1999/xlink\" width=\"712.420704pt\" height=\"352.564062pt\" viewBox=\"0 0 712.420704 352.564062\" xmlns=\"http://www.w3.org/2000/svg\" version=\"1.1\">\n <metadata>\n  <rdf:RDF xmlns:dc=\"http://purl.org/dc/elements/1.1/\" xmlns:cc=\"http://creativecommons.org/ns#\" xmlns:rdf=\"http://www.w3.org/1999/02/22-rdf-syntax-ns#\">\n   <cc:Work>\n    <dc:type rdf:resource=\"http://purl.org/dc/dcmitype/StillImage\"/>\n    <dc:date>2023-03-06T19:28:16.868583</dc:date>\n    <dc:format>image/svg+xml</dc:format>\n    <dc:creator>\n     <cc:Agent>\n      <dc:title>Matplotlib v3.5.3, https://matplotlib.org/</dc:title>\n     </cc:Agent>\n    </dc:creator>\n   </cc:Work>\n  </rdf:RDF>\n </metadata>\n <defs>\n  <style type=\"text/css\">*{stroke-linejoin: round; stroke-linecap: butt}</style>\n </defs>\n <g id=\"figure_1\">\n  <g id=\"patch_1\">\n   <path d=\"M 0 352.564062 \nL 712.420704 352.564062 \nL 712.420704 0 \nL 0 0 \nL 0 352.564062 \nz\n\" style=\"fill: none\"/>\n  </g>\n  <g id=\"axes_1\">\n   <g id=\"patch_2\">\n    <path d=\"M 30.6975 325.218125 \nL 338.042572 325.218125 \nL 338.042572 22.318125 \nL 30.6975 22.318125 \nz\n\" style=\"fill: #eaeaf2\"/>\n   </g>\n   <g id=\"matplotlib.axis_1\">\n    <g id=\"xtick_1\">\n     <g id=\"line2d_1\">\n      <path d=\"M 64.625203 325.218125 \nL 64.625203 22.318125 \n\" clip-path=\"url(#p53b695303b)\" style=\"fill: none; stroke: #ffffff; stroke-linecap: round\"/>\n     </g>\n     <g id=\"text_1\">\n      <!-- 200 -->\n      <g style=\"fill: #262626\" transform=\"translate(54.127078 343.076406)scale(0.11 -0.11)\">\n       <defs>\n        <path id=\"DejaVuSans-32\" d=\"M 1228 531 \nL 3431 531 \nL 3431 0 \nL 469 0 \nL 469 531 \nQ 828 903 1448 1529 \nQ 2069 2156 2228 2338 \nQ 2531 2678 2651 2914 \nQ 2772 3150 2772 3378 \nQ 2772 3750 2511 3984 \nQ 2250 4219 1831 4219 \nQ 1534 4219 1204 4116 \nQ 875 4013 500 3803 \nL 500 4441 \nQ 881 4594 1212 4672 \nQ 1544 4750 1819 4750 \nQ 2544 4750 2975 4387 \nQ 3406 4025 3406 3419 \nQ 3406 3131 3298 2873 \nQ 3191 2616 2906 2266 \nQ 2828 2175 2409 1742 \nQ 1991 1309 1228 531 \nz\n\" transform=\"scale(0.015625)\"/>\n        <path id=\"DejaVuSans-30\" d=\"M 2034 4250 \nQ 1547 4250 1301 3770 \nQ 1056 3291 1056 2328 \nQ 1056 1369 1301 889 \nQ 1547 409 2034 409 \nQ 2525 409 2770 889 \nQ 3016 1369 3016 2328 \nQ 3016 3291 2770 3770 \nQ 2525 4250 2034 4250 \nz\nM 2034 4750 \nQ 2819 4750 3233 4129 \nQ 3647 3509 3647 2328 \nQ 3647 1150 3233 529 \nQ 2819 -91 2034 -91 \nQ 1250 -91 836 529 \nQ 422 1150 422 2328 \nQ 422 3509 836 4129 \nQ 1250 4750 2034 4750 \nz\n\" transform=\"scale(0.015625)\"/>\n       </defs>\n       <use xlink:href=\"#DejaVuSans-32\"/>\n       <use xlink:href=\"#DejaVuSans-30\" x=\"63.623047\"/>\n       <use xlink:href=\"#DejaVuSans-30\" x=\"127.246094\"/>\n      </g>\n     </g>\n    </g>\n    <g id=\"xtick_2\">\n     <g id=\"line2d_2\">\n      <path d=\"M 106.640934 325.218125 \nL 106.640934 22.318125 \n\" clip-path=\"url(#p53b695303b)\" style=\"fill: none; stroke: #ffffff; stroke-linecap: round\"/>\n     </g>\n     <g id=\"text_2\">\n      <!-- 400 -->\n      <g style=\"fill: #262626\" transform=\"translate(96.142809 343.076406)scale(0.11 -0.11)\">\n       <defs>\n        <path id=\"DejaVuSans-34\" d=\"M 2419 4116 \nL 825 1625 \nL 2419 1625 \nL 2419 4116 \nz\nM 2253 4666 \nL 3047 4666 \nL 3047 1625 \nL 3713 1625 \nL 3713 1100 \nL 3047 1100 \nL 3047 0 \nL 2419 0 \nL 2419 1100 \nL 313 1100 \nL 313 1709 \nL 2253 4666 \nz\n\" transform=\"scale(0.015625)\"/>\n       </defs>\n       <use xlink:href=\"#DejaVuSans-34\"/>\n       <use xlink:href=\"#DejaVuSans-30\" x=\"63.623047\"/>\n       <use xlink:href=\"#DejaVuSans-30\" x=\"127.246094\"/>\n      </g>\n     </g>\n    </g>\n    <g id=\"xtick_3\">\n     <g id=\"line2d_3\">\n      <path d=\"M 148.656665 325.218125 \nL 148.656665 22.318125 \n\" clip-path=\"url(#p53b695303b)\" style=\"fill: none; stroke: #ffffff; stroke-linecap: round\"/>\n     </g>\n     <g id=\"text_3\">\n      <!-- 600 -->\n      <g style=\"fill: #262626\" transform=\"translate(138.15854 343.076406)scale(0.11 -0.11)\">\n       <defs>\n        <path id=\"DejaVuSans-36\" d=\"M 2113 2584 \nQ 1688 2584 1439 2293 \nQ 1191 2003 1191 1497 \nQ 1191 994 1439 701 \nQ 1688 409 2113 409 \nQ 2538 409 2786 701 \nQ 3034 994 3034 1497 \nQ 3034 2003 2786 2293 \nQ 2538 2584 2113 2584 \nz\nM 3366 4563 \nL 3366 3988 \nQ 3128 4100 2886 4159 \nQ 2644 4219 2406 4219 \nQ 1781 4219 1451 3797 \nQ 1122 3375 1075 2522 \nQ 1259 2794 1537 2939 \nQ 1816 3084 2150 3084 \nQ 2853 3084 3261 2657 \nQ 3669 2231 3669 1497 \nQ 3669 778 3244 343 \nQ 2819 -91 2113 -91 \nQ 1303 -91 875 529 \nQ 447 1150 447 2328 \nQ 447 3434 972 4092 \nQ 1497 4750 2381 4750 \nQ 2619 4750 2861 4703 \nQ 3103 4656 3366 4563 \nz\n\" transform=\"scale(0.015625)\"/>\n       </defs>\n       <use xlink:href=\"#DejaVuSans-36\"/>\n       <use xlink:href=\"#DejaVuSans-30\" x=\"63.623047\"/>\n       <use xlink:href=\"#DejaVuSans-30\" x=\"127.246094\"/>\n      </g>\n     </g>\n    </g>\n    <g id=\"xtick_4\">\n     <g id=\"line2d_4\">\n      <path d=\"M 190.672396 325.218125 \nL 190.672396 22.318125 \n\" clip-path=\"url(#p53b695303b)\" style=\"fill: none; stroke: #ffffff; stroke-linecap: round\"/>\n     </g>\n     <g id=\"text_4\">\n      <!-- 800 -->\n      <g style=\"fill: #262626\" transform=\"translate(180.174271 343.076406)scale(0.11 -0.11)\">\n       <defs>\n        <path id=\"DejaVuSans-38\" d=\"M 2034 2216 \nQ 1584 2216 1326 1975 \nQ 1069 1734 1069 1313 \nQ 1069 891 1326 650 \nQ 1584 409 2034 409 \nQ 2484 409 2743 651 \nQ 3003 894 3003 1313 \nQ 3003 1734 2745 1975 \nQ 2488 2216 2034 2216 \nz\nM 1403 2484 \nQ 997 2584 770 2862 \nQ 544 3141 544 3541 \nQ 544 4100 942 4425 \nQ 1341 4750 2034 4750 \nQ 2731 4750 3128 4425 \nQ 3525 4100 3525 3541 \nQ 3525 3141 3298 2862 \nQ 3072 2584 2669 2484 \nQ 3125 2378 3379 2068 \nQ 3634 1759 3634 1313 \nQ 3634 634 3220 271 \nQ 2806 -91 2034 -91 \nQ 1263 -91 848 271 \nQ 434 634 434 1313 \nQ 434 1759 690 2068 \nQ 947 2378 1403 2484 \nz\nM 1172 3481 \nQ 1172 3119 1398 2916 \nQ 1625 2713 2034 2713 \nQ 2441 2713 2670 2916 \nQ 2900 3119 2900 3481 \nQ 2900 3844 2670 4047 \nQ 2441 4250 2034 4250 \nQ 1625 4250 1398 4047 \nQ 1172 3844 1172 3481 \nz\n\" transform=\"scale(0.015625)\"/>\n       </defs>\n       <use xlink:href=\"#DejaVuSans-38\"/>\n       <use xlink:href=\"#DejaVuSans-30\" x=\"63.623047\"/>\n       <use xlink:href=\"#DejaVuSans-30\" x=\"127.246094\"/>\n      </g>\n     </g>\n    </g>\n    <g id=\"xtick_5\">\n     <g id=\"line2d_5\">\n      <path d=\"M 232.688126 325.218125 \nL 232.688126 22.318125 \n\" clip-path=\"url(#p53b695303b)\" style=\"fill: none; stroke: #ffffff; stroke-linecap: round\"/>\n     </g>\n     <g id=\"text_5\">\n      <!-- 1000 -->\n      <g style=\"fill: #262626\" transform=\"translate(218.690626 343.076406)scale(0.11 -0.11)\">\n       <defs>\n        <path id=\"DejaVuSans-31\" d=\"M 794 531 \nL 1825 531 \nL 1825 4091 \nL 703 3866 \nL 703 4441 \nL 1819 4666 \nL 2450 4666 \nL 2450 531 \nL 3481 531 \nL 3481 0 \nL 794 0 \nL 794 531 \nz\n\" transform=\"scale(0.015625)\"/>\n       </defs>\n       <use xlink:href=\"#DejaVuSans-31\"/>\n       <use xlink:href=\"#DejaVuSans-30\" x=\"63.623047\"/>\n       <use xlink:href=\"#DejaVuSans-30\" x=\"127.246094\"/>\n       <use xlink:href=\"#DejaVuSans-30\" x=\"190.869141\"/>\n      </g>\n     </g>\n    </g>\n    <g id=\"xtick_6\">\n     <g id=\"line2d_6\">\n      <path d=\"M 274.703857 325.218125 \nL 274.703857 22.318125 \n\" clip-path=\"url(#p53b695303b)\" style=\"fill: none; stroke: #ffffff; stroke-linecap: round\"/>\n     </g>\n     <g id=\"text_6\">\n      <!-- 1200 -->\n      <g style=\"fill: #262626\" transform=\"translate(260.706357 343.076406)scale(0.11 -0.11)\">\n       <use xlink:href=\"#DejaVuSans-31\"/>\n       <use xlink:href=\"#DejaVuSans-32\" x=\"63.623047\"/>\n       <use xlink:href=\"#DejaVuSans-30\" x=\"127.246094\"/>\n       <use xlink:href=\"#DejaVuSans-30\" x=\"190.869141\"/>\n      </g>\n     </g>\n    </g>\n    <g id=\"xtick_7\">\n     <g id=\"line2d_7\">\n      <path d=\"M 316.719588 325.218125 \nL 316.719588 22.318125 \n\" clip-path=\"url(#p53b695303b)\" style=\"fill: none; stroke: #ffffff; stroke-linecap: round\"/>\n     </g>\n     <g id=\"text_7\">\n      <!-- 1400 -->\n      <g style=\"fill: #262626\" transform=\"translate(302.722088 343.076406)scale(0.11 -0.11)\">\n       <use xlink:href=\"#DejaVuSans-31\"/>\n       <use xlink:href=\"#DejaVuSans-34\" x=\"63.623047\"/>\n       <use xlink:href=\"#DejaVuSans-30\" x=\"127.246094\"/>\n       <use xlink:href=\"#DejaVuSans-30\" x=\"190.869141\"/>\n      </g>\n     </g>\n    </g>\n   </g>\n   <g id=\"matplotlib.axis_2\">\n    <g id=\"ytick_1\">\n     <g id=\"line2d_8\">\n      <path d=\"M 30.6975 325.218125 \nL 338.042572 325.218125 \n\" clip-path=\"url(#p53b695303b)\" style=\"fill: none; stroke: #ffffff; stroke-linecap: round\"/>\n     </g>\n     <g id=\"text_8\">\n      <!-- 0 -->\n      <g style=\"fill: #262626\" transform=\"translate(14.19875 329.397266)scale(0.11 -0.11)\">\n       <use xlink:href=\"#DejaVuSans-30\"/>\n      </g>\n     </g>\n    </g>\n    <g id=\"ytick_2\">\n     <g id=\"line2d_9\">\n      <path d=\"M 30.6975 269.741935 \nL 338.042572 269.741935 \n\" clip-path=\"url(#p53b695303b)\" style=\"fill: none; stroke: #ffffff; stroke-linecap: round\"/>\n     </g>\n     <g id=\"text_9\">\n      <!-- 5 -->\n      <g style=\"fill: #262626\" transform=\"translate(14.19875 273.921075)scale(0.11 -0.11)\">\n       <defs>\n        <path id=\"DejaVuSans-35\" d=\"M 691 4666 \nL 3169 4666 \nL 3169 4134 \nL 1269 4134 \nL 1269 2991 \nQ 1406 3038 1543 3061 \nQ 1681 3084 1819 3084 \nQ 2600 3084 3056 2656 \nQ 3513 2228 3513 1497 \nQ 3513 744 3044 326 \nQ 2575 -91 1722 -91 \nQ 1428 -91 1123 -41 \nQ 819 9 494 109 \nL 494 744 \nQ 775 591 1075 516 \nQ 1375 441 1709 441 \nQ 2250 441 2565 725 \nQ 2881 1009 2881 1497 \nQ 2881 1984 2565 2268 \nQ 2250 2553 1709 2553 \nQ 1456 2553 1204 2497 \nQ 953 2441 691 2322 \nL 691 4666 \nz\n\" transform=\"scale(0.015625)\"/>\n       </defs>\n       <use xlink:href=\"#DejaVuSans-35\"/>\n      </g>\n     </g>\n    </g>\n    <g id=\"ytick_3\">\n     <g id=\"line2d_10\">\n      <path d=\"M 30.6975 214.265744 \nL 338.042572 214.265744 \n\" clip-path=\"url(#p53b695303b)\" style=\"fill: none; stroke: #ffffff; stroke-linecap: round\"/>\n     </g>\n     <g id=\"text_10\">\n      <!-- 10 -->\n      <g style=\"fill: #262626\" transform=\"translate(7.2 218.444885)scale(0.11 -0.11)\">\n       <use xlink:href=\"#DejaVuSans-31\"/>\n       <use xlink:href=\"#DejaVuSans-30\" x=\"63.623047\"/>\n      </g>\n     </g>\n    </g>\n    <g id=\"ytick_4\">\n     <g id=\"line2d_11\">\n      <path d=\"M 30.6975 158.789554 \nL 338.042572 158.789554 \n\" clip-path=\"url(#p53b695303b)\" style=\"fill: none; stroke: #ffffff; stroke-linecap: round\"/>\n     </g>\n     <g id=\"text_11\">\n      <!-- 15 -->\n      <g style=\"fill: #262626\" transform=\"translate(7.2 162.968694)scale(0.11 -0.11)\">\n       <use xlink:href=\"#DejaVuSans-31\"/>\n       <use xlink:href=\"#DejaVuSans-35\" x=\"63.623047\"/>\n      </g>\n     </g>\n    </g>\n    <g id=\"ytick_5\">\n     <g id=\"line2d_12\">\n      <path d=\"M 30.6975 103.313363 \nL 338.042572 103.313363 \n\" clip-path=\"url(#p53b695303b)\" style=\"fill: none; stroke: #ffffff; stroke-linecap: round\"/>\n     </g>\n     <g id=\"text_12\">\n      <!-- 20 -->\n      <g style=\"fill: #262626\" transform=\"translate(7.2 107.492504)scale(0.11 -0.11)\">\n       <use xlink:href=\"#DejaVuSans-32\"/>\n       <use xlink:href=\"#DejaVuSans-30\" x=\"63.623047\"/>\n      </g>\n     </g>\n    </g>\n    <g id=\"ytick_6\">\n     <g id=\"line2d_13\">\n      <path d=\"M 30.6975 47.837173 \nL 338.042572 47.837173 \n\" clip-path=\"url(#p53b695303b)\" style=\"fill: none; stroke: #ffffff; stroke-linecap: round\"/>\n     </g>\n     <g id=\"text_13\">\n      <!-- 25 -->\n      <g style=\"fill: #262626\" transform=\"translate(7.2 52.016313)scale(0.11 -0.11)\">\n       <use xlink:href=\"#DejaVuSans-32\"/>\n       <use xlink:href=\"#DejaVuSans-35\" x=\"63.623047\"/>\n      </g>\n     </g>\n    </g>\n   </g>\n   <g id=\"patch_3\">\n    <path d=\"M 44.667731 325.218125 \nL 72.608192 325.218125 \nL 72.608192 280.837173 \nL 44.667731 280.837173 \nz\n\" clip-path=\"url(#p53b695303b)\" style=\"fill: #4c72b0; stroke: #ffffff; stroke-linejoin: miter\"/>\n   </g>\n   <g id=\"patch_4\">\n    <path d=\"M 72.608192 325.218125 \nL 100.548653 325.218125 \nL 100.548653 303.027649 \nL 72.608192 303.027649 \nz\n\" clip-path=\"url(#p53b695303b)\" style=\"fill: #4c72b0; stroke: #ffffff; stroke-linejoin: miter\"/>\n   </g>\n   <g id=\"patch_5\">\n    <path d=\"M 100.548653 325.218125 \nL 128.489114 325.218125 \nL 128.489114 280.837173 \nL 100.548653 280.837173 \nz\n\" clip-path=\"url(#p53b695303b)\" style=\"fill: #4c72b0; stroke: #ffffff; stroke-linejoin: miter\"/>\n   </g>\n   <g id=\"patch_6\">\n    <path d=\"M 128.489114 325.218125 \nL 156.429575 325.218125 \nL 156.429575 280.837173 \nL 128.489114 280.837173 \nz\n\" clip-path=\"url(#p53b695303b)\" style=\"fill: #4c72b0; stroke: #ffffff; stroke-linejoin: miter\"/>\n   </g>\n   <g id=\"patch_7\">\n    <path d=\"M 156.429575 325.218125 \nL 184.370036 325.218125 \nL 184.370036 258.646696 \nL 156.429575 258.646696 \nz\n\" clip-path=\"url(#p53b695303b)\" style=\"fill: #4c72b0; stroke: #ffffff; stroke-linejoin: miter\"/>\n   </g>\n   <g id=\"patch_8\">\n    <path d=\"M 184.370036 325.218125 \nL 212.310497 325.218125 \nL 212.310497 192.075268 \nL 184.370036 192.075268 \nz\n\" clip-path=\"url(#p53b695303b)\" style=\"fill: #4c72b0; stroke: #ffffff; stroke-linejoin: miter\"/>\n   </g>\n   <g id=\"patch_9\">\n    <path d=\"M 212.310497 325.218125 \nL 240.250958 325.218125 \nL 240.250958 92.218125 \nL 212.310497 92.218125 \nz\n\" clip-path=\"url(#p53b695303b)\" style=\"fill: #4c72b0; stroke: #ffffff; stroke-linejoin: miter\"/>\n   </g>\n   <g id=\"patch_10\">\n    <path d=\"M 240.250958 325.218125 \nL 268.191419 325.218125 \nL 268.191419 36.741935 \nL 240.250958 36.741935 \nz\n\" clip-path=\"url(#p53b695303b)\" style=\"fill: #4c72b0; stroke: #ffffff; stroke-linejoin: miter\"/>\n   </g>\n   <g id=\"patch_11\">\n    <path d=\"M 268.191419 325.218125 \nL 296.13188 325.218125 \nL 296.13188 92.218125 \nL 268.191419 92.218125 \nz\n\" clip-path=\"url(#p53b695303b)\" style=\"fill: #4c72b0; stroke: #ffffff; stroke-linejoin: miter\"/>\n   </g>\n   <g id=\"patch_12\">\n    <path d=\"M 296.13188 325.218125 \nL 324.072341 325.218125 \nL 324.072341 258.646696 \nL 296.13188 258.646696 \nz\n\" clip-path=\"url(#p53b695303b)\" style=\"fill: #4c72b0; stroke: #ffffff; stroke-linejoin: miter\"/>\n   </g>\n   <g id=\"patch_13\">\n    <path d=\"M 30.6975 325.218125 \nL 30.6975 22.318125 \n\" style=\"fill: none; stroke: #ffffff; stroke-width: 1.25; stroke-linejoin: miter; stroke-linecap: square\"/>\n   </g>\n   <g id=\"patch_14\">\n    <path d=\"M 338.042572 325.218125 \nL 338.042572 22.318125 \n\" style=\"fill: none; stroke: #ffffff; stroke-width: 1.25; stroke-linejoin: miter; stroke-linecap: square\"/>\n   </g>\n   <g id=\"patch_15\">\n    <path d=\"M 30.6975 325.218125 \nL 338.042572 325.218125 \n\" style=\"fill: none; stroke: #ffffff; stroke-width: 1.25; stroke-linejoin: miter; stroke-linecap: square\"/>\n   </g>\n   <g id=\"patch_16\">\n    <path d=\"M 30.6975 22.318125 \nL 338.042572 22.318125 \n\" style=\"fill: none; stroke: #ffffff; stroke-width: 1.25; stroke-linejoin: miter; stroke-linecap: square\"/>\n   </g>\n   <g id=\"text_14\">\n    <!-- Restricted diet -->\n    <g style=\"fill: #262626\" transform=\"translate(140.588786 16.318125)scale(0.12 -0.12)\">\n     <defs>\n      <path id=\"DejaVuSans-52\" d=\"M 2841 2188 \nQ 3044 2119 3236 1894 \nQ 3428 1669 3622 1275 \nL 4263 0 \nL 3584 0 \nL 2988 1197 \nQ 2756 1666 2539 1819 \nQ 2322 1972 1947 1972 \nL 1259 1972 \nL 1259 0 \nL 628 0 \nL 628 4666 \nL 2053 4666 \nQ 2853 4666 3247 4331 \nQ 3641 3997 3641 3322 \nQ 3641 2881 3436 2590 \nQ 3231 2300 2841 2188 \nz\nM 1259 4147 \nL 1259 2491 \nL 2053 2491 \nQ 2509 2491 2742 2702 \nQ 2975 2913 2975 3322 \nQ 2975 3731 2742 3939 \nQ 2509 4147 2053 4147 \nL 1259 4147 \nz\n\" transform=\"scale(0.015625)\"/>\n      <path id=\"DejaVuSans-65\" d=\"M 3597 1894 \nL 3597 1613 \nL 953 1613 \nQ 991 1019 1311 708 \nQ 1631 397 2203 397 \nQ 2534 397 2845 478 \nQ 3156 559 3463 722 \nL 3463 178 \nQ 3153 47 2828 -22 \nQ 2503 -91 2169 -91 \nQ 1331 -91 842 396 \nQ 353 884 353 1716 \nQ 353 2575 817 3079 \nQ 1281 3584 2069 3584 \nQ 2775 3584 3186 3129 \nQ 3597 2675 3597 1894 \nz\nM 3022 2063 \nQ 3016 2534 2758 2815 \nQ 2500 3097 2075 3097 \nQ 1594 3097 1305 2825 \nQ 1016 2553 972 2059 \nL 3022 2063 \nz\n\" transform=\"scale(0.015625)\"/>\n      <path id=\"DejaVuSans-73\" d=\"M 2834 3397 \nL 2834 2853 \nQ 2591 2978 2328 3040 \nQ 2066 3103 1784 3103 \nQ 1356 3103 1142 2972 \nQ 928 2841 928 2578 \nQ 928 2378 1081 2264 \nQ 1234 2150 1697 2047 \nL 1894 2003 \nQ 2506 1872 2764 1633 \nQ 3022 1394 3022 966 \nQ 3022 478 2636 193 \nQ 2250 -91 1575 -91 \nQ 1294 -91 989 -36 \nQ 684 19 347 128 \nL 347 722 \nQ 666 556 975 473 \nQ 1284 391 1588 391 \nQ 1994 391 2212 530 \nQ 2431 669 2431 922 \nQ 2431 1156 2273 1281 \nQ 2116 1406 1581 1522 \nL 1381 1569 \nQ 847 1681 609 1914 \nQ 372 2147 372 2553 \nQ 372 3047 722 3315 \nQ 1072 3584 1716 3584 \nQ 2034 3584 2315 3537 \nQ 2597 3491 2834 3397 \nz\n\" transform=\"scale(0.015625)\"/>\n      <path id=\"DejaVuSans-74\" d=\"M 1172 4494 \nL 1172 3500 \nL 2356 3500 \nL 2356 3053 \nL 1172 3053 \nL 1172 1153 \nQ 1172 725 1289 603 \nQ 1406 481 1766 481 \nL 2356 481 \nL 2356 0 \nL 1766 0 \nQ 1100 0 847 248 \nQ 594 497 594 1153 \nL 594 3053 \nL 172 3053 \nL 172 3500 \nL 594 3500 \nL 594 4494 \nL 1172 4494 \nz\n\" transform=\"scale(0.015625)\"/>\n      <path id=\"DejaVuSans-72\" d=\"M 2631 2963 \nQ 2534 3019 2420 3045 \nQ 2306 3072 2169 3072 \nQ 1681 3072 1420 2755 \nQ 1159 2438 1159 1844 \nL 1159 0 \nL 581 0 \nL 581 3500 \nL 1159 3500 \nL 1159 2956 \nQ 1341 3275 1631 3429 \nQ 1922 3584 2338 3584 \nQ 2397 3584 2469 3576 \nQ 2541 3569 2628 3553 \nL 2631 2963 \nz\n\" transform=\"scale(0.015625)\"/>\n      <path id=\"DejaVuSans-69\" d=\"M 603 3500 \nL 1178 3500 \nL 1178 0 \nL 603 0 \nL 603 3500 \nz\nM 603 4863 \nL 1178 4863 \nL 1178 4134 \nL 603 4134 \nL 603 4863 \nz\n\" transform=\"scale(0.015625)\"/>\n      <path id=\"DejaVuSans-63\" d=\"M 3122 3366 \nL 3122 2828 \nQ 2878 2963 2633 3030 \nQ 2388 3097 2138 3097 \nQ 1578 3097 1268 2742 \nQ 959 2388 959 1747 \nQ 959 1106 1268 751 \nQ 1578 397 2138 397 \nQ 2388 397 2633 464 \nQ 2878 531 3122 666 \nL 3122 134 \nQ 2881 22 2623 -34 \nQ 2366 -91 2075 -91 \nQ 1284 -91 818 406 \nQ 353 903 353 1747 \nQ 353 2603 823 3093 \nQ 1294 3584 2113 3584 \nQ 2378 3584 2631 3529 \nQ 2884 3475 3122 3366 \nz\n\" transform=\"scale(0.015625)\"/>\n      <path id=\"DejaVuSans-64\" d=\"M 2906 2969 \nL 2906 4863 \nL 3481 4863 \nL 3481 0 \nL 2906 0 \nL 2906 525 \nQ 2725 213 2448 61 \nQ 2172 -91 1784 -91 \nQ 1150 -91 751 415 \nQ 353 922 353 1747 \nQ 353 2572 751 3078 \nQ 1150 3584 1784 3584 \nQ 2172 3584 2448 3432 \nQ 2725 3281 2906 2969 \nz\nM 947 1747 \nQ 947 1113 1208 752 \nQ 1469 391 1925 391 \nQ 2381 391 2643 752 \nQ 2906 1113 2906 1747 \nQ 2906 2381 2643 2742 \nQ 2381 3103 1925 3103 \nQ 1469 3103 1208 2742 \nQ 947 2381 947 1747 \nz\n\" transform=\"scale(0.015625)\"/>\n      <path id=\"DejaVuSans-20\" transform=\"scale(0.015625)\"/>\n     </defs>\n     <use xlink:href=\"#DejaVuSans-52\"/>\n     <use xlink:href=\"#DejaVuSans-65\" x=\"64.982422\"/>\n     <use xlink:href=\"#DejaVuSans-73\" x=\"126.505859\"/>\n     <use xlink:href=\"#DejaVuSans-74\" x=\"178.605469\"/>\n     <use xlink:href=\"#DejaVuSans-72\" x=\"217.814453\"/>\n     <use xlink:href=\"#DejaVuSans-69\" x=\"258.927734\"/>\n     <use xlink:href=\"#DejaVuSans-63\" x=\"286.710938\"/>\n     <use xlink:href=\"#DejaVuSans-74\" x=\"341.691406\"/>\n     <use xlink:href=\"#DejaVuSans-65\" x=\"380.900391\"/>\n     <use xlink:href=\"#DejaVuSans-64\" x=\"442.423828\"/>\n     <use xlink:href=\"#DejaVuSans-20\" x=\"505.900391\"/>\n     <use xlink:href=\"#DejaVuSans-64\" x=\"537.6875\"/>\n     <use xlink:href=\"#DejaVuSans-69\" x=\"601.164062\"/>\n     <use xlink:href=\"#DejaVuSans-65\" x=\"628.947266\"/>\n     <use xlink:href=\"#DejaVuSans-74\" x=\"690.470703\"/>\n    </g>\n   </g>\n  </g>\n  <g id=\"axes_2\">\n   <g id=\"patch_17\">\n    <path d=\"M 386.020021 325.218125 \nL 693.365093 325.218125 \nL 693.365093 22.318125 \nL 386.020021 22.318125 \nz\n\" style=\"fill: #eaeaf2\"/>\n   </g>\n   <g id=\"matplotlib.axis_3\">\n    <g id=\"xtick_8\">\n     <g id=\"line2d_14\">\n      <path d=\"M 435.475276 325.218125 \nL 435.475276 22.318125 \n\" clip-path=\"url(#pa1bd5f6f39)\" style=\"fill: none; stroke: #ffffff; stroke-linecap: round\"/>\n     </g>\n     <g id=\"text_15\">\n      <!-- 200 -->\n      <g style=\"fill: #262626\" transform=\"translate(424.977151 343.076406)scale(0.11 -0.11)\">\n       <use xlink:href=\"#DejaVuSans-32\"/>\n       <use xlink:href=\"#DejaVuSans-30\" x=\"63.623047\"/>\n       <use xlink:href=\"#DejaVuSans-30\" x=\"127.246094\"/>\n      </g>\n     </g>\n    </g>\n    <g id=\"xtick_9\">\n     <g id=\"line2d_15\">\n      <path d=\"M 499.412258 325.218125 \nL 499.412258 22.318125 \n\" clip-path=\"url(#pa1bd5f6f39)\" style=\"fill: none; stroke: #ffffff; stroke-linecap: round\"/>\n     </g>\n     <g id=\"text_16\">\n      <!-- 400 -->\n      <g style=\"fill: #262626\" transform=\"translate(488.914133 343.076406)scale(0.11 -0.11)\">\n       <use xlink:href=\"#DejaVuSans-34\"/>\n       <use xlink:href=\"#DejaVuSans-30\" x=\"63.623047\"/>\n       <use xlink:href=\"#DejaVuSans-30\" x=\"127.246094\"/>\n      </g>\n     </g>\n    </g>\n    <g id=\"xtick_10\">\n     <g id=\"line2d_16\">\n      <path d=\"M 563.34924 325.218125 \nL 563.34924 22.318125 \n\" clip-path=\"url(#pa1bd5f6f39)\" style=\"fill: none; stroke: #ffffff; stroke-linecap: round\"/>\n     </g>\n     <g id=\"text_17\">\n      <!-- 600 -->\n      <g style=\"fill: #262626\" transform=\"translate(552.851115 343.076406)scale(0.11 -0.11)\">\n       <use xlink:href=\"#DejaVuSans-36\"/>\n       <use xlink:href=\"#DejaVuSans-30\" x=\"63.623047\"/>\n       <use xlink:href=\"#DejaVuSans-30\" x=\"127.246094\"/>\n      </g>\n     </g>\n    </g>\n    <g id=\"xtick_11\">\n     <g id=\"line2d_17\">\n      <path d=\"M 627.286222 325.218125 \nL 627.286222 22.318125 \n\" clip-path=\"url(#pa1bd5f6f39)\" style=\"fill: none; stroke: #ffffff; stroke-linecap: round\"/>\n     </g>\n     <g id=\"text_18\">\n      <!-- 800 -->\n      <g style=\"fill: #262626\" transform=\"translate(616.788097 343.076406)scale(0.11 -0.11)\">\n       <use xlink:href=\"#DejaVuSans-38\"/>\n       <use xlink:href=\"#DejaVuSans-30\" x=\"63.623047\"/>\n       <use xlink:href=\"#DejaVuSans-30\" x=\"127.246094\"/>\n      </g>\n     </g>\n    </g>\n    <g id=\"xtick_12\">\n     <g id=\"line2d_18\">\n      <path d=\"M 691.223204 325.218125 \nL 691.223204 22.318125 \n\" clip-path=\"url(#pa1bd5f6f39)\" style=\"fill: none; stroke: #ffffff; stroke-linecap: round\"/>\n     </g>\n     <g id=\"text_19\">\n      <!-- 1000 -->\n      <g style=\"fill: #262626\" transform=\"translate(677.225704 343.076406)scale(0.11 -0.11)\">\n       <use xlink:href=\"#DejaVuSans-31\"/>\n       <use xlink:href=\"#DejaVuSans-30\" x=\"63.623047\"/>\n       <use xlink:href=\"#DejaVuSans-30\" x=\"127.246094\"/>\n       <use xlink:href=\"#DejaVuSans-30\" x=\"190.869141\"/>\n      </g>\n     </g>\n    </g>\n   </g>\n   <g id=\"matplotlib.axis_4\">\n    <g id=\"ytick_7\">\n     <g id=\"line2d_19\">\n      <path d=\"M 386.020021 325.218125 \nL 693.365093 325.218125 \n\" clip-path=\"url(#pa1bd5f6f39)\" style=\"fill: none; stroke: #ffffff; stroke-linecap: round\"/>\n     </g>\n     <g id=\"text_20\">\n      <!-- 0 -->\n      <g style=\"fill: #262626\" transform=\"translate(369.521271 329.397266)scale(0.11 -0.11)\">\n       <use xlink:href=\"#DejaVuSans-30\"/>\n      </g>\n     </g>\n    </g>\n    <g id=\"ytick_8\">\n     <g id=\"line2d_20\">\n      <path d=\"M 386.020021 281.509611 \nL 693.365093 281.509611 \n\" clip-path=\"url(#pa1bd5f6f39)\" style=\"fill: none; stroke: #ffffff; stroke-linecap: round\"/>\n     </g>\n     <g id=\"text_21\">\n      <!-- 5 -->\n      <g style=\"fill: #262626\" transform=\"translate(369.521271 285.688752)scale(0.11 -0.11)\">\n       <use xlink:href=\"#DejaVuSans-35\"/>\n      </g>\n     </g>\n    </g>\n    <g id=\"ytick_9\">\n     <g id=\"line2d_21\">\n      <path d=\"M 386.020021 237.801098 \nL 693.365093 237.801098 \n\" clip-path=\"url(#pa1bd5f6f39)\" style=\"fill: none; stroke: #ffffff; stroke-linecap: round\"/>\n     </g>\n     <g id=\"text_22\">\n      <!-- 10 -->\n      <g style=\"fill: #262626\" transform=\"translate(362.522521 241.980238)scale(0.11 -0.11)\">\n       <use xlink:href=\"#DejaVuSans-31\"/>\n       <use xlink:href=\"#DejaVuSans-30\" x=\"63.623047\"/>\n      </g>\n     </g>\n    </g>\n    <g id=\"ytick_10\">\n     <g id=\"line2d_22\">\n      <path d=\"M 386.020021 194.092584 \nL 693.365093 194.092584 \n\" clip-path=\"url(#pa1bd5f6f39)\" style=\"fill: none; stroke: #ffffff; stroke-linecap: round\"/>\n     </g>\n     <g id=\"text_23\">\n      <!-- 15 -->\n      <g style=\"fill: #262626\" transform=\"translate(362.522521 198.271724)scale(0.11 -0.11)\">\n       <use xlink:href=\"#DejaVuSans-31\"/>\n       <use xlink:href=\"#DejaVuSans-35\" x=\"63.623047\"/>\n      </g>\n     </g>\n    </g>\n    <g id=\"ytick_11\">\n     <g id=\"line2d_23\">\n      <path d=\"M 386.020021 150.38407 \nL 693.365093 150.38407 \n\" clip-path=\"url(#pa1bd5f6f39)\" style=\"fill: none; stroke: #ffffff; stroke-linecap: round\"/>\n     </g>\n     <g id=\"text_24\">\n      <!-- 20 -->\n      <g style=\"fill: #262626\" transform=\"translate(362.522521 154.563211)scale(0.11 -0.11)\">\n       <use xlink:href=\"#DejaVuSans-32\"/>\n       <use xlink:href=\"#DejaVuSans-30\" x=\"63.623047\"/>\n      </g>\n     </g>\n    </g>\n    <g id=\"ytick_12\">\n     <g id=\"line2d_24\">\n      <path d=\"M 386.020021 106.675556 \nL 693.365093 106.675556 \n\" clip-path=\"url(#pa1bd5f6f39)\" style=\"fill: none; stroke: #ffffff; stroke-linecap: round\"/>\n     </g>\n     <g id=\"text_25\">\n      <!-- 25 -->\n      <g style=\"fill: #262626\" transform=\"translate(362.522521 110.854697)scale(0.11 -0.11)\">\n       <use xlink:href=\"#DejaVuSans-32\"/>\n       <use xlink:href=\"#DejaVuSans-35\" x=\"63.623047\"/>\n      </g>\n     </g>\n    </g>\n    <g id=\"ytick_13\">\n     <g id=\"line2d_25\">\n      <path d=\"M 386.020021 62.967043 \nL 693.365093 62.967043 \n\" clip-path=\"url(#pa1bd5f6f39)\" style=\"fill: none; stroke: #ffffff; stroke-linecap: round\"/>\n     </g>\n     <g id=\"text_26\">\n      <!-- 30 -->\n      <g style=\"fill: #262626\" transform=\"translate(362.522521 67.146183)scale(0.11 -0.11)\">\n       <defs>\n        <path id=\"DejaVuSans-33\" d=\"M 2597 2516 \nQ 3050 2419 3304 2112 \nQ 3559 1806 3559 1356 \nQ 3559 666 3084 287 \nQ 2609 -91 1734 -91 \nQ 1441 -91 1130 -33 \nQ 819 25 488 141 \nL 488 750 \nQ 750 597 1062 519 \nQ 1375 441 1716 441 \nQ 2309 441 2620 675 \nQ 2931 909 2931 1356 \nQ 2931 1769 2642 2001 \nQ 2353 2234 1838 2234 \nL 1294 2234 \nL 1294 2753 \nL 1863 2753 \nQ 2328 2753 2575 2939 \nQ 2822 3125 2822 3475 \nQ 2822 3834 2567 4026 \nQ 2313 4219 1838 4219 \nQ 1578 4219 1281 4162 \nQ 984 4106 628 3988 \nL 628 4550 \nQ 988 4650 1302 4700 \nQ 1616 4750 1894 4750 \nQ 2613 4750 3031 4423 \nQ 3450 4097 3450 3541 \nQ 3450 3153 3228 2886 \nQ 3006 2619 2597 2516 \nz\n\" transform=\"scale(0.015625)\"/>\n       </defs>\n       <use xlink:href=\"#DejaVuSans-33\"/>\n       <use xlink:href=\"#DejaVuSans-30\" x=\"63.623047\"/>\n      </g>\n     </g>\n    </g>\n   </g>\n   <g id=\"patch_18\">\n    <path d=\"M 399.990251 325.218125 \nL 427.930712 325.218125 \nL 427.930712 307.73472 \nL 399.990251 307.73472 \nz\n\" clip-path=\"url(#pa1bd5f6f39)\" style=\"fill: #4c72b0; stroke: #ffffff; stroke-linejoin: miter\"/>\n   </g>\n   <g id=\"patch_19\">\n    <path d=\"M 427.930712 325.218125 \nL 455.871174 325.218125 \nL 455.871174 325.218125 \nL 427.930712 325.218125 \nz\n\" clip-path=\"url(#pa1bd5f6f39)\" style=\"fill: #4c72b0; stroke: #ffffff; stroke-linejoin: miter\"/>\n   </g>\n   <g id=\"patch_20\">\n    <path d=\"M 455.871174 325.218125 \nL 483.811635 325.218125 \nL 483.811635 325.218125 \nL 455.871174 325.218125 \nz\n\" clip-path=\"url(#pa1bd5f6f39)\" style=\"fill: #4c72b0; stroke: #ffffff; stroke-linejoin: miter\"/>\n   </g>\n   <g id=\"patch_21\">\n    <path d=\"M 483.811635 325.218125 \nL 511.752096 325.218125 \nL 511.752096 316.476422 \nL 483.811635 316.476422 \nz\n\" clip-path=\"url(#pa1bd5f6f39)\" style=\"fill: #4c72b0; stroke: #ffffff; stroke-linejoin: miter\"/>\n   </g>\n   <g id=\"patch_22\">\n    <path d=\"M 511.752096 325.218125 \nL 539.692557 325.218125 \nL 539.692557 281.509611 \nL 511.752096 281.509611 \nz\n\" clip-path=\"url(#pa1bd5f6f39)\" style=\"fill: #4c72b0; stroke: #ffffff; stroke-linejoin: miter\"/>\n   </g>\n   <g id=\"patch_23\">\n    <path d=\"M 539.692557 325.218125 \nL 567.633018 325.218125 \nL 567.633018 255.284503 \nL 539.692557 255.284503 \nz\n\" clip-path=\"url(#pa1bd5f6f39)\" style=\"fill: #4c72b0; stroke: #ffffff; stroke-linejoin: miter\"/>\n   </g>\n   <g id=\"patch_24\">\n    <path d=\"M 567.633018 325.218125 \nL 595.573479 325.218125 \nL 595.573479 97.933854 \nL 567.633018 97.933854 \nz\n\" clip-path=\"url(#pa1bd5f6f39)\" style=\"fill: #4c72b0; stroke: #ffffff; stroke-linejoin: miter\"/>\n   </g>\n   <g id=\"patch_25\">\n    <path d=\"M 595.573479 325.218125 \nL 623.51394 325.218125 \nL 623.51394 36.741935 \nL 595.573479 36.741935 \nz\n\" clip-path=\"url(#pa1bd5f6f39)\" style=\"fill: #4c72b0; stroke: #ffffff; stroke-linejoin: miter\"/>\n   </g>\n   <g id=\"patch_26\">\n    <path d=\"M 623.51394 325.218125 \nL 651.454401 325.218125 \nL 651.454401 220.317692 \nL 623.51394 220.317692 \nz\n\" clip-path=\"url(#pa1bd5f6f39)\" style=\"fill: #4c72b0; stroke: #ffffff; stroke-linejoin: miter\"/>\n   </g>\n   <g id=\"patch_27\">\n    <path d=\"M 651.454401 325.218125 \nL 679.394862 325.218125 \nL 679.394862 307.73472 \nL 651.454401 307.73472 \nz\n\" clip-path=\"url(#pa1bd5f6f39)\" style=\"fill: #4c72b0; stroke: #ffffff; stroke-linejoin: miter\"/>\n   </g>\n   <g id=\"patch_28\">\n    <path d=\"M 386.020021 325.218125 \nL 386.020021 22.318125 \n\" style=\"fill: none; stroke: #ffffff; stroke-width: 1.25; stroke-linejoin: miter; stroke-linecap: square\"/>\n   </g>\n   <g id=\"patch_29\">\n    <path d=\"M 693.365093 325.218125 \nL 693.365093 22.318125 \n\" style=\"fill: none; stroke: #ffffff; stroke-width: 1.25; stroke-linejoin: miter; stroke-linecap: square\"/>\n   </g>\n   <g id=\"patch_30\">\n    <path d=\"M 386.020021 325.218125 \nL 693.365093 325.218125 \n\" style=\"fill: none; stroke: #ffffff; stroke-width: 1.25; stroke-linejoin: miter; stroke-linecap: square\"/>\n   </g>\n   <g id=\"patch_31\">\n    <path d=\"M 386.020021 22.318125 \nL 693.365093 22.318125 \n\" style=\"fill: none; stroke: #ffffff; stroke-width: 1.25; stroke-linejoin: miter; stroke-linecap: square\"/>\n   </g>\n   <g id=\"text_27\">\n    <!-- Ad libitum diet -->\n    <g style=\"fill: #262626\" transform=\"translate(495.741619 16.318125)scale(0.12 -0.12)\">\n     <defs>\n      <path id=\"DejaVuSans-41\" d=\"M 2188 4044 \nL 1331 1722 \nL 3047 1722 \nL 2188 4044 \nz\nM 1831 4666 \nL 2547 4666 \nL 4325 0 \nL 3669 0 \nL 3244 1197 \nL 1141 1197 \nL 716 0 \nL 50 0 \nL 1831 4666 \nz\n\" transform=\"scale(0.015625)\"/>\n      <path id=\"DejaVuSans-6c\" d=\"M 603 4863 \nL 1178 4863 \nL 1178 0 \nL 603 0 \nL 603 4863 \nz\n\" transform=\"scale(0.015625)\"/>\n      <path id=\"DejaVuSans-62\" d=\"M 3116 1747 \nQ 3116 2381 2855 2742 \nQ 2594 3103 2138 3103 \nQ 1681 3103 1420 2742 \nQ 1159 2381 1159 1747 \nQ 1159 1113 1420 752 \nQ 1681 391 2138 391 \nQ 2594 391 2855 752 \nQ 3116 1113 3116 1747 \nz\nM 1159 2969 \nQ 1341 3281 1617 3432 \nQ 1894 3584 2278 3584 \nQ 2916 3584 3314 3078 \nQ 3713 2572 3713 1747 \nQ 3713 922 3314 415 \nQ 2916 -91 2278 -91 \nQ 1894 -91 1617 61 \nQ 1341 213 1159 525 \nL 1159 0 \nL 581 0 \nL 581 4863 \nL 1159 4863 \nL 1159 2969 \nz\n\" transform=\"scale(0.015625)\"/>\n      <path id=\"DejaVuSans-75\" d=\"M 544 1381 \nL 544 3500 \nL 1119 3500 \nL 1119 1403 \nQ 1119 906 1312 657 \nQ 1506 409 1894 409 \nQ 2359 409 2629 706 \nQ 2900 1003 2900 1516 \nL 2900 3500 \nL 3475 3500 \nL 3475 0 \nL 2900 0 \nL 2900 538 \nQ 2691 219 2414 64 \nQ 2138 -91 1772 -91 \nQ 1169 -91 856 284 \nQ 544 659 544 1381 \nz\nM 1991 3584 \nL 1991 3584 \nz\n\" transform=\"scale(0.015625)\"/>\n      <path id=\"DejaVuSans-6d\" d=\"M 3328 2828 \nQ 3544 3216 3844 3400 \nQ 4144 3584 4550 3584 \nQ 5097 3584 5394 3201 \nQ 5691 2819 5691 2113 \nL 5691 0 \nL 5113 0 \nL 5113 2094 \nQ 5113 2597 4934 2840 \nQ 4756 3084 4391 3084 \nQ 3944 3084 3684 2787 \nQ 3425 2491 3425 1978 \nL 3425 0 \nL 2847 0 \nL 2847 2094 \nQ 2847 2600 2669 2842 \nQ 2491 3084 2119 3084 \nQ 1678 3084 1418 2786 \nQ 1159 2488 1159 1978 \nL 1159 0 \nL 581 0 \nL 581 3500 \nL 1159 3500 \nL 1159 2956 \nQ 1356 3278 1631 3431 \nQ 1906 3584 2284 3584 \nQ 2666 3584 2933 3390 \nQ 3200 3197 3328 2828 \nz\n\" transform=\"scale(0.015625)\"/>\n     </defs>\n     <use xlink:href=\"#DejaVuSans-41\"/>\n     <use xlink:href=\"#DejaVuSans-64\" x=\"66.658203\"/>\n     <use xlink:href=\"#DejaVuSans-20\" x=\"130.134766\"/>\n     <use xlink:href=\"#DejaVuSans-6c\" x=\"161.921875\"/>\n     <use xlink:href=\"#DejaVuSans-69\" x=\"189.705078\"/>\n     <use xlink:href=\"#DejaVuSans-62\" x=\"217.488281\"/>\n     <use xlink:href=\"#DejaVuSans-69\" x=\"280.964844\"/>\n     <use xlink:href=\"#DejaVuSans-74\" x=\"308.748047\"/>\n     <use xlink:href=\"#DejaVuSans-75\" x=\"347.957031\"/>\n     <use xlink:href=\"#DejaVuSans-6d\" x=\"411.335938\"/>\n     <use xlink:href=\"#DejaVuSans-20\" x=\"508.748047\"/>\n     <use xlink:href=\"#DejaVuSans-64\" x=\"540.535156\"/>\n     <use xlink:href=\"#DejaVuSans-69\" x=\"604.011719\"/>\n     <use xlink:href=\"#DejaVuSans-65\" x=\"631.794922\"/>\n     <use xlink:href=\"#DejaVuSans-74\" x=\"693.318359\"/>\n    </g>\n   </g>\n  </g>\n </g>\n <defs>\n  <clipPath id=\"p53b695303b\">\n   <rect x=\"30.6975\" y=\"22.318125\" width=\"307.345072\" height=\"302.9\"/>\n  </clipPath>\n  <clipPath id=\"pa1bd5f6f39\">\n   <rect x=\"386.020021\" y=\"22.318125\" width=\"307.345072\" height=\"302.9\"/>\n  </clipPath>\n </defs>\n</svg>\n"
          },
          "metadata": {
            "needs_background": "light"
          }
        }
      ],
      "source": [
        "plt.figure(figsize=(10,5))\n",
        "plt.subplot(1, 2, 1)\n",
        "plt.title('Restricted diet')\n",
        "plt.hist(x1)\n",
        "plt.subplot(1, 2, 2)\n",
        "plt.title('Ad libitum diet')\n",
        "plt.hist(x2)\n",
        "plt.tight_layout()"
      ]
    },
    {
      "cell_type": "markdown",
      "metadata": {
        "id": "ycsZlUEiAGwu"
      },
      "source": [
        "1. Какую альтернативную гипотезу следует выбрать на ваш взгляд?"
      ]
    },
    {
      "cell_type": "markdown",
      "metadata": {
        "id": "vCOJXUokAGwu"
      },
      "source": [
        "Ответ:\n",
        "\n",
        "По графику можно сказать, что при диете ad libitum количество крыс с высокой продолжительностью жизни меньше, и в целом они живут меньше, однако крыс на диете ad libitum в эксперименте меньше, чем крыс на строгой диете. В целом можно предложить нулевую гипотезу о том, что средняя продолжительность жизни не меняется в зависимости от диеты, тогда в качестве альтернативы можно взять предположение о том, что при диете ad libitum средняя продолжительность жизни меньше."
      ]
    },
    {
      "cell_type": "markdown",
      "metadata": {
        "id": "F9axahgNAGwv"
      },
      "source": [
        "2. Проверьте нулевую гипотезу\n",
        "\n",
        "$H_0$: продолжительность жизни крыс не меняется при ограничении диеты.\n",
        "\n",
        "против следующих альтернатив:\n",
        "\n",
        "$H_1$: крысы на строгой диете живут дольше.\n",
        "\n",
        "$H_1$: средняя продолжительность жизни крыс меняется при ограничении диеты. \n"
      ]
    },
    {
      "cell_type": "markdown",
      "source": [
        "Для проверки можем использовать критерий Стьюдента для двух независимых выборок. Судя по тому, что в следующем пункте требуется сделать проверку с помощью `scipy.stats.ttest_ind`, то вероятно считается, что дисперсии выборок одинаковы. Рассмотрим два случая: когда дисперсии различны и когда совпадают."
      ],
      "metadata": {
        "id": "YZtG-IcLDPnp"
      }
    },
    {
      "cell_type": "markdown",
      "source": [
        "Рассмотрим случай с разными дисперсиями:"
      ],
      "metadata": {
        "id": "BAm-MO33NlJS"
      }
    },
    {
      "cell_type": "code",
      "execution_count": null,
      "metadata": {
        "id": "5knMa-ovAGwv"
      },
      "outputs": [],
      "source": [
        "# Your code goes here...\n",
        "def p_value_t(data1, data2, alt_type):\n",
        "    n1 = data1.shape[0]\n",
        "    n2 = data2.shape[0]\n",
        "    temp = np.var(data1, ddof=1) / n1 + np.var(data2, ddof=1) / n2\n",
        "    T = (data1.mean() - data2.mean()) / np.sqrt(temp)\n",
        "    nu = temp ** 2 / ((np.var(data1, ddof=1)) ** 2 / (n1 ** 2 * (n1 - 1)) + (np.var(data2, ddof=1)) ** 2 / (n2 ** 2 * (n2 - 1)))\n",
        "    if alt_type == 'left':\n",
        "        p_value = sp.stats.t(nu).cdf(T)\n",
        "    elif alt_type == 'right':\n",
        "        p_value = sp.stats.t(nu).cdf(-T)\n",
        "    elif alt_type == 'two-sided':\n",
        "        p_value = 2 * sp.stats.t(nu).cdf(-np.abs(T))\n",
        "    return T, p_value"
      ]
    },
    {
      "cell_type": "markdown",
      "source": [
        "Рассмотрим правостороннюю альтернативу, т. е. что на строгой диете крысы живут дольше:"
      ],
      "metadata": {
        "id": "e2tZjBp1MKrd"
      }
    },
    {
      "cell_type": "code",
      "source": [
        "p_value_t(x1, x2, 'right')"
      ],
      "metadata": {
        "colab": {
          "base_uri": "https://localhost:8080/"
        },
        "id": "OTN9PIP6MT5t",
        "outputId": "a9025a2c-498a-4418-f9c0-a4a777c14b08"
      },
      "execution_count": null,
      "outputs": [
        {
          "output_type": "execute_result",
          "data": {
            "text/plain": [
              "(9.161061040974156, 1.4580405594293104e-16)"
            ]
          },
          "metadata": {},
          "execution_count": 78
        }
      ]
    },
    {
      "cell_type": "markdown",
      "source": [
        "Рассмотрим двустороннюю альтернативу, т. е. что средняя продолжительность жизни крыс меняется в зависимости от диеты."
      ],
      "metadata": {
        "id": "3OCpSGBpNvz8"
      }
    },
    {
      "cell_type": "code",
      "source": [
        "p_value_t(x1, x2, 'two-sided')"
      ],
      "metadata": {
        "colab": {
          "base_uri": "https://localhost:8080/"
        },
        "id": "P4QuYG-HOAmG",
        "outputId": "c3657a2f-11d3-4777-c034-0a89b072aba6"
      },
      "execution_count": null,
      "outputs": [
        {
          "output_type": "execute_result",
          "data": {
            "text/plain": [
              "(9.161061040974156, 2.916081118858621e-16)"
            ]
          },
          "metadata": {},
          "execution_count": 36
        }
      ]
    },
    {
      "cell_type": "markdown",
      "source": [
        "Теперь рассмотрим случай равных дисперсий:"
      ],
      "metadata": {
        "id": "LlkavTM2Sb_o"
      }
    },
    {
      "cell_type": "code",
      "source": [
        "def p_value_t_eq(data1, data2, alt_type):\n",
        "    n1 = data1.shape[0]\n",
        "    n2 = data2.shape[0]\n",
        "    temp = (np.var(data1, ddof=1) * (n1 - 1) + np.var(data2, ddof=1) * (n2 - 1)) / (n1 + n2 - 2)\n",
        "    T = (data1.mean() - data2.mean()) / np.sqrt(temp) * np.sqrt(n1 * n2 / (n1 + n2))\n",
        "    if alt_type == 'left':\n",
        "        p_value = sp.stats.t(n1 + n2 - 2).cdf(T)\n",
        "    elif alt_type == 'right':\n",
        "        p_value = sp.stats.t(n1 + n2 - 2).cdf(-T)\n",
        "    elif alt_type == 'two-sided':\n",
        "        p_value = 2 * sp.stats.t(n1 + n2 - 2).cdf(-np.abs(T))\n",
        "    return T, p_value"
      ],
      "metadata": {
        "id": "csq0uye3SbP9"
      },
      "execution_count": null,
      "outputs": []
    },
    {
      "cell_type": "markdown",
      "source": [
        "Правосторонняя альтернатива:"
      ],
      "metadata": {
        "id": "THF9jW30Uoi7"
      }
    },
    {
      "cell_type": "code",
      "source": [
        "p_value_t_eq(x1, x2, 'right')"
      ],
      "metadata": {
        "colab": {
          "base_uri": "https://localhost:8080/"
        },
        "id": "7Fe2dhZdUsFZ",
        "outputId": "f02601e3-af75-4342-bd0d-07ea29d91eb7"
      },
      "execution_count": null,
      "outputs": [
        {
          "output_type": "execute_result",
          "data": {
            "text/plain": [
              "(8.663582863026864, 9.134607099939937e-16)"
            ]
          },
          "metadata": {},
          "execution_count": 38
        }
      ]
    },
    {
      "cell_type": "markdown",
      "source": [
        "Двусторонняя альтернатива:"
      ],
      "metadata": {
        "id": "CKCtBtnsU6vo"
      }
    },
    {
      "cell_type": "code",
      "source": [
        "p_value_t_eq(x1, x2, 'two-sided')"
      ],
      "metadata": {
        "colab": {
          "base_uri": "https://localhost:8080/"
        },
        "id": "2KwiTZz-U_A-",
        "outputId": "ddc93ac5-2b0b-4732-b19d-c641ab342d52"
      },
      "execution_count": null,
      "outputs": [
        {
          "output_type": "execute_result",
          "data": {
            "text/plain": [
              "(8.663582863026864, 1.8269214199879875e-15)"
            ]
          },
          "metadata": {},
          "execution_count": 39
        }
      ]
    },
    {
      "cell_type": "markdown",
      "metadata": {
        "id": "iNohHhNQAGww"
      },
      "source": [
        "3. Проверьте правильность вычислений (с помощью библиотечной функции `scipy.stats.ttest_ind`)."
      ]
    },
    {
      "cell_type": "markdown",
      "source": [
        "Случай неодинаковых дисперсий:"
      ],
      "metadata": {
        "id": "7pXcxl1PVKN1"
      }
    },
    {
      "cell_type": "markdown",
      "source": [
        "Правосторонняя альтернатива:"
      ],
      "metadata": {
        "id": "SAuV-ZLyVOZM"
      }
    },
    {
      "cell_type": "code",
      "execution_count": null,
      "metadata": {
        "id": "axqDcmX4AGwx",
        "colab": {
          "base_uri": "https://localhost:8080/"
        },
        "outputId": "62a97049-1dc4-4ca5-8647-668b6b54fd16"
      },
      "outputs": [
        {
          "output_type": "execute_result",
          "data": {
            "text/plain": [
              "Ttest_indResult(statistic=9.161061040974156, pvalue=1.4580405594293102e-16)"
            ]
          },
          "metadata": {},
          "execution_count": 40
        }
      ],
      "source": [
        "# Your code goes here...\n",
        "sp.stats.ttest_ind(x1, x2, equal_var=False, alternative='greater')"
      ]
    },
    {
      "cell_type": "markdown",
      "source": [
        "Двусторонняя альтернатива:"
      ],
      "metadata": {
        "id": "pqDIF4JKVtqx"
      }
    },
    {
      "cell_type": "code",
      "source": [
        "sp.stats.ttest_ind(x1, x2, equal_var=False, alternative='two-sided')"
      ],
      "metadata": {
        "colab": {
          "base_uri": "https://localhost:8080/"
        },
        "id": "BBscuKZOVxGW",
        "outputId": "dfd82e45-dc8e-473e-e729-3c3986c245a2"
      },
      "execution_count": null,
      "outputs": [
        {
          "output_type": "execute_result",
          "data": {
            "text/plain": [
              "Ttest_indResult(statistic=9.161061040974156, pvalue=2.9160811188586204e-16)"
            ]
          },
          "metadata": {},
          "execution_count": 41
        }
      ]
    },
    {
      "cell_type": "markdown",
      "source": [
        "Случай одинаковых дисперсий:"
      ],
      "metadata": {
        "id": "PXTlHVwaWDdY"
      }
    },
    {
      "cell_type": "markdown",
      "source": [
        "Правосторонняя альтернатива:"
      ],
      "metadata": {
        "id": "zdt_NA8SWG6s"
      }
    },
    {
      "cell_type": "code",
      "source": [
        "sp.stats.ttest_ind(x1, x2, equal_var=True, alternative='greater')"
      ],
      "metadata": {
        "colab": {
          "base_uri": "https://localhost:8080/"
        },
        "id": "2srLM9cVWJYs",
        "outputId": "3b76a6a7-49af-40bf-9cb6-6d16befe63f9"
      },
      "execution_count": null,
      "outputs": [
        {
          "output_type": "execute_result",
          "data": {
            "text/plain": [
              "Ttest_indResult(statistic=8.663582863026864, pvalue=9.134607099939937e-16)"
            ]
          },
          "metadata": {},
          "execution_count": 42
        }
      ]
    },
    {
      "cell_type": "markdown",
      "source": [
        "Двусторонняя альтернатива:"
      ],
      "metadata": {
        "id": "mvaXlRJqWR4N"
      }
    },
    {
      "cell_type": "code",
      "source": [
        "sp.stats.ttest_ind(x1, x2, equal_var=True, alternative='two-sided')"
      ],
      "metadata": {
        "colab": {
          "base_uri": "https://localhost:8080/"
        },
        "id": "WKuZ1K9LWVFv",
        "outputId": "d28f04b9-8088-42e6-84d2-cfcafffa0ab8"
      },
      "execution_count": null,
      "outputs": [
        {
          "output_type": "execute_result",
          "data": {
            "text/plain": [
              "Ttest_indResult(statistic=8.663582863026864, pvalue=1.8269214199879875e-15)"
            ]
          },
          "metadata": {},
          "execution_count": 43
        }
      ]
    },
    {
      "cell_type": "markdown",
      "source": [
        "Полученные значения для всех случаев очень близки, практически полностью совпадают, что свидетельствует о корректности написанных реализаций."
      ],
      "metadata": {
        "id": "x9xefNN_WbCZ"
      }
    },
    {
      "cell_type": "markdown",
      "metadata": {
        "id": "7d9ckHrbAGwy"
      },
      "source": [
        "**Выводы:**\n",
        "\n",
        "Во всех рассмотренных случаях полученные значения p-value достаточо малы, и, например, при часто используемом заданном уровне значимости $0.05$ нулевая гипотеза будет отвергнута, и будет принята одна из двух альтернатив, т. е. что при строгой диете продолжительность жизни крыс выше, или что средняя продолжительность жизни крыс зависит от диеты. Однако в случае равенства дисперсий и двусторонней гипотезы полученное p-value очень близко к заданному уровню значимости $0.05$."
      ]
    },
    {
      "cell_type": "code",
      "source": [],
      "metadata": {
        "id": "EVqgCmLvXk_S"
      },
      "execution_count": null,
      "outputs": []
    }
  ],
  "metadata": {
    "kernelspec": {
      "display_name": "Python 3",
      "language": "python",
      "name": "python3"
    },
    "language_info": {
      "codemirror_mode": {
        "name": "ipython",
        "version": 3
      },
      "file_extension": ".py",
      "mimetype": "text/x-python",
      "name": "python",
      "nbconvert_exporter": "python",
      "pygments_lexer": "ipython3",
      "version": "3.8.5"
    },
    "colab": {
      "provenance": []
    }
  },
  "nbformat": 4,
  "nbformat_minor": 0
}